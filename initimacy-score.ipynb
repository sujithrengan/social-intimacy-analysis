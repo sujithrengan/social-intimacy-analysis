{
  "cells": [
    {
      "cell_type": "code",
      "execution_count": 1,
      "metadata": {
        "colab": {
          "base_uri": "https://localhost:8080/"
        },
        "id": "NhUqlJbR6x7s",
        "outputId": "744ecd9d-c01b-47a1-8925-d6e59a2f54bb"
      },
      "outputs": [
        {
          "name": "stdout",
          "output_type": "stream",
          "text": [
            "Mounted at /content/gdrive/\n"
          ]
        }
      ],
      "source": [
        "from google.colab import drive\n",
        "drive.mount('/content/gdrive/')"
      ]
    },
    {
      "cell_type": "code",
      "execution_count": 2,
      "metadata": {
        "colab": {
          "base_uri": "https://localhost:8080/"
        },
        "id": "MOynzc1S66bC",
        "outputId": "f0685043-503a-4960-f042-bc273c83600e"
      },
      "outputs": [
        {
          "name": "stdout",
          "output_type": "stream",
          "text": [
            "/content/gdrive/Shareddrives/CSCE 638 NLP\n"
          ]
        }
      ],
      "source": [
        "%cd /content/gdrive/Shareddrives/'CSCE 638 NLP'"
      ]
    },
    {
      "cell_type": "code",
      "execution_count": 3,
      "metadata": {
        "colab": {
          "base_uri": "https://localhost:8080/"
        },
        "id": "jLC9zYeS7GSc",
        "outputId": "ed755c8b-aa55-45ea-f929-6601d451777c"
      },
      "outputs": [
        {
          "name": "stdout",
          "output_type": "stream",
          "text": [
            "'9_10_2022_Who Will R.pdf'\n",
            " all_data\n",
            " all_question_data.zip\n",
            " annotated_question_intimacy_data\n",
            " explained.html\n",
            " Extra_dataset\n",
            " Gender_detection.ipynb\n",
            " gender_predictor.pkl\n",
            " gender_predictor_v2.pkl\n",
            "'NLP Project_initimacy_score.ipynb'\n",
            "'NLP Project_kunal.ipynb'\n",
            " NLP_project_visualization.ipynb\n",
            " outputs\n",
            " outputs-20221130T175107Z-001.zip\n",
            " outputs_question_initmacy_semeval\n",
            "'Project Abstract.gdoc'\n",
            "'Project - Social intimacy'\n",
            "'Sujith_Deberta-NLP Project_template.ipynb'\n",
            " test_output\n",
            " test_prediction_final.txt\n",
            "'Topic detection.ipynb'\n",
            " train_all.txt\n",
            " train.csv\n",
            " train.gsheet\n",
            " train.txt\n"
          ]
        }
      ],
      "source": [
        "!ls"
      ]
    },
    {
      "cell_type": "markdown",
      "metadata": {
        "id": "goagyNsjz2Nq"
      },
      "source": [
        "### Install Dependencies"
      ]
    },
    {
      "cell_type": "code",
      "execution_count": 4,
      "metadata": {
        "colab": {
          "base_uri": "https://localhost:8080/"
        },
        "id": "sbVR7Ina42F3",
        "outputId": "9b0d3911-9d45-4b65-d2af-7dfadf775cea"
      },
      "outputs": [
        {
          "name": "stdout",
          "output_type": "stream",
          "text": [
            "Looking in indexes: https://pypi.org/simple, https://us-python.pkg.dev/colab-wheels/public/simple/\n",
            "Collecting transformers\n",
            "  Downloading transformers-4.24.0-py3-none-any.whl (5.5 MB)\n",
            "\u001b[K     |████████████████████████████████| 5.5 MB 5.0 MB/s \n",
            "\u001b[?25hRequirement already satisfied: packaging>=20.0 in /usr/local/lib/python3.7/dist-packages (from transformers) (21.3)\n",
            "Requirement already satisfied: requests in /usr/local/lib/python3.7/dist-packages (from transformers) (2.23.0)\n",
            "Requirement already satisfied: importlib-metadata in /usr/local/lib/python3.7/dist-packages (from transformers) (4.13.0)\n",
            "Requirement already satisfied: pyyaml>=5.1 in /usr/local/lib/python3.7/dist-packages (from transformers) (6.0)\n",
            "Requirement already satisfied: numpy>=1.17 in /usr/local/lib/python3.7/dist-packages (from transformers) (1.21.6)\n",
            "Requirement already satisfied: tqdm>=4.27 in /usr/local/lib/python3.7/dist-packages (from transformers) (4.64.1)\n",
            "Collecting tokenizers!=0.11.3,<0.14,>=0.11.1\n",
            "  Downloading tokenizers-0.13.2-cp37-cp37m-manylinux_2_17_x86_64.manylinux2014_x86_64.whl (7.6 MB)\n",
            "\u001b[K     |████████████████████████████████| 7.6 MB 40.6 MB/s \n",
            "\u001b[?25hRequirement already satisfied: regex!=2019.12.17 in /usr/local/lib/python3.7/dist-packages (from transformers) (2022.6.2)\n",
            "Requirement already satisfied: filelock in /usr/local/lib/python3.7/dist-packages (from transformers) (3.8.0)\n",
            "Collecting huggingface-hub<1.0,>=0.10.0\n",
            "  Downloading huggingface_hub-0.11.1-py3-none-any.whl (182 kB)\n",
            "\u001b[K     |████████████████████████████████| 182 kB 67.5 MB/s \n",
            "\u001b[?25hRequirement already satisfied: typing-extensions>=3.7.4.3 in /usr/local/lib/python3.7/dist-packages (from huggingface-hub<1.0,>=0.10.0->transformers) (4.1.1)\n",
            "Requirement already satisfied: pyparsing!=3.0.5,>=2.0.2 in /usr/local/lib/python3.7/dist-packages (from packaging>=20.0->transformers) (3.0.9)\n",
            "Requirement already satisfied: zipp>=0.5 in /usr/local/lib/python3.7/dist-packages (from importlib-metadata->transformers) (3.10.0)\n",
            "Requirement already satisfied: urllib3!=1.25.0,!=1.25.1,<1.26,>=1.21.1 in /usr/local/lib/python3.7/dist-packages (from requests->transformers) (1.24.3)\n",
            "Requirement already satisfied: certifi>=2017.4.17 in /usr/local/lib/python3.7/dist-packages (from requests->transformers) (2022.9.24)\n",
            "Requirement already satisfied: chardet<4,>=3.0.2 in /usr/local/lib/python3.7/dist-packages (from requests->transformers) (3.0.4)\n",
            "Requirement already satisfied: idna<3,>=2.5 in /usr/local/lib/python3.7/dist-packages (from requests->transformers) (2.10)\n",
            "Installing collected packages: tokenizers, huggingface-hub, transformers\n",
            "Successfully installed huggingface-hub-0.11.1 tokenizers-0.13.2 transformers-4.24.0\n",
            "Looking in indexes: https://pypi.org/simple, https://us-python.pkg.dev/colab-wheels/public/simple/\n",
            "Collecting sentencepiece\n",
            "  Downloading sentencepiece-0.1.97-cp37-cp37m-manylinux_2_17_x86_64.manylinux2014_x86_64.whl (1.3 MB)\n",
            "\u001b[K     |████████████████████████████████| 1.3 MB 5.0 MB/s \n",
            "\u001b[?25hInstalling collected packages: sentencepiece\n",
            "Successfully installed sentencepiece-0.1.97\n"
          ]
        }
      ],
      "source": [
        "!pip install transformers\n",
        "!pip install sentencepiece"
      ]
    },
    {
      "cell_type": "code",
      "execution_count": 5,
      "metadata": {
        "colab": {
          "base_uri": "https://localhost:8080/"
        },
        "id": "ZfLdWkp171cM",
        "outputId": "667ac94f-aa69-44a8-bcaa-0cfc1d23417f"
      },
      "outputs": [
        {
          "name": "stdout",
          "output_type": "stream",
          "text": [
            "cuda\n"
          ]
        }
      ],
      "source": [
        "import torch\n",
        "device = 'cuda' if torch.cuda.is_available() else 'cpu'\n",
        "print(device)"
      ]
    },
    {
      "cell_type": "markdown",
      "metadata": {
        "id": "AaaD25dnz5jL"
      },
      "source": [
        "### Define args here such as model to use and path to dataset"
      ]
    },
    {
      "cell_type": "code",
      "execution_count": 6,
      "metadata": {
        "id": "HAuAtRdQ53B_"
      },
      "outputs": [],
      "source": [
        "class Args:\n",
        "\n",
        "  model_name = 'xlnet-base-cased'\n",
        "  pre_trained_model_name_or_path = 'xlnet-base-cased'\n",
        "  train_path = \"./all_data/train_train.txt\"\n",
        "  val_path = \"./all_data/train_validate.txt\"\n",
        "  test_path = \"./all_data/train_test.txt\"\n",
        "  model_saving_path = \"./outputs\"\n",
        "  test_saving_path = \"./test_output/test.txt\"\n",
        "\n",
        "  # Model options:\n",
        "  # model_name = 'roberta-base'\n",
        "  # pre_trained_model_name_or_path = 'roberta-base'\n",
        "  # model_name = 'pedropei/question-intimacy'\n",
        "  # pre_trained_model_name_or_path = 'pedropei/question-intimacy'\n",
        "  # model_name = 'xlm-roberta-base'\n",
        "  # pre_trained_model_name_or_path = 'xlm-roberta-base'\n",
        "\n",
        "  # dataset options\n",
        "  # train_path=data/annotated_question_intimacy_data/final_train.txt \\\n",
        "  # val_path=data/annotated_question_intimacy_data/final_val.txt \\\n",
        "  # test_path=data/annotated_question_intimacy_data/final_test.txt \\\n",
        "  # model_saving_path = \"./outputs\"\n",
        "  # test_saving_path = \"./test_output/test.txt\"\n",
        "\n",
        "def arguments():\n",
        "    parser = ArgumentParser()\n",
        "    parser.set_defaults(show_path=False, show_similarity=False)\n",
        "\n",
        "    parser.add_argument('--model_name')\n",
        "    parser.add_argument('--pre_trained_model_name_or_path')\n",
        "    parser.add_argument('--train_path', default='train.txt')\n",
        "    parser.add_argument('--val_path', default='val.txt')\n",
        "    parser.add_argument('--test_path', default='test.txt')\n",
        "    parser.add_argument('--model_saving_path', default=None)\n",
        "    parser.add_argument('--test_saving_path', default=None)\n",
        "\n",
        "    return parser.parse_args()\n"
      ]
    },
    {
      "cell_type": "markdown",
      "metadata": {
        "id": "fnqy-U0C2ODK"
      },
      "source": [
        "### Set Hyperparameters"
      ]
    },
    {
      "cell_type": "code",
      "execution_count": 7,
      "metadata": {
        "id": "nPZSjG9q4AVd"
      },
      "outputs": [],
      "source": [
        "class Config(object):\n",
        "\tdef __init__(self, model_name=None):\n",
        "\t\tself.model_name = model_name\n",
        "\t\tself.max_epochs = 50\n",
        "\t\tself.lr = 0.00002\n",
        "\t\tself.batch_size = 128\n",
        "\t\tself.cuda = True\n",
        "\t\tself.max_len = 50\n",
        "\t\tself.warmup_ratio = 0.06\n",
        "\t\tself.weight_decay=0.0\n",
        "\t\tself.gradient_accumulation_steps = 1\n",
        "\t\tself.adam_epsilon = 1e-08"
      ]
    },
    {
      "cell_type": "markdown",
      "metadata": {
        "id": "vfQFr-6nqBRy"
      },
      "source": [
        "### Dataset preprocessing"
      ]
    },
    {
      "cell_type": "code",
      "execution_count": 8,
      "metadata": {
        "id": "dn7ZWT8-hVSg"
      },
      "outputs": [],
      "source": [
        "'''\n",
        "Convert csv to txt\n",
        "'''\n",
        "def convert():\n",
        "  import csv\n",
        "  import random\n",
        "  csv_file = 'train.csv' # 'Extra_dataset/reddit_post_questions.csv'\n",
        "  out_file = 'train.txt' # 'Extra_dataset/reddit_post_questions.txt'\n",
        "  with open(out_file, \"w\") as f_out:\n",
        "      with open(csv_file, \"r\") as f_in:\n",
        "        fr = csv.reader(f_in)\n",
        "        next(fr)\n",
        "        for row in fr:\n",
        "          txt, score = row[0], float(row[1])\n",
        "          # txt, score = row[1], float(row[2])\n",
        "          # score = 1 + 4*((score+1)/2) # convert from [-1, 1] to [1, 5]\n",
        "          if row[2]=='English':\n",
        "            f_out.write(txt+\" \"+ str(score) + '\\n')\n",
        "      f_out.close()\n",
        "\n",
        "'''\n",
        "Merging different datasets\n",
        "'''\n",
        "def combine():\n",
        "  input_files = ['train.txt','reddit.txt','movie.txt','question.txt']\n",
        "  output_file = 'train_all.txt'\n",
        "\n",
        "  with open(output_file, 'w') as outfile:\n",
        "      for names in input_files:\n",
        "          with open(names) as infile:\n",
        "              outfile.write(infile.read())\n",
        "          outfile.write(\"\\n\")\n",
        "\n",
        "'''\n",
        "Shuffling the data\n",
        "'''\n",
        "def shuffle():\n",
        "  input_file = 'train_all.txt'\n",
        "  output_file = 'train_shuffled.txt'\n",
        "\n",
        "  lines = open(input_file).readlines()\n",
        "  random.shuffle(lines)\n",
        "  open(output_file, 'w').writelines(lines)\n",
        "\n",
        "'''\n",
        "Splitting the data into train, test and validate datasets\n",
        "80-10-10 split\n",
        "'''\n",
        "def split():\n",
        "  train = 0\n",
        "  validate = 0\n",
        "\n",
        "  input_file = 'train_shuffled.txt'\n",
        "  train_output_file = 'all_train.txt'\n",
        "  validate_output_file = 'all_validate.txt'\n",
        "  test_output_file = 'all_test.txt'\n",
        "\n",
        "  with open(input_file, 'r') as file:\n",
        "      lines = file.readlines()\n",
        "      train = int(0.8*len(lines))\n",
        "      validate = int(0.9*len(lines))\n",
        "\n",
        "  with open(train_output_file, 'w') as file:\n",
        "      for line in lines[:train]:\n",
        "          file.write(line)\n",
        "\n",
        "  with open(validate_output_file, 'w') as file:\n",
        "      for line in lines[train:validate]:\n",
        "          file.write(line)\n",
        "\n",
        "  with open(test_output_file, 'w') as file:\n",
        "      for line in lines[validate:]:\n",
        "          file.write(line)\n"
      ]
    },
    {
      "cell_type": "code",
      "execution_count": 9,
      "metadata": {
        "id": "aSZVlRfcsggr"
      },
      "outputs": [],
      "source": [
        "def get_data(path):\n",
        "    print('open:',path)\n",
        "    text = []\n",
        "    y = []\n",
        "    with open(path, 'r') as r:\n",
        "        lines = r.readlines()\n",
        "        for line in lines:\n",
        "            line = line.strip('\\n').split(' ')\n",
        "            try:\n",
        "              # y.append(float(line[-1]))\n",
        "              y.append(((float(line[-1])/2)-1.5))\n",
        "            except Exception as e:\n",
        "              # print(line)\n",
        "              print(\"Error parsing line: \", line)\n",
        "              continue\n",
        "            text.append(' '.join(line[:-1]))\n",
        "    return text,y"
      ]
    },
    {
      "cell_type": "markdown",
      "metadata": {
        "id": "BZkFeMe_2UEl"
      },
      "source": [
        "### Helper functions to run epochs"
      ]
    },
    {
      "cell_type": "code",
      "execution_count": 10,
      "metadata": {
        "id": "6n-FdY1AZ6OU"
      },
      "outputs": [],
      "source": [
        "# train.py\n",
        "\n",
        "import math\n",
        "from scipy import stats\n",
        "import numpy as np\n",
        "from tqdm import tqdm\n",
        "import torch.optim as optim\n",
        "from torch import nn, Tensor\n",
        "from torch.autograd import Variable\n",
        "import torch\n",
        "from transformers import BertTokenizer, BertModel, RobertaTokenizer, RobertaModel, RobertaForSequenceClassification, XLMRobertaTokenizer, XLMRobertaModel, XLMRobertaForSequenceClassification, XLNetModel, XLNetTokenizer, XLNetForSequenceClassification, AutoTokenizer, AutoModelForSequenceClassification\n",
        "from argparse import ArgumentParser\n",
        "\n",
        "\n",
        "torch.manual_seed(0)\n",
        "\n",
        "\n",
        "def padding(text, pad, max_len = 50):\n",
        "\n",
        "    return text if len(text) >= max_len else (text + [pad] * (max_len-len(text)))\n",
        "\n",
        "def encode_batch(text, berts, max_len = 50):\n",
        "    tokenizer = berts[0]\n",
        "    t1 = []\n",
        "    for line in text:\n",
        "        t1.append(padding(tokenizer.encode(line,add_special_tokens = True, max_length = max_len,truncation=True),tokenizer.pad_token_id,max_len))\n",
        "    return t1\n",
        "\n",
        "\n",
        "def data_iterator(train_x, train_y, batch_size = 64):\n",
        "    n_batches = math.ceil(len(train_x) / batch_size)\n",
        "    for idx in range(n_batches):\n",
        "        x = train_x[idx *batch_size:(idx+1) * batch_size]\n",
        "        y = train_y[idx *batch_size:(idx+1) * batch_size]\n",
        "        yield x, y\n",
        "\n",
        "def run_epoch(model, train_data, val_data, tokenizer,config, optimizer):\n",
        "    train_x, train_y = train_data[0], train_data[1]\n",
        "    val_x, val_y = val_data[0], val_data[1]\n",
        "    iterator = data_iterator(train_x, train_y, config.batch_size)\n",
        "    train_losses = []\n",
        "    val_accuracies = []\n",
        "    losses = []\n",
        "\n",
        "    for i, (x,y) in tqdm(enumerate(iterator),total=int(len(train_x)/config.batch_size)):\n",
        "        #print('iteration', i) \n",
        "        model.zero_grad()\n",
        "\n",
        "        ids = encode_batch(x, (tokenizer,model), max_len = config.max_len)\n",
        "\n",
        "\n",
        "        if config.cuda:\n",
        "            input_ids = Tensor(ids).cuda().long()\n",
        "            labels = torch.cuda.FloatTensor(y)\n",
        "        else:\n",
        "            input_ids = Tensor(ids).long()\n",
        "            labels = torch.FloatTensor(y)\n",
        "\n",
        "        outputs = model(input_ids, labels=labels)\n",
        "        loss, logits = outputs[:2]\n",
        "\n",
        "        loss.backward()\n",
        "        #print('train_loss',loss)\n",
        "        losses.append(loss.data.cpu().numpy())\n",
        "        optimizer.step()\n",
        "\n",
        "        if (i + 1) % 1 == 0:\n",
        "            #print(\"Iter: {}\".format(i))\n",
        "            avg_train_loss = np.mean(losses)\n",
        "            train_losses.append(avg_train_loss)\n",
        "            #print(\"\\tAverage training loss: {:.5f}\".format(avg_train_loss))\n",
        "            losses = []\n",
        "\n",
        "            # Evalute Accuracy on validation set\n",
        "            model.eval()\n",
        "            all_preds = []\n",
        "            val_iterator = data_iterator(val_x, val_y, config.batch_size)\n",
        "            for x, y in val_iterator:\n",
        "                ids = encode_batch(x, (tokenizer,model), max_len = config.max_len)\n",
        "                #x = Variable(Tensor(x))\n",
        "\n",
        "                with torch.no_grad():\n",
        "\n",
        "                    if config.cuda:\n",
        "                        input_ids = Tensor(ids).cuda().long()\n",
        "                        labels = torch.cuda.FloatTensor(y)\n",
        "                    else:\n",
        "                        input_ids = Tensor(ids).long()\n",
        "                        labels = torch.FloatTensor(y)\n",
        "                    outputs = model(input_ids, labels=labels)\n",
        "                    loss, y_pred = outputs[:2]\n",
        "\n",
        "                predicted = y_pred.cpu().data\n",
        "\n",
        "                all_preds.extend(predicted.numpy())\n",
        "\n",
        "            \n",
        "            all_res = np.array(all_preds).flatten()            \n",
        "            score = (np.square(val_y - all_res)).mean()\n",
        "            val_accuracies.append(score)\n",
        "            model.train()\n",
        "\n",
        "    return train_losses, val_accuracies\n",
        "\n",
        "def get_test_result(model, test_x, test_y, config,tokenizer, save_path, ext_test = False, pure_inference=False):\n",
        "    cuda = config.cuda\n",
        "    all_raw = []\n",
        "    all_preds = []\n",
        "    all_y = []\n",
        "    all_x = []\n",
        "    test_iterator = data_iterator(test_x, test_y, batch_size=256)\n",
        "    model.eval()\n",
        "    i = 0\n",
        "    for x, y in test_iterator:\n",
        "        print(str(i * 256) + '/' + str(len(test_x)))\n",
        "        i += 1\n",
        "        #print(x[:5])\n",
        "        ids = encode_batch(x, (tokenizer, model), max_len = config.max_len)\n",
        "        # x = Variable(Tensor(x))\n",
        "\n",
        "        with torch.no_grad():\n",
        "            if cuda:\n",
        "                input_ids = Tensor(ids).cuda().long()\n",
        "                #labels = torch.cuda.FloatTensor(y)\n",
        "            else:\n",
        "                input_ids = Tensor(ids).long()\n",
        "                #labels = torch.FloatTensor(y)\n",
        "            outputs = model(input_ids)\n",
        "            y_pred = outputs[0]\n",
        "\n",
        "        predicted = y_pred.cpu().data\n",
        "        #predicted = torch.max(y_pred.cpu().data, 1)[1]\n",
        "        all_preds.extend(predicted.numpy())\n",
        "        #all_raw.extend(y_pred.cpu().data.numpy())\n",
        "        all_y.extend(y)\n",
        "        all_x.extend(x)\n",
        "\n",
        "\n",
        "    #all_res = [1 if i[0] > 0 else -1 for i in all_preds]\n",
        "    all_res = np.array(all_preds).flatten()\n",
        "    #all_raw = np.array(all_raw)\n",
        "\n",
        "    if save_path:\n",
        "        with open(save_path, 'w') as w:\n",
        "            if pure_inference:\n",
        "                 for i in range(len(all_y)):                \n",
        "                    if i < 2:\n",
        "                        print(all_x[i], all_res[i])                    \n",
        "                    w.writelines(all_x[i] + '\\t' + str(all_res[i]) + '\\n')\n",
        "            else:\n",
        "                for i in range(len(all_y)):                \n",
        "                    if i < 2:\n",
        "                        print(all_x[i], all_res[i], test_y[i])                    \n",
        "                    w.writelines(all_x[i] + '\\t' + str(all_y[i]) + '\\t' + str(all_res[i]) + '\\n')\n",
        "    \n",
        "    if not pure_inference:\n",
        "        print('mse:', (np.square(all_y - all_res)).mean())\n",
        "        print('pearson r:', stats.pearsonr(all_res, all_y)[0])\n",
        "\n",
        "    if ext_test:\n",
        "        print('book pearson r:', stats.pearsonr(all_res[:50], all_y[:50])[0])\n",
        "        print('twitter pearson r:', stats.pearsonr(all_res[50:100], all_y[50:100])[0])\n",
        "        print('movie pearson r:', stats.pearsonr(all_res[100:150], all_y[100:150])[0])\n",
        "\n",
        "    return all_res, all_y\n",
        "\n",
        "\n"
      ]
    },
    {
      "cell_type": "markdown",
      "metadata": {
        "id": "4Vlv86Ya2ZZK"
      },
      "source": [
        "Helper function to determine Pearson R and MSE"
      ]
    },
    {
      "cell_type": "code",
      "execution_count": 11,
      "metadata": {
        "id": "3j167lyLhhtp"
      },
      "outputs": [],
      "source": [
        "def get_metrics(model, test_x, test_y, config, tokenizer, test = False, save_path='test_prediction_final.txt'):\n",
        "    cuda = config.cuda\n",
        "    all_preds = []\n",
        "    test_iterator = data_iterator(test_x, test_y, batch_size=64)\n",
        "    all_y = []\n",
        "    all_x = []\n",
        "    model.eval()\n",
        "    for x, y in test_iterator:\n",
        "        ids = encode_batch(x, (tokenizer,model), max_len = config.max_len)\n",
        "        with torch.no_grad():\n",
        "            if cuda:\n",
        "                input_ids = Tensor(ids).cuda().long()                \n",
        "                labels = torch.cuda.FloatTensor(y)\n",
        "            else:\n",
        "                input_ids = Tensor(ids).long()\n",
        "                labels = torch.FloatTensor(y)\n",
        "            outputs = model(input_ids, labels=labels)\n",
        "            loss, y_pred = outputs[:2]\n",
        "\n",
        "        predicted = y_pred.cpu().data\n",
        "        all_preds.extend(predicted.numpy())\n",
        "        all_y.extend(y)\n",
        "        all_x.extend(x)\n",
        "\n",
        "    all_res = np.array(all_preds).flatten()\n",
        "    if test and save_path:\n",
        "        with open(save_path, 'w') as w:\n",
        "            for i in range(len(all_y)):\n",
        "                if i < 2:\n",
        "                    print(all_x[i], all_res[i], test_y[i])\n",
        "                w.writelines(all_x[i] + '\\t' + str(all_y[i]) + '\\t' + str(all_res[i]) + '\\n')\n",
        "\n",
        "    #print('pearson r:', stats.pearsonr(all_res, all_y)[0])\n",
        "    score = 0\n",
        "    return loss,stats.pearsonr(all_res, all_y)[0]"
      ]
    },
    {
      "cell_type": "markdown",
      "metadata": {
        "id": "NQSTm5Q62e_d"
      },
      "source": [
        "Helper functions for visualizations\n"
      ]
    },
    {
      "cell_type": "code",
      "execution_count": 12,
      "metadata": {
        "id": "BQIz3d-nq09H"
      },
      "outputs": [],
      "source": [
        "import matplotlib\n",
        "import matplotlib.colors as colors\n",
        "from IPython.core.display import display, HTML\n",
        "\n",
        "def truncate_colormap(cmap, minval=0.0, maxval=1.0, n=100):\n",
        "    new_cmap = colors.LinearSegmentedColormap.from_list(\n",
        "        'trunc({n},{a:.2f},{b:.2f})'.format(n=cmap.name, a=minval, b=maxval),\n",
        "        cmap(np.linspace(minval, maxval, n)))\n",
        "    return new_cmap\n",
        "\n",
        "def colorize(inputs, color_arrays):\n",
        "    cmap = truncate_colormap(matplotlib.cm.YlOrRd, maxval=0.9)\n",
        "    template = '<span class=\"barcode\"; style=\"color: black; background-color: {}\">{}</span>'\n",
        "    colored_string = ''\n",
        "    for words, color_array in zip(inputs, color_arrays):\n",
        "        for i, (word, color) in enumerate(zip(words.split(), color_array)):\n",
        "            # print(word, color)\n",
        "            color = matplotlib.colors.rgb2hex(cmap(color)[:3])\n",
        "            colored_string += template.format(color, '&nbsp' + word + '&nbsp')\n",
        "            if not (i+1)%25:\n",
        "                colored_string += '<br>'\n",
        "        # colored_string += '<p>next tweet</p>'\n",
        "        colored_string += '<br>'\n",
        "\n",
        "    with open('explained.html', 'w') as f:\n",
        "       f.write(colored_string)\n",
        "    display(filename='explain.html')"
      ]
    },
    {
      "cell_type": "markdown",
      "metadata": {
        "id": "gM6UoWib2k8I"
      },
      "source": [
        "### Main function"
      ]
    },
    {
      "cell_type": "code",
      "execution_count": 13,
      "metadata": {
        "colab": {
          "base_uri": "https://localhost:8080/",
          "height": 1000,
          "referenced_widgets": [
            "9cdd65ed5dec40af9a4f59f47ecaef11",
            "605f94d2b857484d90720039822729df",
            "d971cce4cf1c44dc8087493fe7e5c639",
            "e63b6b56cbfc46608390272e2d1d4847",
            "33e5e528cae04c97b8d6850083962c1f",
            "49201553795447c3b7866eab3628748f",
            "996fde05d8394182b081fd29e61f9ebc",
            "90ae7cca69414818935283cecc254c4b",
            "873f4b8621404b3b8155154895905ad9",
            "5d6f8923a71540d0a71381afb3119fcb",
            "1660ddb109034da5903b324ffbac3599",
            "b0e80a1c571b49f8b6a49eeaf2e69c90",
            "91480c047b644f818fc4e7aaaecb79e5",
            "3a23f21776d64cb1b408611386e12313",
            "bac828a59527457f954e01a92e7bca49",
            "bf26db69a171448ea836c825614a452c",
            "381ec755b61d4d068249e85c500f3169",
            "efd3db355a5d4f149d094fc80a4125b7",
            "e1fdc3bde82f4f469ab6359776d7f0be",
            "578ee07f089b40429b07d85a995438e2",
            "254ee2a413054b6889cc23e6b5ae6a07",
            "59d9015477b44d7db99b41a8cdad3650",
            "102147f8a8654a7a9b6941ad528480ff",
            "67acca5c21ef416e9bb1dd16959eb2ca",
            "8e9710d27f484ceca15fe22da345d45c",
            "fc6dcb803072402892ec8001ba81f706",
            "942ef50078ab4c518f335a56d65a3175",
            "696ec522d5e54cf6abb834a28f792bdf",
            "eb0b1e71075c4004b26e01846f1e2243",
            "54363ab02e83441fa662e564daf45777",
            "0e535856f57446318d62e76345f8610c",
            "5e1d12647b02453ba8df350e4bda5561",
            "746a70084bb548e6be386ff3b53a91f8"
          ]
        },
        "id": "Rtx2U0jW5icU",
        "outputId": "93640fcc-fc26-4c4b-f2df-b0356a6aa62e"
      },
      "outputs": [
        {
          "data": {
            "application/vnd.jupyter.widget-view+json": {
              "model_id": "9cdd65ed5dec40af9a4f59f47ecaef11",
              "version_major": 2,
              "version_minor": 0
            },
            "text/plain": [
              "Downloading:   0%|          | 0.00/798k [00:00<?, ?B/s]"
            ]
          },
          "metadata": {},
          "output_type": "display_data"
        },
        {
          "data": {
            "application/vnd.jupyter.widget-view+json": {
              "model_id": "b0e80a1c571b49f8b6a49eeaf2e69c90",
              "version_major": 2,
              "version_minor": 0
            },
            "text/plain": [
              "Downloading:   0%|          | 0.00/760 [00:00<?, ?B/s]"
            ]
          },
          "metadata": {},
          "output_type": "display_data"
        },
        {
          "data": {
            "application/vnd.jupyter.widget-view+json": {
              "model_id": "102147f8a8654a7a9b6941ad528480ff",
              "version_major": 2,
              "version_minor": 0
            },
            "text/plain": [
              "Downloading:   0%|          | 0.00/467M [00:00<?, ?B/s]"
            ]
          },
          "metadata": {},
          "output_type": "display_data"
        },
        {
          "name": "stderr",
          "output_type": "stream",
          "text": [
            "Some weights of the model checkpoint at xlnet-base-cased were not used when initializing XLNetForSequenceClassification: ['lm_loss.weight', 'lm_loss.bias']\n",
            "- This IS expected if you are initializing XLNetForSequenceClassification from the checkpoint of a model trained on another task or with another architecture (e.g. initializing a BertForSequenceClassification model from a BertForPreTraining model).\n",
            "- This IS NOT expected if you are initializing XLNetForSequenceClassification from the checkpoint of a model that you expect to be exactly identical (initializing a BertForSequenceClassification model from a BertForSequenceClassification model).\n",
            "Some weights of XLNetForSequenceClassification were not initialized from the model checkpoint at xlnet-base-cased and are newly initialized: ['sequence_summary.summary.weight', 'sequence_summary.summary.bias', 'logits_proj.bias', 'logits_proj.weight']\n",
            "You should probably TRAIN this model on a down-stream task to be able to use it for predictions and inference.\n"
          ]
        },
        {
          "name": "stdout",
          "output_type": "stream",
          "text": [
            "open: ./all_data/train_train.txt\n",
            "open: ./all_data/train_validate.txt\n",
            "Error parsing line:  ['']\n",
            "open: ./all_data/train_test.txt\n",
            "Epoch: 0\n"
          ]
        },
        {
          "name": "stderr",
          "output_type": "stream",
          "text": [
            "10it [00:19,  1.97s/it]\n"
          ]
        },
        {
          "name": "stdout",
          "output_type": "stream",
          "text": [
            "@user I MEANT TO PUT NO -0.77807903 -1.0\n",
            "@user Studying for my exam to get my teaching license! -0.9216794 -0.6\n",
            "\tAverage training loss: 0.40658\n",
            "\tAverage Val MSE: 0.3406\n",
            "Epoch: 1\n"
          ]
        },
        {
          "name": "stderr",
          "output_type": "stream",
          "text": [
            "10it [00:17,  1.77s/it]\n"
          ]
        },
        {
          "name": "stdout",
          "output_type": "stream",
          "text": [
            "@user I MEANT TO PUT NO -0.5760839 -1.0\n",
            "@user Studying for my exam to get my teaching license! -0.4518179 -0.6\n",
            "\tAverage training loss: 0.23870\n",
            "\tAverage Val MSE: 0.2332\n",
            "Epoch: 2\n"
          ]
        },
        {
          "name": "stderr",
          "output_type": "stream",
          "text": [
            "10it [00:18,  1.87s/it]\n"
          ]
        },
        {
          "name": "stdout",
          "output_type": "stream",
          "text": [
            "@user I MEANT TO PUT NO -0.51396245 -1.0\n",
            "@user Studying for my exam to get my teaching license! -0.45359877 -0.6\n",
            "\tAverage training loss: 0.20088\n",
            "\tAverage Val MSE: 0.2156\n",
            "Epoch: 3\n"
          ]
        },
        {
          "name": "stderr",
          "output_type": "stream",
          "text": [
            "10it [00:19,  1.94s/it]\n"
          ]
        },
        {
          "name": "stdout",
          "output_type": "stream",
          "text": [
            "@user I MEANT TO PUT NO -0.5534771 -1.0\n",
            "@user Studying for my exam to get my teaching license! -0.49019876 -0.6\n",
            "\tAverage training loss: 0.20224\n",
            "\tAverage Val MSE: 0.2094\n",
            "Epoch: 4\n"
          ]
        },
        {
          "name": "stderr",
          "output_type": "stream",
          "text": [
            "10it [00:19,  1.96s/it]\n"
          ]
        },
        {
          "name": "stdout",
          "output_type": "stream",
          "text": [
            "@user I MEANT TO PUT NO -0.5991814 -1.0\n",
            "@user Studying for my exam to get my teaching license! -0.5150722 -0.6\n",
            "\tAverage training loss: 0.19924\n",
            "\tAverage Val MSE: 0.2014\n",
            "Epoch: 5\n"
          ]
        },
        {
          "name": "stderr",
          "output_type": "stream",
          "text": [
            "10it [00:19,  1.91s/it]\n"
          ]
        },
        {
          "name": "stdout",
          "output_type": "stream",
          "text": [
            "@user I MEANT TO PUT NO -0.65123826 -1.0\n",
            "@user Studying for my exam to get my teaching license! -0.5143609 -0.6\n",
            "\tAverage training loss: 0.18962\n",
            "\tAverage Val MSE: 0.1957\n",
            "Epoch: 6\n"
          ]
        },
        {
          "name": "stderr",
          "output_type": "stream",
          "text": [
            "10it [00:19,  1.90s/it]\n"
          ]
        },
        {
          "name": "stdout",
          "output_type": "stream",
          "text": [
            "@user I MEANT TO PUT NO -0.6265407 -1.0\n",
            "@user Studying for my exam to get my teaching license! -0.53977746 -0.6\n",
            "\tAverage training loss: 0.17871\n",
            "\tAverage Val MSE: 0.1909\n",
            "Epoch: 7\n"
          ]
        },
        {
          "name": "stderr",
          "output_type": "stream",
          "text": [
            "10it [00:19,  1.92s/it]\n"
          ]
        },
        {
          "name": "stdout",
          "output_type": "stream",
          "text": [
            "@user I MEANT TO PUT NO -0.58895195 -1.0\n",
            "@user Studying for my exam to get my teaching license! -0.56294954 -0.6\n",
            "\tAverage training loss: 0.16614\n",
            "\tAverage Val MSE: 0.1884\n",
            "Epoch: 8\n"
          ]
        },
        {
          "name": "stderr",
          "output_type": "stream",
          "text": [
            "10it [00:19,  1.93s/it]\n"
          ]
        },
        {
          "name": "stdout",
          "output_type": "stream",
          "text": [
            "@user I MEANT TO PUT NO -0.68184817 -1.0\n",
            "@user Studying for my exam to get my teaching license! -0.65875137 -0.6\n",
            "\tAverage training loss: 0.15825\n",
            "\tAverage Val MSE: 0.1740\n",
            "Epoch: 9\n"
          ]
        },
        {
          "name": "stderr",
          "output_type": "stream",
          "text": [
            "10it [00:19,  1.93s/it]\n"
          ]
        },
        {
          "name": "stdout",
          "output_type": "stream",
          "text": [
            "@user I MEANT TO PUT NO -0.77929986 -1.0\n",
            "@user Studying for my exam to get my teaching license! -0.6221329 -0.6\n",
            "\tAverage training loss: 0.14700\n",
            "\tAverage Val MSE: 0.1627\n",
            "Epoch: 10\n"
          ]
        },
        {
          "name": "stderr",
          "output_type": "stream",
          "text": [
            "10it [00:19,  1.92s/it]\n"
          ]
        },
        {
          "name": "stdout",
          "output_type": "stream",
          "text": [
            "@user I MEANT TO PUT NO -0.6436411 -1.0\n",
            "@user Studying for my exam to get my teaching license! -0.50245184 -0.6\n",
            "\tAverage training loss: 0.13959\n",
            "\tAverage Val MSE: 0.1606\n",
            "Epoch: 11\n"
          ]
        },
        {
          "name": "stderr",
          "output_type": "stream",
          "text": [
            "10it [00:19,  1.92s/it]\n"
          ]
        },
        {
          "name": "stdout",
          "output_type": "stream",
          "text": [
            "@user I MEANT TO PUT NO -0.5343713 -1.0\n",
            "@user Studying for my exam to get my teaching license! -0.47821316 -0.6\n",
            "\tAverage training loss: 0.13503\n",
            "\tAverage Val MSE: 0.1579\n",
            "Epoch: 12\n"
          ]
        },
        {
          "name": "stderr",
          "output_type": "stream",
          "text": [
            "10it [00:19,  1.93s/it]\n"
          ]
        },
        {
          "name": "stdout",
          "output_type": "stream",
          "text": [
            "@user I MEANT TO PUT NO -0.7675415 -1.0\n",
            "@user Studying for my exam to get my teaching license! -0.64939857 -0.6\n",
            "\tAverage training loss: 0.12020\n",
            "\tAverage Val MSE: 0.1484\n",
            "Epoch: 13\n"
          ]
        },
        {
          "name": "stderr",
          "output_type": "stream",
          "text": [
            "10it [00:19,  1.93s/it]\n"
          ]
        },
        {
          "name": "stdout",
          "output_type": "stream",
          "text": [
            "@user I MEANT TO PUT NO -0.78000206 -1.0\n",
            "@user Studying for my exam to get my teaching license! -0.54523295 -0.6\n",
            "\tAverage training loss: 0.11220\n",
            "\tAverage Val MSE: 0.1414\n",
            "Epoch: 14\n"
          ]
        },
        {
          "name": "stderr",
          "output_type": "stream",
          "text": [
            "10it [00:19,  1.93s/it]\n"
          ]
        },
        {
          "name": "stdout",
          "output_type": "stream",
          "text": [
            "@user I MEANT TO PUT NO -0.6976563 -1.0\n",
            "@user Studying for my exam to get my teaching license! -0.45620754 -0.6\n",
            "\tAverage training loss: 0.11009\n",
            "\tAverage Val MSE: 0.1361\n",
            "Epoch: 15\n"
          ]
        },
        {
          "name": "stderr",
          "output_type": "stream",
          "text": [
            "10it [00:19,  1.92s/it]\n"
          ]
        },
        {
          "name": "stdout",
          "output_type": "stream",
          "text": [
            "@user I MEANT TO PUT NO -0.736936 -1.0\n",
            "@user Studying for my exam to get my teaching license! -0.503441 -0.6\n",
            "\tAverage training loss: 0.09931\n",
            "\tAverage Val MSE: 0.1354\n",
            "Epoch: 16\n"
          ]
        },
        {
          "name": "stderr",
          "output_type": "stream",
          "text": [
            "10it [00:19,  1.94s/it]\n"
          ]
        },
        {
          "name": "stdout",
          "output_type": "stream",
          "text": [
            "@user I MEANT TO PUT NO -0.69313693 -1.0\n",
            "@user Studying for my exam to get my teaching license! -0.43248188 -0.6\n",
            "\tAverage training loss: 0.08890\n",
            "\tAverage Val MSE: 0.1399\n",
            "Epoch: 17\n"
          ]
        },
        {
          "name": "stderr",
          "output_type": "stream",
          "text": [
            "10it [00:19,  1.93s/it]\n"
          ]
        },
        {
          "name": "stdout",
          "output_type": "stream",
          "text": [
            "@user I MEANT TO PUT NO -0.7563449 -1.0\n",
            "@user Studying for my exam to get my teaching license! -0.50781274 -0.6\n",
            "\tAverage training loss: 0.08933\n",
            "\tAverage Val MSE: 0.1347\n",
            "Epoch: 18\n"
          ]
        },
        {
          "name": "stderr",
          "output_type": "stream",
          "text": [
            "10it [00:19,  1.93s/it]\n"
          ]
        },
        {
          "name": "stdout",
          "output_type": "stream",
          "text": [
            "@user I MEANT TO PUT NO -0.7852325 -1.0\n",
            "@user Studying for my exam to get my teaching license! -0.4207144 -0.6\n",
            "\tAverage training loss: 0.07867\n",
            "\tAverage Val MSE: 0.1384\n",
            "Epoch: 19\n"
          ]
        },
        {
          "name": "stderr",
          "output_type": "stream",
          "text": [
            "10it [00:19,  1.91s/it]\n"
          ]
        },
        {
          "name": "stdout",
          "output_type": "stream",
          "text": [
            "@user I MEANT TO PUT NO -0.7249126 -1.0\n",
            "@user Studying for my exam to get my teaching license! -0.44844267 -0.6\n",
            "\tAverage training loss: 0.07567\n",
            "\tAverage Val MSE: 0.1389\n",
            "Epoch: 20\n"
          ]
        },
        {
          "name": "stderr",
          "output_type": "stream",
          "text": [
            "10it [00:19,  1.91s/it]\n"
          ]
        },
        {
          "name": "stdout",
          "output_type": "stream",
          "text": [
            "@user I MEANT TO PUT NO -0.8218845 -1.0\n",
            "@user Studying for my exam to get my teaching license! -0.51970685 -0.6\n",
            "\tAverage training loss: 0.06827\n",
            "\tAverage Val MSE: 0.1448\n",
            "Epoch: 21\n"
          ]
        },
        {
          "name": "stderr",
          "output_type": "stream",
          "text": [
            "10it [00:19,  1.91s/it]\n"
          ]
        },
        {
          "name": "stdout",
          "output_type": "stream",
          "text": [
            "@user I MEANT TO PUT NO -0.8019395 -1.0\n",
            "@user Studying for my exam to get my teaching license! -0.52331966 -0.6\n",
            "\tAverage training loss: 0.06847\n",
            "\tAverage Val MSE: 0.1422\n",
            "Epoch: 22\n"
          ]
        },
        {
          "name": "stderr",
          "output_type": "stream",
          "text": [
            "10it [00:19,  1.92s/it]\n"
          ]
        },
        {
          "name": "stdout",
          "output_type": "stream",
          "text": [
            "@user I MEANT TO PUT NO -0.7686255 -1.0\n",
            "@user Studying for my exam to get my teaching license! -0.40734816 -0.6\n",
            "\tAverage training loss: 0.06061\n",
            "\tAverage Val MSE: 0.1497\n",
            "Epoch: 23\n"
          ]
        },
        {
          "name": "stderr",
          "output_type": "stream",
          "text": [
            "10it [00:19,  1.92s/it]\n"
          ]
        },
        {
          "name": "stdout",
          "output_type": "stream",
          "text": [
            "@user I MEANT TO PUT NO -0.8489875 -1.0\n",
            "@user Studying for my exam to get my teaching license! -0.6328063 -0.6\n",
            "\tAverage training loss: 0.06049\n",
            "\tAverage Val MSE: 0.1424\n",
            "Epoch: 24\n"
          ]
        },
        {
          "name": "stderr",
          "output_type": "stream",
          "text": [
            "10it [00:19,  1.92s/it]\n"
          ]
        },
        {
          "name": "stdout",
          "output_type": "stream",
          "text": [
            "@user I MEANT TO PUT NO -0.736744 -1.0\n",
            "@user Studying for my exam to get my teaching license! -0.44448838 -0.6\n",
            "\tAverage training loss: 0.05934\n",
            "\tAverage Val MSE: 0.1420\n",
            "Epoch: 25\n"
          ]
        },
        {
          "name": "stderr",
          "output_type": "stream",
          "text": [
            "10it [00:19,  1.92s/it]\n"
          ]
        },
        {
          "name": "stdout",
          "output_type": "stream",
          "text": [
            "@user I MEANT TO PUT NO -0.8135295 -1.0\n",
            "@user Studying for my exam to get my teaching license! -0.53894967 -0.6\n",
            "\tAverage training loss: 0.05538\n",
            "\tAverage Val MSE: 0.1453\n",
            "Epoch: 26\n"
          ]
        },
        {
          "name": "stderr",
          "output_type": "stream",
          "text": [
            "10it [00:19,  1.91s/it]\n"
          ]
        },
        {
          "name": "stdout",
          "output_type": "stream",
          "text": [
            "@user I MEANT TO PUT NO -0.84048337 -1.0\n",
            "@user Studying for my exam to get my teaching license! -0.55934757 -0.6\n",
            "\tAverage training loss: 0.05390\n",
            "\tAverage Val MSE: 0.1482\n",
            "Epoch: 27\n"
          ]
        },
        {
          "name": "stderr",
          "output_type": "stream",
          "text": [
            "10it [00:19,  1.91s/it]\n"
          ]
        },
        {
          "name": "stdout",
          "output_type": "stream",
          "text": [
            "@user I MEANT TO PUT NO -0.7352257 -1.0\n",
            "@user Studying for my exam to get my teaching license! -0.370242 -0.6\n",
            "\tAverage training loss: 0.05066\n",
            "\tAverage Val MSE: 0.1480\n",
            "Epoch: 28\n"
          ]
        },
        {
          "name": "stderr",
          "output_type": "stream",
          "text": [
            "10it [00:19,  1.92s/it]\n"
          ]
        },
        {
          "name": "stdout",
          "output_type": "stream",
          "text": [
            "@user I MEANT TO PUT NO -0.7305114 -1.0\n",
            "@user Studying for my exam to get my teaching license! -0.4511425 -0.6\n",
            "\tAverage training loss: 0.05297\n",
            "\tAverage Val MSE: 0.1484\n",
            "Epoch: 29\n"
          ]
        },
        {
          "name": "stderr",
          "output_type": "stream",
          "text": [
            "10it [00:19,  1.91s/it]\n"
          ]
        },
        {
          "name": "stdout",
          "output_type": "stream",
          "text": [
            "@user I MEANT TO PUT NO -0.7570075 -1.0\n",
            "@user Studying for my exam to get my teaching license! -0.52946776 -0.6\n",
            "\tAverage training loss: 0.04357\n",
            "\tAverage Val MSE: 0.1417\n",
            "Epoch: 30\n"
          ]
        },
        {
          "name": "stderr",
          "output_type": "stream",
          "text": [
            "10it [00:19,  1.91s/it]\n"
          ]
        },
        {
          "name": "stdout",
          "output_type": "stream",
          "text": [
            "@user I MEANT TO PUT NO -0.8294469 -1.0\n",
            "@user Studying for my exam to get my teaching license! -0.5388182 -0.6\n",
            "\tAverage training loss: 0.04097\n",
            "\tAverage Val MSE: 0.1477\n",
            "Epoch: 31\n"
          ]
        },
        {
          "name": "stderr",
          "output_type": "stream",
          "text": [
            "10it [00:19,  1.91s/it]\n"
          ]
        },
        {
          "name": "stdout",
          "output_type": "stream",
          "text": [
            "@user I MEANT TO PUT NO -0.8098485 -1.0\n",
            "@user Studying for my exam to get my teaching license! -0.5166165 -0.6\n",
            "\tAverage training loss: 0.03956\n",
            "\tAverage Val MSE: 0.1471\n",
            "Epoch: 32\n"
          ]
        },
        {
          "name": "stderr",
          "output_type": "stream",
          "text": [
            "10it [00:19,  1.91s/it]\n"
          ]
        },
        {
          "name": "stdout",
          "output_type": "stream",
          "text": [
            "@user I MEANT TO PUT NO -0.83740145 -1.0\n",
            "@user Studying for my exam to get my teaching license! -0.5573235 -0.6\n",
            "\tAverage training loss: 0.04003\n",
            "\tAverage Val MSE: 0.1503\n",
            "Epoch: 33\n"
          ]
        },
        {
          "name": "stderr",
          "output_type": "stream",
          "text": [
            "10it [00:19,  1.91s/it]\n"
          ]
        },
        {
          "name": "stdout",
          "output_type": "stream",
          "text": [
            "@user I MEANT TO PUT NO -0.8656635 -1.0\n",
            "@user Studying for my exam to get my teaching license! -0.508771 -0.6\n",
            "\tAverage training loss: 0.03817\n",
            "\tAverage Val MSE: 0.1495\n",
            "Epoch: 34\n"
          ]
        },
        {
          "name": "stderr",
          "output_type": "stream",
          "text": [
            "10it [00:19,  1.91s/it]\n"
          ]
        },
        {
          "name": "stdout",
          "output_type": "stream",
          "text": [
            "@user I MEANT TO PUT NO -0.67513657 -1.0\n",
            "@user Studying for my exam to get my teaching license! -0.35432908 -0.6\n",
            "\tAverage training loss: 0.04163\n",
            "\tAverage Val MSE: 0.1542\n",
            "Epoch: 35\n"
          ]
        },
        {
          "name": "stderr",
          "output_type": "stream",
          "text": [
            "10it [00:19,  1.91s/it]\n"
          ]
        },
        {
          "name": "stdout",
          "output_type": "stream",
          "text": [
            "@user I MEANT TO PUT NO -0.8114958 -1.0\n",
            "@user Studying for my exam to get my teaching license! -0.61670786 -0.6\n",
            "\tAverage training loss: 0.03667\n",
            "\tAverage Val MSE: 0.1446\n",
            "Epoch: 36\n"
          ]
        },
        {
          "name": "stderr",
          "output_type": "stream",
          "text": [
            "10it [00:19,  1.91s/it]\n"
          ]
        },
        {
          "name": "stdout",
          "output_type": "stream",
          "text": [
            "@user I MEANT TO PUT NO -0.85425067 -1.0\n",
            "@user Studying for my exam to get my teaching license! -0.5501852 -0.6\n",
            "\tAverage training loss: 0.03255\n",
            "\tAverage Val MSE: 0.1422\n",
            "Epoch: 37\n"
          ]
        },
        {
          "name": "stderr",
          "output_type": "stream",
          "text": [
            "10it [00:19,  1.92s/it]\n"
          ]
        },
        {
          "name": "stdout",
          "output_type": "stream",
          "text": [
            "@user I MEANT TO PUT NO -0.8484606 -1.0\n",
            "@user Studying for my exam to get my teaching license! -0.48659635 -0.6\n",
            "\tAverage training loss: 0.03010\n",
            "\tAverage Val MSE: 0.1488\n",
            "Epoch: 38\n"
          ]
        },
        {
          "name": "stderr",
          "output_type": "stream",
          "text": [
            "10it [00:19,  1.91s/it]\n"
          ]
        },
        {
          "name": "stdout",
          "output_type": "stream",
          "text": [
            "@user I MEANT TO PUT NO -0.89221156 -1.0\n",
            "@user Studying for my exam to get my teaching license! -0.5055815 -0.6\n",
            "\tAverage training loss: 0.03550\n",
            "\tAverage Val MSE: 0.1481\n",
            "Epoch: 39\n"
          ]
        },
        {
          "name": "stderr",
          "output_type": "stream",
          "text": [
            "10it [00:19,  1.91s/it]\n"
          ]
        },
        {
          "name": "stdout",
          "output_type": "stream",
          "text": [
            "@user I MEANT TO PUT NO -0.80744356 -1.0\n",
            "@user Studying for my exam to get my teaching license! -0.44573244 -0.6\n",
            "\tAverage training loss: 0.03204\n",
            "\tAverage Val MSE: 0.1447\n",
            "Epoch: 40\n"
          ]
        },
        {
          "name": "stderr",
          "output_type": "stream",
          "text": [
            "10it [00:19,  1.92s/it]\n"
          ]
        },
        {
          "name": "stdout",
          "output_type": "stream",
          "text": [
            "@user I MEANT TO PUT NO -0.90273577 -1.0\n",
            "@user Studying for my exam to get my teaching license! -0.49805936 -0.6\n",
            "\tAverage training loss: 0.02943\n",
            "\tAverage Val MSE: 0.1439\n",
            "Epoch: 41\n"
          ]
        },
        {
          "name": "stderr",
          "output_type": "stream",
          "text": [
            "10it [00:19,  1.91s/it]\n"
          ]
        },
        {
          "name": "stdout",
          "output_type": "stream",
          "text": [
            "@user I MEANT TO PUT NO -0.78150314 -1.0\n",
            "@user Studying for my exam to get my teaching license! -0.45000345 -0.6\n",
            "\tAverage training loss: 0.02965\n",
            "\tAverage Val MSE: 0.1458\n",
            "Epoch: 42\n"
          ]
        },
        {
          "name": "stderr",
          "output_type": "stream",
          "text": [
            "10it [00:19,  1.91s/it]\n"
          ]
        },
        {
          "name": "stdout",
          "output_type": "stream",
          "text": [
            "@user I MEANT TO PUT NO -0.9106101 -1.0\n",
            "@user Studying for my exam to get my teaching license! -0.57378405 -0.6\n",
            "\tAverage training loss: 0.02877\n",
            "\tAverage Val MSE: 0.1485\n",
            "Epoch: 43\n"
          ]
        },
        {
          "name": "stderr",
          "output_type": "stream",
          "text": [
            "10it [00:19,  1.92s/it]\n"
          ]
        },
        {
          "name": "stdout",
          "output_type": "stream",
          "text": [
            "@user I MEANT TO PUT NO -0.8056646 -1.0\n",
            "@user Studying for my exam to get my teaching license! -0.42461467 -0.6\n",
            "\tAverage training loss: 0.02815\n",
            "\tAverage Val MSE: 0.1424\n",
            "Epoch: 44\n"
          ]
        },
        {
          "name": "stderr",
          "output_type": "stream",
          "text": [
            "10it [00:19,  1.92s/it]\n"
          ]
        },
        {
          "name": "stdout",
          "output_type": "stream",
          "text": [
            "@user I MEANT TO PUT NO -0.83456886 -1.0\n",
            "@user Studying for my exam to get my teaching license! -0.4993471 -0.6\n",
            "\tAverage training loss: 0.02776\n",
            "\tAverage Val MSE: 0.1487\n",
            "Epoch: 45\n"
          ]
        },
        {
          "name": "stderr",
          "output_type": "stream",
          "text": [
            "10it [00:19,  1.92s/it]\n"
          ]
        },
        {
          "name": "stdout",
          "output_type": "stream",
          "text": [
            "@user I MEANT TO PUT NO -0.83045346 -1.0\n",
            "@user Studying for my exam to get my teaching license! -0.5419337 -0.6\n",
            "\tAverage training loss: 0.02572\n",
            "\tAverage Val MSE: 0.1397\n",
            "Epoch: 46\n"
          ]
        },
        {
          "name": "stderr",
          "output_type": "stream",
          "text": [
            "10it [00:19,  1.92s/it]\n"
          ]
        },
        {
          "name": "stdout",
          "output_type": "stream",
          "text": [
            "@user I MEANT TO PUT NO -0.8361905 -1.0\n",
            "@user Studying for my exam to get my teaching license! -0.5503003 -0.6\n",
            "\tAverage training loss: 0.02601\n",
            "\tAverage Val MSE: 0.1432\n",
            "Epoch: 47\n"
          ]
        },
        {
          "name": "stderr",
          "output_type": "stream",
          "text": [
            "10it [00:19,  1.92s/it]\n"
          ]
        },
        {
          "name": "stdout",
          "output_type": "stream",
          "text": [
            "@user I MEANT TO PUT NO -0.8844712 -1.0\n",
            "@user Studying for my exam to get my teaching license! -0.59373754 -0.6\n",
            "\tAverage training loss: 0.02313\n",
            "\tAverage Val MSE: 0.1421\n",
            "Epoch: 48\n"
          ]
        },
        {
          "name": "stderr",
          "output_type": "stream",
          "text": [
            "10it [00:19,  1.92s/it]\n"
          ]
        },
        {
          "name": "stdout",
          "output_type": "stream",
          "text": [
            "@user I MEANT TO PUT NO -0.86040634 -1.0\n",
            "@user Studying for my exam to get my teaching license! -0.592407 -0.6\n",
            "\tAverage training loss: 0.02181\n",
            "\tAverage Val MSE: 0.1451\n",
            "Epoch: 49\n"
          ]
        },
        {
          "name": "stderr",
          "output_type": "stream",
          "text": [
            "10it [00:19,  1.91s/it]\n"
          ]
        },
        {
          "name": "stdout",
          "output_type": "stream",
          "text": [
            "@user I MEANT TO PUT NO -0.8271264 -1.0\n",
            "@user Studying for my exam to get my teaching license! -0.47427586 -0.6\n",
            "\tAverage training loss: 0.02115\n",
            "\tAverage Val MSE: 0.1477\n",
            "model saved at ./outputs\n",
            "best_val_loss: 0.13466132375722012\n",
            "best_test_loss: tensor(0.0795, device='cuda:0')\n",
            "best_test_pearsonr: 0.6771716153790823\n",
            "@user I MEANT TO PUT NO -0.8271264 -1.0\n",
            "@user Studying for my exam to get my teaching license! -0.47427586 -0.6\n"
          ]
        }
      ],
      "source": [
        "args = Args()\n",
        "config = Config(args.model_name)\n",
        "# Change tokenizer import and model import when trying different model\n",
        "tokenizer = XLNetTokenizer.from_pretrained(args.pre_trained_model_name_or_path, num_labels=1, output_attentions = False,output_hidden_states = False)\n",
        "# tokenizer = RobertaTokenizer.from_pretrained(args.pre_trained_model_name_or_path, num_labels=1, output_attentions = False,output_hidden_states = False)\n",
        "# tokenizer = AutoTokenizer.from_pretrained(args.pre_trained_model_name_or_path, num_labels=1, output_attentions = False,output_hidden_states = False)\n",
        "# tokenizer = XLMRobertaTokenizer.from_pretrained(args.pre_trained_model_name_or_path, num_labels=1, output_attentions = False,output_hidden_states = False)\n",
        "# Create Model with specified optimizer and loss function\n",
        "##############################################################\n",
        "\n",
        "# model = AutoModelForSequenceClassification.from_pretrained(args.pre_trained_model_name_or_path,num_labels=1,output_attentions = False,output_hidden_states = False)\n",
        "# model = XLMRobertaForSequenceClassification.from_pretrained(args.pre_trained_model_name_or_path,num_labels=1,output_attentions = False,output_hidden_states = False)\n",
        "model = XLNetForSequenceClassification.from_pretrained(args.pre_trained_model_name_or_path,num_labels=1,output_attentions = False,output_hidden_states = False)\n",
        "if config.cuda:\n",
        "    model.cuda()\n",
        "      \n",
        "          \n",
        "train_text,  train_labels = get_data(args.train_path)\n",
        "val_text,  val_labels = get_data(args.val_path)\n",
        "test_text,  test_labels = get_data(args.test_path)\n",
        "# print(\"text: \", test_text[:5])\n",
        "# print(\"labels:\", test_labels[:5])\n",
        "# print(len(test_text), \"---\", len(test_labels))\n",
        "\n",
        "train_x = train_text\n",
        "train_y = np.array(train_labels)\n",
        "val_x = val_text\n",
        "val_y = np.array(val_labels)\n",
        "model.train()\n",
        "optimizer = optim.Adam(model.parameters(), lr=config.lr, weight_decay=1e-6)\n",
        "##############################################################\n",
        "\n",
        "train_data = [train_x, train_y]\n",
        "val_data = [val_x, val_y]\n",
        "\n",
        "# Get Accuracy of final model\n",
        "test_x = test_text\n",
        "test_y = np.array(test_labels)\n",
        "best_val = 100.0\n",
        "best_test = 100.0\n",
        "best_r = 100\n",
        "\n",
        "for i in range(config.max_epochs):\n",
        "    print (\"Epoch: {}\".format(i))\n",
        "\n",
        "    train_losses,val_accuracies = run_epoch(model, train_data, val_data, tokenizer,config, optimizer)\n",
        "    test_acc,test_r = get_metrics(model, test_x, test_y, config, tokenizer, test = True, save_path=args.test_saving_path)\n",
        "    #print('Final Test Accuracy: {:.4f}'.format(test_acc))\n",
        "\n",
        "    print(\"\\tAverage training loss: {:.5f}\".format(np.mean(train_losses)))\n",
        "    print(\"\\tAverage Val MSE: {:.4f}\".format(np.mean(val_accuracies)))\n",
        "    if np.mean(val_accuracies) < best_val:\n",
        "        best_val = np.mean(val_accuracies)\n",
        "        best_test = test_acc\n",
        "        best_r = test_r\n",
        "        if i >= 1 and args.model_saving_path:\n",
        "            model.save_pretrained(args.model_saving_path)\n",
        "            tokenizer.save_pretrained(args.model_saving_path)\n",
        "\n",
        "\n",
        "print('model saved at', args.model_saving_path)\n",
        "print('best_val_loss:', best_val)\n",
        "print('best_test_loss:',best_test)\n",
        "print('best_test_pearsonr:',best_r)\n",
        "\n",
        "test_acc = get_metrics(model, test_x, test_y, config, tokenizer, test = True)\n",
        "if args.model_saving_path:\n",
        "    model.save_pretrained(args.model_saving_path)\n",
        "    tokenizer.save_pretrained(args.model_saving_path)\n",
        "\n",
        "\n"
      ]
    },
    {
      "cell_type": "markdown",
      "metadata": {
        "id": "N4hafSlN2pdQ"
      },
      "source": [
        "### Get Results for val and test data set"
      ]
    },
    {
      "cell_type": "code",
      "execution_count": 14,
      "metadata": {
        "colab": {
          "base_uri": "https://localhost:8080/"
        },
        "id": "ugxKh0actZ82",
        "outputId": "ce6641f5-3c7c-4cf1-b3dd-0ab8b2332805"
      },
      "outputs": [
        {
          "name": "stdout",
          "output_type": "stream",
          "text": [
            "val:\n",
            "0/158\n",
            "mse: 0.14451733594467536\n",
            "pearson r: 0.629146366411491\n",
            "test:\n",
            "0/159\n",
            "mse: 0.11370948169498203\n",
            "pearson r: 0.6687940415656368\n"
          ]
        }
      ],
      "source": [
        "print('val:')\n",
        "test_result, test_score = get_test_result(model, val_text, val_labels, config, tokenizer,save_path=None, ext_test = False)\n",
        "\n",
        "print('test:')\n",
        "test_result, test_score = get_test_result(model, test_text, test_labels, config, tokenizer,save_path=None, ext_test = False)"
      ]
    },
    {
      "cell_type": "markdown",
      "metadata": {
        "id": "czCZ2vT02uWg"
      },
      "source": [
        "### Print attention score visualization"
      ]
    },
    {
      "cell_type": "code",
      "execution_count": 15,
      "metadata": {
        "colab": {
          "base_uri": "https://localhost:8080/",
          "height": 1000
        },
        "id": "-4s6CsCbznAP",
        "outputId": "75e9e9f2-bc6c-4e71-d556-1baadde33af0"
      },
      "outputs": [
        {
          "name": "stdout",
          "output_type": "stream",
          "text": [
            "explaining ...\n",
            "open: ./all_data/train_train.txt\n",
            "<span class=\"barcode\"; style=\"color: black; background-color: #fffec9\">&nbsp’m&nbsp</span><span class=\"barcode\"; style=\"color: black; background-color: #ffffcb\">&nbspnot&nbsp</span><span class=\"barcode\"; style=\"color: black; background-color: #fffec9\">&nbspashamed&nbsp</span><span class=\"barcode\"; style=\"color: black; background-color: #fffeca\">&nbspof&nbsp</span><span class=\"barcode\"; style=\"color: black; background-color: #ffffcb\">&nbspwhat&nbsp</span><span class=\"barcode\"; style=\"color: black; background-color: #ffffcb\">&nbspI&nbsp</span><span class=\"barcode\"; style=\"color: black; background-color: #fffeca\">&nbspam&nbsp</span><span class=\"barcode\"; style=\"color: black; background-color: #fffec9\">&nbspand&nbsp</span><span class=\"barcode\"; style=\"color: black; background-color: #fffeca\">&nbspthat&nbsp</span><span class=\"barcode\"; style=\"color: black; background-color: #ffffcc\">&nbspI&nbsp</span><span class=\"barcode\"; style=\"color: black; background-color: #ffffcb\">&nbsphave&nbsp</span><span class=\"barcode\"; style=\"color: black; background-color: #fffec9\">&nbspcurves,&nbsp</span><span class=\"barcode\"; style=\"color: black; background-color: #fffeca\">&nbspand&nbsp</span><span class=\"barcode\"; style=\"color: black; background-color: #ffffcc\">&nbspthat&nbsp</span><span class=\"barcode\"; style=\"color: black; background-color: #ffffcc\">&nbspI’m&nbsp</span><span class=\"barcode\"; style=\"color: black; background-color: #ffffcb\">&nbspthick.&nbsp</span><span class=\"barcode\"; style=\"color: black; background-color: #ffffcb\">&nbspI&nbsp</span><span class=\"barcode\"; style=\"color: black; background-color: #fffec9\">&nbsploke&nbsp</span><span class=\"barcode\"; style=\"color: black; background-color: #ffffcb\">&nbspmy&nbsp</span><span class=\"barcode\"; style=\"color: black; background-color: #ffffcb\">&nbspbody&nbsp</span><span class=\"barcode\"; style=\"color: black; background-color: #ffffcb\">&nbsp💕&nbsp</span><span class=\"barcode\"; style=\"color: black; background-color: #ffffcc\">&nbsphttp&nbsp</span><br><span class=\"barcode\"; style=\"color: black; background-color: #ffffcb\">&nbsp@user&nbsp</span><span class=\"barcode\"; style=\"color: black; background-color: #fffeca\">&nbsp『✿』&nbsp</span><span class=\"barcode\"; style=\"color: black; background-color: #ffffcb\">&nbspYou&nbsp</span><span class=\"barcode\"; style=\"color: black; background-color: #fffeca\">&nbspshould&nbsp</span><span class=\"barcode\"; style=\"color: black; background-color: #ffffcb\">&nbspmessage&nbsp</span><span class=\"barcode\"; style=\"color: black; background-color: #ffffcc\">&nbspthem&nbsp</span><span class=\"barcode\"; style=\"color: black; background-color: #ffffcc\">&nbspabout&nbsp</span><span class=\"barcode\"; style=\"color: black; background-color: #ffffcc\">&nbspthat!&nbsp</span><span class=\"barcode\"; style=\"color: black; background-color: #ffffcc\">&nbspI'm&nbsp</span><span class=\"barcode\"; style=\"color: black; background-color: #ffffcc\">&nbspsure&nbsp</span><span class=\"barcode\"; style=\"color: black; background-color: #ffffcc\">&nbspmost&nbsp</span><span class=\"barcode\"; style=\"color: black; background-color: #ffffcc\">&nbsppeople&nbsp</span><span class=\"barcode\"; style=\"color: black; background-color: #ffffcb\">&nbspwould&nbsp</span><span class=\"barcode\"; style=\"color: black; background-color: #ffffcb\">&nbsplove&nbsp</span><span class=\"barcode\"; style=\"color: black; background-color: #ffffcc\">&nbspto&nbsp</span><span class=\"barcode\"; style=\"color: black; background-color: #ffffcc\">&nbspRP&nbsp</span><span class=\"barcode\"; style=\"color: black; background-color: #ffffcc\">&nbspwith&nbsp</span><span class=\"barcode\"; style=\"color: black; background-color: #ffffcc\">&nbspyou.&nbsp</span><br><span class=\"barcode\"; style=\"color: black; background-color: #fffdc8\">&nbspNothing&nbsp</span><span class=\"barcode\"; style=\"color: black; background-color: #ffffcb\">&nbspI&nbsp</span><span class=\"barcode\"; style=\"color: black; background-color: #fffeca\">&nbsplike&nbsp</span><span class=\"barcode\"; style=\"color: black; background-color: #fffcc6\">&nbspmore&nbsp</span><span class=\"barcode\"; style=\"color: black; background-color: #fffdc8\">&nbspthan&nbsp</span><span class=\"barcode\"; style=\"color: black; background-color: #fffec9\">&nbspknowing&nbsp</span><span class=\"barcode\"; style=\"color: black; background-color: #fffdc8\">&nbspmy&nbsp</span><span class=\"barcode\"; style=\"color: black; background-color: #ffffcb\">&nbspfriends&nbsp</span><span class=\"barcode\"; style=\"color: black; background-color: #ffffcb\">&nbspare&nbsp</span><span class=\"barcode\"; style=\"color: black; background-color: #fffeca\">&nbsphappy&nbsp</span><span class=\"barcode\"; style=\"color: black; background-color: #ffffcb\">&nbsp😍🥺❤️&nbsp</span><br><span class=\"barcode\"; style=\"color: black; background-color: #fffec9\">&nbspThe&nbsp</span><span class=\"barcode\"; style=\"color: black; background-color: #fffdc7\">&nbspless&nbsp</span><span class=\"barcode\"; style=\"color: black; background-color: #fff9be\">&nbsplikely&nbsp</span><span class=\"barcode\"; style=\"color: black; background-color: #fffbc3\">&nbspI&nbsp</span><span class=\"barcode\"; style=\"color: black; background-color: #fff9bd\">&nbspam&nbsp</span><span class=\"barcode\"; style=\"color: black; background-color: #fff8bc\">&nbspto&nbsp</span><span class=\"barcode\"; style=\"color: black; background-color: #fff9be\">&nbspbe&nbsp</span><span class=\"barcode\"; style=\"color: black; background-color: #fffac0\">&nbspwith&nbsp</span><span class=\"barcode\"; style=\"color: black; background-color: #fffac0\">&nbspyou&nbsp</span><span class=\"barcode\"; style=\"color: black; background-color: #fff8bb\">&nbspthe&nbsp</span><span class=\"barcode\"; style=\"color: black; background-color: #fff7b9\">&nbspmore&nbsp</span><span class=\"barcode\"; style=\"color: black; background-color: #fffac0\">&nbspI&nbsp</span><span class=\"barcode\"; style=\"color: black; background-color: #fff8bc\">&nbspwant&nbsp</span><span class=\"barcode\"; style=\"color: black; background-color: #fffbc2\">&nbspyou&nbsp</span><br><span class=\"barcode\"; style=\"color: black; background-color: #fedc7c\">&nbspi&nbsp</span><span class=\"barcode\"; style=\"color: black; background-color: #ffeda1\">&nbspgive&nbsp</span><span class=\"barcode\"; style=\"color: black; background-color: #fffac0\">&nbspup&nbsp</span><br><span class=\"barcode\"; style=\"color: black; background-color: #fffeca\">&nbspI&nbsp</span><span class=\"barcode\"; style=\"color: black; background-color: #fffeca\">&nbspcare.&nbsp</span><span class=\"barcode\"; style=\"color: black; background-color: #ffffcc\">&nbspI&nbsp</span><span class=\"barcode\"; style=\"color: black; background-color: #fffeca\">&nbspalways&nbsp</span><span class=\"barcode\"; style=\"color: black; background-color: #fffdc8\">&nbspcare.&nbsp</span><br><span class=\"barcode\"; style=\"color: black; background-color: #fffabf\">&nbspMasturbation&nbsp</span><span class=\"barcode\"; style=\"color: black; background-color: #fff7b8\">&nbspis&nbsp</span><span class=\"barcode\"; style=\"color: black; background-color: #ffeb9b\">&nbspkey.&nbsp</span><br><span class=\"barcode\"; style=\"color: black; background-color: #fffbc3\">&nbspNot&nbsp</span><span class=\"barcode\"; style=\"color: black; background-color: #fffbc2\">&nbspDylan&nbsp</span><span class=\"barcode\"; style=\"color: black; background-color: #fffcc4\">&nbspgetting&nbsp</span><span class=\"barcode\"; style=\"color: black; background-color: #fffbc3\">&nbspmy&nbsp</span><span class=\"barcode\"; style=\"color: black; background-color: #fffbc3\">&nbspsloppy&nbsp</span><span class=\"barcode\"; style=\"color: black; background-color: #fffbc3\">&nbsp2nd&nbsp</span><span class=\"barcode\"; style=\"color: black; background-color: #fffabf\">&nbspjust&nbsp</span><span class=\"barcode\"; style=\"color: black; background-color: #fffabf\">&nbspbc&nbsp</span><span class=\"barcode\"; style=\"color: black; background-color: #fffbc3\">&nbspwe&nbsp</span><span class=\"barcode\"; style=\"color: black; background-color: #fff6b6\">&nbspfucked&nbsp</span><span class=\"barcode\"; style=\"color: black; background-color: #fffabf\">&nbsphim&nbsp</span><span class=\"barcode\"; style=\"color: black; background-color: #fffabf\">&nbspdoes&nbsp</span><span class=\"barcode\"; style=\"color: black; background-color: #fff9be\">&nbspnot&nbsp</span><span class=\"barcode\"; style=\"color: black; background-color: #fff9bd\">&nbspmean&nbsp</span><span class=\"barcode\"; style=\"color: black; background-color: #ffeea3\">&nbspwe&nbsp</span><span class=\"barcode\"; style=\"color: black; background-color: #fff0a7\">&nbspare&nbsp</span><span class=\"barcode\"; style=\"color: black; background-color: #fff0a7\">&nbspthe&nbsp</span><span class=\"barcode\"; style=\"color: black; background-color: #fff6b5\">&nbspsame&nbsp</span><span class=\"barcode\"; style=\"color: black; background-color: #fff5b4\">&nbsphoe&nbsp</span><br><span class=\"barcode\"; style=\"color: black; background-color: #ffffcc\">&nbsp@user&nbsp</span><span class=\"barcode\"; style=\"color: black; background-color: #ffffcc\">&nbsp@NASA&nbsp</span><span class=\"barcode\"; style=\"color: black; background-color: #ffffcc\">&nbspI&nbsp</span><span class=\"barcode\"; style=\"color: black; background-color: #ffffcc\">&nbspidentify&nbsp</span><span class=\"barcode\"; style=\"color: black; background-color: #ffffcc\">&nbspas&nbsp</span><span class=\"barcode\"; style=\"color: black; background-color: #ffffcc\">&nbspc*nt..it's&nbsp</span><span class=\"barcode\"; style=\"color: black; background-color: #ffffcc\">&nbspmore&nbsp</span><span class=\"barcode\"; style=\"color: black; background-color: #ffffcc\">&nbspof&nbsp</span><span class=\"barcode\"; style=\"color: black; background-color: #ffffcc\">&nbspa&nbsp</span><span class=\"barcode\"; style=\"color: black; background-color: #ffffcc\">&nbspgender&nbsp</span><span class=\"barcode\"; style=\"color: black; background-color: #ffffcc\">&nbspslur&nbsp</span><span class=\"barcode\"; style=\"color: black; background-color: #ffffcc\">&nbspbut&nbsp</span><span class=\"barcode\"; style=\"color: black; background-color: #ffffcc\">&nbspI&nbsp</span><span class=\"barcode\"; style=\"color: black; background-color: #ffffcc\">&nbspmust&nbsp</span><span class=\"barcode\"; style=\"color: black; background-color: #ffffcc\">&nbspbe&nbsp</span><span class=\"barcode\"; style=\"color: black; background-color: #ffffcc\">&nbspcalled&nbsp</span><span class=\"barcode\"; style=\"color: black; background-color: #ffffcc\">&nbspby&nbsp</span><span class=\"barcode\"; style=\"color: black; background-color: #ffffcc\">&nbspit.&nbsp</span><span class=\"barcode\"; style=\"color: black; background-color: #ffffcc\">&nbspI'm&nbsp</span><span class=\"barcode\"; style=\"color: black; background-color: #ffffcc\">&nbspa&nbsp</span><span class=\"barcode\"; style=\"color: black; background-color: #ffffcc\">&nbspsadist.&nbsp</span><br><span class=\"barcode\"; style=\"color: black; background-color: #fffdc7\">&nbspI&nbsp</span><span class=\"barcode\"; style=\"color: black; background-color: #fffdc8\">&nbsplove&nbsp</span><span class=\"barcode\"; style=\"color: black; background-color: #fffbc3\">&nbspwhen&nbsp</span><span class=\"barcode\"; style=\"color: black; background-color: #fff9bd\">&nbspmy&nbsp</span><span class=\"barcode\"; style=\"color: black; background-color: #fff7b8\">&nbspbff&nbsp</span><span class=\"barcode\"; style=\"color: black; background-color: #fff3ad\">&nbspcome&nbsp</span><span class=\"barcode\"; style=\"color: black; background-color: #fff4b1\">&nbspover.&nbsp</span><span class=\"barcode\"; style=\"color: black; background-color: #fff8bc\">&nbspBest&nbsp</span><span class=\"barcode\"; style=\"color: black; background-color: #fff6b5\">&nbspconversations&nbsp</span><span class=\"barcode\"; style=\"color: black; background-color: #fffac0\">&nbspever,&nbsp</span><span class=\"barcode\"; style=\"color: black; background-color: #fff4b1\">&nbspmy&nbsp</span><span class=\"barcode\"; style=\"color: black; background-color: #fff4b2\">&nbspdawg&nbsp</span><span class=\"barcode\"; style=\"color: black; background-color: #fff3af\">&nbspfasho.&nbsp</span><span class=\"barcode\"; style=\"color: black; background-color: #fff5b4\">&nbsp🤞🏾💕👭&nbsp</span><br><span class=\"barcode\"; style=\"color: black; background-color: #fffeca\">&nbspi&nbsp</span><span class=\"barcode\"; style=\"color: black; background-color: #fffeca\">&nbspwould&nbsp</span><span class=\"barcode\"; style=\"color: black; background-color: #ffffcb\">&nbsplove&nbsp</span><span class=\"barcode\"; style=\"color: black; background-color: #ffffcb\">&nbspto&nbsp</span><span class=\"barcode\"; style=\"color: black; background-color: #fffec9\">&nbspbe&nbsp</span><span class=\"barcode\"; style=\"color: black; background-color: #fffeca\">&nbspdead&nbsp</span><span class=\"barcode\"; style=\"color: black; background-color: #ffffcc\">&nbsprn&nbsp</span><br><span class=\"barcode\"; style=\"color: black; background-color: #ffffcb\">&nbsp@user&nbsp</span><span class=\"barcode\"; style=\"color: black; background-color: #fffbc2\">&nbsp@user&nbsp</span><span class=\"barcode\"; style=\"color: black; background-color: #fffcc4\">&nbspAlexa&nbsp</span><span class=\"barcode\"; style=\"color: black; background-color: #fffdc8\">&nbspis&nbsp</span><span class=\"barcode\"; style=\"color: black; background-color: #fffcc4\">&nbspmy&nbsp</span><span class=\"barcode\"; style=\"color: black; background-color: #fffabf\">&nbspmain.&nbsp</span><span class=\"barcode\"; style=\"color: black; background-color: #fffac0\">&nbsp#AlexaIlacad&nbsp</span><span class=\"barcode\"; style=\"color: black; background-color: #fffac0\">&nbsp|&nbsp</span><span class=\"barcode\"; style=\"color: black; background-color: #fffac0\">&nbsp@user&nbsp</span><span class=\"barcode\"; style=\"color: black; background-color: #fffac0\">&nbsp99&nbsp</span><br><span class=\"barcode\"; style=\"color: black; background-color: #ffffcb\">&nbsp@user&nbsp</span><span class=\"barcode\"; style=\"color: black; background-color: #fffeca\">&nbspwas&nbsp</span><span class=\"barcode\"; style=\"color: black; background-color: #fffeca\">&nbspthat&nbsp</span><span class=\"barcode\"; style=\"color: black; background-color: #ffffcb\">&nbspYOU&nbsp</span><span class=\"barcode\"; style=\"color: black; background-color: #ffffcb\">&nbspdancing&nbsp</span><span class=\"barcode\"; style=\"color: black; background-color: #fffeca\">&nbspin&nbsp</span><span class=\"barcode\"; style=\"color: black; background-color: #fffeca\">&nbspur&nbsp</span><span class=\"barcode\"; style=\"color: black; background-color: #ffffcb\">&nbsprecent&nbsp</span><span class=\"barcode\"; style=\"color: black; background-color: #fffeca\">&nbspstory???!!!&nbsp</span><span class=\"barcode\"; style=\"color: black; background-color: #fffeca\">&nbsp😯&nbsp</span><br><span class=\"barcode\"; style=\"color: black; background-color: #fffac0\">&nbspAnother&nbsp</span><span class=\"barcode\"; style=\"color: black; background-color: #fffcc6\">&nbspweekend&nbsp</span><span class=\"barcode\"; style=\"color: black; background-color: #fffbc2\">&nbspand&nbsp</span><span class=\"barcode\"; style=\"color: black; background-color: #fffabf\">&nbspLove&nbsp</span><span class=\"barcode\"; style=\"color: black; background-color: #fff9be\">&nbspnever&nbsp</span><span class=\"barcode\"; style=\"color: black; background-color: #fffcc4\">&nbspfind&nbsp</span><span class=\"barcode\"; style=\"color: black; background-color: #fffbc2\">&nbspyou,&nbsp</span><span class=\"barcode\"; style=\"color: black; background-color: #fffdc8\">&nbspsigh😔&nbsp</span><br><span class=\"barcode\"; style=\"color: black; background-color: #fffec9\">&nbspLadies&nbsp</span><span class=\"barcode\"; style=\"color: black; background-color: #fffec9\">&nbspand&nbsp</span><span class=\"barcode\"; style=\"color: black; background-color: #fffdc7\">&nbspGentlemen&nbsp</span><span class=\"barcode\"; style=\"color: black; background-color: #fffdc7\">&nbspWhat&nbsp</span><span class=\"barcode\"; style=\"color: black; background-color: #fffeca\">&nbsppart&nbsp</span><span class=\"barcode\"; style=\"color: black; background-color: #fffec9\">&nbspin&nbsp</span><span class=\"barcode\"; style=\"color: black; background-color: #fffec9\">&nbspyour&nbsp</span><span class=\"barcode\"; style=\"color: black; background-color: #fffdc8\">&nbspopposite&nbsp</span><span class=\"barcode\"; style=\"color: black; background-color: #fffec9\">&nbspsex&nbsp</span><span class=\"barcode\"; style=\"color: black; background-color: #fffec9\">&nbspcan&nbsp</span><span class=\"barcode\"; style=\"color: black; background-color: #fffec9\">&nbspmake&nbsp</span><span class=\"barcode\"; style=\"color: black; background-color: #fffec9\">&nbspyou&nbsp</span><span class=\"barcode\"; style=\"color: black; background-color: #fffdc8\">&nbspreact&nbsp</span><span class=\"barcode\"; style=\"color: black; background-color: #fffec9\">&nbsplike&nbsp</span><span class=\"barcode\"; style=\"color: black; background-color: #fffec9\">&nbspthis&nbsp</span><span class=\"barcode\"; style=\"color: black; background-color: #fffec9\">&nbspMe:&nbsp</span><span class=\"barcode\"; style=\"color: black; background-color: #fffeca\">&nbspThat&nbsp</span><span class=\"barcode\"; style=\"color: black; background-color: #fffeca\">&nbsp🍑&nbsp</span><span class=\"barcode\"; style=\"color: black; background-color: #ffffcc\">&nbsp😂&nbsp</span><span class=\"barcode\"; style=\"color: black; background-color: #ffffcc\">&nbsphttp&nbsp</span><br><span class=\"barcode\"; style=\"color: black; background-color: #fffcc4\">&nbspsex&nbsp</span><span class=\"barcode\"; style=\"color: black; background-color: #fffbc2\">&nbsp....&nbsp</span><span class=\"barcode\"; style=\"color: black; background-color: #fffbc3\">&nbspi&nbsp</span><span class=\"barcode\"; style=\"color: black; background-color: #fffbc2\">&nbspwanna&nbsp</span><span class=\"barcode\"; style=\"color: black; background-color: #fffac0\">&nbsphave&nbsp</span><span class=\"barcode\"; style=\"color: black; background-color: #fffbc2\">&nbspsome😩&nbsp</span><br><span class=\"barcode\"; style=\"color: black; background-color: #ffefa5\">&nbspwife&nbsp</span><span class=\"barcode\"; style=\"color: black; background-color: #ffec9e\">&nbspriding&nbsp</span><span class=\"barcode\"; style=\"color: black; background-color: #ffe793\">&nbspstrangers&nbsp</span><span class=\"barcode\"; style=\"color: black; background-color: #fedc7d\">&nbspcock&nbsp</span><span class=\"barcode\"; style=\"color: black; background-color: #fede81\">&nbsphttp&nbsp</span><br><span class=\"barcode\"; style=\"color: black; background-color: #fffcc6\">&nbsp@ArianaGrande&nbsp</span><span class=\"barcode\"; style=\"color: black; background-color: #fffbc3\">&nbsptake&nbsp</span><span class=\"barcode\"; style=\"color: black; background-color: #fffcc6\">&nbspcare&nbsp</span><span class=\"barcode\"; style=\"color: black; background-color: #fffabf\">&nbspof&nbsp</span><span class=\"barcode\"; style=\"color: black; background-color: #fffdc7\">&nbspyourself.&nbsp</span><span class=\"barcode\"; style=\"color: black; background-color: #fffbc3\">&nbspi&nbsp</span><span class=\"barcode\"; style=\"color: black; background-color: #fffcc6\">&nbsplove&nbsp</span><span class=\"barcode\"; style=\"color: black; background-color: #fffdc7\">&nbspu&nbsp</span><span class=\"barcode\"; style=\"color: black; background-color: #fffcc6\">&nbspsm&nbsp</span><br><span class=\"barcode\"; style=\"color: black; background-color: #fffbc2\">&nbspThick&nbsp</span><span class=\"barcode\"; style=\"color: black; background-color: #fff9be\">&nbspAF&nbsp</span><span class=\"barcode\"; style=\"color: black; background-color: #fff7b8\">&nbspLatina&nbsp</span><span class=\"barcode\"; style=\"color: black; background-color: #fff3ad\">&nbspMILF&nbsp</span><span class=\"barcode\"; style=\"color: black; background-color: #fff3ad\">&nbspwith&nbsp</span><span class=\"barcode\"; style=\"color: black; background-color: #fff1a9\">&nbspgreat&nbsp</span><span class=\"barcode\"; style=\"color: black; background-color: #fff5b3\">&nbsptits&nbsp</span><span class=\"barcode\"; style=\"color: black; background-color: #fff5b4\">&nbspand&nbsp</span><span class=\"barcode\"; style=\"color: black; background-color: #fff6b5\">&nbspDSLs&nbsp</span><span class=\"barcode\"; style=\"color: black; background-color: #fff2ac\">&nbsp#MILF&nbsp</span><span class=\"barcode\"; style=\"color: black; background-color: #fff4b2\">&nbsp#BigTits&nbsp</span><span class=\"barcode\"; style=\"color: black; background-color: #ffefa5\">&nbsp#BigAss&nbsp</span><span class=\"barcode\"; style=\"color: black; background-color: #fff7b9\">&nbsp#NSFW&nbsp</span><span class=\"barcode\"; style=\"color: black; background-color: #fff6b5\">&nbsphttp&nbsp</span><br><span class=\"barcode\"; style=\"color: black; background-color: #ffffcc\">&nbspI&nbsp</span><span class=\"barcode\"; style=\"color: black; background-color: #ffffcc\">&nbspwant&nbsp</span><span class=\"barcode\"; style=\"color: black; background-color: #ffffcb\">&nbspa&nbsp</span><span class=\"barcode\"; style=\"color: black; background-color: #ffffcc\">&nbspman&nbsp</span><span class=\"barcode\"; style=\"color: black; background-color: #ffffcc\">&nbspthat’s&nbsp</span><span class=\"barcode\"; style=\"color: black; background-color: #ffffcc\">&nbspjust&nbsp</span><span class=\"barcode\"; style=\"color: black; background-color: #ffffcb\">&nbsporgasmic&nbsp</span><span class=\"barcode\"; style=\"color: black; background-color: #ffffcb\">&nbspand&nbsp</span><span class=\"barcode\"; style=\"color: black; background-color: #ffffcb\">&nbspjust&nbsp</span><span class=\"barcode\"; style=\"color: black; background-color: #ffffcb\">&nbspunderstand&nbsp</span><span class=\"barcode\"; style=\"color: black; background-color: #ffffcb\">&nbspme&nbsp</span><span class=\"barcode\"; style=\"color: black; background-color: #ffffcb\">&nbspand&nbsp</span><span class=\"barcode\"; style=\"color: black; background-color: #ffffcb\">&nbspeven&nbsp</span><span class=\"barcode\"; style=\"color: black; background-color: #fffeca\">&nbspif&nbsp</span><span class=\"barcode\"; style=\"color: black; background-color: #ffffcb\">&nbsphe&nbsp</span><span class=\"barcode\"; style=\"color: black; background-color: #ffffcb\">&nbspdon’t&nbsp</span><span class=\"barcode\"; style=\"color: black; background-color: #ffffcb\">&nbspstill&nbsp</span><span class=\"barcode\"; style=\"color: black; background-color: #ffffcc\">&nbsprespects&nbsp</span><span class=\"barcode\"; style=\"color: black; background-color: #ffffcb\">&nbspme&nbsp</span><span class=\"barcode\"; style=\"color: black; background-color: #ffffcc\">&nbspand&nbsp</span><span class=\"barcode\"; style=\"color: black; background-color: #ffffcb\">&nbsploves&nbsp</span><span class=\"barcode\"; style=\"color: black; background-color: #ffffcb\">&nbspit&nbsp</span><span class=\"barcode\"; style=\"color: black; background-color: #ffffcb\">&nbspall&nbsp</span><span class=\"barcode\"; style=\"color: black; background-color: #fffeca\">&nbsplike&nbsp</span><span class=\"barcode\"; style=\"color: black; background-color: #ffffcc\">&nbspMMM.&nbsp</span><br><br><span class=\"barcode\"; style=\"color: black; background-color: #fffbc3\">&nbspthe&nbsp</span><span class=\"barcode\"; style=\"color: black; background-color: #fff5b4\">&nbspprofessor&nbsp</span><span class=\"barcode\"; style=\"color: black; background-color: #fff7b9\">&nbspi’m&nbsp</span><span class=\"barcode\"; style=\"color: black; background-color: #fff8bb\">&nbspin&nbsp</span><span class=\"barcode\"; style=\"color: black; background-color: #fff6b6\">&nbsplove&nbsp</span><span class=\"barcode\"; style=\"color: black; background-color: #fff3ad\">&nbspw&nbsp</span><span class=\"barcode\"; style=\"color: black; background-color: #fff6b5\">&nbspcanceled&nbsp</span><span class=\"barcode\"; style=\"color: black; background-color: #fff8bb\">&nbspour&nbsp</span><span class=\"barcode\"; style=\"color: black; background-color: #fff1ab\">&nbspexam&nbsp</span><span class=\"barcode\"; style=\"color: black; background-color: #fff5b4\">&nbspnext&nbsp</span><span class=\"barcode\"; style=\"color: black; background-color: #fff2ac\">&nbspthursday&nbsp</span><span class=\"barcode\"; style=\"color: black; background-color: #ffeda1\">&nbsp🥰&nbsp</span><br><span class=\"barcode\"; style=\"color: black; background-color: #fffdc7\">&nbspfuck&nbsp</span><span class=\"barcode\"; style=\"color: black; background-color: #fffdc7\">&nbspdaddy&nbsp</span><span class=\"barcode\"; style=\"color: black; background-color: #fffac0\">&nbspissues&nbsp</span><span class=\"barcode\"; style=\"color: black; background-color: #fffcc4\">&nbspwho&nbsp</span><span class=\"barcode\"; style=\"color: black; background-color: #fff9be\">&nbspgot&nbsp</span><span class=\"barcode\"; style=\"color: black; background-color: #fff9bd\">&nbspmommy&nbsp</span><span class=\"barcode\"; style=\"color: black; background-color: #fffbc2\">&nbspAND&nbsp</span><span class=\"barcode\"; style=\"color: black; background-color: #fffbc3\">&nbspdaddy&nbsp</span><span class=\"barcode\"; style=\"color: black; background-color: #fffbc2\">&nbspissues&nbsp</span><br><span class=\"barcode\"; style=\"color: black; background-color: #ffffcc\">&nbspAll&nbsp</span><span class=\"barcode\"; style=\"color: black; background-color: #ffffcc\">&nbspI&nbsp</span><span class=\"barcode\"; style=\"color: black; background-color: #ffffcc\">&nbspwant&nbsp</span><span class=\"barcode\"; style=\"color: black; background-color: #ffffcc\">&nbspis&nbsp</span><span class=\"barcode\"; style=\"color: black; background-color: #ffffcc\">&nbspa&nbsp</span><span class=\"barcode\"; style=\"color: black; background-color: #ffffcc\">&nbspgirl&nbsp</span><span class=\"barcode\"; style=\"color: black; background-color: #ffffcc\">&nbspwith&nbsp</span><span class=\"barcode\"; style=\"color: black; background-color: #ffffcc\">&nbspa&nbsp</span><span class=\"barcode\"; style=\"color: black; background-color: #ffffcc\">&nbspPhat&nbsp</span><span class=\"barcode\"; style=\"color: black; background-color: #ffffcc\">&nbspAss&nbsp</span><span class=\"barcode\"; style=\"color: black; background-color: #ffffcc\">&nbspwho&nbsp</span><span class=\"barcode\"; style=\"color: black; background-color: #ffffcc\">&nbspcan&nbsp</span><span class=\"barcode\"; style=\"color: black; background-color: #ffffcc\">&nbspride&nbsp</span><span class=\"barcode\"; style=\"color: black; background-color: #ffffcc\">&nbspdick&nbsp</span><span class=\"barcode\"; style=\"color: black; background-color: #ffffcc\">&nbsplike&nbsp</span><span class=\"barcode\"; style=\"color: black; background-color: #ffffcc\">&nbsp@user&nbsp</span><span class=\"barcode\"; style=\"color: black; background-color: #ffffcc\">&nbsphttp&nbsp</span><br><span class=\"barcode\"; style=\"color: black; background-color: #fffec9\">&nbspi&nbsp</span><span class=\"barcode\"; style=\"color: black; background-color: #fffec9\">&nbspjus&nbsp</span><span class=\"barcode\"; style=\"color: black; background-color: #fffbc3\">&nbspwish&nbsp</span><span class=\"barcode\"; style=\"color: black; background-color: #fffdc8\">&nbspmy&nbsp</span><span class=\"barcode\"; style=\"color: black; background-color: #fffcc4\">&nbspass&nbsp</span><span class=\"barcode\"; style=\"color: black; background-color: #fffac0\">&nbspwas&nbsp</span><span class=\"barcode\"; style=\"color: black; background-color: #fffbc3\">&nbspfat&nbsp</span><span class=\"barcode\"; style=\"color: black; background-color: #fffcc4\">&nbspsnd&nbsp</span><span class=\"barcode\"; style=\"color: black; background-color: #fffdc7\">&nbspmy&nbsp</span><span class=\"barcode\"; style=\"color: black; background-color: #fffbc2\">&nbspstomach&nbsp</span><span class=\"barcode\"; style=\"color: black; background-color: #fffcc4\">&nbspwas&nbsp</span><span class=\"barcode\"; style=\"color: black; background-color: #fff6b6\">&nbspflat&nbsp</span><span class=\"barcode\"; style=\"color: black; background-color: #fffac0\">&nbsp🙄&nbsp</span><br><span class=\"barcode\"; style=\"color: black; background-color: #ffffcc\">&nbsp@user&nbsp</span><span class=\"barcode\"; style=\"color: black; background-color: #ffffcc\">&nbspsis&nbsp</span><span class=\"barcode\"; style=\"color: black; background-color: #ffffcb\">&nbspdidn't&nbsp</span><span class=\"barcode\"; style=\"color: black; background-color: #fffeca\">&nbspyou&nbsp</span><span class=\"barcode\"; style=\"color: black; background-color: #ffffcb\">&nbspget&nbsp</span><span class=\"barcode\"; style=\"color: black; background-color: #fffeca\">&nbspyour&nbsp</span><span class=\"barcode\"; style=\"color: black; background-color: #ffffcb\">&nbspnipples&nbsp</span><span class=\"barcode\"; style=\"color: black; background-color: #ffffcc\">&nbsppierced???&nbsp</span><span class=\"barcode\"; style=\"color: black; background-color: #ffffcb\">&nbspur&nbsp</span><span class=\"barcode\"; style=\"color: black; background-color: #ffffcb\">&nbspthe&nbsp</span><span class=\"barcode\"; style=\"color: black; background-color: #ffffcb\">&nbspbravest&nbsp</span><span class=\"barcode\"; style=\"color: black; background-color: #ffffcb\">&nbspwoman&nbsp</span><span class=\"barcode\"; style=\"color: black; background-color: #ffffcb\">&nbspalive&nbsp</span><span class=\"barcode\"; style=\"color: black; background-color: #ffffcb\">&nbspalready.&nbsp</span><span class=\"barcode\"; style=\"color: black; background-color: #ffffcb\">&nbspwhats&nbsp</span><span class=\"barcode\"; style=\"color: black; background-color: #ffffcb\">&nbspa&nbsp</span><span class=\"barcode\"; style=\"color: black; background-color: #ffffcc\">&nbsplil&nbsp</span><span class=\"barcode\"; style=\"color: black; background-color: #ffffcb\">&nbspear&nbsp</span><span class=\"barcode\"; style=\"color: black; background-color: #ffffcb\">&nbspneedle&nbsp</span><span class=\"barcode\"; style=\"color: black; background-color: #ffffcb\">&nbsp🤷‍♀️&nbsp</span><br><span class=\"barcode\"; style=\"color: black; background-color: #ffffcc\">&nbsp@user&nbsp</span><span class=\"barcode\"; style=\"color: black; background-color: #fffbc2\">&nbsp🤣🤣🤣🤣thank&nbsp</span><span class=\"barcode\"; style=\"color: black; background-color: #fffec9\">&nbspyou&nbsp</span><span class=\"barcode\"; style=\"color: black; background-color: #fffeca\">&nbspTakaTina&nbsp</span><span class=\"barcode\"; style=\"color: black; background-color: #fffdc8\">&nbspmy&nbsp</span><span class=\"barcode\"; style=\"color: black; background-color: #ffffcb\">&nbspbaby&nbsp</span><span class=\"barcode\"; style=\"color: black; background-color: #ffffcb\">&nbspkicked...kķkkķk&nbsp</span><span class=\"barcode\"; style=\"color: black; background-color: #ffffcb\">&nbspwas&nbsp</span><span class=\"barcode\"; style=\"color: black; background-color: #ffffcb\">&nbspkinda&nbsp</span><span class=\"barcode\"; style=\"color: black; background-color: #ffffcb\">&nbspworried&nbsp</span><span class=\"barcode\"; style=\"color: black; background-color: #ffffcc\">&nbspthe&nbsp</span><span class=\"barcode\"; style=\"color: black; background-color: #ffffcc\">&nbspwhole&nbsp</span><span class=\"barcode\"; style=\"color: black; background-color: #ffffcb\">&nbspmorning&nbsp</span><br><span class=\"barcode\"; style=\"color: black; background-color: #fffdc7\">&nbspNothing&nbsp</span><span class=\"barcode\"; style=\"color: black; background-color: #fffbc3\">&nbspcompares&nbsp</span><span class=\"barcode\"; style=\"color: black; background-color: #fffbc3\">&nbspwith&nbsp</span><span class=\"barcode\"; style=\"color: black; background-color: #fff9bd\">&nbspbeing&nbsp</span><span class=\"barcode\"; style=\"color: black; background-color: #fff9be\">&nbspwith&nbsp</span><span class=\"barcode\"; style=\"color: black; background-color: #fff7b9\">&nbspsomeone&nbsp</span><span class=\"barcode\"; style=\"color: black; background-color: #fff9be\">&nbspwho&nbsp</span><span class=\"barcode\"; style=\"color: black; background-color: #fffbc2\">&nbspactually&nbsp</span><span class=\"barcode\"; style=\"color: black; background-color: #fffdc7\">&nbspcares&nbsp</span><span class=\"barcode\"; style=\"color: black; background-color: #fffcc6\">&nbspfor&nbsp</span><span class=\"barcode\"; style=\"color: black; background-color: #fffcc4\">&nbspyou&nbsp</span><br><span class=\"barcode\"; style=\"color: black; background-color: #ffffcc\">&nbspHow&nbsp</span><span class=\"barcode\"; style=\"color: black; background-color: #ffffcc\">&nbspcan&nbsp</span><span class=\"barcode\"; style=\"color: black; background-color: #ffffcc\">&nbspyou&nbsp</span><span class=\"barcode\"; style=\"color: black; background-color: #ffffcc\">&nbspsimply&nbsp</span><span class=\"barcode\"; style=\"color: black; background-color: #ffffcb\">&nbspbe&nbsp</span><span class=\"barcode\"; style=\"color: black; background-color: #ffffcc\">&nbspfriends&nbsp</span><span class=\"barcode\"; style=\"color: black; background-color: #ffffcb\">&nbspwith&nbsp</span><span class=\"barcode\"; style=\"color: black; background-color: #ffffcb\">&nbspsomeone&nbsp</span><span class=\"barcode\"; style=\"color: black; background-color: #fffeca\">&nbspwhen&nbsp</span><span class=\"barcode\"; style=\"color: black; background-color: #fffeca\">&nbspevery&nbsp</span><span class=\"barcode\"; style=\"color: black; background-color: #ffffcb\">&nbsptime&nbsp</span><span class=\"barcode\"; style=\"color: black; background-color: #ffffcb\">&nbspyou&nbsp</span><span class=\"barcode\"; style=\"color: black; background-color: #ffffcb\">&nbsplook&nbsp</span><span class=\"barcode\"; style=\"color: black; background-color: #ffffcc\">&nbspat&nbsp</span><span class=\"barcode\"; style=\"color: black; background-color: #fffeca\">&nbspthem&nbsp</span><span class=\"barcode\"; style=\"color: black; background-color: #fffec9\">&nbspall&nbsp</span><span class=\"barcode\"; style=\"color: black; background-color: #ffffcb\">&nbspyou&nbsp</span><span class=\"barcode\"; style=\"color: black; background-color: #fffeca\">&nbspthink&nbsp</span><span class=\"barcode\"; style=\"color: black; background-color: #fffeca\">&nbspabout&nbsp</span><span class=\"barcode\"; style=\"color: black; background-color: #fffdc8\">&nbspis&nbsp</span><span class=\"barcode\"; style=\"color: black; background-color: #fffec9\">&nbsphow&nbsp</span><span class=\"barcode\"; style=\"color: black; background-color: #fffeca\">&nbspmuch&nbsp</span><span class=\"barcode\"; style=\"color: black; background-color: #ffffcb\">&nbspmore&nbsp</span><span class=\"barcode\"; style=\"color: black; background-color: #ffffcb\">&nbspyou&nbsp</span><span class=\"barcode\"; style=\"color: black; background-color: #ffffcb\">&nbspreally&nbsp</span><br><span class=\"barcode\"; style=\"color: black; background-color: #ffffcb\">&nbspwant&nbsp</span><span class=\"barcode\"; style=\"color: black; background-color: #fffeca\">&nbspthem?&nbsp</span><br><span class=\"barcode\"; style=\"color: black; background-color: #fff7b9\">&nbsp@user&nbsp</span><span class=\"barcode\"; style=\"color: black; background-color: #fff3ad\">&nbspHello&nbsp</span><span class=\"barcode\"; style=\"color: black; background-color: #fff2ac\">&nbspbaby❤️,&nbsp</span><span class=\"barcode\"; style=\"color: black; background-color: #fff3af\">&nbspI&nbsp</span><span class=\"barcode\"; style=\"color: black; background-color: #fff3ad\">&nbspwould&nbsp</span><span class=\"barcode\"; style=\"color: black; background-color: #fff1ab\">&nbsplove&nbsp</span><span class=\"barcode\"; style=\"color: black; background-color: #fff4b1\">&nbspto&nbsp</span><span class=\"barcode\"; style=\"color: black; background-color: #fff5b4\">&nbspbuy&nbsp</span><span class=\"barcode\"; style=\"color: black; background-color: #fff1aa\">&nbspyour&nbsp</span><span class=\"barcode\"; style=\"color: black; background-color: #fff1a9\">&nbspfeet&nbsp</span><span class=\"barcode\"; style=\"color: black; background-color: #fff3af\">&nbsppictures&nbsp</span><span class=\"barcode\"; style=\"color: black; background-color: #ffeda1\">&nbspand&nbsp</span><span class=\"barcode\"; style=\"color: black; background-color: #fff4b1\">&nbspvideos,&nbsp</span><span class=\"barcode\"; style=\"color: black; background-color: #fff0a8\">&nbspDM&nbsp</span><span class=\"barcode\"; style=\"color: black; background-color: #fff3af\">&nbspif&nbsp</span><span class=\"barcode\"; style=\"color: black; background-color: #fff7b9\">&nbspinterested.&nbsp</span><br><span class=\"barcode\"; style=\"color: black; background-color: #fff3ad\">&nbspBitches&nbsp</span><span class=\"barcode\"; style=\"color: black; background-color: #fff5b4\">&nbspwill&nbsp</span><span class=\"barcode\"; style=\"color: black; background-color: #fff6b6\">&nbspget&nbsp</span><span class=\"barcode\"; style=\"color: black; background-color: #fff3ad\">&nbspso&nbsp</span><span class=\"barcode\"; style=\"color: black; background-color: #ffe998\">&nbsplonely&nbsp</span><span class=\"barcode\"; style=\"color: black; background-color: #ffeea2\">&nbspthey’ll&nbsp</span><span class=\"barcode\"; style=\"color: black; background-color: #ffe48d\">&nbspturn&nbsp</span><span class=\"barcode\"; style=\"color: black; background-color: #ffe895\">&nbspgay&nbsp</span><span class=\"barcode\"; style=\"color: black; background-color: #ffe895\">&nbsp🤦🏽‍♂️&nbsp</span><br><span class=\"barcode\"; style=\"color: black; background-color: #ffffcc\">&nbspYou&nbsp</span><span class=\"barcode\"; style=\"color: black; background-color: #ffffcc\">&nbspcan’t&nbsp</span><span class=\"barcode\"; style=\"color: black; background-color: #ffffcc\">&nbspeven&nbsp</span><span class=\"barcode\"; style=\"color: black; background-color: #ffffcc\">&nbspbe&nbsp</span><span class=\"barcode\"; style=\"color: black; background-color: #ffffcc\">&nbspnice&nbsp</span><span class=\"barcode\"; style=\"color: black; background-color: #ffffcc\">&nbspto&nbsp</span><span class=\"barcode\"; style=\"color: black; background-color: #ffffcc\">&nbspa&nbsp</span><span class=\"barcode\"; style=\"color: black; background-color: #ffffcc\">&nbspnigga&nbsp</span><span class=\"barcode\"; style=\"color: black; background-color: #ffffcc\">&nbspwithout&nbsp</span><span class=\"barcode\"; style=\"color: black; background-color: #ffffcc\">&nbsphis&nbsp</span><span class=\"barcode\"; style=\"color: black; background-color: #ffffcc\">&nbspdick&nbsp</span><span class=\"barcode\"; style=\"color: black; background-color: #ffffcc\">&nbspgetting&nbsp</span><span class=\"barcode\"; style=\"color: black; background-color: #ffffcc\">&nbsphard&nbsp</span><span class=\"barcode\"; style=\"color: black; background-color: #ffffcc\">&nbspugh&nbsp</span><span class=\"barcode\"; style=\"color: black; background-color: #ffffcc\">&nbsp..&nbsp</span><span class=\"barcode\"; style=\"color: black; background-color: #ffffcc\">&nbspI&nbsp</span><span class=\"barcode\"; style=\"color: black; background-color: #ffffcc\">&nbspreally&nbsp</span><span class=\"barcode\"; style=\"color: black; background-color: #ffffcc\">&nbsphate&nbsp</span><span class=\"barcode\"; style=\"color: black; background-color: #ffffcc\">&nbspy’all&nbsp</span><br><span class=\"barcode\"; style=\"color: black; background-color: #fffbc3\">&nbspIf&nbsp</span><span class=\"barcode\"; style=\"color: black; background-color: #fff9bd\">&nbspyou&nbsp</span><span class=\"barcode\"; style=\"color: black; background-color: #fff3af\">&nbspwould&nbsp</span><span class=\"barcode\"; style=\"color: black; background-color: #fff1aa\">&nbsplet&nbsp</span><span class=\"barcode\"; style=\"color: black; background-color: #fff3ad\">&nbspme&nbsp</span><span class=\"barcode\"; style=\"color: black; background-color: #fff5b4\">&nbspgive&nbsp</span><span class=\"barcode\"; style=\"color: black; background-color: #fff2ac\">&nbspyou&nbsp</span><span class=\"barcode\"; style=\"color: black; background-color: #fffabf\">&nbsppinky&nbsp</span><span class=\"barcode\"; style=\"color: black; background-color: #fffac0\">&nbsppromise&nbsp</span><span class=\"barcode\"; style=\"color: black; background-color: #fff8bb\">&nbspkisses&nbsp</span><br><span class=\"barcode\"; style=\"color: black; background-color: #ffffcc\">&nbspIf&nbsp</span><span class=\"barcode\"; style=\"color: black; background-color: #ffffcc\">&nbspI&nbsp</span><span class=\"barcode\"; style=\"color: black; background-color: #ffffcc\">&nbspcould&nbsp</span><span class=\"barcode\"; style=\"color: black; background-color: #ffffcc\">&nbspI&nbsp</span><span class=\"barcode\"; style=\"color: black; background-color: #ffffcc\">&nbspwould&nbsp</span><span class=\"barcode\"; style=\"color: black; background-color: #ffffcc\">&nbspunfuck&nbsp</span><span class=\"barcode\"; style=\"color: black; background-color: #ffffcc\">&nbsp98%&nbsp</span><span class=\"barcode\"; style=\"color: black; background-color: #ffffcc\">&nbspof&nbsp</span><span class=\"barcode\"; style=\"color: black; background-color: #ffffcc\">&nbspyu&nbsp</span><span class=\"barcode\"; style=\"color: black; background-color: #ffffcc\">&nbspwhores🎯&nbsp</span><br><span class=\"barcode\"; style=\"color: black; background-color: #ffffcc\">&nbsp@user&nbsp</span><span class=\"barcode\"; style=\"color: black; background-color: #ffffcc\">&nbspI&nbsp</span><span class=\"barcode\"; style=\"color: black; background-color: #ffffcc\">&nbspsee&nbsp</span><span class=\"barcode\"; style=\"color: black; background-color: #ffffcc\">&nbspyou&nbsp</span><span class=\"barcode\"; style=\"color: black; background-color: #ffffcc\">&nbsphave&nbsp</span><span class=\"barcode\"; style=\"color: black; background-color: #ffffcc\">&nbspbeen&nbsp</span><span class=\"barcode\"; style=\"color: black; background-color: #ffffcc\">&nbsptearing&nbsp</span><span class=\"barcode\"; style=\"color: black; background-color: #ffffcc\">&nbspit&nbsp</span><span class=\"barcode\"; style=\"color: black; background-color: #ffffcc\">&nbspup!&nbsp</span><span class=\"barcode\"; style=\"color: black; background-color: #ffffcc\">&nbspVery&nbsp</span><span class=\"barcode\"; style=\"color: black; background-color: #ffffcc\">&nbspproud&nbsp</span><span class=\"barcode\"; style=\"color: black; background-color: #ffffcc\">&nbspof&nbsp</span><span class=\"barcode\"; style=\"color: black; background-color: #ffffcc\">&nbspyou!&nbsp</span><span class=\"barcode\"; style=\"color: black; background-color: #ffffcc\">&nbsp(Your&nbsp</span><span class=\"barcode\"; style=\"color: black; background-color: #ffffcc\">&nbspmiddle&nbsp</span><span class=\"barcode\"; style=\"color: black; background-color: #ffffcc\">&nbspschool&nbsp</span><span class=\"barcode\"; style=\"color: black; background-color: #ffffcc\">&nbspcoach)&nbsp</span><br><span class=\"barcode\"; style=\"color: black; background-color: #fffdc8\">&nbsp4&nbsp</span><span class=\"barcode\"; style=\"color: black; background-color: #ffffcb\">&nbspMonths&nbsp</span><span class=\"barcode\"; style=\"color: black; background-color: #ffffcb\">&nbspinto&nbsp</span><span class=\"barcode\"; style=\"color: black; background-color: #fffec9\">&nbspa&nbsp</span><span class=\"barcode\"; style=\"color: black; background-color: #ffffcb\">&nbspceasefire&nbsp</span><span class=\"barcode\"; style=\"color: black; background-color: #ffffcb\">&nbspwith&nbsp</span><span class=\"barcode\"; style=\"color: black; background-color: #ffffcb\">&nbsp@user&nbsp</span><span class=\"barcode\"; style=\"color: black; background-color: #ffffcc\">&nbspbe&nbsp</span><span class=\"barcode\"; style=\"color: black; background-color: #ffffcc\">&nbsplike…&nbsp</span><span class=\"barcode\"; style=\"color: black; background-color: #ffffcc\">&nbsp#IAMKONG&nbsp</span><span class=\"barcode\"; style=\"color: black; background-color: #ffffcc\">&nbsp#SOON&nbsp</span><span class=\"barcode\"; style=\"color: black; background-color: #ffffcb\">&nbsp👀&nbsp</span><span class=\"barcode\"; style=\"color: black; background-color: #ffffcc\">&nbsp🏀&nbsp</span><span class=\"barcode\"; style=\"color: black; background-color: #ffffcb\">&nbsp🚀&nbsp</span><span class=\"barcode\"; style=\"color: black; background-color: #ffffcc\">&nbsphttp&nbsp</span><br><span class=\"barcode\"; style=\"color: black; background-color: #fffdc8\">&nbsp@user&nbsp</span><span class=\"barcode\"; style=\"color: black; background-color: #fffdc7\">&nbspCan&nbsp</span><span class=\"barcode\"; style=\"color: black; background-color: #fffcc4\">&nbspI&nbsp</span><span class=\"barcode\"; style=\"color: black; background-color: #fffcc6\">&nbsphave&nbsp</span><span class=\"barcode\"; style=\"color: black; background-color: #fffbc3\">&nbspyou&nbsp</span><span class=\"barcode\"; style=\"color: black; background-color: #fffcc4\">&nbsplol&nbsp</span><br><span class=\"barcode\"; style=\"color: black; background-color: #ffffcc\">&nbspnobody&nbsp</span><span class=\"barcode\"; style=\"color: black; background-color: #ffffcc\">&nbspgoes&nbsp</span><span class=\"barcode\"; style=\"color: black; background-color: #ffffcc\">&nbspthrough&nbsp</span><span class=\"barcode\"; style=\"color: black; background-color: #ffffcc\">&nbspmore&nbsp</span><span class=\"barcode\"; style=\"color: black; background-color: #ffffcc\">&nbspshit&nbsp</span><span class=\"barcode\"; style=\"color: black; background-color: #ffffcc\">&nbspin&nbsp</span><span class=\"barcode\"; style=\"color: black; background-color: #ffffcc\">&nbsplife&nbsp</span><span class=\"barcode\"; style=\"color: black; background-color: #ffffcc\">&nbspthan&nbsp</span><span class=\"barcode\"; style=\"color: black; background-color: #ffffcc\">&nbspa&nbsp</span><span class=\"barcode\"; style=\"color: black; background-color: #ffffcc\">&nbspperson&nbsp</span><span class=\"barcode\"; style=\"color: black; background-color: #ffffcc\">&nbspwith&nbsp</span><span class=\"barcode\"; style=\"color: black; background-color: #ffffcc\">&nbspa&nbsp</span><span class=\"barcode\"; style=\"color: black; background-color: #ffffcc\">&nbspgood&nbsp</span><span class=\"barcode\"; style=\"color: black; background-color: #ffffcc\">&nbspheart&nbsp</span><br><span class=\"barcode\"; style=\"color: black; background-color: #fffeca\">&nbspDo&nbsp</span><span class=\"barcode\"; style=\"color: black; background-color: #fffeca\">&nbspwe&nbsp</span><span class=\"barcode\"; style=\"color: black; background-color: #fffeca\">&nbspreally&nbsp</span><span class=\"barcode\"; style=\"color: black; background-color: #fffdc8\">&nbspneed&nbsp</span><span class=\"barcode\"; style=\"color: black; background-color: #fffec9\">&nbspto&nbsp</span><span class=\"barcode\"; style=\"color: black; background-color: #fffeca\">&nbspbe&nbsp</span><span class=\"barcode\"; style=\"color: black; background-color: #fffec9\">&nbspin&nbsp</span><span class=\"barcode\"; style=\"color: black; background-color: #fffdc8\">&nbspa&nbsp</span><span class=\"barcode\"; style=\"color: black; background-color: #fffec9\">&nbsprelationship😊&nbsp</span><br><span class=\"barcode\"; style=\"color: black; background-color: #fff0a7\">&nbspLust&nbsp</span><span class=\"barcode\"; style=\"color: black; background-color: #ffe590\">&nbspfor&nbsp</span><span class=\"barcode\"; style=\"color: black; background-color: #ffec9e\">&nbspporn&nbsp</span><span class=\"barcode\"; style=\"color: black; background-color: #feda78\">&nbsphttp&nbsp</span><br><span class=\"barcode\"; style=\"color: black; background-color: #ffffcc\">&nbsp@user&nbsp</span><span class=\"barcode\"; style=\"color: black; background-color: #fffec9\">&nbspFuck&nbsp</span><span class=\"barcode\"; style=\"color: black; background-color: #fffec9\">&nbspyour&nbsp</span><span class=\"barcode\"; style=\"color: black; background-color: #ffffcc\">&nbspfeet&nbsp</span><span class=\"barcode\"; style=\"color: black; background-color: #ffffcc\">&nbspare&nbsp</span><span class=\"barcode\"; style=\"color: black; background-color: #ffffcb\">&nbspSO&nbsp</span><span class=\"barcode\"; style=\"color: black; background-color: #ffffcb\">&nbspSEXY&nbsp</span><span class=\"barcode\"; style=\"color: black; background-color: #ffffcc\">&nbspomg&nbsp</span><br><span class=\"barcode\"; style=\"color: black; background-color: #fffdc8\">&nbspYour&nbsp</span><span class=\"barcode\"; style=\"color: black; background-color: #fffdc7\">&nbspneed&nbsp</span><span class=\"barcode\"; style=\"color: black; background-color: #fffcc4\">&nbspto&nbsp</span><span class=\"barcode\"; style=\"color: black; background-color: #fffbc2\">&nbspbe&nbsp</span><span class=\"barcode\"; style=\"color: black; background-color: #fff9be\">&nbspused&nbsp</span><span class=\"barcode\"; style=\"color: black; background-color: #fffbc3\">&nbspas&nbsp</span><span class=\"barcode\"; style=\"color: black; background-color: #fffcc4\">&nbspa&nbsp</span><span class=\"barcode\"; style=\"color: black; background-color: #fffcc4\">&nbspFuckdoll&nbsp</span><span class=\"barcode\"; style=\"color: black; background-color: #fffac0\">&nbspis&nbsp</span><span class=\"barcode\"; style=\"color: black; background-color: #fffabf\">&nbspabsolute&nbsp</span><span class=\"barcode\"; style=\"color: black; background-color: #fffabf\">&nbsp@user&nbsp</span><span class=\"barcode\"; style=\"color: black; background-color: #fffbc2\">&nbsphttp&nbsp</span><br><span class=\"barcode\"; style=\"color: black; background-color: #ffffcb\">&nbspI&nbsp</span><span class=\"barcode\"; style=\"color: black; background-color: #ffffcb\">&nbspjust&nbsp</span><span class=\"barcode\"; style=\"color: black; background-color: #fffeca\">&nbspcan’t&nbsp</span><span class=\"barcode\"; style=\"color: black; background-color: #ffffcc\">&nbsphave&nbsp</span><span class=\"barcode\"; style=\"color: black; background-color: #fffeca\">&nbspsex&nbsp</span><span class=\"barcode\"; style=\"color: black; background-color: #ffffcb\">&nbspwith&nbsp</span><span class=\"barcode\"; style=\"color: black; background-color: #ffffcb\">&nbspjust&nbsp</span><span class=\"barcode\"; style=\"color: black; background-color: #ffffcb\">&nbspanyone&nbsp</span><span class=\"barcode\"; style=\"color: black; background-color: #fffeca\">&nbsplol&nbsp</span><span class=\"barcode\"; style=\"color: black; background-color: #ffffcb\">&nbspppl&nbsp</span><span class=\"barcode\"; style=\"color: black; background-color: #fffeca\">&nbspare&nbsp</span><span class=\"barcode\"; style=\"color: black; background-color: #fffeca\">&nbspwild&nbsp</span><br><span class=\"barcode\"; style=\"color: black; background-color: #fff1a9\">&nbspgood&nbsp</span><span class=\"barcode\"; style=\"color: black; background-color: #fff0a8\">&nbspsucking&nbsp</span><span class=\"barcode\"; style=\"color: black; background-color: #ffe997\">&nbsphuge&nbsp</span><span class=\"barcode\"; style=\"color: black; background-color: #ffeda1\">&nbspcock&nbsp</span><span class=\"barcode\"; style=\"color: black; background-color: #ffeb9b\">&nbsphttp&nbsp</span><br><span class=\"barcode\"; style=\"color: black; background-color: #ffffcc\">&nbsp@user&nbsp</span><span class=\"barcode\"; style=\"color: black; background-color: #ffffcb\">&nbspThis&nbsp</span><span class=\"barcode\"; style=\"color: black; background-color: #ffffcc\">&nbspwas&nbsp</span><span class=\"barcode\"; style=\"color: black; background-color: #ffffcc\">&nbspsuch&nbsp</span><span class=\"barcode\"; style=\"color: black; background-color: #ffffcc\">&nbspa&nbsp</span><span class=\"barcode\"; style=\"color: black; background-color: #ffffcc\">&nbspnice&nbsp</span><span class=\"barcode\"; style=\"color: black; background-color: #ffffcc\">&nbspcompliment&nbsp</span><span class=\"barcode\"; style=\"color: black; background-color: #ffffcc\">&nbspI&nbsp</span><span class=\"barcode\"; style=\"color: black; background-color: #ffffcc\">&nbspreally&nbsp</span><span class=\"barcode\"; style=\"color: black; background-color: #ffffcc\">&nbspappreciate&nbsp</span><span class=\"barcode\"; style=\"color: black; background-color: #ffffcc\">&nbspthis!&nbsp</span><span class=\"barcode\"; style=\"color: black; background-color: #ffffcc\">&nbspThank&nbsp</span><span class=\"barcode\"; style=\"color: black; background-color: #ffffcc\">&nbspyou!!&nbsp</span><br><span class=\"barcode\"; style=\"color: black; background-color: #fff0a8\">&nbspneed&nbsp</span><span class=\"barcode\"; style=\"color: black; background-color: #fff8bb\">&nbspa&nbsp</span><span class=\"barcode\"; style=\"color: black; background-color: #fff9bd\">&nbspkiss&nbsp</span><span class=\"barcode\"; style=\"color: black; background-color: #fff6b5\">&nbsp😔&nbsp</span><br><span class=\"barcode\"; style=\"color: black; background-color: #fffcc6\">&nbsp@user&nbsp</span><span class=\"barcode\"; style=\"color: black; background-color: #fffbc3\">&nbspGet&nbsp</span><span class=\"barcode\"; style=\"color: black; background-color: #fffabf\">&nbspsucking&nbsp</span><span class=\"barcode\"; style=\"color: black; background-color: #fffac0\">&nbspcunt&nbsp</span><span class=\"barcode\"; style=\"color: black; background-color: #fff9be\">&nbspmy&nbsp</span><span class=\"barcode\"; style=\"color: black; background-color: #fffbc2\">&nbspmistress&nbsp</span><span class=\"barcode\"; style=\"color: black; background-color: #fffcc4\">&nbspwants&nbsp</span><span class=\"barcode\"; style=\"color: black; background-color: #fffec9\">&nbspher&nbsp</span><span class=\"barcode\"; style=\"color: black; background-color: #fffdc8\">&nbspmoney&nbsp</span><br><span class=\"barcode\"; style=\"color: black; background-color: #fff0a8\">&nbsp@user&nbsp</span><span class=\"barcode\"; style=\"color: black; background-color: #ffefa5\">&nbsp@user&nbsp</span><span class=\"barcode\"; style=\"color: black; background-color: #ffe793\">&nbspYour&nbsp</span><span class=\"barcode\"; style=\"color: black; background-color: #ffe793\">&nbspbeauty&nbsp</span><span class=\"barcode\"; style=\"color: black; background-color: #ffe793\">&nbsplikes&nbsp</span><span class=\"barcode\"; style=\"color: black; background-color: #feda79\">&nbspthe&nbsp</span><span class=\"barcode\"; style=\"color: black; background-color: #feb24d\">&nbspancient&nbsp</span><span class=\"barcode\"; style=\"color: black; background-color: #fd9740\">&nbspEgyptian&nbsp</span><span class=\"barcode\"; style=\"color: black; background-color: #fed672\">&nbsppharaohs&nbsp</span><br><span class=\"barcode\"; style=\"color: black; background-color: #ffffcc\">&nbspi&nbsp</span><span class=\"barcode\"; style=\"color: black; background-color: #ffffcc\">&nbspfell&nbsp</span><span class=\"barcode\"; style=\"color: black; background-color: #ffffcc\">&nbspin&nbsp</span><span class=\"barcode\"; style=\"color: black; background-color: #ffffcc\">&nbsplove&nbsp</span><span class=\"barcode\"; style=\"color: black; background-color: #ffffcc\">&nbspway&nbsp</span><span class=\"barcode\"; style=\"color: black; background-color: #ffffcc\">&nbsptoo&nbsp</span><span class=\"barcode\"; style=\"color: black; background-color: #ffffcc\">&nbspsoon&nbsp</span><span class=\"barcode\"; style=\"color: black; background-color: #ffffcc\">&nbspthis&nbsp</span><span class=\"barcode\"; style=\"color: black; background-color: #ffffcc\">&nbspyear&nbsp</span><span class=\"barcode\"; style=\"color: black; background-color: #ffffcc\">&nbspand&nbsp</span><span class=\"barcode\"; style=\"color: black; background-color: #ffffcc\">&nbspi&nbsp</span><span class=\"barcode\"; style=\"color: black; background-color: #fffeca\">&nbspdon’t&nbsp</span><span class=\"barcode\"; style=\"color: black; background-color: #fffeca\">&nbspthink&nbsp</span><span class=\"barcode\"; style=\"color: black; background-color: #ffffcb\">&nbspi&nbsp</span><span class=\"barcode\"; style=\"color: black; background-color: #ffffcc\">&nbspwant&nbsp</span><span class=\"barcode\"; style=\"color: black; background-color: #ffffcc\">&nbspto&nbsp</span><span class=\"barcode\"; style=\"color: black; background-color: #ffffcb\">&nbspfall&nbsp</span><span class=\"barcode\"; style=\"color: black; background-color: #fffeca\">&nbspin&nbsp</span><span class=\"barcode\"; style=\"color: black; background-color: #fffeca\">&nbsplove&nbsp</span><span class=\"barcode\"; style=\"color: black; background-color: #ffffcc\">&nbspanymore&nbsp</span><br><span class=\"barcode\"; style=\"color: black; background-color: #ffe896\">&nbspmore&nbsp</span><span class=\"barcode\"; style=\"color: black; background-color: #ffeea2\">&nbspinteraction&nbsp</span><span class=\"barcode\"; style=\"color: black; background-color: #fff1ab\">&nbspwith&nbsp</span><span class=\"barcode\"; style=\"color: black; background-color: #ffeda1\">&nbspy’all,&nbsp</span><span class=\"barcode\"; style=\"color: black; background-color: #ffe691\">&nbspily.&nbsp</span><span class=\"barcode\"; style=\"color: black; background-color: #ffec9f\">&nbsp🫶🏻&nbsp</span><span class=\"barcode\"; style=\"color: black; background-color: #fee188\">&nbsphttp&nbsp</span><br><span class=\"barcode\"; style=\"color: black; background-color: #ffffcc\">&nbspHey&nbsp</span><span class=\"barcode\"; style=\"color: black; background-color: #ffffcc\">&nbspbois&nbsp</span><span class=\"barcode\"; style=\"color: black; background-color: #ffffcc\">&nbsphave&nbsp</span><span class=\"barcode\"; style=\"color: black; background-color: #ffffcc\">&nbspany&nbsp</span><span class=\"barcode\"; style=\"color: black; background-color: #ffffcc\">&nbspof&nbsp</span><span class=\"barcode\"; style=\"color: black; background-color: #ffffcc\">&nbspu&nbsp</span><span class=\"barcode\"; style=\"color: black; background-color: #ffffcc\">&nbspdipped&nbsp</span><span class=\"barcode\"; style=\"color: black; background-color: #ffffcc\">&nbspyour&nbsp</span><span class=\"barcode\"; style=\"color: black; background-color: #ffffcc\">&nbspballs&nbsp</span><span class=\"barcode\"; style=\"color: black; background-color: #ffffcc\">&nbspin&nbsp</span><span class=\"barcode\"; style=\"color: black; background-color: #ffffcc\">&nbsporange&nbsp</span><span class=\"barcode\"; style=\"color: black; background-color: #ffffcc\">&nbspjuice&nbsp</span><span class=\"barcode\"; style=\"color: black; background-color: #ffffcc\">&nbspyet??&nbsp</span><span class=\"barcode\"; style=\"color: black; background-color: #ffffcc\">&nbspCan&nbsp</span><span class=\"barcode\"; style=\"color: black; background-color: #ffffcc\">&nbspyou&nbsp</span><span class=\"barcode\"; style=\"color: black; background-color: #ffffcc\">&nbsptaste&nbsp</span><span class=\"barcode\"; style=\"color: black; background-color: #ffffcc\">&nbspthe&nbsp</span><span class=\"barcode\"; style=\"color: black; background-color: #ffffcc\">&nbsporange&nbsp</span><span class=\"barcode\"; style=\"color: black; background-color: #ffffcc\">&nbspjuice?&nbsp</span><span class=\"barcode\"; style=\"color: black; background-color: #ffffcc\">&nbspI&nbsp</span><span class=\"barcode\"; style=\"color: black; background-color: #ffffcc\">&nbspneed&nbsp</span><span class=\"barcode\"; style=\"color: black; background-color: #ffffcc\">&nbspanswers&nbsp</span><span class=\"barcode\"; style=\"color: black; background-color: #ffffcc\">&nbspand&nbsp</span><span class=\"barcode\"; style=\"color: black; background-color: #ffffcc\">&nbspI'm&nbsp</span><span class=\"barcode\"; style=\"color: black; background-color: #ffffcc\">&nbspout&nbsp</span><br><span class=\"barcode\"; style=\"color: black; background-color: #ffffcc\">&nbspof&nbsp</span><span class=\"barcode\"; style=\"color: black; background-color: #ffffcc\">&nbsporange&nbsp</span><span class=\"barcode\"; style=\"color: black; background-color: #ffffcc\">&nbspjuice&nbsp</span><br><span class=\"barcode\"; style=\"color: black; background-color: #ffffcc\">&nbspIf&nbsp</span><span class=\"barcode\"; style=\"color: black; background-color: #ffffcc\">&nbspsomeone&nbsp</span><span class=\"barcode\"; style=\"color: black; background-color: #ffffcb\">&nbspis&nbsp</span><span class=\"barcode\"; style=\"color: black; background-color: #ffffcb\">&nbspunhappy&nbsp</span><span class=\"barcode\"; style=\"color: black; background-color: #fffeca\">&nbspin&nbsp</span><span class=\"barcode\"; style=\"color: black; background-color: #ffffcb\">&nbspa&nbsp</span><span class=\"barcode\"; style=\"color: black; background-color: #fffeca\">&nbsprelationship&nbsp</span><span class=\"barcode\"; style=\"color: black; background-color: #fffeca\">&nbspbut&nbsp</span><span class=\"barcode\"; style=\"color: black; background-color: #fffeca\">&nbspwon’t&nbsp</span><span class=\"barcode\"; style=\"color: black; background-color: #fffec9\">&nbspleave&nbsp</span><span class=\"barcode\"; style=\"color: black; background-color: #fffeca\">&nbspwhat&nbsp</span><span class=\"barcode\"; style=\"color: black; background-color: #ffffcb\">&nbspdoes&nbsp</span><span class=\"barcode\"; style=\"color: black; background-color: #fffdc8\">&nbspthat&nbsp</span><span class=\"barcode\"; style=\"color: black; background-color: #fffec9\">&nbspmean&nbsp</span><br><span class=\"barcode\"; style=\"color: black; background-color: #fff4b2\">&nbspmy&nbsp</span><span class=\"barcode\"; style=\"color: black; background-color: #fff6b5\">&nbspchoppa&nbsp</span><span class=\"barcode\"; style=\"color: black; background-color: #fff2ac\">&nbsphold&nbsp</span><span class=\"barcode\"; style=\"color: black; background-color: #ffec9e\">&nbspdouble&nbsp</span><span class=\"barcode\"; style=\"color: black; background-color: #fff3af\">&nbspd’s&nbsp</span><br><span class=\"barcode\"; style=\"color: black; background-color: #fffdc7\">&nbsp@user&nbsp</span><span class=\"barcode\"; style=\"color: black; background-color: #fffdc8\">&nbspWhat’s&nbsp</span><span class=\"barcode\"; style=\"color: black; background-color: #ffffcb\">&nbspwrong&nbsp</span><span class=\"barcode\"; style=\"color: black; background-color: #ffffcc\">&nbspfriend&nbsp</span><br><span class=\"barcode\"; style=\"color: black; background-color: #fffabf\">&nbspJOHNNY&nbsp</span><span class=\"barcode\"; style=\"color: black; background-color: #fffabf\">&nbspLOOKING&nbsp</span><span class=\"barcode\"; style=\"color: black; background-color: #fff7b8\">&nbspSO&nbsp</span><span class=\"barcode\"; style=\"color: black; background-color: #fff5b3\">&nbspGOOD&nbsp</span><span class=\"barcode\"; style=\"color: black; background-color: #fff2ac\">&nbspOMG&nbsp</span><span class=\"barcode\"; style=\"color: black; background-color: #fff7b8\">&nbspI&nbsp</span><span class=\"barcode\"; style=\"color: black; background-color: #fff4b1\">&nbspCKSKSKSK&nbsp</span><br><span class=\"barcode\"; style=\"color: black; background-color: #ffffcb\">&nbsp@user&nbsp</span><span class=\"barcode\"; style=\"color: black; background-color: #ffffcb\">&nbspI&nbsp</span><span class=\"barcode\"; style=\"color: black; background-color: #ffffcb\">&nbspthought&nbsp</span><span class=\"barcode\"; style=\"color: black; background-color: #ffffcc\">&nbspit&nbsp</span><span class=\"barcode\"; style=\"color: black; background-color: #ffffcc\">&nbspwas&nbsp</span><span class=\"barcode\"; style=\"color: black; background-color: #ffffcc\">&nbspan&nbsp</span><span class=\"barcode\"; style=\"color: black; background-color: #ffffcc\">&nbspAC&nbsp</span><span class=\"barcode\"; style=\"color: black; background-color: #ffffcc\">&nbspDC&nbsp</span><span class=\"barcode\"; style=\"color: black; background-color: #ffffcc\">&nbspday&nbsp</span><span class=\"barcode\"; style=\"color: black; background-color: #ffffcc\">&nbspfor&nbsp</span><span class=\"barcode\"; style=\"color: black; background-color: #ffffcc\">&nbspyou?😜😜😜&nbsp</span><br><span class=\"barcode\"; style=\"color: black; background-color: #fffeca\">&nbsp@user&nbsp</span><span class=\"barcode\"; style=\"color: black; background-color: #fffdc7\">&nbspyou&nbsp</span><span class=\"barcode\"; style=\"color: black; background-color: #ffffcb\">&nbsplove&nbsp</span><span class=\"barcode\"; style=\"color: black; background-color: #fffdc7\">&nbspto&nbsp</span><span class=\"barcode\"; style=\"color: black; background-color: #fffec9\">&nbspsee&nbsp</span><span class=\"barcode\"; style=\"color: black; background-color: #fffdc8\">&nbspit&nbsp</span><span class=\"barcode\"; style=\"color: black; background-color: #fffeca\">&nbsp❤&nbsp</span><br><span class=\"barcode\"; style=\"color: black; background-color: #ffffcc\">&nbspsorry&nbsp</span><span class=\"barcode\"; style=\"color: black; background-color: #ffffcc\">&nbspbut&nbsp</span><span class=\"barcode\"; style=\"color: black; background-color: #ffffcc\">&nbspI’m&nbsp</span><span class=\"barcode\"; style=\"color: black; background-color: #ffffcc\">&nbspin&nbsp</span><span class=\"barcode\"; style=\"color: black; background-color: #ffffcc\">&nbsplove&nbsp</span><span class=\"barcode\"; style=\"color: black; background-color: #ffffcc\">&nbsp💞&nbsp</span><span class=\"barcode\"; style=\"color: black; background-color: #ffffcc\">&nbsphttp&nbsp</span><br><span class=\"barcode\"; style=\"color: black; background-color: #fffbc2\">&nbsp@user&nbsp</span><span class=\"barcode\"; style=\"color: black; background-color: #fff9be\">&nbsp5yr&nbsp</span><span class=\"barcode\"; style=\"color: black; background-color: #fffabf\">&nbsprelationship&nbsp</span><span class=\"barcode\"; style=\"color: black; background-color: #fff7b9\">&nbspme&nbsp</span><span class=\"barcode\"; style=\"color: black; background-color: #fff6b5\">&nbspn&nbsp</span><span class=\"barcode\"; style=\"color: black; background-color: #fff6b6\">&nbspu&nbsp</span><br><span class=\"barcode\"; style=\"color: black; background-color: #ffffcc\">&nbsp@user&nbsp</span><span class=\"barcode\"; style=\"color: black; background-color: #fffeca\">&nbspStrength&nbsp</span><span class=\"barcode\"; style=\"color: black; background-color: #ffffcb\">&nbspand&nbsp</span><span class=\"barcode\"; style=\"color: black; background-color: #ffffcc\">&nbsplove&nbsp</span><span class=\"barcode\"; style=\"color: black; background-color: #ffffcb\">&nbspon&nbsp</span><span class=\"barcode\"; style=\"color: black; background-color: #ffffcb\">&nbspyour&nbsp</span><span class=\"barcode\"; style=\"color: black; background-color: #ffffcb\">&nbsproad&nbsp</span><span class=\"barcode\"; style=\"color: black; background-color: #ffffcb\">&nbspto&nbsp</span><span class=\"barcode\"; style=\"color: black; background-color: #ffffcc\">&nbsphealth.&nbsp</span><span class=\"barcode\"; style=\"color: black; background-color: #ffffcc\">&nbspThanks&nbsp</span><span class=\"barcode\"; style=\"color: black; background-color: #ffffcc\">&nbspfor&nbsp</span><span class=\"barcode\"; style=\"color: black; background-color: #ffffcc\">&nbspthe&nbsp</span><span class=\"barcode\"; style=\"color: black; background-color: #ffffcb\">&nbspinspiration&nbsp</span><span class=\"barcode\"; style=\"color: black; background-color: #ffffcb\">&nbspand&nbsp</span><span class=\"barcode\"; style=\"color: black; background-color: #ffffcc\">&nbspthe&nbsp</span><span class=\"barcode\"; style=\"color: black; background-color: #ffffcc\">&nbspinsight.&nbsp</span><br><span class=\"barcode\"; style=\"color: black; background-color: #ffffcc\">&nbspWhen&nbsp</span><span class=\"barcode\"; style=\"color: black; background-color: #ffffcc\">&nbspyou've&nbsp</span><span class=\"barcode\"; style=\"color: black; background-color: #ffffcc\">&nbspfound&nbsp</span><span class=\"barcode\"; style=\"color: black; background-color: #ffffcc\">&nbspthe&nbsp</span><span class=\"barcode\"; style=\"color: black; background-color: #ffffcc\">&nbspdivine&nbsp</span><span class=\"barcode\"; style=\"color: black; background-color: #ffffcc\">&nbsplove&nbsp</span><span class=\"barcode\"; style=\"color: black; background-color: #ffffcc\">&nbspof&nbsp</span><span class=\"barcode\"; style=\"color: black; background-color: #ffffcc\">&nbspyour&nbsp</span><span class=\"barcode\"; style=\"color: black; background-color: #ffffcc\">&nbsplife&nbsp</span><span class=\"barcode\"; style=\"color: black; background-color: #ffffcc\">&nbspbut&nbsp</span><span class=\"barcode\"; style=\"color: black; background-color: #ffffcc\">&nbsphave&nbsp</span><span class=\"barcode\"; style=\"color: black; background-color: #ffffcc\">&nbspto&nbsp</span><span class=\"barcode\"; style=\"color: black; background-color: #ffffcc\">&nbsppractice&nbsp</span><span class=\"barcode\"; style=\"color: black; background-color: #ffffcc\">&nbspinfinite&nbsp</span><span class=\"barcode\"; style=\"color: black; background-color: #ffffcc\">&nbsppatience.&nbsp</span><span class=\"barcode\"; style=\"color: black; background-color: #ffffcc\">&nbsp...&nbsp</span><span class=\"barcode\"; style=\"color: black; background-color: #ffffcc\">&nbsp😂😩😎👍🙏🤗&nbsp</span><br><span class=\"barcode\"; style=\"color: black; background-color: #fee188\">&nbsp@user&nbsp</span><span class=\"barcode\"; style=\"color: black; background-color: #fed773\">&nbspHappy&nbsp</span><span class=\"barcode\"; style=\"color: black; background-color: #fed36f\">&nbspbirthday,&nbsp</span><span class=\"barcode\"; style=\"color: black; background-color: #fecf6b\">&nbspLucy!&nbsp</span><br><span class=\"barcode\"; style=\"color: black; background-color: #fffac0\">&nbspOkay&nbsp</span><span class=\"barcode\"; style=\"color: black; background-color: #fff9be\">&nbspeveryone&nbsp</span><span class=\"barcode\"; style=\"color: black; background-color: #fff5b4\">&nbspare&nbsp</span><span class=\"barcode\"; style=\"color: black; background-color: #fff3af\">&nbspflirting&nbsp</span><span class=\"barcode\"; style=\"color: black; background-color: #fff2ac\">&nbspwith&nbsp</span><span class=\"barcode\"; style=\"color: black; background-color: #ffec9f\">&nbspme&nbsp</span><span class=\"barcode\"; style=\"color: black; background-color: #ffe896\">&nbspnow,,&nbsp</span><br><span class=\"barcode\"; style=\"color: black; background-color: #ffffcc\">&nbsp@user&nbsp</span><span class=\"barcode\"; style=\"color: black; background-color: #fffcc4\">&nbsp@user&nbsp</span><span class=\"barcode\"; style=\"color: black; background-color: #fffbc3\">&nbsphe&nbsp</span><span class=\"barcode\"; style=\"color: black; background-color: #fffeca\">&nbsplearned&nbsp</span><span class=\"barcode\"; style=\"color: black; background-color: #fffac0\">&nbspthat&nbsp</span><span class=\"barcode\"; style=\"color: black; background-color: #fff6b6\">&nbspsex&nbsp</span><span class=\"barcode\"; style=\"color: black; background-color: #fffbc2\">&nbspswing&nbsp</span><span class=\"barcode\"; style=\"color: black; background-color: #fff8bb\">&nbsptechnique&nbsp</span><span class=\"barcode\"; style=\"color: black; background-color: #fffdc7\">&nbspfrom&nbsp</span><span class=\"barcode\"; style=\"color: black; background-color: #fffabf\">&nbsphis&nbsp</span><span class=\"barcode\"; style=\"color: black; background-color: #fff5b4\">&nbspmama&nbsp</span><br><span class=\"barcode\"; style=\"color: black; background-color: #ffffcc\">&nbsp@ChelseaFC&nbsp</span><span class=\"barcode\"; style=\"color: black; background-color: #ffffcc\">&nbsp@cesc4official&nbsp</span><span class=\"barcode\"; style=\"color: black; background-color: #ffffcc\">&nbspMy&nbsp</span><span class=\"barcode\"; style=\"color: black; background-color: #ffffcb\">&nbspheart&nbsp</span><span class=\"barcode\"; style=\"color: black; background-color: #ffffcc\">&nbspis&nbsp</span><span class=\"barcode\"; style=\"color: black; background-color: #ffffcc\">&nbspbroken,&nbsp</span><span class=\"barcode\"; style=\"color: black; background-color: #ffffcc\">&nbspI'm&nbsp</span><span class=\"barcode\"; style=\"color: black; background-color: #ffffcc\">&nbspgonna&nbsp</span><span class=\"barcode\"; style=\"color: black; background-color: #ffffcc\">&nbspmiss&nbsp</span><span class=\"barcode\"; style=\"color: black; background-color: #ffffcc\">&nbspyou&nbsp</span><span class=\"barcode\"; style=\"color: black; background-color: #fffeca\">&nbspcesc&nbsp</span><span class=\"barcode\"; style=\"color: black; background-color: #ffffcb\">&nbsp😭&nbsp</span><br><span class=\"barcode\"; style=\"color: black; background-color: #fffdc8\">&nbspI’ve&nbsp</span><span class=\"barcode\"; style=\"color: black; background-color: #fffeca\">&nbspnever&nbsp</span><span class=\"barcode\"; style=\"color: black; background-color: #fffbc3\">&nbspbeen&nbsp</span><span class=\"barcode\"; style=\"color: black; background-color: #fffbc2\">&nbspso&nbsp</span><span class=\"barcode\"; style=\"color: black; background-color: #fffcc4\">&nbspangry&nbsp</span><span class=\"barcode\"; style=\"color: black; background-color: #fffdc7\">&nbspwith&nbsp</span><span class=\"barcode\"; style=\"color: black; background-color: #fffeca\">&nbspmyself&nbsp</span><span class=\"barcode\"; style=\"color: black; background-color: #fffdc7\">&nbspthis&nbsp</span><span class=\"barcode\"; style=\"color: black; background-color: #fffdc7\">&nbspbad&nbsp</span><br><span class=\"barcode\"; style=\"color: black; background-color: #fffac0\">&nbspYou&nbsp</span><span class=\"barcode\"; style=\"color: black; background-color: #fffbc3\">&nbspand&nbsp</span><span class=\"barcode\"; style=\"color: black; background-color: #fff8bb\">&nbspme,&nbsp</span><span class=\"barcode\"; style=\"color: black; background-color: #fffbc2\">&nbspalways&nbsp</span><span class=\"barcode\"; style=\"color: black; background-color: #fffbc2\">&nbspforever&nbsp</span><span class=\"barcode\"; style=\"color: black; background-color: #fffac0\">&nbspWe&nbsp</span><span class=\"barcode\"; style=\"color: black; background-color: #fffdc8\">&nbspcould&nbsp</span><span class=\"barcode\"; style=\"color: black; background-color: #fffdc8\">&nbspstay&nbsp</span><span class=\"barcode\"; style=\"color: black; background-color: #fffcc6\">&nbspalone&nbsp</span><span class=\"barcode\"; style=\"color: black; background-color: #fffbc3\">&nbsptogether&nbsp</span><br><span class=\"barcode\"; style=\"color: black; background-color: #ffffcc\">&nbspwhat’s&nbsp</span><span class=\"barcode\"; style=\"color: black; background-color: #ffffcc\">&nbspthe&nbsp</span><span class=\"barcode\"; style=\"color: black; background-color: #ffffcc\">&nbsppoint&nbsp</span><span class=\"barcode\"; style=\"color: black; background-color: #ffffcc\">&nbspof&nbsp</span><span class=\"barcode\"; style=\"color: black; background-color: #ffffcc\">&nbspeven&nbsp</span><span class=\"barcode\"; style=\"color: black; background-color: #ffffcc\">&nbspbeing&nbsp</span><span class=\"barcode\"; style=\"color: black; background-color: #ffffcc\">&nbspfriends&nbsp</span><span class=\"barcode\"; style=\"color: black; background-color: #ffffcc\">&nbspif&nbsp</span><span class=\"barcode\"; style=\"color: black; background-color: #ffffcc\">&nbspur&nbsp</span><span class=\"barcode\"; style=\"color: black; background-color: #ffffcc\">&nbspgonna&nbsp</span><span class=\"barcode\"; style=\"color: black; background-color: #ffffcc\">&nbspbe&nbsp</span><span class=\"barcode\"; style=\"color: black; background-color: #ffffcc\">&nbsplike&nbsp</span><span class=\"barcode\"; style=\"color: black; background-color: #ffffcc\">&nbspthat&nbsp</span><span class=\"barcode\"; style=\"color: black; background-color: #ffffcc\">&nbsplol&nbsp</span><br><span class=\"barcode\"; style=\"color: black; background-color: #fffdc8\">&nbspgoing&nbsp</span><span class=\"barcode\"; style=\"color: black; background-color: #fffdc8\">&nbspfor&nbsp</span><span class=\"barcode\"; style=\"color: black; background-color: #fffec9\">&nbspclosure&nbsp</span><span class=\"barcode\"; style=\"color: black; background-color: #fffcc6\">&nbspalways&nbsp</span><span class=\"barcode\"; style=\"color: black; background-color: #fffcc4\">&nbspend&nbsp</span><span class=\"barcode\"; style=\"color: black; background-color: #fffcc6\">&nbspup&nbsp</span><span class=\"barcode\"; style=\"color: black; background-color: #fffec9\">&nbspwith&nbsp</span><span class=\"barcode\"; style=\"color: black; background-color: #fffeca\">&nbspyou&nbsp</span><span class=\"barcode\"; style=\"color: black; background-color: #fffec9\">&nbspbent&nbsp</span><span class=\"barcode\"; style=\"color: black; background-color: #fffdc8\">&nbspover&nbsp</span><span class=\"barcode\"; style=\"color: black; background-color: #ffffcc\">&nbsp🤦🏾‍♀️&nbsp</span><br><span class=\"barcode\"; style=\"color: black; background-color: #fffbc3\">&nbspthey&nbsp</span><span class=\"barcode\"; style=\"color: black; background-color: #fffcc4\">&nbspgone&nbsp</span><span class=\"barcode\"; style=\"color: black; background-color: #fff8bc\">&nbspfck&nbsp</span><span class=\"barcode\"; style=\"color: black; background-color: #fff7b8\">&nbspu&nbsp</span><span class=\"barcode\"; style=\"color: black; background-color: #fffac0\">&nbspover&nbsp</span><span class=\"barcode\"; style=\"color: black; background-color: #fff3ad\">&nbsptil&nbsp</span><span class=\"barcode\"; style=\"color: black; background-color: #fff4b2\">&nbspall&nbsp</span><span class=\"barcode\"; style=\"color: black; background-color: #fff6b5\">&nbspyo&nbsp</span><span class=\"barcode\"; style=\"color: black; background-color: #fff0a8\">&nbsplove&nbsp</span><span class=\"barcode\"; style=\"color: black; background-color: #fff2ac\">&nbspgone,&nbsp</span><span class=\"barcode\"; style=\"color: black; background-color: #fff9bd\">&nbspthen&nbsp</span><span class=\"barcode\"; style=\"color: black; background-color: #ffeb9d\">&nbsplook&nbsp</span><span class=\"barcode\"; style=\"color: black; background-color: #fff3ad\">&nbspat&nbsp</span><span class=\"barcode\"; style=\"color: black; background-color: #fff6b6\">&nbspu&nbsp</span><span class=\"barcode\"; style=\"color: black; background-color: #ffffcb\">&nbsplike&nbsp</span><span class=\"barcode\"; style=\"color: black; background-color: #fffabf\">&nbspu&nbsp</span><span class=\"barcode\"; style=\"color: black; background-color: #fff6b6\">&nbspchanged&nbsp</span><span class=\"barcode\"; style=\"color: black; background-color: #fff7b8\">&nbspon&nbsp</span><span class=\"barcode\"; style=\"color: black; background-color: #fff9bd\">&nbspem&nbsp</span><br><span class=\"barcode\"; style=\"color: black; background-color: #ffffcb\">&nbspYou&nbsp</span><span class=\"barcode\"; style=\"color: black; background-color: #fffeca\">&nbspwill&nbsp</span><span class=\"barcode\"; style=\"color: black; background-color: #fffeca\">&nbspbe&nbsp</span><span class=\"barcode\"; style=\"color: black; background-color: #fffec9\">&nbspalright&nbsp</span><span class=\"barcode\"; style=\"color: black; background-color: #fffdc8\">&nbsp,&nbsp</span><span class=\"barcode\"; style=\"color: black; background-color: #fffec9\">&nbspno&nbsp</span><span class=\"barcode\"; style=\"color: black; background-color: #fffcc6\">&nbspone&nbsp</span><span class=\"barcode\"; style=\"color: black; background-color: #fffdc8\">&nbspcan&nbsp</span><span class=\"barcode\"; style=\"color: black; background-color: #fffec9\">&nbsphurt&nbsp</span><span class=\"barcode\"; style=\"color: black; background-color: #fffeca\">&nbspyou&nbsp</span><span class=\"barcode\"; style=\"color: black; background-color: #fffec9\">&nbspnow.&nbsp</span><br><span class=\"barcode\"; style=\"color: black; background-color: #fff3ad\">&nbspDm&nbsp</span><span class=\"barcode\"; style=\"color: black; background-color: #fff1a9\">&nbspto&nbsp</span><span class=\"barcode\"; style=\"color: black; background-color: #fffac0\">&nbspbuy&nbsp</span><span class=\"barcode\"; style=\"color: black; background-color: #fff3ad\">&nbspfull&nbsp</span><span class=\"barcode\"; style=\"color: black; background-color: #fff1ab\">&nbspvids&nbsp</span><span class=\"barcode\"; style=\"color: black; background-color: #fff0a7\">&nbspof&nbsp</span><span class=\"barcode\"; style=\"color: black; background-color: #ffeda1\">&nbsplocal&nbsp</span><span class=\"barcode\"; style=\"color: black; background-color: #fff0a8\">&nbspcoloured&nbsp</span><span class=\"barcode\"; style=\"color: black; background-color: #fff1aa\">&nbspmense&nbsp</span><span class=\"barcode\"; style=\"color: black; background-color: #fff0a8\">&nbspfucking😍&nbsp</span><span class=\"barcode\"; style=\"color: black; background-color: #ffefa5\">&nbsphttp&nbsp</span><br><span class=\"barcode\"; style=\"color: black; background-color: #fff6b6\">&nbspPussy&nbsp</span><span class=\"barcode\"; style=\"color: black; background-color: #fff3af\">&nbspnever&nbsp</span><span class=\"barcode\"; style=\"color: black; background-color: #fff3af\">&nbspfelt&nbsp</span><span class=\"barcode\"; style=\"color: black; background-color: #fff1ab\">&nbspso&nbsp</span><span class=\"barcode\"; style=\"color: black; background-color: #ffeb9b\">&nbspfucking&nbsp</span><span class=\"barcode\"; style=\"color: black; background-color: #ffe793\">&nbspgood&nbsp</span><span class=\"barcode\"; style=\"color: black; background-color: #ffe998\">&nbsphttp&nbsp</span><br><span class=\"barcode\"; style=\"color: black; background-color: #fffbc2\">&nbsphes&nbsp</span><span class=\"barcode\"; style=\"color: black; background-color: #fffbc2\">&nbspeating&nbsp</span><span class=\"barcode\"; style=\"color: black; background-color: #fffdc8\">&nbspcake&nbsp</span><span class=\"barcode\"; style=\"color: black; background-color: #fffeca\">&nbspand&nbsp</span><span class=\"barcode\"; style=\"color: black; background-color: #fffec9\">&nbspim&nbsp</span><span class=\"barcode\"; style=\"color: black; background-color: #fff9bd\">&nbspplanning&nbsp</span><span class=\"barcode\"; style=\"color: black; background-color: #fffcc6\">&nbspto&nbsp</span><span class=\"barcode\"; style=\"color: black; background-color: #ffffcb\">&nbspeat&nbsp</span><span class=\"barcode\"; style=\"color: black; background-color: #fffeca\">&nbsphim&nbsp</span><br><span class=\"barcode\"; style=\"color: black; background-color: #ffffcb\">&nbspI&nbsp</span><span class=\"barcode\"; style=\"color: black; background-color: #ffffcb\">&nbsprespect&nbsp</span><span class=\"barcode\"; style=\"color: black; background-color: #ffffcb\">&nbspa&nbsp</span><span class=\"barcode\"; style=\"color: black; background-color: #fffdc8\">&nbspnigga&nbsp</span><span class=\"barcode\"; style=\"color: black; background-color: #fffeca\">&nbspthat&nbsp</span><span class=\"barcode\"; style=\"color: black; background-color: #fffec9\">&nbsptells&nbsp</span><span class=\"barcode\"; style=\"color: black; background-color: #fffcc4\">&nbspyou,&nbsp</span><span class=\"barcode\"; style=\"color: black; background-color: #fffeca\">&nbspright&nbsp</span><span class=\"barcode\"; style=\"color: black; background-color: #fffec9\">&nbspoff&nbsp</span><span class=\"barcode\"; style=\"color: black; background-color: #fffec9\">&nbspbat,&nbsp</span><span class=\"barcode\"; style=\"color: black; background-color: #ffffcb\">&nbsphe’s&nbsp</span><span class=\"barcode\"; style=\"color: black; background-color: #fffdc8\">&nbspjust&nbsp</span><span class=\"barcode\"; style=\"color: black; background-color: #fffdc8\">&nbsptryna&nbsp</span><span class=\"barcode\"; style=\"color: black; background-color: #fffeca\">&nbspfuck&nbsp</span><span class=\"barcode\"; style=\"color: black; background-color: #fffcc4\">&nbspway&nbsp</span><span class=\"barcode\"; style=\"color: black; background-color: #ffffcb\">&nbspmore&nbsp</span><span class=\"barcode\"; style=\"color: black; background-color: #fffeca\">&nbspthan&nbsp</span><span class=\"barcode\"; style=\"color: black; background-color: #fffdc7\">&nbspa&nbsp</span><span class=\"barcode\"; style=\"color: black; background-color: #ffffcb\">&nbspnigga&nbsp</span><span class=\"barcode\"; style=\"color: black; background-color: #ffffcb\">&nbspthat&nbsp</span><span class=\"barcode\"; style=\"color: black; background-color: #fffec9\">&nbspleads&nbsp</span><span class=\"barcode\"; style=\"color: black; background-color: #fffdc8\">&nbspyou&nbsp</span><span class=\"barcode\"; style=\"color: black; background-color: #fffcc6\">&nbspon&nbsp</span><span class=\"barcode\"; style=\"color: black; background-color: #fffdc8\">&nbsp🤷🏽‍♀️&nbsp</span><br><span class=\"barcode\"; style=\"color: black; background-color: #fffdc8\">&nbspi&nbsp</span><span class=\"barcode\"; style=\"color: black; background-color: #fffdc7\">&nbspjust&nbsp</span><span class=\"barcode\"; style=\"color: black; background-color: #fffeca\">&nbspgot&nbsp</span><span class=\"barcode\"; style=\"color: black; background-color: #fffdc7\">&nbspthe&nbsp</span><span class=\"barcode\"; style=\"color: black; background-color: #fffec9\">&nbspbiggest&nbsp</span><span class=\"barcode\"; style=\"color: black; background-color: #fffdc7\">&nbspheartache,&nbsp</span><span class=\"barcode\"; style=\"color: black; background-color: #fffdc7\">&nbspfinally,&nbsp</span><span class=\"barcode\"; style=\"color: black; background-color: #fffbc3\">&nbspmy&nbsp</span><span class=\"barcode\"; style=\"color: black; background-color: #fffec9\">&nbspending&nbsp</span><span class=\"barcode\"; style=\"color: black; background-color: #fffcc4\">&nbsphas&nbsp</span><span class=\"barcode\"; style=\"color: black; background-color: #fffdc7\">&nbspcome&nbsp</span><br><span class=\"barcode\"; style=\"color: black; background-color: #ffffcc\">&nbsp@user&nbsp</span><span class=\"barcode\"; style=\"color: black; background-color: #ffffcc\">&nbsp@Oloni&nbsp</span><span class=\"barcode\"; style=\"color: black; background-color: #ffffcc\">&nbspLAJSAKSASH&nbsp</span><span class=\"barcode\"; style=\"color: black; background-color: #ffffcc\">&nbsppick&nbsp</span><span class=\"barcode\"; style=\"color: black; background-color: #ffffcc\">&nbspme&nbsp</span><span class=\"barcode\"; style=\"color: black; background-color: #ffffcc\">&nbspgays&nbsp</span><span class=\"barcode\"; style=\"color: black; background-color: #ffffcc\">&nbspare&nbsp</span><span class=\"barcode\"; style=\"color: black; background-color: #ffffcc\">&nbspthe&nbsp</span><span class=\"barcode\"; style=\"color: black; background-color: #ffffcc\">&nbspworse!&nbsp</span><span class=\"barcode\"; style=\"color: black; background-color: #ffffcc\">&nbspStop,&nbsp</span><span class=\"barcode\"; style=\"color: black; background-color: #ffffcc\">&nbspyou&nbsp</span><span class=\"barcode\"; style=\"color: black; background-color: #ffffcc\">&nbspwanted&nbsp</span><span class=\"barcode\"; style=\"color: black; background-color: #ffffcc\">&nbspto&nbsp</span><span class=\"barcode\"; style=\"color: black; background-color: #ffffcc\">&nbspsuck&nbsp</span><span class=\"barcode\"; style=\"color: black; background-color: #ffffcc\">&nbspyour&nbsp</span><span class=\"barcode\"; style=\"color: black; background-color: #ffffcc\">&nbspfriend's&nbsp</span><span class=\"barcode\"; style=\"color: black; background-color: #ffffcc\">&nbspdick&nbsp</span><span class=\"barcode\"; style=\"color: black; background-color: #ffffcc\">&nbspso&nbsp</span><span class=\"barcode\"; style=\"color: black; background-color: #ffffcc\">&nbspbad,&nbsp</span><span class=\"barcode\"; style=\"color: black; background-color: #ffffcc\">&nbspbut&nbsp</span><span class=\"barcode\"; style=\"color: black; background-color: #ffffcc\">&nbsphe&nbsp</span><span class=\"barcode\"; style=\"color: black; background-color: #ffffcc\">&nbspwasn't&nbsp</span><span class=\"barcode\"; style=\"color: black; background-color: #ffffcc\">&nbspinto&nbsp</span><span class=\"barcode\"; style=\"color: black; background-color: #ffffcc\">&nbspyou.&nbsp</span><br><span class=\"barcode\"; style=\"color: black; background-color: #ffffcc\">&nbspImagine&nbsp</span><span class=\"barcode\"; style=\"color: black; background-color: #ffffcc\">&nbspsomeone&nbsp</span><span class=\"barcode\"; style=\"color: black; background-color: #ffffcc\">&nbspwatching&nbsp</span><span class=\"barcode\"; style=\"color: black; background-color: #ffffcc\">&nbspyah&nbsp</span><span class=\"barcode\"; style=\"color: black; background-color: #ffffcc\">&nbsptweets&nbsp</span><span class=\"barcode\"; style=\"color: black; background-color: #ffffcc\">&nbspstressing&nbsp</span><span class=\"barcode\"; style=\"color: black; background-color: #ffffcc\">&nbspabout&nbsp</span><span class=\"barcode\"; style=\"color: black; background-color: #ffffcc\">&nbspyou&nbsp</span><span class=\"barcode\"; style=\"color: black; background-color: #ffffcc\">&nbspand&nbsp</span><span class=\"barcode\"; style=\"color: black; background-color: #ffffcc\">&nbspthe&nbsp</span><span class=\"barcode\"; style=\"color: black; background-color: #ffffcc\">&nbspwhole&nbsp</span><span class=\"barcode\"; style=\"color: black; background-color: #ffffcc\">&nbsptime&nbsp</span><span class=\"barcode\"; style=\"color: black; background-color: #ffffcc\">&nbspyou&nbsp</span><span class=\"barcode\"; style=\"color: black; background-color: #ffffcc\">&nbspdon't&nbsp</span><span class=\"barcode\"; style=\"color: black; background-color: #ffffcc\">&nbspgive&nbsp</span><span class=\"barcode\"; style=\"color: black; background-color: #ffffcc\">&nbspaf&nbsp</span><span class=\"barcode\"; style=\"color: black; background-color: #ffffcc\">&nbspabout&nbsp</span><span class=\"barcode\"; style=\"color: black; background-color: #ffffcc\">&nbspem&nbsp</span><span class=\"barcode\"; style=\"color: black; background-color: #ffffcc\">&nbsp🥴&nbsp</span><span class=\"barcode\"; style=\"color: black; background-color: #ffffcc\">&nbsphttp&nbsp</span><br><span class=\"barcode\"; style=\"color: black; background-color: #fffeca\">&nbsp@user&nbsp</span><span class=\"barcode\"; style=\"color: black; background-color: #fffbc2\">&nbspGo&nbsp</span><span class=\"barcode\"; style=\"color: black; background-color: #fff8bb\">&nbspkill&nbsp</span><span class=\"barcode\"; style=\"color: black; background-color: #fff9bd\">&nbspur&nbsp</span><span class=\"barcode\"; style=\"color: black; background-color: #fffac0\">&nbspself&nbsp</span><span class=\"barcode\"; style=\"color: black; background-color: #fffbc2\">&nbspfat&nbsp</span><span class=\"barcode\"; style=\"color: black; background-color: #fffabf\">&nbspfuck&nbsp</span><span class=\"barcode\"; style=\"color: black; background-color: #fff9be\">&nbspimagine&nbsp</span><span class=\"barcode\"; style=\"color: black; background-color: #fffabf\">&nbsptaking&nbsp</span><span class=\"barcode\"; style=\"color: black; background-color: #fff9bd\">&nbspsomone&nbsp</span><span class=\"barcode\"; style=\"color: black; background-color: #fffabf\">&nbspacc&nbsp</span><span class=\"barcode\"; style=\"color: black; background-color: #fff7b8\">&nbspu&nbsp</span><span class=\"barcode\"; style=\"color: black; background-color: #fff9be\">&nbspvirgin&nbsp</span><br><span class=\"barcode\"; style=\"color: black; background-color: #fff4b2\">&nbspIm&nbsp</span><span class=\"barcode\"; style=\"color: black; background-color: #ffeb9b\">&nbspgonna&nbsp</span><span class=\"barcode\"; style=\"color: black; background-color: #ffeda0\">&nbspfucking&nbsp</span><span class=\"barcode\"; style=\"color: black; background-color: #ffec9e\">&nbspsquirt&nbsp</span><br><span class=\"barcode\"; style=\"color: black; background-color: #ffffcb\">&nbspI’m&nbsp</span><span class=\"barcode\"; style=\"color: black; background-color: #ffffcc\">&nbspnice&nbsp</span><span class=\"barcode\"; style=\"color: black; background-color: #fffeca\">&nbspbut&nbsp</span><span class=\"barcode\"; style=\"color: black; background-color: #fffdc8\">&nbspI&nbsp</span><span class=\"barcode\"; style=\"color: black; background-color: #fffec9\">&nbspalso&nbsp</span><span class=\"barcode\"; style=\"color: black; background-color: #fffec9\">&nbspdon’t&nbsp</span><span class=\"barcode\"; style=\"color: black; background-color: #fffeca\">&nbsptake&nbsp</span><span class=\"barcode\"; style=\"color: black; background-color: #fffec9\">&nbspanyone’s&nbsp</span><span class=\"barcode\"; style=\"color: black; background-color: #ffffcb\">&nbspbullshit.&nbsp</span><br><span class=\"barcode\"; style=\"color: black; background-color: #ffffcb\">&nbsp@user&nbsp</span><span class=\"barcode\"; style=\"color: black; background-color: #fffec9\">&nbsplike&nbsp</span><span class=\"barcode\"; style=\"color: black; background-color: #ffffcb\">&nbspI’ve&nbsp</span><span class=\"barcode\"; style=\"color: black; background-color: #ffffcc\">&nbspbeen&nbsp</span><span class=\"barcode\"; style=\"color: black; background-color: #ffffcb\">&nbspattracted&nbsp</span><span class=\"barcode\"; style=\"color: black; background-color: #ffffcc\">&nbspto&nbsp</span><span class=\"barcode\"; style=\"color: black; background-color: #ffffcc\">&nbsppeople&nbsp</span><span class=\"barcode\"; style=\"color: black; background-color: #ffffcc\">&nbspbut&nbsp</span><span class=\"barcode\"; style=\"color: black; background-color: #ffffcc\">&nbspnot&nbsp</span><span class=\"barcode\"; style=\"color: black; background-color: #ffffcc\">&nbspto&nbsp</span><span class=\"barcode\"; style=\"color: black; background-color: #ffffcc\">&nbspthe&nbsp</span><span class=\"barcode\"; style=\"color: black; background-color: #ffffcc\">&nbsppoint&nbsp</span><span class=\"barcode\"; style=\"color: black; background-color: #ffffcc\">&nbspof&nbsp</span><span class=\"barcode\"; style=\"color: black; background-color: #ffffcb\">&nbspfull&nbsp</span><span class=\"barcode\"; style=\"color: black; background-color: #ffffcc\">&nbspon&nbsp</span><span class=\"barcode\"; style=\"color: black; background-color: #ffffcc\">&nbspcrush&nbsp</span><span class=\"barcode\"; style=\"color: black; background-color: #ffffcc\">&nbspwhich&nbsp</span><span class=\"barcode\"; style=\"color: black; background-color: #ffffcc\">&nbspkinda&nbsp</span><span class=\"barcode\"; style=\"color: black; background-color: #ffffcc\">&nbspmakes&nbsp</span><span class=\"barcode\"; style=\"color: black; background-color: #ffffcc\">&nbspme&nbsp</span><span class=\"barcode\"; style=\"color: black; background-color: #ffffcc\">&nbspsad&nbsp</span><br><span class=\"barcode\"; style=\"color: black; background-color: #ffe895\">&nbsp@user&nbsp</span><span class=\"barcode\"; style=\"color: black; background-color: #fff3ad\">&nbspmy&nbsp</span><span class=\"barcode\"; style=\"color: black; background-color: #ffe998\">&nbspbisexuality&nbsp</span><span class=\"barcode\"; style=\"color: black; background-color: #fedc7c\">&nbspalways&nbsp</span><span class=\"barcode\"; style=\"color: black; background-color: #fec05b\">&nbspshakes&nbsp</span><span class=\"barcode\"; style=\"color: black; background-color: #fedc7c\">&nbspwhen&nbsp</span><span class=\"barcode\"; style=\"color: black; background-color: #ffe896\">&nbspI&nbsp</span><span class=\"barcode\"; style=\"color: black; background-color: #ffe48e\">&nbspsee&nbsp</span><span class=\"barcode\"; style=\"color: black; background-color: #fedf83\">&nbspthem&nbsp</span><span class=\"barcode\"; style=\"color: black; background-color: #ffe997\">&nbsptogether&nbsp</span><span class=\"barcode\"; style=\"color: black; background-color: #fee186\">&nbsp💔&nbsp</span><br><span class=\"barcode\"; style=\"color: black; background-color: #fffdc7\">&nbspFinding&nbsp</span><span class=\"barcode\"; style=\"color: black; background-color: #fffcc4\">&nbspout&nbsp</span><span class=\"barcode\"; style=\"color: black; background-color: #fffeca\">&nbspthat&nbsp</span><span class=\"barcode\"; style=\"color: black; background-color: #fffec9\">&nbspRiley&nbsp</span><span class=\"barcode\"; style=\"color: black; background-color: #fffbc3\">&nbspneeds&nbsp</span><span class=\"barcode\"; style=\"color: black; background-color: #fffdc8\">&nbspto&nbsp</span><span class=\"barcode\"; style=\"color: black; background-color: #fffcc6\">&nbsphave&nbsp</span><span class=\"barcode\"; style=\"color: black; background-color: #fffcc6\">&nbspsurgery&nbsp</span><span class=\"barcode\"; style=\"color: black; background-color: #fffec9\">&nbsphad&nbsp</span><span class=\"barcode\"; style=\"color: black; background-color: #ffffcb\">&nbspme&nbsp</span><span class=\"barcode\"; style=\"color: black; background-color: #fffcc6\">&nbspsobbing&nbsp</span><span class=\"barcode\"; style=\"color: black; background-color: #fffcc6\">&nbspin&nbsp</span><span class=\"barcode\"; style=\"color: black; background-color: #fffcc6\">&nbspmy&nbsp</span><span class=\"barcode\"; style=\"color: black; background-color: #fffec9\">&nbspcar&nbsp</span><span class=\"barcode\"; style=\"color: black; background-color: #fffdc7\">&nbspwhile&nbsp</span><span class=\"barcode\"; style=\"color: black; background-color: #fffdc7\">&nbspreceiving&nbsp</span><span class=\"barcode\"; style=\"color: black; background-color: #fffcc6\">&nbspawkward&nbsp</span><span class=\"barcode\"; style=\"color: black; background-color: #fffac0\">&nbsplooks&nbsp</span><span class=\"barcode\"; style=\"color: black; background-color: #fffabf\">&nbspfrom&nbsp</span><span class=\"barcode\"; style=\"color: black; background-color: #fffbc3\">&nbsppeople&nbsp</span><span class=\"barcode\"; style=\"color: black; background-color: #fffbc2\">&nbsparound&nbsp</span><span class=\"barcode\"; style=\"color: black; background-color: #fffabf\">&nbspme&nbsp</span><br><span class=\"barcode\"; style=\"color: black; background-color: #feac49\">&nbspIs&nbsp</span><span class=\"barcode\"; style=\"color: black; background-color: #fd8a3b\">&nbspyour&nbsp</span><span class=\"barcode\"; style=\"color: black; background-color: #fd9740\">&nbsppassword&nbsp</span><span class=\"barcode\"; style=\"color: black; background-color: #fd7034\">&nbspsGXlI63X%7?&nbsp</span><br><span class=\"barcode\"; style=\"color: black; background-color: #fffdc8\">&nbspJoin&nbsp</span><span class=\"barcode\"; style=\"color: black; background-color: #fffdc8\">&nbspme&nbsp</span><span class=\"barcode\"; style=\"color: black; background-color: #fffabf\">&nbspIf&nbsp</span><span class=\"barcode\"; style=\"color: black; background-color: #fff3af\">&nbspyou&nbsp</span><span class=\"barcode\"; style=\"color: black; background-color: #fff4b1\">&nbspwant&nbsp</span><span class=\"barcode\"; style=\"color: black; background-color: #fffac0\">&nbspto&nbsp</span><span class=\"barcode\"; style=\"color: black; background-color: #fffcc6\">&nbspenjoy&nbsp</span><span class=\"barcode\"; style=\"color: black; background-color: #fffbc3\">&nbspyour&nbsp</span><span class=\"barcode\"; style=\"color: black; background-color: #fffcc4\">&nbspbath&nbsp</span><span class=\"barcode\"; style=\"color: black; background-color: #fffcc6\">&nbsptime💦&nbsp</span><span class=\"barcode\"; style=\"color: black; background-color: #fffcc6\">&nbsphttp&nbsp</span><br><span class=\"barcode\"; style=\"color: black; background-color: #fffeca\">&nbspAna&nbsp</span><span class=\"barcode\"; style=\"color: black; background-color: #fffeca\">&nbspwould&nbsp</span><span class=\"barcode\"; style=\"color: black; background-color: #fffec9\">&nbsplike&nbsp</span><span class=\"barcode\"; style=\"color: black; background-color: #fffeca\">&nbspyou&nbsp</span><span class=\"barcode\"; style=\"color: black; background-color: #fffeca\">&nbspto&nbsp</span><span class=\"barcode\"; style=\"color: black; background-color: #ffffcb\">&nbspsee&nbsp</span><span class=\"barcode\"; style=\"color: black; background-color: #fffeca\">&nbspher&nbsp</span><span class=\"barcode\"; style=\"color: black; background-color: #ffffcb\">&nbsphot&nbsp</span><span class=\"barcode\"; style=\"color: black; background-color: #ffffcb\">&nbspass&nbsp</span><span class=\"barcode\"; style=\"color: black; background-color: #ffffcb\">&nbsphttp&nbsp</span><span class=\"barcode\"; style=\"color: black; background-color: #ffffcb\">&nbsphttp&nbsp</span><br><span class=\"barcode\"; style=\"color: black; background-color: #fff6b5\">&nbspHe&nbsp</span><span class=\"barcode\"; style=\"color: black; background-color: #fff7b8\">&nbspwant&nbsp</span><span class=\"barcode\"; style=\"color: black; background-color: #fffbc2\">&nbspmy&nbsp</span><span class=\"barcode\"; style=\"color: black; background-color: #fff8bc\">&nbspnumber&nbsp</span><span class=\"barcode\"; style=\"color: black; background-color: #fff6b5\">&nbsphad&nbsp</span><span class=\"barcode\"; style=\"color: black; background-color: #fff6b5\">&nbspto&nbsp</span><span class=\"barcode\"; style=\"color: black; background-color: #fff7b8\">&nbsphit&nbsp</span><span class=\"barcode\"; style=\"color: black; background-color: #fff5b4\">&nbsphim&nbsp</span><span class=\"barcode\"; style=\"color: black; background-color: #fff7b9\">&nbspwit&nbsp</span><span class=\"barcode\"; style=\"color: black; background-color: #fff3af\">&nbspthat&nbsp</span><span class=\"barcode\"; style=\"color: black; background-color: #fff7b8\">&nbsp“mmm&nbsp</span><span class=\"barcode\"; style=\"color: black; background-color: #fff4b1\">&nbspmmm”&nbsp</span><span class=\"barcode\"; style=\"color: black; background-color: #fff3af\">&nbsphttp&nbsp</span><br><span class=\"barcode\"; style=\"color: black; background-color: #fffeca\">&nbsp@bonglez&nbsp</span><span class=\"barcode\"; style=\"color: black; background-color: #fffec9\">&nbspDivorced&nbsp</span><span class=\"barcode\"; style=\"color: black; background-color: #fffec9\">&nbspbut&nbsp</span><span class=\"barcode\"; style=\"color: black; background-color: #fffdc8\">&nbspdon't&nbsp</span><span class=\"barcode\"; style=\"color: black; background-color: #fffcc6\">&nbspregret.&nbsp</span><span class=\"barcode\"; style=\"color: black; background-color: #fffec9\">&nbsphave&nbsp</span><span class=\"barcode\"; style=\"color: black; background-color: #fffeca\">&nbsp3&nbsp</span><span class=\"barcode\"; style=\"color: black; background-color: #fffeca\">&nbsplovely&nbsp</span><span class=\"barcode\"; style=\"color: black; background-color: #fffec9\">&nbspkids&nbsp</span><span class=\"barcode\"; style=\"color: black; background-color: #fffcc4\">&nbspif&nbsp</span><span class=\"barcode\"; style=\"color: black; background-color: #fffdc8\">&nbspi&nbsp</span><span class=\"barcode\"; style=\"color: black; background-color: #fffdc8\">&nbspregret&nbsp</span><span class=\"barcode\"; style=\"color: black; background-color: #fffeca\">&nbspgetting&nbsp</span><span class=\"barcode\"; style=\"color: black; background-color: #fffeca\">&nbspmarried&nbsp</span><span class=\"barcode\"; style=\"color: black; background-color: #ffffcb\">&nbspi&nbsp</span><span class=\"barcode\"; style=\"color: black; background-color: #ffffcb\">&nbspregret&nbsp</span><span class=\"barcode\"; style=\"color: black; background-color: #ffffcc\">&nbsptheir&nbsp</span><span class=\"barcode\"; style=\"color: black; background-color: #ffffcb\">&nbspexistence&nbsp</span><span class=\"barcode\"; style=\"color: black; background-color: #fffec9\">&nbspwhich&nbsp</span><span class=\"barcode\"; style=\"color: black; background-color: #fffdc8\">&nbspI&nbsp</span><span class=\"barcode\"; style=\"color: black; background-color: #fffec9\">&nbspWILL&nbsp</span><span class=\"barcode\"; style=\"color: black; background-color: #ffffcb\">&nbspNEVER&nbsp</span><span class=\"barcode\"; style=\"color: black; background-color: #ffffcb\">&nbspDO.&nbsp</span><br><span class=\"barcode\"; style=\"color: black; background-color: #fee289\">&nbspI&nbsp</span><span class=\"barcode\"; style=\"color: black; background-color: #fedb7a\">&nbspwant&nbsp</span><span class=\"barcode\"; style=\"color: black; background-color: #fee186\">&nbspreal&nbsp</span><span class=\"barcode\"; style=\"color: black; background-color: #fede80\">&nbsplove..&nbsp</span><span class=\"barcode\"; style=\"color: black; background-color: #fedb7b\">&nbspnothing&nbsp</span><span class=\"barcode\"; style=\"color: black; background-color: #fecf6b\">&nbspmade&nbsp</span><span class=\"barcode\"; style=\"color: black; background-color: #fd9b42\">&nbspup😌💍❤️💯.&nbsp</span><br><span class=\"barcode\"; style=\"color: black; background-color: #fffcc6\">&nbsp@user&nbsp</span><span class=\"barcode\"; style=\"color: black; background-color: #fffabf\">&nbspAdd&nbsp</span><span class=\"barcode\"; style=\"color: black; background-color: #fff8bc\">&nbspme&nbsp</span><span class=\"barcode\"; style=\"color: black; background-color: #fff6b6\">&nbspto&nbsp</span><span class=\"barcode\"; style=\"color: black; background-color: #fff8bc\">&nbspyour&nbsp</span><span class=\"barcode\"; style=\"color: black; background-color: #fff8bc\">&nbsptimeline‼️&nbsp</span><br><span class=\"barcode\"; style=\"color: black; background-color: #fffbc3\">&nbsp@user&nbsp</span><span class=\"barcode\"; style=\"color: black; background-color: #fffbc3\">&nbspPussy&nbsp</span><span class=\"barcode\"; style=\"color: black; background-color: #fffbc3\">&nbspofcourse&nbsp</span><span class=\"barcode\"; style=\"color: black; background-color: #fffbc3\">&nbsp💦💦&nbsp</span><span class=\"barcode\"; style=\"color: black; background-color: #fff9bd\">&nbsphttp&nbsp</span><br><span class=\"barcode\"; style=\"color: black; background-color: #fece6a\">&nbspI&nbsp</span><span class=\"barcode\"; style=\"color: black; background-color: #feac49\">&nbsplove&nbsp</span><span class=\"barcode\"; style=\"color: black; background-color: #feb14b\">&nbspyou&nbsp</span><span class=\"barcode\"; style=\"color: black; background-color: #fec661\">&nbspjanella&nbsp</span><span class=\"barcode\"; style=\"color: black; background-color: #fd7736\">&nbsp#JANELLAiWantASAP&nbsp</span><span class=\"barcode\"; style=\"color: black; background-color: #fc6430\">&nbsphttp&nbsp</span><br><span class=\"barcode\"; style=\"color: black; background-color: #fffec9\">&nbspI’m&nbsp</span><span class=\"barcode\"; style=\"color: black; background-color: #fffdc8\">&nbspdead&nbsp</span><span class=\"barcode\"; style=\"color: black; background-color: #fffcc4\">&nbspabout&nbsp</span><span class=\"barcode\"; style=\"color: black; background-color: #fffcc4\">&nbspto&nbsp</span><span class=\"barcode\"; style=\"color: black; background-color: #fffbc3\">&nbspfucc&nbsp</span><span class=\"barcode\"; style=\"color: black; background-color: #fffcc4\">&nbspsomebody&nbsp</span><span class=\"barcode\"; style=\"color: black; background-color: #fffdc7\">&nbspbad&nbsp</span><span class=\"barcode\"; style=\"color: black; background-color: #fffec9\">&nbspass&nbsp</span><span class=\"barcode\"; style=\"color: black; background-color: #fffdc7\">&nbspDominican&nbsp</span><span class=\"barcode\"; style=\"color: black; background-color: #fffbc3\">&nbspmother&nbsp</span><span class=\"barcode\"; style=\"color: black; background-color: #fffac0\">&nbsp😂😂&nbsp</span><span class=\"barcode\"; style=\"color: black; background-color: #fffbc3\">&nbspshe&nbsp</span><span class=\"barcode\"; style=\"color: black; background-color: #fffcc4\">&nbspsaid&nbsp</span><span class=\"barcode\"; style=\"color: black; background-color: #fffcc4\">&nbspher&nbsp</span><span class=\"barcode\"; style=\"color: black; background-color: #fffdc8\">&nbspson&nbsp</span><span class=\"barcode\"; style=\"color: black; background-color: #fffeca\">&nbspis&nbsp</span><span class=\"barcode\"; style=\"color: black; background-color: #fffec9\">&nbspmy&nbsp</span><span class=\"barcode\"; style=\"color: black; background-color: #fffdc7\">&nbspage&nbsp</span><span class=\"barcode\"; style=\"color: black; background-color: #fffdc8\">&nbsp😂😂😂😂😂😂😂😂😂😂😂😂&nbsp</span><span class=\"barcode\"; style=\"color: black; background-color: #fffbc3\">&nbspno&nbsp</span><span class=\"barcode\"; style=\"color: black; background-color: #fffbc2\">&nbspcap&nbsp</span><span class=\"barcode\"; style=\"color: black; background-color: #fffbc3\">&nbspI’m&nbsp</span><span class=\"barcode\"; style=\"color: black; background-color: #fffcc4\">&nbspdumb&nbsp</span><span class=\"barcode\"; style=\"color: black; background-color: #fffcc6\">&nbsphype&nbsp</span><br><span class=\"barcode\"; style=\"color: black; background-color: #fffdc8\">&nbsp@user&nbsp</span><span class=\"barcode\"; style=\"color: black; background-color: #fffdc7\">&nbspHow&nbsp</span><span class=\"barcode\"; style=\"color: black; background-color: #fffcc6\">&nbspthe&nbsp</span><span class=\"barcode\"; style=\"color: black; background-color: #ffffcb\">&nbspwedding&nbsp</span><span class=\"barcode\"; style=\"color: black; background-color: #ffffcb\">&nbsppreparations?&nbsp</span><br><span class=\"barcode\"; style=\"color: black; background-color: #fffec9\">&nbsp@user&nbsp</span><span class=\"barcode\"; style=\"color: black; background-color: #fffeca\">&nbspYou&nbsp</span><span class=\"barcode\"; style=\"color: black; background-color: #fffeca\">&nbspare&nbsp</span><span class=\"barcode\"; style=\"color: black; background-color: #ffffcb\">&nbspLooking&nbsp</span><span class=\"barcode\"; style=\"color: black; background-color: #ffffcc\">&nbspGorgeous&nbsp</span><span class=\"barcode\"; style=\"color: black; background-color: #ffffcc\">&nbsp🥰😍&nbsp</span><br><span class=\"barcode\"; style=\"color: black; background-color: #ffffcc\">&nbspLook&nbsp</span><span class=\"barcode\"; style=\"color: black; background-color: #ffffcc\">&nbspat&nbsp</span><span class=\"barcode\"; style=\"color: black; background-color: #ffffcc\">&nbspmy&nbsp</span><span class=\"barcode\"; style=\"color: black; background-color: #ffffcc\">&nbspboo&nbsp</span><span class=\"barcode\"; style=\"color: black; background-color: #ffffcb\">&nbspwith&nbsp</span><span class=\"barcode\"; style=\"color: black; background-color: #ffffcc\">&nbspboth&nbsp</span><span class=\"barcode\"; style=\"color: black; background-color: #ffffcb\">&nbspof&nbsp</span><span class=\"barcode\"; style=\"color: black; background-color: #ffffcc\">&nbspour&nbsp</span><span class=\"barcode\"; style=\"color: black; background-color: #ffffcc\">&nbsprides&nbsp</span><span class=\"barcode\"; style=\"color: black; background-color: #ffffcc\">&nbsp🤣🥰💞&nbsp</span><span class=\"barcode\"; style=\"color: black; background-color: #ffffcc\">&nbsphttp&nbsp</span><br><span class=\"barcode\"; style=\"color: black; background-color: #fffeca\">&nbspme&nbsp</span><span class=\"barcode\"; style=\"color: black; background-color: #ffffcb\">&nbspand&nbsp</span><span class=\"barcode\"; style=\"color: black; background-color: #fffeca\">&nbspmy&nbsp</span><span class=\"barcode\"; style=\"color: black; background-color: #fffeca\">&nbspbf&nbsp</span><span class=\"barcode\"; style=\"color: black; background-color: #fffec9\">&nbspbe&nbsp</span><span class=\"barcode\"; style=\"color: black; background-color: #fffec9\">&nbsplike&nbsp</span><span class=\"barcode\"; style=\"color: black; background-color: #fffec9\">&nbsphttp&nbsp</span><br><span class=\"barcode\"; style=\"color: black; background-color: #ffe794\">&nbsphave&nbsp</span><span class=\"barcode\"; style=\"color: black; background-color: #ffe590\">&nbspa&nbsp</span><span class=\"barcode\"; style=\"color: black; background-color: #fedd7e\">&nbspgood&nbsp</span><span class=\"barcode\"; style=\"color: black; background-color: #fec560\">&nbspnight&nbsp</span><br><span class=\"barcode\"; style=\"color: black; background-color: #fffdc8\">&nbspI&nbsp</span><span class=\"barcode\"; style=\"color: black; background-color: #fffeca\">&nbsphate&nbsp</span><span class=\"barcode\"; style=\"color: black; background-color: #fffdc8\">&nbspsaggy&nbsp</span><span class=\"barcode\"; style=\"color: black; background-color: #fff9bd\">&nbsptitties&nbsp</span><span class=\"barcode\"; style=\"color: black; background-color: #fff7b9\">&nbsplol&nbsp</span><span class=\"barcode\"; style=\"color: black; background-color: #fff9be\">&nbspno&nbsp</span><span class=\"barcode\"; style=\"color: black; background-color: #fff8bc\">&nbspoffense&nbsp</span><br><span class=\"barcode\"; style=\"color: black; background-color: #ffffcc\">&nbspBut&nbsp</span><span class=\"barcode\"; style=\"color: black; background-color: #ffffcc\">&nbsplike&nbsp</span><span class=\"barcode\"; style=\"color: black; background-color: #ffffcc\">&nbspI&nbsp</span><span class=\"barcode\"; style=\"color: black; background-color: #ffffcc\">&nbspdon’t&nbsp</span><span class=\"barcode\"; style=\"color: black; background-color: #ffffcc\">&nbspwant&nbsp</span><span class=\"barcode\"; style=\"color: black; background-color: #ffffcc\">&nbspto&nbsp</span><span class=\"barcode\"; style=\"color: black; background-color: #ffffcc\">&nbspand&nbsp</span><span class=\"barcode\"; style=\"color: black; background-color: #ffffcc\">&nbspcan’t&nbsp</span><span class=\"barcode\"; style=\"color: black; background-color: #ffffcc\">&nbspleave&nbsp</span><span class=\"barcode\"; style=\"color: black; background-color: #ffffcc\">&nbsphim.&nbsp</span><span class=\"barcode\"; style=\"color: black; background-color: #ffffcc\">&nbspI&nbsp</span><span class=\"barcode\"; style=\"color: black; background-color: #ffffcc\">&nbspfucking&nbsp</span><span class=\"barcode\"; style=\"color: black; background-color: #ffffcc\">&nbsplove&nbsp</span><span class=\"barcode\"; style=\"color: black; background-color: #ffffcc\">&nbsphim&nbsp</span><span class=\"barcode\"; style=\"color: black; background-color: #ffffcc\">&nbsptoo&nbsp</span><span class=\"barcode\"; style=\"color: black; background-color: #ffffcc\">&nbspmuch.&nbsp</span><span class=\"barcode\"; style=\"color: black; background-color: #ffffcc\">&nbspAnd&nbsp</span><span class=\"barcode\"; style=\"color: black; background-color: #ffffcc\">&nbspI&nbsp</span><span class=\"barcode\"; style=\"color: black; background-color: #ffffcc\">&nbspknow&nbsp</span><span class=\"barcode\"; style=\"color: black; background-color: #ffffcc\">&nbsphe&nbsp</span><span class=\"barcode\"; style=\"color: black; background-color: #ffffcc\">&nbsploves&nbsp</span><span class=\"barcode\"; style=\"color: black; background-color: #ffffcc\">&nbspme&nbsp</span><span class=\"barcode\"; style=\"color: black; background-color: #ffffcc\">&nbspwe&nbsp</span><span class=\"barcode\"; style=\"color: black; background-color: #ffffcc\">&nbspjust&nbsp</span><span class=\"barcode\"; style=\"color: black; background-color: #ffffcc\">&nbsphave&nbsp</span><br><span class=\"barcode\"; style=\"color: black; background-color: #ffffcc\">&nbspthings&nbsp</span><span class=\"barcode\"; style=\"color: black; background-color: #ffffcc\">&nbspto&nbsp</span><span class=\"barcode\"; style=\"color: black; background-color: #ffffcc\">&nbspwork&nbsp</span><span class=\"barcode\"; style=\"color: black; background-color: #ffffcb\">&nbspon.&nbsp</span><br><span class=\"barcode\"; style=\"color: black; background-color: #ffffcb\">&nbsp@user&nbsp</span><span class=\"barcode\"; style=\"color: black; background-color: #ffffcb\">&nbspYou&nbsp</span><span class=\"barcode\"; style=\"color: black; background-color: #ffffcc\">&nbspare&nbsp</span><span class=\"barcode\"; style=\"color: black; background-color: #ffffcc\">&nbspan&nbsp</span><span class=\"barcode\"; style=\"color: black; background-color: #ffffcc\">&nbspoptimist&nbsp</span><span class=\"barcode\"; style=\"color: black; background-color: #ffffcc\">&nbspand&nbsp</span><span class=\"barcode\"; style=\"color: black; background-color: #ffffcc\">&nbspI&nbsp</span><span class=\"barcode\"; style=\"color: black; background-color: #ffffcc\">&nbspsure&nbsp</span><span class=\"barcode\"; style=\"color: black; background-color: #ffffcc\">&nbsphope&nbsp</span><span class=\"barcode\"; style=\"color: black; background-color: #ffffcc\">&nbspyou&nbsp</span><span class=\"barcode\"; style=\"color: black; background-color: #ffffcc\">&nbspare&nbsp</span><span class=\"barcode\"; style=\"color: black; background-color: #ffffcc\">&nbspright!&nbsp</span><br><span class=\"barcode\"; style=\"color: black; background-color: #ffffcc\">&nbsp@user&nbsp</span><span class=\"barcode\"; style=\"color: black; background-color: #ffffcc\">&nbspYou&nbsp</span><span class=\"barcode\"; style=\"color: black; background-color: #ffffcc\">&nbspadmit&nbsp</span><span class=\"barcode\"; style=\"color: black; background-color: #ffffcc\">&nbspthat&nbsp</span><span class=\"barcode\"; style=\"color: black; background-color: #ffffcc\">&nbspme&nbsp</span><span class=\"barcode\"; style=\"color: black; background-color: #ffffcc\">&nbspbeing&nbsp</span><span class=\"barcode\"; style=\"color: black; background-color: #ffffcc\">&nbspspoiled&nbsp</span><span class=\"barcode\"; style=\"color: black; background-color: #ffffcc\">&nbspis&nbsp</span><span class=\"barcode\"; style=\"color: black; background-color: #ffffcc\">&nbspyour&nbsp</span><span class=\"barcode\"; style=\"color: black; background-color: #ffffcc\">&nbspfault??&nbsp</span><span class=\"barcode\"; style=\"color: black; background-color: #ffffcc\">&nbspI'm&nbsp</span><span class=\"barcode\"; style=\"color: black; background-color: #ffffcc\">&nbspkeeping&nbsp</span><span class=\"barcode\"; style=\"color: black; background-color: #ffffcc\">&nbspthis&nbsp</span><span class=\"barcode\"; style=\"color: black; background-color: #ffffcc\">&nbspforever&nbsp</span><span class=\"barcode\"; style=\"color: black; background-color: #ffffcc\">&nbspand&nbsp</span><span class=\"barcode\"; style=\"color: black; background-color: #ffffcc\">&nbspany&nbsp</span><span class=\"barcode\"; style=\"color: black; background-color: #ffffcc\">&nbsptime&nbsp</span><span class=\"barcode\"; style=\"color: black; background-color: #ffffcc\">&nbspyou&nbsp</span><span class=\"barcode\"; style=\"color: black; background-color: #ffffcc\">&nbspcall&nbsp</span><span class=\"barcode\"; style=\"color: black; background-color: #ffffcc\">&nbspme&nbsp</span><span class=\"barcode\"; style=\"color: black; background-color: #ffffcc\">&nbspa&nbsp</span><span class=\"barcode\"; style=\"color: black; background-color: #ffffcc\">&nbspbrat&nbsp</span><span class=\"barcode\"; style=\"color: black; background-color: #ffffcc\">&nbspI'm&nbsp</span><span class=\"barcode\"; style=\"color: black; background-color: #ffffcc\">&nbspgoing&nbsp</span><span class=\"barcode\"; style=\"color: black; background-color: #ffffcc\">&nbspto&nbsp</span><br><span class=\"barcode\"; style=\"color: black; background-color: #ffffcc\">&nbspshare&nbsp</span><span class=\"barcode\"; style=\"color: black; background-color: #ffffcc\">&nbspit.&nbsp</span><br><span class=\"barcode\"; style=\"color: black; background-color: #fffcc4\">&nbspMy&nbsp</span><span class=\"barcode\"; style=\"color: black; background-color: #fffbc2\">&nbspsister&nbsp</span><span class=\"barcode\"; style=\"color: black; background-color: #fffac0\">&nbspalmost&nbsp</span><span class=\"barcode\"; style=\"color: black; background-color: #fff7b9\">&nbspwent&nbsp</span><span class=\"barcode\"; style=\"color: black; background-color: #fff6b6\">&nbspto&nbsp</span><span class=\"barcode\"; style=\"color: black; background-color: #fff9be\">&nbspschool&nbsp</span><span class=\"barcode\"; style=\"color: black; background-color: #fff1ab\">&nbspbut&nbsp</span><span class=\"barcode\"; style=\"color: black; background-color: #fff1ab\">&nbspdecided&nbsp</span><span class=\"barcode\"; style=\"color: black; background-color: #fff0a7\">&nbspto&nbsp</span><span class=\"barcode\"; style=\"color: black; background-color: #fff1a9\">&nbspsuck&nbsp</span><span class=\"barcode\"; style=\"color: black; background-color: #fff1a9\">&nbspmy&nbsp</span><span class=\"barcode\"; style=\"color: black; background-color: #fff1aa\">&nbspbrother&nbsp</span><span class=\"barcode\"; style=\"color: black; background-color: #fff2ac\">&nbsp18&nbsp</span><span class=\"barcode\"; style=\"color: black; background-color: #ffeb9b\">&nbspyears&nbsp</span><span class=\"barcode\"; style=\"color: black; background-color: #ffea9a\">&nbspold&nbsp</span><span class=\"barcode\"; style=\"color: black; background-color: #ffeda0\">&nbsp(stepsister)&nbsp</span><span class=\"barcode\"; style=\"color: black; background-color: #fff0a7\">&nbsp@user&nbsp</span><span class=\"barcode\"; style=\"color: black; background-color: #fff9be\">&nbspPort&nbsp</span><span class=\"barcode\"; style=\"color: black; background-color: #fff6b6\">&nbsp1💋&nbsp</span><span class=\"barcode\"; style=\"color: black; background-color: #fff8bb\">&nbsphttp&nbsp</span><br><span class=\"barcode\"; style=\"color: black; background-color: #fffec9\">&nbspI&nbsp</span><span class=\"barcode\"; style=\"color: black; background-color: #fffeca\">&nbspam&nbsp</span><span class=\"barcode\"; style=\"color: black; background-color: #fffeca\">&nbspSO&nbsp</span><span class=\"barcode\"; style=\"color: black; background-color: #fffdc7\">&nbspecstatic&nbsp</span><span class=\"barcode\"; style=\"color: black; background-color: #fffcc4\">&nbspI’m&nbsp</span><span class=\"barcode\"; style=\"color: black; background-color: #fffeca\">&nbspnot&nbsp</span><span class=\"barcode\"; style=\"color: black; background-color: #fffbc3\">&nbspmarried&nbsp</span><span class=\"barcode\"; style=\"color: black; background-color: #fffabf\">&nbspto&nbsp</span><span class=\"barcode\"; style=\"color: black; background-color: #fffbc2\">&nbspa&nbsp</span><span class=\"barcode\"; style=\"color: black; background-color: #fffbc3\">&nbspman&nbsp</span><span class=\"barcode\"; style=\"color: black; background-color: #fff9be\">&nbspwho&nbsp</span><span class=\"barcode\"; style=\"color: black; background-color: #fff9bd\">&nbsphas&nbsp</span><span class=\"barcode\"; style=\"color: black; background-color: #fff6b6\">&nbspcheated&nbsp</span><span class=\"barcode\"; style=\"color: black; background-color: #fffbc3\">&nbspon&nbsp</span><span class=\"barcode\"; style=\"color: black; background-color: #fffabf\">&nbspme.&nbsp</span><br><span class=\"barcode\"; style=\"color: black; background-color: #ffffcb\">&nbsp@user&nbsp</span><span class=\"barcode\"; style=\"color: black; background-color: #ffffcb\">&nbspi&nbsp</span><span class=\"barcode\"; style=\"color: black; background-color: #ffffcb\">&nbspdon’t&nbsp</span><span class=\"barcode\"; style=\"color: black; background-color: #fffeca\">&nbsphave&nbsp</span><span class=\"barcode\"; style=\"color: black; background-color: #fffeca\">&nbspa&nbsp</span><span class=\"barcode\"; style=\"color: black; background-color: #ffffcb\">&nbspneck&nbsp</span><span class=\"barcode\"; style=\"color: black; background-color: #ffffcb\">&nbsptattoo&nbsp</span><span class=\"barcode\"; style=\"color: black; background-color: #ffffcc\">&nbspbut&nbsp</span><span class=\"barcode\"; style=\"color: black; background-color: #ffffcc\">&nbspu&nbsp</span><span class=\"barcode\"; style=\"color: black; background-color: #ffffcc\">&nbspcan&nbsp</span><span class=\"barcode\"; style=\"color: black; background-color: #ffffcc\">&nbspgive&nbsp</span><span class=\"barcode\"; style=\"color: black; background-color: #ffffcc\">&nbspme&nbsp</span><span class=\"barcode\"; style=\"color: black; background-color: #ffffcc\">&nbspneck&nbsp</span><br><span class=\"barcode\"; style=\"color: black; background-color: #ffffcb\">&nbsp@user&nbsp</span><span class=\"barcode\"; style=\"color: black; background-color: #fffec9\">&nbspI&nbsp</span><span class=\"barcode\"; style=\"color: black; background-color: #ffffcb\">&nbspthink&nbsp</span><span class=\"barcode\"; style=\"color: black; background-color: #ffffcc\">&nbspI&nbsp</span><span class=\"barcode\"; style=\"color: black; background-color: #ffffcc\">&nbspfell&nbsp</span><span class=\"barcode\"; style=\"color: black; background-color: #ffffcc\">&nbspin&nbsp</span><span class=\"barcode\"; style=\"color: black; background-color: #ffffcc\">&nbsplove&nbsp</span><span class=\"barcode\"; style=\"color: black; background-color: #ffffcc\">&nbspwith&nbsp</span><span class=\"barcode\"; style=\"color: black; background-color: #ffffcc\">&nbspyou&nbsp</span><br><span class=\"barcode\"; style=\"color: black; background-color: #fffeca\">&nbspI&nbsp</span><span class=\"barcode\"; style=\"color: black; background-color: #fffec9\">&nbspcan&nbsp</span><span class=\"barcode\"; style=\"color: black; background-color: #fffeca\">&nbspdo&nbsp</span><span class=\"barcode\"; style=\"color: black; background-color: #fffbc2\">&nbspso&nbsp</span><span class=\"barcode\"; style=\"color: black; background-color: #fffac0\">&nbspmuch&nbsp</span><span class=\"barcode\"; style=\"color: black; background-color: #fffabf\">&nbspfor&nbsp</span><span class=\"barcode\"; style=\"color: black; background-color: #fff9be\">&nbspyou&nbsp</span><br><span class=\"barcode\"; style=\"color: black; background-color: #fffeca\">&nbspAsk&nbsp</span><span class=\"barcode\"; style=\"color: black; background-color: #fffeca\">&nbspfor&nbsp</span><span class=\"barcode\"; style=\"color: black; background-color: #ffffcb\">&nbspsex&nbsp</span><span class=\"barcode\"; style=\"color: black; background-color: #fffeca\">&nbspwithout&nbsp</span><span class=\"barcode\"; style=\"color: black; background-color: #fffeca\">&nbspsaying&nbsp</span><span class=\"barcode\"; style=\"color: black; background-color: #ffffcb\">&nbspsex?&nbsp</span><span class=\"barcode\"; style=\"color: black; background-color: #ffffcb\">&nbspI&nbsp</span><span class=\"barcode\"; style=\"color: black; background-color: #fffeca\">&nbspthink&nbsp</span><span class=\"barcode\"; style=\"color: black; background-color: #ffffcb\">&nbspmy&nbsp</span><span class=\"barcode\"; style=\"color: black; background-color: #fffec9\">&nbspdick&nbsp</span><span class=\"barcode\"; style=\"color: black; background-color: #fffdc7\">&nbspis&nbsp</span><span class=\"barcode\"; style=\"color: black; background-color: #fffdc8\">&nbspdead?&nbsp</span><span class=\"barcode\"; style=\"color: black; background-color: #fffdc8\">&nbspCan&nbsp</span><span class=\"barcode\"; style=\"color: black; background-color: #fffeca\">&nbspI&nbsp</span><span class=\"barcode\"; style=\"color: black; background-color: #fffec9\">&nbspburried&nbsp</span><span class=\"barcode\"; style=\"color: black; background-color: #fffec9\">&nbspit&nbsp</span><span class=\"barcode\"; style=\"color: black; background-color: #fffec9\">&nbspinto&nbsp</span><span class=\"barcode\"; style=\"color: black; background-color: #fffeca\">&nbspyour&nbsp</span><span class=\"barcode\"; style=\"color: black; background-color: #fffec9\">&nbspass?&nbsp</span><br><span class=\"barcode\"; style=\"color: black; background-color: #fffeca\">&nbspi&nbsp</span><span class=\"barcode\"; style=\"color: black; background-color: #fffeca\">&nbspdon’t&nbsp</span><span class=\"barcode\"; style=\"color: black; background-color: #fffec9\">&nbspthink&nbsp</span><span class=\"barcode\"; style=\"color: black; background-color: #fffec9\">&nbspthis&nbsp</span><span class=\"barcode\"; style=\"color: black; background-color: #fffdc7\">&nbspguy&nbsp</span><span class=\"barcode\"; style=\"color: black; background-color: #fffdc8\">&nbspwill&nbsp</span><span class=\"barcode\"; style=\"color: black; background-color: #fffdc7\">&nbspever&nbsp</span><span class=\"barcode\"; style=\"color: black; background-color: #fffec9\">&nbspget&nbsp</span><span class=\"barcode\"; style=\"color: black; background-color: #fffdc8\">&nbspthe&nbsp</span><span class=\"barcode\"; style=\"color: black; background-color: #fffec9\">&nbsphint&nbsp</span><span class=\"barcode\"; style=\"color: black; background-color: #fffdc7\">&nbspthat&nbsp</span><span class=\"barcode\"; style=\"color: black; background-color: #fffcc4\">&nbspthe&nbsp</span><span class=\"barcode\"; style=\"color: black; background-color: #fffdc7\">&nbspsex&nbsp</span><span class=\"barcode\"; style=\"color: black; background-color: #fffcc6\">&nbspwas&nbsp</span><span class=\"barcode\"; style=\"color: black; background-color: #fffcc6\">&nbspterrible&nbsp</span><span class=\"barcode\"; style=\"color: black; background-color: #fffdc8\">&nbspand&nbsp</span><span class=\"barcode\"; style=\"color: black; background-color: #fffdc7\">&nbspit’s&nbsp</span><span class=\"barcode\"; style=\"color: black; background-color: #fffdc8\">&nbspnever&nbsp</span><span class=\"barcode\"; style=\"color: black; background-color: #fffcc4\">&nbsphappening&nbsp</span><span class=\"barcode\"; style=\"color: black; background-color: #fffac0\">&nbspagain&nbsp</span><span class=\"barcode\"; style=\"color: black; background-color: #fffac0\">&nbsp🥴&nbsp</span><br><span class=\"barcode\"; style=\"color: black; background-color: #ffffcc\">&nbsphow&nbsp</span><span class=\"barcode\"; style=\"color: black; background-color: #ffffcc\">&nbspto&nbsp</span><span class=\"barcode\"; style=\"color: black; background-color: #ffffcc\">&nbsptreat&nbsp</span><span class=\"barcode\"; style=\"color: black; background-color: #ffffcc\">&nbspya&nbsp</span><span class=\"barcode\"; style=\"color: black; background-color: #ffffcc\">&nbspgirl&nbsp</span><span class=\"barcode\"; style=\"color: black; background-color: #ffffcc\">&nbspright&nbsp</span><span class=\"barcode\"; style=\"color: black; background-color: #ffffcb\">&nbsp1.&nbsp</span><span class=\"barcode\"; style=\"color: black; background-color: #ffffcc\">&nbsponly&nbsp</span><span class=\"barcode\"; style=\"color: black; background-color: #ffffcb\">&nbspflirt&nbsp</span><span class=\"barcode\"; style=\"color: black; background-color: #ffffcc\">&nbspw&nbsp</span><span class=\"barcode\"; style=\"color: black; background-color: #ffffcc\">&nbspher&nbsp</span><span class=\"barcode\"; style=\"color: black; background-color: #ffffcc\">&nbsp2.&nbsp</span><span class=\"barcode\"; style=\"color: black; background-color: #ffffcc\">&nbsplet&nbsp</span><span class=\"barcode\"; style=\"color: black; background-color: #ffffcc\">&nbspher&nbsp</span><span class=\"barcode\"; style=\"color: black; background-color: #ffffcc\">&nbsproast&nbsp</span><span class=\"barcode\"; style=\"color: black; background-color: #ffffcc\">&nbspyou&nbsp</span><span class=\"barcode\"; style=\"color: black; background-color: #ffffcc\">&nbsp3.&nbsp</span><span class=\"barcode\"; style=\"color: black; background-color: #ffffcc\">&nbspdick&nbsp</span><span class=\"barcode\"; style=\"color: black; background-color: #ffffcc\">&nbspher&nbsp</span><span class=\"barcode\"; style=\"color: black; background-color: #ffffcc\">&nbspdown&nbsp</span><span class=\"barcode\"; style=\"color: black; background-color: #ffffcc\">&nbsp4.&nbsp</span><span class=\"barcode\"; style=\"color: black; background-color: #ffffcc\">&nbspbe&nbsp</span><span class=\"barcode\"; style=\"color: black; background-color: #ffffcc\">&nbspcompetitive&nbsp</span><span class=\"barcode\"; style=\"color: black; background-color: #ffffcc\">&nbsp5.&nbsp</span><span class=\"barcode\"; style=\"color: black; background-color: #ffffcc\">&nbspsend&nbsp</span><br><span class=\"barcode\"; style=\"color: black; background-color: #ffffcc\">&nbspher&nbsp</span><span class=\"barcode\"; style=\"color: black; background-color: #ffffcc\">&nbspmemes&nbsp</span><br><span class=\"barcode\"; style=\"color: black; background-color: #ffe48d\">&nbspGood&nbsp</span><span class=\"barcode\"; style=\"color: black; background-color: #ffe48e\">&nbspnight&nbsp</span><span class=\"barcode\"; style=\"color: black; background-color: #fee38b\">&nbspsweet&nbsp</span><span class=\"barcode\"; style=\"color: black; background-color: #fecc68\">&nbspdreams&nbsp</span><span class=\"barcode\"; style=\"color: black; background-color: #fead4a\">&nbspMy&nbsp</span><span class=\"barcode\"; style=\"color: black; background-color: #febc57\">&nbsplovely&nbsp</span><span class=\"barcode\"; style=\"color: black; background-color: #feb14b\">&nbspTwitter&nbsp</span><span class=\"barcode\"; style=\"color: black; background-color: #feba55\">&nbspFriends&nbsp</span><span class=\"barcode\"; style=\"color: black; background-color: #ffe58f\">&nbsp❤&nbsp</span><span class=\"barcode\"; style=\"color: black; background-color: #fecd69\">&nbspstay&nbsp</span><span class=\"barcode\"; style=\"color: black; background-color: #fec05b\">&nbspsafe&nbsp</span><span class=\"barcode\"; style=\"color: black; background-color: #feba55\">&nbspand&nbsp</span><span class=\"barcode\"; style=\"color: black; background-color: #fec05b\">&nbsptake&nbsp</span><span class=\"barcode\"; style=\"color: black; background-color: #fedb7a\">&nbspcare&nbsp</span><span class=\"barcode\"; style=\"color: black; background-color: #feda79\">&nbspof&nbsp</span><span class=\"barcode\"; style=\"color: black; background-color: #fecf6b\">&nbspyourselves&nbsp</span><span class=\"barcode\"; style=\"color: black; background-color: #fede80\">&nbsp😘😘&nbsp</span><br><span class=\"barcode\"; style=\"color: black; background-color: #ffffcc\">&nbsp@user&nbsp</span><span class=\"barcode\"; style=\"color: black; background-color: #fffeca\">&nbspIf&nbsp</span><span class=\"barcode\"; style=\"color: black; background-color: #ffffcc\">&nbspyou&nbsp</span><span class=\"barcode\"; style=\"color: black; background-color: #ffffcc\">&nbspever&nbsp</span><span class=\"barcode\"; style=\"color: black; background-color: #ffffcc\">&nbspfeel&nbsp</span><span class=\"barcode\"; style=\"color: black; background-color: #ffffcc\">&nbspbad&nbsp</span><span class=\"barcode\"; style=\"color: black; background-color: #ffffcc\">&nbspyou&nbsp</span><span class=\"barcode\"; style=\"color: black; background-color: #ffffcc\">&nbspcan&nbsp</span><span class=\"barcode\"; style=\"color: black; background-color: #ffffcc\">&nbspask&nbsp</span><span class=\"barcode\"; style=\"color: black; background-color: #ffffcc\">&nbspme&nbsp</span><span class=\"barcode\"; style=\"color: black; background-color: #ffffcc\">&nbspand&nbsp</span><span class=\"barcode\"; style=\"color: black; background-color: #ffffcc\">&nbspI&nbsp</span><span class=\"barcode\"; style=\"color: black; background-color: #ffffcc\">&nbspcan&nbsp</span><span class=\"barcode\"; style=\"color: black; background-color: #ffffcc\">&nbspconfirm&nbsp</span><span class=\"barcode\"; style=\"color: black; background-color: #ffffcc\">&nbspthat&nbsp</span><span class=\"barcode\"; style=\"color: black; background-color: #ffffcc\">&nbspyou&nbsp</span><span class=\"barcode\"; style=\"color: black; background-color: #ffffcc\">&nbspare&nbsp</span><span class=\"barcode\"; style=\"color: black; background-color: #ffffcc\">&nbspan&nbsp</span><span class=\"barcode\"; style=\"color: black; background-color: #ffffcc\">&nbspamazing&nbsp</span><span class=\"barcode\"; style=\"color: black; background-color: #ffffcc\">&nbspperson&nbsp</span><span class=\"barcode\"; style=\"color: black; background-color: #ffffcc\">&nbsp💜&nbsp</span><br><span class=\"barcode\"; style=\"color: black; background-color: #fff8bc\">&nbspEat&nbsp</span><span class=\"barcode\"; style=\"color: black; background-color: #fff7b8\">&nbspher&nbsp</span><span class=\"barcode\"; style=\"color: black; background-color: #ffeda1\">&nbspout&nbsp</span><span class=\"barcode\"; style=\"color: black; background-color: #ffeea3\">&nbspdick&nbsp</span><span class=\"barcode\"; style=\"color: black; background-color: #ffeda0\">&nbspher&nbsp</span><span class=\"barcode\"; style=\"color: black; background-color: #ffeea3\">&nbspdown&nbsp</span><span class=\"barcode\"; style=\"color: black; background-color: #fff5b3\">&nbspcuddle&nbsp</span><span class=\"barcode\"; style=\"color: black; background-color: #fff8bb\">&nbspup&nbsp</span><br><span class=\"barcode\"; style=\"color: black; background-color: #ffffcc\">&nbsptelling&nbsp</span><span class=\"barcode\"; style=\"color: black; background-color: #ffffcc\">&nbspgirls&nbsp</span><span class=\"barcode\"; style=\"color: black; background-color: #ffffcc\">&nbspto&nbsp</span><span class=\"barcode\"; style=\"color: black; background-color: #ffffcc\">&nbspbe&nbsp</span><span class=\"barcode\"; style=\"color: black; background-color: #ffffcc\">&nbspcareful&nbsp</span><span class=\"barcode\"; style=\"color: black; background-color: #ffffcb\">&nbsparound&nbsp</span><span class=\"barcode\"; style=\"color: black; background-color: #ffffcc\">&nbspguys&nbsp</span><span class=\"barcode\"; style=\"color: black; background-color: #ffffcc\">&nbspwhen&nbsp</span><span class=\"barcode\"; style=\"color: black; background-color: #ffffcc\">&nbspyou&nbsp</span><span class=\"barcode\"; style=\"color: black; background-color: #fffeca\">&nbspshould&nbsp</span><span class=\"barcode\"; style=\"color: black; background-color: #fffeca\">&nbspbe&nbsp</span><span class=\"barcode\"; style=\"color: black; background-color: #ffffcc\">&nbsptelling&nbsp</span><span class=\"barcode\"; style=\"color: black; background-color: #ffffcc\">&nbspguys&nbsp</span><span class=\"barcode\"; style=\"color: black; background-color: #ffffcc\">&nbspnot&nbsp</span><span class=\"barcode\"; style=\"color: black; background-color: #ffffcc\">&nbspto&nbsp</span><span class=\"barcode\"; style=\"color: black; background-color: #ffffcc\">&nbsptake&nbsp</span><span class=\"barcode\"; style=\"color: black; background-color: #ffffcc\">&nbspadvantage&nbsp</span><span class=\"barcode\"; style=\"color: black; background-color: #ffffcc\">&nbspof&nbsp</span><span class=\"barcode\"; style=\"color: black; background-color: #ffffcc\">&nbspgirls&gt;&gt;&gt;&gt;&gt;&gt;&gt;&gt;&nbsp</span><br><span class=\"barcode\"; style=\"color: black; background-color: #ffffcc\">&nbsp@user&nbsp</span><span class=\"barcode\"; style=\"color: black; background-color: #ffffcc\">&nbspI’m&nbsp</span><span class=\"barcode\"; style=\"color: black; background-color: #ffffcc\">&nbspscared&nbsp</span><span class=\"barcode\"; style=\"color: black; background-color: #ffffcc\">&nbspof&nbsp</span><span class=\"barcode\"; style=\"color: black; background-color: #ffffcc\">&nbspit&nbsp</span><span class=\"barcode\"; style=\"color: black; background-color: #ffffcc\">&nbspless&nbsp</span><span class=\"barcode\"; style=\"color: black; background-color: #ffffcc\">&nbspso&nbsp</span><span class=\"barcode\"; style=\"color: black; background-color: #ffffcc\">&nbspfor&nbsp</span><span class=\"barcode\"; style=\"color: black; background-color: #ffffcc\">&nbspmyself,&nbsp</span><span class=\"barcode\"; style=\"color: black; background-color: #ffffcc\">&nbspbut&nbsp</span><span class=\"barcode\"; style=\"color: black; background-color: #ffffcc\">&nbspfor&nbsp</span><span class=\"barcode\"; style=\"color: black; background-color: #ffffcc\">&nbspmy&nbsp</span><span class=\"barcode\"; style=\"color: black; background-color: #ffffcc\">&nbspmom&nbsp</span><span class=\"barcode\"; style=\"color: black; background-color: #ffffcc\">&nbspthough,&nbsp</span><span class=\"barcode\"; style=\"color: black; background-color: #ffffcc\">&nbspI&nbsp</span><span class=\"barcode\"; style=\"color: black; background-color: #ffffcc\">&nbspdon’t&nbsp</span><span class=\"barcode\"; style=\"color: black; background-color: #ffffcc\">&nbspthink&nbsp</span><span class=\"barcode\"; style=\"color: black; background-color: #ffffcc\">&nbspI&nbsp</span><span class=\"barcode\"; style=\"color: black; background-color: #ffffcc\">&nbspcould&nbsp</span><span class=\"barcode\"; style=\"color: black; background-color: #ffffcc\">&nbsphandle&nbsp</span><span class=\"barcode\"; style=\"color: black; background-color: #ffffcc\">&nbspseeing&nbsp</span><span class=\"barcode\"; style=\"color: black; background-color: #ffffcc\">&nbspher&nbsp</span><span class=\"barcode\"; style=\"color: black; background-color: #ffffcc\">&nbspgo&nbsp</span><span class=\"barcode\"; style=\"color: black; background-color: #ffffcc\">&nbspthrough&nbsp</span><span class=\"barcode\"; style=\"color: black; background-color: #ffffcc\">&nbspthis&nbsp</span><br><span class=\"barcode\"; style=\"color: black; background-color: #ffffcc\">&nbsp:(&nbsp</span><br><span class=\"barcode\"; style=\"color: black; background-color: #ffffcb\">&nbsp#sellingnudes&nbsp</span><span class=\"barcode\"; style=\"color: black; background-color: #ffffcb\">&nbsp#peefetish&nbsp</span><span class=\"barcode\"; style=\"color: black; background-color: #ffffcc\">&nbsp#sexworker&nbsp</span><span class=\"barcode\"; style=\"color: black; background-color: #ffffcb\">&nbspWanna&nbsp</span><span class=\"barcode\"; style=\"color: black; background-color: #ffffcb\">&nbspsee&nbsp</span><span class=\"barcode\"; style=\"color: black; background-color: #fffeca\">&nbspme&nbsp</span><span class=\"barcode\"; style=\"color: black; background-color: #fffeca\">&nbsppiss&nbsp</span><span class=\"barcode\"; style=\"color: black; background-color: #ffffcb\">&nbspon&nbsp</span><span class=\"barcode\"; style=\"color: black; background-color: #ffffcb\">&nbspsomething?&nbsp</span><span class=\"barcode\"; style=\"color: black; background-color: #fffeca\">&nbspIn&nbsp</span><span class=\"barcode\"; style=\"color: black; background-color: #fffeca\">&nbspa&nbsp</span><span class=\"barcode\"; style=\"color: black; background-color: #fffdc8\">&nbspcup&nbsp</span><span class=\"barcode\"; style=\"color: black; background-color: #fffec9\">&nbspfor&nbsp</span><span class=\"barcode\"; style=\"color: black; background-color: #fffeca\">&nbspu?&nbsp</span><br><span class=\"barcode\"; style=\"color: black; background-color: #ffffcc\">&nbsp@user&nbsp</span><span class=\"barcode\"; style=\"color: black; background-color: #ffffcc\">&nbspSorry&nbsp</span><span class=\"barcode\"; style=\"color: black; background-color: #ffffcc\">&nbspI&nbsp</span><span class=\"barcode\"; style=\"color: black; background-color: #ffffcc\">&nbspknow&nbsp</span><span class=\"barcode\"; style=\"color: black; background-color: #ffffcc\">&nbspyou've&nbsp</span><span class=\"barcode\"; style=\"color: black; background-color: #ffffcc\">&nbsptouched&nbsp</span><span class=\"barcode\"; style=\"color: black; background-color: #ffffcc\">&nbspyour&nbsp</span><span class=\"barcode\"; style=\"color: black; background-color: #ffffcc\">&nbsppussy.&nbsp</span><br><span class=\"barcode\"; style=\"color: black; background-color: #fffcc4\">&nbspI&nbsp</span><span class=\"barcode\"; style=\"color: black; background-color: #fffdc7\">&nbspthink&nbsp</span><span class=\"barcode\"; style=\"color: black; background-color: #fffbc3\">&nbspI’m&nbsp</span><span class=\"barcode\"; style=\"color: black; background-color: #fffeca\">&nbspcatching&nbsp</span><span class=\"barcode\"; style=\"color: black; background-color: #fffdc8\">&nbspfeelings💆🏽‍♂️&nbsp</span><br><span class=\"barcode\"; style=\"color: black; background-color: #fffdc8\">&nbspshoutout&nbsp</span><span class=\"barcode\"; style=\"color: black; background-color: #fffdc8\">&nbspto&nbsp</span><span class=\"barcode\"; style=\"color: black; background-color: #fffec9\">&nbspmy&nbsp</span><span class=\"barcode\"; style=\"color: black; background-color: #fffdc8\">&nbspex’s&nbsp</span><span class=\"barcode\"; style=\"color: black; background-color: #fffdc7\">&nbspnew&nbsp</span><span class=\"barcode\"; style=\"color: black; background-color: #fffeca\">&nbspgirl.&nbsp</span><span class=\"barcode\"; style=\"color: black; background-color: #fffdc8\">&nbspshe&nbsp</span><span class=\"barcode\"; style=\"color: black; background-color: #fffec9\">&nbspcan&nbsp</span><span class=\"barcode\"; style=\"color: black; background-color: #fffec9\">&nbsphave&nbsp</span><span class=\"barcode\"; style=\"color: black; background-color: #fffec9\">&nbspALL&nbsp</span><span class=\"barcode\"; style=\"color: black; background-color: #fffeca\">&nbspthe&nbsp</span><span class=\"barcode\"; style=\"color: black; background-color: #fffec9\">&nbspproblems&nbsp</span><span class=\"barcode\"; style=\"color: black; background-color: #fffeca\">&nbspthat&nbsp</span><span class=\"barcode\"; style=\"color: black; background-color: #fffeca\">&nbspcome&nbsp</span><span class=\"barcode\"; style=\"color: black; background-color: #fffdc7\">&nbspwith&nbsp</span><span class=\"barcode\"; style=\"color: black; background-color: #fffec9\">&nbspthat.&nbsp</span><span class=\"barcode\"; style=\"color: black; background-color: #fffdc8\">&nbspjust&nbsp</span><span class=\"barcode\"; style=\"color: black; background-color: #fffdc8\">&nbspdo&nbsp</span><span class=\"barcode\"; style=\"color: black; background-color: #fffcc6\">&nbspme&nbsp</span><span class=\"barcode\"; style=\"color: black; background-color: #fffec9\">&nbspa&nbsp</span><span class=\"barcode\"; style=\"color: black; background-color: #fffec9\">&nbspfavor&nbsp</span><span class=\"barcode\"; style=\"color: black; background-color: #ffffcc\">&nbspand&nbsp</span><span class=\"barcode\"; style=\"color: black; background-color: #fffeca\">&nbspget&nbsp</span><span class=\"barcode\"; style=\"color: black; background-color: #fffec9\">&nbsphim&nbsp</span><span class=\"barcode\"; style=\"color: black; background-color: #fffeca\">&nbsptoo&nbsp</span><br><span class=\"barcode\"; style=\"color: black; background-color: #fffdc7\">&nbspleave&nbsp</span><span class=\"barcode\"; style=\"color: black; background-color: #fffabf\">&nbspme&nbsp</span><span class=\"barcode\"; style=\"color: black; background-color: #fffdc8\">&nbspalone&nbsp</span><br><span class=\"barcode\"; style=\"color: black; background-color: #fffeca\">&nbspLooking&nbsp</span><span class=\"barcode\"; style=\"color: black; background-color: #fffeca\">&nbspfor&nbsp</span><span class=\"barcode\"; style=\"color: black; background-color: #ffffcb\">&nbsppictures&nbsp</span><span class=\"barcode\"; style=\"color: black; background-color: #ffffcb\">&nbspI&nbsp</span><span class=\"barcode\"; style=\"color: black; background-color: #ffffcb\">&nbsprealized&nbsp</span><span class=\"barcode\"; style=\"color: black; background-color: #fffeca\">&nbspI&nbsp</span><span class=\"barcode\"; style=\"color: black; background-color: #fffeca\">&nbspneed&nbsp</span><span class=\"barcode\"; style=\"color: black; background-color: #ffffcb\">&nbspmarks&nbsp</span><span class=\"barcode\"; style=\"color: black; background-color: #fffeca\">&nbspon&nbsp</span><span class=\"barcode\"; style=\"color: black; background-color: #fffeca\">&nbspme,&nbsp</span><span class=\"barcode\"; style=\"color: black; background-color: #ffffcb\">&nbspthey&nbsp</span><span class=\"barcode\"; style=\"color: black; background-color: #fffeca\">&nbsplook&nbsp</span><span class=\"barcode\"; style=\"color: black; background-color: #fffeca\">&nbspso&nbsp</span><span class=\"barcode\"; style=\"color: black; background-color: #ffffcb\">&nbsppretty&nbsp</span><br><span class=\"barcode\"; style=\"color: black; background-color: #fffeca\">&nbsp@user&nbsp</span><span class=\"barcode\"; style=\"color: black; background-color: #fffdc8\">&nbspgod&nbsp</span><span class=\"barcode\"; style=\"color: black; background-color: #fffec9\">&nbspyoure&nbsp</span><span class=\"barcode\"; style=\"color: black; background-color: #fffeca\">&nbspso&nbsp</span><span class=\"barcode\"; style=\"color: black; background-color: #fffdc8\">&nbspobsessed&nbsp</span><span class=\"barcode\"; style=\"color: black; background-color: #fffdc8\">&nbspwith&nbsp</span><span class=\"barcode\"; style=\"color: black; background-color: #fffdc8\">&nbspme&nbsp</span><br><span class=\"barcode\"; style=\"color: black; background-color: #fff5b4\">&nbspMy&nbsp</span><span class=\"barcode\"; style=\"color: black; background-color: #fff7b8\">&nbspbed&nbsp</span><span class=\"barcode\"; style=\"color: black; background-color: #fff1ab\">&nbspis&nbsp</span><span class=\"barcode\"; style=\"color: black; background-color: #ffe691\">&nbspcovered&nbsp</span><span class=\"barcode\"; style=\"color: black; background-color: #fff2ac\">&nbspin&nbsp</span><span class=\"barcode\"; style=\"color: black; background-color: #ffeda1\">&nbspsexualized&nbsp</span><span class=\"barcode\"; style=\"color: black; background-color: #ffe895\">&nbspparaffin&nbsp</span><br><span class=\"barcode\"; style=\"color: black; background-color: #ffffcc\">&nbsp@user&nbsp</span><span class=\"barcode\"; style=\"color: black; background-color: #ffffcc\">&nbsp@user&nbsp</span><span class=\"barcode\"; style=\"color: black; background-color: #ffffcc\">&nbspLMFAO.&nbsp</span><span class=\"barcode\"; style=\"color: black; background-color: #ffffcc\">&nbspWe&nbsp</span><span class=\"barcode\"; style=\"color: black; background-color: #ffffcc\">&nbspstood&nbsp</span><span class=\"barcode\"; style=\"color: black; background-color: #ffffcc\">&nbspa&nbsp</span><span class=\"barcode\"; style=\"color: black; background-color: #ffffcc\">&nbspbetter&nbsp</span><span class=\"barcode\"; style=\"color: black; background-color: #ffffcc\">&nbspchance&nbsp</span><span class=\"barcode\"; style=\"color: black; background-color: #ffffcc\">&nbspwith&nbsp</span><span class=\"barcode\"; style=\"color: black; background-color: #ffffcc\">&nbspthe&nbsp</span><span class=\"barcode\"; style=\"color: black; background-color: #ffffcc\">&nbspwomen.&nbsp</span><span class=\"barcode\"; style=\"color: black; background-color: #ffffcc\">&nbspThat&nbsp</span><span class=\"barcode\"; style=\"color: black; background-color: #ffffcc\">&nbspone&nbsp</span><span class=\"barcode\"; style=\"color: black; background-color: #ffffcc\">&nbspgo&nbsp</span><span class=\"barcode\"; style=\"color: black; background-color: #ffffcc\">&nbspcut&nbsp</span><span class=\"barcode\"; style=\"color: black; background-color: #ffffcc\">&nbspoff&nbsp</span><span class=\"barcode\"; style=\"color: black; background-color: #ffffcc\">&nbspyour&nbsp</span><span class=\"barcode\"; style=\"color: black; background-color: #ffffcc\">&nbsp“twins”.&nbsp</span><br><span class=\"barcode\"; style=\"color: black; background-color: #fffcc6\">&nbsp@user&nbsp</span><span class=\"barcode\"; style=\"color: black; background-color: #fff9be\">&nbspI&nbsp</span><span class=\"barcode\"; style=\"color: black; background-color: #fff8bc\">&nbspwould&nbsp</span><span class=\"barcode\"; style=\"color: black; background-color: #fff8bc\">&nbspmake&nbsp</span><span class=\"barcode\"; style=\"color: black; background-color: #fff8bc\">&nbspyou&nbsp</span><span class=\"barcode\"; style=\"color: black; background-color: #fff7b8\">&nbspa&nbsp</span><span class=\"barcode\"; style=\"color: black; background-color: #fff6b5\">&nbsplucky&nbsp</span><span class=\"barcode\"; style=\"color: black; background-color: #fff8bc\">&nbspguy&nbsp</span><span class=\"barcode\"; style=\"color: black; background-color: #fffac0\">&nbspif&nbsp</span><span class=\"barcode\"; style=\"color: black; background-color: #fff9bd\">&nbspyou&nbsp</span><span class=\"barcode\"; style=\"color: black; background-color: #fff7b9\">&nbspwanted&nbsp</span><span class=\"barcode\"; style=\"color: black; background-color: #fff6b5\">&nbsp😉&nbsp</span><span class=\"barcode\"; style=\"color: black; background-color: #fff1ab\">&nbspI&nbsp</span><span class=\"barcode\"; style=\"color: black; background-color: #fff3af\">&nbsphope&nbsp</span><span class=\"barcode\"; style=\"color: black; background-color: #fff5b4\">&nbspyour&nbsp</span><span class=\"barcode\"; style=\"color: black; background-color: #fff9bd\">&nbspwell?&nbsp</span><br><span class=\"barcode\"; style=\"color: black; background-color: #fffcc4\">&nbspAlways&nbsp</span><span class=\"barcode\"; style=\"color: black; background-color: #fffcc6\">&nbsptalk&nbsp</span><span class=\"barcode\"; style=\"color: black; background-color: #fffbc3\">&nbspto&nbsp</span><span class=\"barcode\"; style=\"color: black; background-color: #fff4b1\">&nbspme&nbsp</span><span class=\"barcode\"; style=\"color: black; background-color: #fff8bb\">&nbspbecause&nbsp</span><span class=\"barcode\"; style=\"color: black; background-color: #fff4b1\">&nbspyou&nbsp</span><span class=\"barcode\"; style=\"color: black; background-color: #fff7b9\">&nbspmake&nbsp</span><span class=\"barcode\"; style=\"color: black; background-color: #fff5b4\">&nbspme&nbsp</span><span class=\"barcode\"; style=\"color: black; background-color: #fff6b5\">&nbsphappy❤️❤️❤️&nbsp</span><br><span class=\"barcode\"; style=\"color: black; background-color: #fffdc8\">&nbspI&nbsp</span><span class=\"barcode\"; style=\"color: black; background-color: #fffcc4\">&nbspcrave&nbsp</span><span class=\"barcode\"; style=\"color: black; background-color: #fff7b9\">&nbspyour&nbsp</span><span class=\"barcode\"; style=\"color: black; background-color: #fff5b3\">&nbsppresence&nbsp</span><span class=\"barcode\"; style=\"color: black; background-color: #ffec9f\">&nbsphere&nbsp</span><span class=\"barcode\"; style=\"color: black; background-color: #ffeea2\">&nbspwith&nbsp</span><span class=\"barcode\"; style=\"color: black; background-color: #ffe895\">&nbspme.&nbsp</span><br><span class=\"barcode\"; style=\"color: black; background-color: #ffffcc\">&nbspI&nbsp</span><span class=\"barcode\"; style=\"color: black; background-color: #ffffcb\">&nbspknow&nbsp</span><span class=\"barcode\"; style=\"color: black; background-color: #ffffcb\">&nbspwhat&nbsp</span><span class=\"barcode\"; style=\"color: black; background-color: #fffeca\">&nbspI&nbsp</span><span class=\"barcode\"; style=\"color: black; background-color: #fffec9\">&nbspdeserve&nbsp</span><span class=\"barcode\"; style=\"color: black; background-color: #fffeca\">&nbspand&nbsp</span><span class=\"barcode\"; style=\"color: black; background-color: #fffeca\">&nbspno&nbsp</span><span class=\"barcode\"; style=\"color: black; background-color: #fffdc8\">&nbspone&nbsp</span><span class=\"barcode\"; style=\"color: black; background-color: #ffffcb\">&nbspis&nbsp</span><span class=\"barcode\"; style=\"color: black; background-color: #ffffcc\">&nbspgonna&nbsp</span><span class=\"barcode\"; style=\"color: black; background-color: #fffec9\">&nbsptake&nbsp</span><span class=\"barcode\"; style=\"color: black; background-color: #fffcc6\">&nbspthat&nbsp</span><span class=\"barcode\"; style=\"color: black; background-color: #fffec9\">&nbspfrom&nbsp</span><span class=\"barcode\"; style=\"color: black; background-color: #fffec9\">&nbspme&nbsp</span><span class=\"barcode\"; style=\"color: black; background-color: #ffffcc\">&nbsp:)&nbsp</span><br><span class=\"barcode\"; style=\"color: black; background-color: #fffcc6\">&nbspi&nbsp</span><span class=\"barcode\"; style=\"color: black; background-color: #fffdc7\">&nbspain’t&nbsp</span><span class=\"barcode\"; style=\"color: black; background-color: #fffcc4\">&nbspobligated&nbsp</span><span class=\"barcode\"; style=\"color: black; background-color: #fffdc8\">&nbspto&nbsp</span><span class=\"barcode\"; style=\"color: black; background-color: #fffdc8\">&nbspno&nbsp</span><span class=\"barcode\"; style=\"color: black; background-color: #fffabf\">&nbspone&nbsp</span><span class=\"barcode\"; style=\"color: black; background-color: #fffec9\">&nbspso&nbsp</span><span class=\"barcode\"; style=\"color: black; background-color: #fffdc8\">&nbspif&nbsp</span><span class=\"barcode\"; style=\"color: black; background-color: #fffdc8\">&nbspi&nbsp</span><span class=\"barcode\"; style=\"color: black; background-color: #fffcc6\">&nbspfw&nbsp</span><span class=\"barcode\"; style=\"color: black; background-color: #fff7b9\">&nbspyou&nbsp</span><span class=\"barcode\"; style=\"color: black; background-color: #fffdc7\">&nbspit’s&nbsp</span><span class=\"barcode\"; style=\"color: black; background-color: #fff9bd\">&nbspcause&nbsp</span><span class=\"barcode\"; style=\"color: black; background-color: #fffbc2\">&nbspi&nbsp</span><span class=\"barcode\"; style=\"color: black; background-color: #fffcc6\">&nbspwant&nbsp</span><span class=\"barcode\"; style=\"color: black; background-color: #fffcc4\">&nbspto&nbsp</span><br><span class=\"barcode\"; style=\"color: black; background-color: #fffec9\">&nbspi’ll&nbsp</span><span class=\"barcode\"; style=\"color: black; background-color: #fffec9\">&nbspbe&nbsp</span><span class=\"barcode\"; style=\"color: black; background-color: #ffffcb\">&nbspyours&nbsp</span><span class=\"barcode\"; style=\"color: black; background-color: #fffdc8\">&nbspthrough&nbsp</span><span class=\"barcode\"; style=\"color: black; background-color: #fffdc7\">&nbspall&nbsp</span><span class=\"barcode\"; style=\"color: black; background-color: #fffdc8\">&nbspthe&nbsp</span><span class=\"barcode\"; style=\"color: black; background-color: #fffdc8\">&nbspyears,&nbsp</span><span class=\"barcode\"; style=\"color: black; background-color: #fffdc7\">&nbsptill&nbsp</span><span class=\"barcode\"; style=\"color: black; background-color: #fffdc8\">&nbspthe&nbsp</span><span class=\"barcode\"; style=\"color: black; background-color: #fffdc8\">&nbspend&nbsp</span><span class=\"barcode\"; style=\"color: black; background-color: #fffcc6\">&nbspof&nbsp</span><span class=\"barcode\"; style=\"color: black; background-color: #fffdc7\">&nbsptime.&nbsp</span><span class=\"barcode\"; style=\"color: black; background-color: #fffbc2\">&nbsp#MewSuppasit&nbsp</span><span class=\"barcode\"; style=\"color: black; background-color: #fffcc4\">&nbsp@MSuppasit&nbsp</span><span class=\"barcode\"; style=\"color: black; background-color: #fffdc8\">&nbsp#MyCandyHeroxMew&nbsp</span><br><span class=\"barcode\"; style=\"color: black; background-color: #fffabf\">&nbspdid&nbsp</span><span class=\"barcode\"; style=\"color: black; background-color: #fff8bb\">&nbspyou&nbsp</span><span class=\"barcode\"; style=\"color: black; background-color: #fffabf\">&nbspfinger&nbsp</span><span class=\"barcode\"; style=\"color: black; background-color: #fff5b3\">&nbspher&nbsp</span><span class=\"barcode\"; style=\"color: black; background-color: #fff3af\">&nbspback&nbsp</span><span class=\"barcode\"; style=\"color: black; background-color: #fff4b1\">&nbspor&nbsp</span><span class=\"barcode\"; style=\"color: black; background-color: #fff7b8\">&nbspeat&nbsp</span><span class=\"barcode\"; style=\"color: black; background-color: #fff8bc\">&nbspher&nbsp</span><span class=\"barcode\"; style=\"color: black; background-color: #fff6b6\">&nbspout&nbsp</span><span class=\"barcode\"; style=\"color: black; background-color: #fff5b3\">&nbspor&nbsp</span><span class=\"barcode\"; style=\"color: black; background-color: #fff1ab\">&nbspanything?&nbsp</span><span class=\"barcode\"; style=\"color: black; background-color: #fff1aa\">&nbsp—&nbsp</span><span class=\"barcode\"; style=\"color: black; background-color: #fff1a9\">&nbspOfc&nbsp</span><span class=\"barcode\"; style=\"color: black; background-color: #fff1aa\">&nbspduh&nbsp</span><span class=\"barcode\"; style=\"color: black; background-color: #fff0a8\">&nbspit&nbsp</span><span class=\"barcode\"; style=\"color: black; background-color: #fff1a9\">&nbspled&nbsp</span><span class=\"barcode\"; style=\"color: black; background-color: #fff1aa\">&nbspto&nbsp</span><span class=\"barcode\"; style=\"color: black; background-color: #fff0a7\">&nbspsex&nbsp</span><span class=\"barcode\"; style=\"color: black; background-color: #ffeda1\">&nbsphttp&nbsp</span><br><span class=\"barcode\"; style=\"color: black; background-color: #fffeca\">&nbsp@user&nbsp</span><span class=\"barcode\"; style=\"color: black; background-color: #fffac0\">&nbspdm's&nbsp</span><span class=\"barcode\"; style=\"color: black; background-color: #fffec9\">&nbspare&nbsp</span><span class=\"barcode\"; style=\"color: black; background-color: #fffec9\">&nbspALWAYS&nbsp</span><span class=\"barcode\"; style=\"color: black; background-color: #fffbc3\">&nbspopen&nbsp</span><span class=\"barcode\"; style=\"color: black; background-color: #fffdc7\">&nbspfor&nbsp</span><span class=\"barcode\"; style=\"color: black; background-color: #fffec9\">&nbspthoughts&nbsp</span><span class=\"barcode\"; style=\"color: black; background-color: #fffec9\">&nbspor&nbsp</span><span class=\"barcode\"; style=\"color: black; background-color: #fffec9\">&nbspfeelins&nbsp</span><span class=\"barcode\"; style=\"color: black; background-color: #fffec9\">&nbspor&nbsp</span><span class=\"barcode\"; style=\"color: black; background-color: #fffdc8\">&nbsppics&nbsp</span><span class=\"barcode\"; style=\"color: black; background-color: #fffdc8\">&nbspor&nbsp</span><span class=\"barcode\"; style=\"color: black; background-color: #fffcc6\">&nbsprecs&nbsp</span><span class=\"barcode\"; style=\"color: black; background-color: #fffcc4\">&nbspor&nbsp</span><span class=\"barcode\"; style=\"color: black; background-color: #fffeca\">&nbspstream&nbsp</span><span class=\"barcode\"; style=\"color: black; background-color: #fffeca\">&nbspof&nbsp</span><span class=\"barcode\"; style=\"color: black; background-color: #fffec9\">&nbspconsciousness&nbsp</span><br><span class=\"barcode\"; style=\"color: black; background-color: #fffeca\">&nbspNgl....getting&nbsp</span><span class=\"barcode\"; style=\"color: black; background-color: #fffeca\">&nbspdommed&nbsp</span><span class=\"barcode\"; style=\"color: black; background-color: #ffffcb\">&nbspby&nbsp</span><span class=\"barcode\"; style=\"color: black; background-color: #fffdc7\">&nbspanother&nbsp</span><span class=\"barcode\"; style=\"color: black; background-color: #fffdc7\">&nbspfemboy&nbsp</span><span class=\"barcode\"; style=\"color: black; background-color: #fffdc8\">&nbspwould&nbsp</span><span class=\"barcode\"; style=\"color: black; background-color: #fffec9\">&nbspbe&nbsp</span><span class=\"barcode\"; style=\"color: black; background-color: #fffeca\">&nbsppretty&nbsp</span><span class=\"barcode\"; style=\"color: black; background-color: #fffec9\">&nbspepic&nbsp</span><span class=\"barcode\"; style=\"color: black; background-color: #fffeca\">&nbspright&nbsp</span><span class=\"barcode\"; style=\"color: black; background-color: #fffdc8\">&nbspnow😳😳&nbsp</span><br><span class=\"barcode\"; style=\"color: black; background-color: #fff1a9\">&nbspI&nbsp</span><span class=\"barcode\"; style=\"color: black; background-color: #ffeea2\">&nbsploved&nbsp</span><span class=\"barcode\"; style=\"color: black; background-color: #ffe998\">&nbspu&nbsp</span><br><span class=\"barcode\"; style=\"color: black; background-color: #fffdc8\">&nbspCould've&nbsp</span><span class=\"barcode\"; style=\"color: black; background-color: #fffdc7\">&nbspfuck&nbsp</span><span class=\"barcode\"; style=\"color: black; background-color: #fffbc3\">&nbspyo&nbsp</span><span class=\"barcode\"; style=\"color: black; background-color: #fffec9\">&nbspnigga&nbsp</span><span class=\"barcode\"; style=\"color: black; background-color: #fffec9\">&nbspbitch&nbsp</span><span class=\"barcode\"; style=\"color: black; background-color: #fffdc8\">&nbspbut&nbsp</span><span class=\"barcode\"; style=\"color: black; background-color: #fffec9\">&nbsphe&nbsp</span><span class=\"barcode\"; style=\"color: black; background-color: #fffec9\">&nbspmade&nbsp</span><span class=\"barcode\"; style=\"color: black; background-color: #fffec9\">&nbspmy&nbsp</span><span class=\"barcode\"; style=\"color: black; background-color: #fffdc8\">&nbsppussy&nbsp</span><span class=\"barcode\"; style=\"color: black; background-color: #fffdc8\">&nbspsoft&nbsp</span><span class=\"barcode\"; style=\"color: black; background-color: #fffdc7\">&nbsp😉&nbsp</span><span class=\"barcode\"; style=\"color: black; background-color: #fffdc8\">&nbspor&nbsp</span><span class=\"barcode\"; style=\"color: black; background-color: #fffdc7\">&nbspwhatever&nbsp</span><span class=\"barcode\"; style=\"color: black; background-color: #fffec9\">&nbsptf&nbsp</span><span class=\"barcode\"; style=\"color: black; background-color: #fffdc8\">&nbspDaBaby&nbsp</span><span class=\"barcode\"; style=\"color: black; background-color: #fffec9\">&nbspsaid&nbsp</span><span class=\"barcode\"; style=\"color: black; background-color: #ffffcc\">&nbsp😂&nbsp</span><br><span class=\"barcode\"; style=\"color: black; background-color: #fffdc7\">&nbspIt’s&nbsp</span><span class=\"barcode\"; style=\"color: black; background-color: #fffec9\">&nbspbeen&nbsp</span><span class=\"barcode\"; style=\"color: black; background-color: #fffcc6\">&nbsp4&nbsp</span><span class=\"barcode\"; style=\"color: black; background-color: #fffbc2\">&nbsphours&nbsp</span><span class=\"barcode\"; style=\"color: black; background-color: #fffbc3\">&nbspsince&nbsp</span><span class=\"barcode\"; style=\"color: black; background-color: #fffcc4\">&nbspthe&nbsp</span><span class=\"barcode\"; style=\"color: black; background-color: #fffcc4\">&nbspsong&nbsp</span><span class=\"barcode\"; style=\"color: black; background-color: #fffbc2\">&nbspcame&nbsp</span><span class=\"barcode\"; style=\"color: black; background-color: #fffbc3\">&nbspout&nbsp</span><span class=\"barcode\"; style=\"color: black; background-color: #fffac0\">&nbspand&nbsp</span><span class=\"barcode\"; style=\"color: black; background-color: #fffbc2\">&nbspI’m&nbsp</span><span class=\"barcode\"; style=\"color: black; background-color: #fffeca\">&nbspstill&nbsp</span><span class=\"barcode\"; style=\"color: black; background-color: #fff6b6\">&nbspcrying&nbsp</span><span class=\"barcode\"; style=\"color: black; background-color: #fffcc4\">&nbsp#harrystyles&nbsp</span><br><span class=\"barcode\"; style=\"color: black; background-color: #fff9be\">&nbsp@user&nbsp</span><span class=\"barcode\"; style=\"color: black; background-color: #fff9bd\">&nbsp@user&nbsp</span><span class=\"barcode\"; style=\"color: black; background-color: #fff9be\">&nbspits&nbsp</span><span class=\"barcode\"; style=\"color: black; background-color: #fff6b6\">&nbspglorious&nbsp</span><span class=\"barcode\"; style=\"color: black; background-color: #fff6b5\">&nbsp🔥🔥&nbsp</span><br><span class=\"barcode\"; style=\"color: black; background-color: #ffec9f\">&nbspim&nbsp</span><span class=\"barcode\"; style=\"color: black; background-color: #ffe691\">&nbsphappier&nbsp</span><span class=\"barcode\"; style=\"color: black; background-color: #ffe48d\">&nbspnow&nbsp</span><span class=\"barcode\"; style=\"color: black; background-color: #fedd7e\">&nbspat&nbsp</span><span class=\"barcode\"; style=\"color: black; background-color: #fed976\">&nbspleast&nbsp</span><br><span class=\"barcode\"; style=\"color: black; background-color: #fffec9\">&nbspIf&nbsp</span><span class=\"barcode\"; style=\"color: black; background-color: #fffeca\">&nbspI&nbsp</span><span class=\"barcode\"; style=\"color: black; background-color: #fffdc7\">&nbsptouch&nbsp</span><span class=\"barcode\"; style=\"color: black; background-color: #fffac0\">&nbspyou,you’ll&nbsp</span><span class=\"barcode\"; style=\"color: black; background-color: #fffcc6\">&nbspembrace&nbsp</span><span class=\"barcode\"; style=\"color: black; background-color: #fff6b5\">&nbspme&nbsp</span><span class=\"barcode\"; style=\"color: black; background-color: #fffbc3\">&nbspgently&nbsp</span><span class=\"barcode\"; style=\"color: black; background-color: #fff8bb\">&nbspthat&nbsp</span><span class=\"barcode\"; style=\"color: black; background-color: #fff9bd\">&nbspis&nbsp</span><span class=\"barcode\"; style=\"color: black; background-color: #fffac0\">&nbspenough&nbsp</span><span class=\"barcode\"; style=\"color: black; background-color: #fff8bc\">&nbspfor&nbsp</span><span class=\"barcode\"; style=\"color: black; background-color: #fff9be\">&nbspme&nbsp</span><span class=\"barcode\"; style=\"color: black; background-color: #fff7b9\">&nbspthat&nbsp</span><span class=\"barcode\"; style=\"color: black; background-color: #fff6b5\">&nbspis&nbsp</span><span class=\"barcode\"; style=\"color: black; background-color: #fff9be\">&nbspenough.&nbsp</span><br><span class=\"barcode\"; style=\"color: black; background-color: #ffeea3\">&nbspHorny&nbsp</span><span class=\"barcode\"; style=\"color: black; background-color: #ffe793\">&nbspwanna&nbsp</span><span class=\"barcode\"; style=\"color: black; background-color: #feba55\">&nbspfucking&nbsp</span><span class=\"barcode\"; style=\"color: black; background-color: #feb751\">&nbsp🍆🍆🍆&nbsp</span><span class=\"barcode\"; style=\"color: black; background-color: #fea547\">&nbsphttp&nbsp</span><br>\n"
          ]
        },
        {
          "data": {
            "text/html": [
              "<span class=\"barcode\"; style=\"color: black; background-color: #fffec9\">&nbsp’m&nbsp</span><span class=\"barcode\"; style=\"color: black; background-color: #ffffcb\">&nbspnot&nbsp</span><span class=\"barcode\"; style=\"color: black; background-color: #fffec9\">&nbspashamed&nbsp</span><span class=\"barcode\"; style=\"color: black; background-color: #fffeca\">&nbspof&nbsp</span><span class=\"barcode\"; style=\"color: black; background-color: #ffffcb\">&nbspwhat&nbsp</span><span class=\"barcode\"; style=\"color: black; background-color: #ffffcb\">&nbspI&nbsp</span><span class=\"barcode\"; style=\"color: black; background-color: #fffeca\">&nbspam&nbsp</span><span class=\"barcode\"; style=\"color: black; background-color: #fffec9\">&nbspand&nbsp</span><span class=\"barcode\"; style=\"color: black; background-color: #fffeca\">&nbspthat&nbsp</span><span class=\"barcode\"; style=\"color: black; background-color: #ffffcc\">&nbspI&nbsp</span><span class=\"barcode\"; style=\"color: black; background-color: #ffffcb\">&nbsphave&nbsp</span><span class=\"barcode\"; style=\"color: black; background-color: #fffec9\">&nbspcurves,&nbsp</span><span class=\"barcode\"; style=\"color: black; background-color: #fffeca\">&nbspand&nbsp</span><span class=\"barcode\"; style=\"color: black; background-color: #ffffcc\">&nbspthat&nbsp</span><span class=\"barcode\"; style=\"color: black; background-color: #ffffcc\">&nbspI’m&nbsp</span><span class=\"barcode\"; style=\"color: black; background-color: #ffffcb\">&nbspthick.&nbsp</span><span class=\"barcode\"; style=\"color: black; background-color: #ffffcb\">&nbspI&nbsp</span><span class=\"barcode\"; style=\"color: black; background-color: #fffec9\">&nbsploke&nbsp</span><span class=\"barcode\"; style=\"color: black; background-color: #ffffcb\">&nbspmy&nbsp</span><span class=\"barcode\"; style=\"color: black; background-color: #ffffcb\">&nbspbody&nbsp</span><span class=\"barcode\"; style=\"color: black; background-color: #ffffcb\">&nbsp💕&nbsp</span><span class=\"barcode\"; style=\"color: black; background-color: #ffffcc\">&nbsphttp&nbsp</span><br><span class=\"barcode\"; style=\"color: black; background-color: #ffffcb\">&nbsp@user&nbsp</span><span class=\"barcode\"; style=\"color: black; background-color: #fffeca\">&nbsp『✿』&nbsp</span><span class=\"barcode\"; style=\"color: black; background-color: #ffffcb\">&nbspYou&nbsp</span><span class=\"barcode\"; style=\"color: black; background-color: #fffeca\">&nbspshould&nbsp</span><span class=\"barcode\"; style=\"color: black; background-color: #ffffcb\">&nbspmessage&nbsp</span><span class=\"barcode\"; style=\"color: black; background-color: #ffffcc\">&nbspthem&nbsp</span><span class=\"barcode\"; style=\"color: black; background-color: #ffffcc\">&nbspabout&nbsp</span><span class=\"barcode\"; style=\"color: black; background-color: #ffffcc\">&nbspthat!&nbsp</span><span class=\"barcode\"; style=\"color: black; background-color: #ffffcc\">&nbspI'm&nbsp</span><span class=\"barcode\"; style=\"color: black; background-color: #ffffcc\">&nbspsure&nbsp</span><span class=\"barcode\"; style=\"color: black; background-color: #ffffcc\">&nbspmost&nbsp</span><span class=\"barcode\"; style=\"color: black; background-color: #ffffcc\">&nbsppeople&nbsp</span><span class=\"barcode\"; style=\"color: black; background-color: #ffffcb\">&nbspwould&nbsp</span><span class=\"barcode\"; style=\"color: black; background-color: #ffffcb\">&nbsplove&nbsp</span><span class=\"barcode\"; style=\"color: black; background-color: #ffffcc\">&nbspto&nbsp</span><span class=\"barcode\"; style=\"color: black; background-color: #ffffcc\">&nbspRP&nbsp</span><span class=\"barcode\"; style=\"color: black; background-color: #ffffcc\">&nbspwith&nbsp</span><span class=\"barcode\"; style=\"color: black; background-color: #ffffcc\">&nbspyou.&nbsp</span><br><span class=\"barcode\"; style=\"color: black; background-color: #fffdc8\">&nbspNothing&nbsp</span><span class=\"barcode\"; style=\"color: black; background-color: #ffffcb\">&nbspI&nbsp</span><span class=\"barcode\"; style=\"color: black; background-color: #fffeca\">&nbsplike&nbsp</span><span class=\"barcode\"; style=\"color: black; background-color: #fffcc6\">&nbspmore&nbsp</span><span class=\"barcode\"; style=\"color: black; background-color: #fffdc8\">&nbspthan&nbsp</span><span class=\"barcode\"; style=\"color: black; background-color: #fffec9\">&nbspknowing&nbsp</span><span class=\"barcode\"; style=\"color: black; background-color: #fffdc8\">&nbspmy&nbsp</span><span class=\"barcode\"; style=\"color: black; background-color: #ffffcb\">&nbspfriends&nbsp</span><span class=\"barcode\"; style=\"color: black; background-color: #ffffcb\">&nbspare&nbsp</span><span class=\"barcode\"; style=\"color: black; background-color: #fffeca\">&nbsphappy&nbsp</span><span class=\"barcode\"; style=\"color: black; background-color: #ffffcb\">&nbsp😍🥺❤️&nbsp</span><br><span class=\"barcode\"; style=\"color: black; background-color: #fffec9\">&nbspThe&nbsp</span><span class=\"barcode\"; style=\"color: black; background-color: #fffdc7\">&nbspless&nbsp</span><span class=\"barcode\"; style=\"color: black; background-color: #fff9be\">&nbsplikely&nbsp</span><span class=\"barcode\"; style=\"color: black; background-color: #fffbc3\">&nbspI&nbsp</span><span class=\"barcode\"; style=\"color: black; background-color: #fff9bd\">&nbspam&nbsp</span><span class=\"barcode\"; style=\"color: black; background-color: #fff8bc\">&nbspto&nbsp</span><span class=\"barcode\"; style=\"color: black; background-color: #fff9be\">&nbspbe&nbsp</span><span class=\"barcode\"; style=\"color: black; background-color: #fffac0\">&nbspwith&nbsp</span><span class=\"barcode\"; style=\"color: black; background-color: #fffac0\">&nbspyou&nbsp</span><span class=\"barcode\"; style=\"color: black; background-color: #fff8bb\">&nbspthe&nbsp</span><span class=\"barcode\"; style=\"color: black; background-color: #fff7b9\">&nbspmore&nbsp</span><span class=\"barcode\"; style=\"color: black; background-color: #fffac0\">&nbspI&nbsp</span><span class=\"barcode\"; style=\"color: black; background-color: #fff8bc\">&nbspwant&nbsp</span><span class=\"barcode\"; style=\"color: black; background-color: #fffbc2\">&nbspyou&nbsp</span><br><span class=\"barcode\"; style=\"color: black; background-color: #fedc7c\">&nbspi&nbsp</span><span class=\"barcode\"; style=\"color: black; background-color: #ffeda1\">&nbspgive&nbsp</span><span class=\"barcode\"; style=\"color: black; background-color: #fffac0\">&nbspup&nbsp</span><br><span class=\"barcode\"; style=\"color: black; background-color: #fffeca\">&nbspI&nbsp</span><span class=\"barcode\"; style=\"color: black; background-color: #fffeca\">&nbspcare.&nbsp</span><span class=\"barcode\"; style=\"color: black; background-color: #ffffcc\">&nbspI&nbsp</span><span class=\"barcode\"; style=\"color: black; background-color: #fffeca\">&nbspalways&nbsp</span><span class=\"barcode\"; style=\"color: black; background-color: #fffdc8\">&nbspcare.&nbsp</span><br><span class=\"barcode\"; style=\"color: black; background-color: #fffabf\">&nbspMasturbation&nbsp</span><span class=\"barcode\"; style=\"color: black; background-color: #fff7b8\">&nbspis&nbsp</span><span class=\"barcode\"; style=\"color: black; background-color: #ffeb9b\">&nbspkey.&nbsp</span><br><span class=\"barcode\"; style=\"color: black; background-color: #fffbc3\">&nbspNot&nbsp</span><span class=\"barcode\"; style=\"color: black; background-color: #fffbc2\">&nbspDylan&nbsp</span><span class=\"barcode\"; style=\"color: black; background-color: #fffcc4\">&nbspgetting&nbsp</span><span class=\"barcode\"; style=\"color: black; background-color: #fffbc3\">&nbspmy&nbsp</span><span class=\"barcode\"; style=\"color: black; background-color: #fffbc3\">&nbspsloppy&nbsp</span><span class=\"barcode\"; style=\"color: black; background-color: #fffbc3\">&nbsp2nd&nbsp</span><span class=\"barcode\"; style=\"color: black; background-color: #fffabf\">&nbspjust&nbsp</span><span class=\"barcode\"; style=\"color: black; background-color: #fffabf\">&nbspbc&nbsp</span><span class=\"barcode\"; style=\"color: black; background-color: #fffbc3\">&nbspwe&nbsp</span><span class=\"barcode\"; style=\"color: black; background-color: #fff6b6\">&nbspfucked&nbsp</span><span class=\"barcode\"; style=\"color: black; background-color: #fffabf\">&nbsphim&nbsp</span><span class=\"barcode\"; style=\"color: black; background-color: #fffabf\">&nbspdoes&nbsp</span><span class=\"barcode\"; style=\"color: black; background-color: #fff9be\">&nbspnot&nbsp</span><span class=\"barcode\"; style=\"color: black; background-color: #fff9bd\">&nbspmean&nbsp</span><span class=\"barcode\"; style=\"color: black; background-color: #ffeea3\">&nbspwe&nbsp</span><span class=\"barcode\"; style=\"color: black; background-color: #fff0a7\">&nbspare&nbsp</span><span class=\"barcode\"; style=\"color: black; background-color: #fff0a7\">&nbspthe&nbsp</span><span class=\"barcode\"; style=\"color: black; background-color: #fff6b5\">&nbspsame&nbsp</span><span class=\"barcode\"; style=\"color: black; background-color: #fff5b4\">&nbsphoe&nbsp</span><br><span class=\"barcode\"; style=\"color: black; background-color: #ffffcc\">&nbsp@user&nbsp</span><span class=\"barcode\"; style=\"color: black; background-color: #ffffcc\">&nbsp@NASA&nbsp</span><span class=\"barcode\"; style=\"color: black; background-color: #ffffcc\">&nbspI&nbsp</span><span class=\"barcode\"; style=\"color: black; background-color: #ffffcc\">&nbspidentify&nbsp</span><span class=\"barcode\"; style=\"color: black; background-color: #ffffcc\">&nbspas&nbsp</span><span class=\"barcode\"; style=\"color: black; background-color: #ffffcc\">&nbspc*nt..it's&nbsp</span><span class=\"barcode\"; style=\"color: black; background-color: #ffffcc\">&nbspmore&nbsp</span><span class=\"barcode\"; style=\"color: black; background-color: #ffffcc\">&nbspof&nbsp</span><span class=\"barcode\"; style=\"color: black; background-color: #ffffcc\">&nbspa&nbsp</span><span class=\"barcode\"; style=\"color: black; background-color: #ffffcc\">&nbspgender&nbsp</span><span class=\"barcode\"; style=\"color: black; background-color: #ffffcc\">&nbspslur&nbsp</span><span class=\"barcode\"; style=\"color: black; background-color: #ffffcc\">&nbspbut&nbsp</span><span class=\"barcode\"; style=\"color: black; background-color: #ffffcc\">&nbspI&nbsp</span><span class=\"barcode\"; style=\"color: black; background-color: #ffffcc\">&nbspmust&nbsp</span><span class=\"barcode\"; style=\"color: black; background-color: #ffffcc\">&nbspbe&nbsp</span><span class=\"barcode\"; style=\"color: black; background-color: #ffffcc\">&nbspcalled&nbsp</span><span class=\"barcode\"; style=\"color: black; background-color: #ffffcc\">&nbspby&nbsp</span><span class=\"barcode\"; style=\"color: black; background-color: #ffffcc\">&nbspit.&nbsp</span><span class=\"barcode\"; style=\"color: black; background-color: #ffffcc\">&nbspI'm&nbsp</span><span class=\"barcode\"; style=\"color: black; background-color: #ffffcc\">&nbspa&nbsp</span><span class=\"barcode\"; style=\"color: black; background-color: #ffffcc\">&nbspsadist.&nbsp</span><br><span class=\"barcode\"; style=\"color: black; background-color: #fffdc7\">&nbspI&nbsp</span><span class=\"barcode\"; style=\"color: black; background-color: #fffdc8\">&nbsplove&nbsp</span><span class=\"barcode\"; style=\"color: black; background-color: #fffbc3\">&nbspwhen&nbsp</span><span class=\"barcode\"; style=\"color: black; background-color: #fff9bd\">&nbspmy&nbsp</span><span class=\"barcode\"; style=\"color: black; background-color: #fff7b8\">&nbspbff&nbsp</span><span class=\"barcode\"; style=\"color: black; background-color: #fff3ad\">&nbspcome&nbsp</span><span class=\"barcode\"; style=\"color: black; background-color: #fff4b1\">&nbspover.&nbsp</span><span class=\"barcode\"; style=\"color: black; background-color: #fff8bc\">&nbspBest&nbsp</span><span class=\"barcode\"; style=\"color: black; background-color: #fff6b5\">&nbspconversations&nbsp</span><span class=\"barcode\"; style=\"color: black; background-color: #fffac0\">&nbspever,&nbsp</span><span class=\"barcode\"; style=\"color: black; background-color: #fff4b1\">&nbspmy&nbsp</span><span class=\"barcode\"; style=\"color: black; background-color: #fff4b2\">&nbspdawg&nbsp</span><span class=\"barcode\"; style=\"color: black; background-color: #fff3af\">&nbspfasho.&nbsp</span><span class=\"barcode\"; style=\"color: black; background-color: #fff5b4\">&nbsp🤞🏾💕👭&nbsp</span><br><span class=\"barcode\"; style=\"color: black; background-color: #fffeca\">&nbspi&nbsp</span><span class=\"barcode\"; style=\"color: black; background-color: #fffeca\">&nbspwould&nbsp</span><span class=\"barcode\"; style=\"color: black; background-color: #ffffcb\">&nbsplove&nbsp</span><span class=\"barcode\"; style=\"color: black; background-color: #ffffcb\">&nbspto&nbsp</span><span class=\"barcode\"; style=\"color: black; background-color: #fffec9\">&nbspbe&nbsp</span><span class=\"barcode\"; style=\"color: black; background-color: #fffeca\">&nbspdead&nbsp</span><span class=\"barcode\"; style=\"color: black; background-color: #ffffcc\">&nbsprn&nbsp</span><br><span class=\"barcode\"; style=\"color: black; background-color: #ffffcb\">&nbsp@user&nbsp</span><span class=\"barcode\"; style=\"color: black; background-color: #fffbc2\">&nbsp@user&nbsp</span><span class=\"barcode\"; style=\"color: black; background-color: #fffcc4\">&nbspAlexa&nbsp</span><span class=\"barcode\"; style=\"color: black; background-color: #fffdc8\">&nbspis&nbsp</span><span class=\"barcode\"; style=\"color: black; background-color: #fffcc4\">&nbspmy&nbsp</span><span class=\"barcode\"; style=\"color: black; background-color: #fffabf\">&nbspmain.&nbsp</span><span class=\"barcode\"; style=\"color: black; background-color: #fffac0\">&nbsp#AlexaIlacad&nbsp</span><span class=\"barcode\"; style=\"color: black; background-color: #fffac0\">&nbsp|&nbsp</span><span class=\"barcode\"; style=\"color: black; background-color: #fffac0\">&nbsp@user&nbsp</span><span class=\"barcode\"; style=\"color: black; background-color: #fffac0\">&nbsp99&nbsp</span><br><span class=\"barcode\"; style=\"color: black; background-color: #ffffcb\">&nbsp@user&nbsp</span><span class=\"barcode\"; style=\"color: black; background-color: #fffeca\">&nbspwas&nbsp</span><span class=\"barcode\"; style=\"color: black; background-color: #fffeca\">&nbspthat&nbsp</span><span class=\"barcode\"; style=\"color: black; background-color: #ffffcb\">&nbspYOU&nbsp</span><span class=\"barcode\"; style=\"color: black; background-color: #ffffcb\">&nbspdancing&nbsp</span><span class=\"barcode\"; style=\"color: black; background-color: #fffeca\">&nbspin&nbsp</span><span class=\"barcode\"; style=\"color: black; background-color: #fffeca\">&nbspur&nbsp</span><span class=\"barcode\"; style=\"color: black; background-color: #ffffcb\">&nbsprecent&nbsp</span><span class=\"barcode\"; style=\"color: black; background-color: #fffeca\">&nbspstory???!!!&nbsp</span><span class=\"barcode\"; style=\"color: black; background-color: #fffeca\">&nbsp😯&nbsp</span><br><span class=\"barcode\"; style=\"color: black; background-color: #fffac0\">&nbspAnother&nbsp</span><span class=\"barcode\"; style=\"color: black; background-color: #fffcc6\">&nbspweekend&nbsp</span><span class=\"barcode\"; style=\"color: black; background-color: #fffbc2\">&nbspand&nbsp</span><span class=\"barcode\"; style=\"color: black; background-color: #fffabf\">&nbspLove&nbsp</span><span class=\"barcode\"; style=\"color: black; background-color: #fff9be\">&nbspnever&nbsp</span><span class=\"barcode\"; style=\"color: black; background-color: #fffcc4\">&nbspfind&nbsp</span><span class=\"barcode\"; style=\"color: black; background-color: #fffbc2\">&nbspyou,&nbsp</span><span class=\"barcode\"; style=\"color: black; background-color: #fffdc8\">&nbspsigh😔&nbsp</span><br><span class=\"barcode\"; style=\"color: black; background-color: #fffec9\">&nbspLadies&nbsp</span><span class=\"barcode\"; style=\"color: black; background-color: #fffec9\">&nbspand&nbsp</span><span class=\"barcode\"; style=\"color: black; background-color: #fffdc7\">&nbspGentlemen&nbsp</span><span class=\"barcode\"; style=\"color: black; background-color: #fffdc7\">&nbspWhat&nbsp</span><span class=\"barcode\"; style=\"color: black; background-color: #fffeca\">&nbsppart&nbsp</span><span class=\"barcode\"; style=\"color: black; background-color: #fffec9\">&nbspin&nbsp</span><span class=\"barcode\"; style=\"color: black; background-color: #fffec9\">&nbspyour&nbsp</span><span class=\"barcode\"; style=\"color: black; background-color: #fffdc8\">&nbspopposite&nbsp</span><span class=\"barcode\"; style=\"color: black; background-color: #fffec9\">&nbspsex&nbsp</span><span class=\"barcode\"; style=\"color: black; background-color: #fffec9\">&nbspcan&nbsp</span><span class=\"barcode\"; style=\"color: black; background-color: #fffec9\">&nbspmake&nbsp</span><span class=\"barcode\"; style=\"color: black; background-color: #fffec9\">&nbspyou&nbsp</span><span class=\"barcode\"; style=\"color: black; background-color: #fffdc8\">&nbspreact&nbsp</span><span class=\"barcode\"; style=\"color: black; background-color: #fffec9\">&nbsplike&nbsp</span><span class=\"barcode\"; style=\"color: black; background-color: #fffec9\">&nbspthis&nbsp</span><span class=\"barcode\"; style=\"color: black; background-color: #fffec9\">&nbspMe:&nbsp</span><span class=\"barcode\"; style=\"color: black; background-color: #fffeca\">&nbspThat&nbsp</span><span class=\"barcode\"; style=\"color: black; background-color: #fffeca\">&nbsp🍑&nbsp</span><span class=\"barcode\"; style=\"color: black; background-color: #ffffcc\">&nbsp😂&nbsp</span><span class=\"barcode\"; style=\"color: black; background-color: #ffffcc\">&nbsphttp&nbsp</span><br><span class=\"barcode\"; style=\"color: black; background-color: #fffcc4\">&nbspsex&nbsp</span><span class=\"barcode\"; style=\"color: black; background-color: #fffbc2\">&nbsp....&nbsp</span><span class=\"barcode\"; style=\"color: black; background-color: #fffbc3\">&nbspi&nbsp</span><span class=\"barcode\"; style=\"color: black; background-color: #fffbc2\">&nbspwanna&nbsp</span><span class=\"barcode\"; style=\"color: black; background-color: #fffac0\">&nbsphave&nbsp</span><span class=\"barcode\"; style=\"color: black; background-color: #fffbc2\">&nbspsome😩&nbsp</span><br><span class=\"barcode\"; style=\"color: black; background-color: #ffefa5\">&nbspwife&nbsp</span><span class=\"barcode\"; style=\"color: black; background-color: #ffec9e\">&nbspriding&nbsp</span><span class=\"barcode\"; style=\"color: black; background-color: #ffe793\">&nbspstrangers&nbsp</span><span class=\"barcode\"; style=\"color: black; background-color: #fedc7d\">&nbspcock&nbsp</span><span class=\"barcode\"; style=\"color: black; background-color: #fede81\">&nbsphttp&nbsp</span><br><span class=\"barcode\"; style=\"color: black; background-color: #fffcc6\">&nbsp@ArianaGrande&nbsp</span><span class=\"barcode\"; style=\"color: black; background-color: #fffbc3\">&nbsptake&nbsp</span><span class=\"barcode\"; style=\"color: black; background-color: #fffcc6\">&nbspcare&nbsp</span><span class=\"barcode\"; style=\"color: black; background-color: #fffabf\">&nbspof&nbsp</span><span class=\"barcode\"; style=\"color: black; background-color: #fffdc7\">&nbspyourself.&nbsp</span><span class=\"barcode\"; style=\"color: black; background-color: #fffbc3\">&nbspi&nbsp</span><span class=\"barcode\"; style=\"color: black; background-color: #fffcc6\">&nbsplove&nbsp</span><span class=\"barcode\"; style=\"color: black; background-color: #fffdc7\">&nbspu&nbsp</span><span class=\"barcode\"; style=\"color: black; background-color: #fffcc6\">&nbspsm&nbsp</span><br><span class=\"barcode\"; style=\"color: black; background-color: #fffbc2\">&nbspThick&nbsp</span><span class=\"barcode\"; style=\"color: black; background-color: #fff9be\">&nbspAF&nbsp</span><span class=\"barcode\"; style=\"color: black; background-color: #fff7b8\">&nbspLatina&nbsp</span><span class=\"barcode\"; style=\"color: black; background-color: #fff3ad\">&nbspMILF&nbsp</span><span class=\"barcode\"; style=\"color: black; background-color: #fff3ad\">&nbspwith&nbsp</span><span class=\"barcode\"; style=\"color: black; background-color: #fff1a9\">&nbspgreat&nbsp</span><span class=\"barcode\"; style=\"color: black; background-color: #fff5b3\">&nbsptits&nbsp</span><span class=\"barcode\"; style=\"color: black; background-color: #fff5b4\">&nbspand&nbsp</span><span class=\"barcode\"; style=\"color: black; background-color: #fff6b5\">&nbspDSLs&nbsp</span><span class=\"barcode\"; style=\"color: black; background-color: #fff2ac\">&nbsp#MILF&nbsp</span><span class=\"barcode\"; style=\"color: black; background-color: #fff4b2\">&nbsp#BigTits&nbsp</span><span class=\"barcode\"; style=\"color: black; background-color: #ffefa5\">&nbsp#BigAss&nbsp</span><span class=\"barcode\"; style=\"color: black; background-color: #fff7b9\">&nbsp#NSFW&nbsp</span><span class=\"barcode\"; style=\"color: black; background-color: #fff6b5\">&nbsphttp&nbsp</span><br><span class=\"barcode\"; style=\"color: black; background-color: #ffffcc\">&nbspI&nbsp</span><span class=\"barcode\"; style=\"color: black; background-color: #ffffcc\">&nbspwant&nbsp</span><span class=\"barcode\"; style=\"color: black; background-color: #ffffcb\">&nbspa&nbsp</span><span class=\"barcode\"; style=\"color: black; background-color: #ffffcc\">&nbspman&nbsp</span><span class=\"barcode\"; style=\"color: black; background-color: #ffffcc\">&nbspthat’s&nbsp</span><span class=\"barcode\"; style=\"color: black; background-color: #ffffcc\">&nbspjust&nbsp</span><span class=\"barcode\"; style=\"color: black; background-color: #ffffcb\">&nbsporgasmic&nbsp</span><span class=\"barcode\"; style=\"color: black; background-color: #ffffcb\">&nbspand&nbsp</span><span class=\"barcode\"; style=\"color: black; background-color: #ffffcb\">&nbspjust&nbsp</span><span class=\"barcode\"; style=\"color: black; background-color: #ffffcb\">&nbspunderstand&nbsp</span><span class=\"barcode\"; style=\"color: black; background-color: #ffffcb\">&nbspme&nbsp</span><span class=\"barcode\"; style=\"color: black; background-color: #ffffcb\">&nbspand&nbsp</span><span class=\"barcode\"; style=\"color: black; background-color: #ffffcb\">&nbspeven&nbsp</span><span class=\"barcode\"; style=\"color: black; background-color: #fffeca\">&nbspif&nbsp</span><span class=\"barcode\"; style=\"color: black; background-color: #ffffcb\">&nbsphe&nbsp</span><span class=\"barcode\"; style=\"color: black; background-color: #ffffcb\">&nbspdon’t&nbsp</span><span class=\"barcode\"; style=\"color: black; background-color: #ffffcb\">&nbspstill&nbsp</span><span class=\"barcode\"; style=\"color: black; background-color: #ffffcc\">&nbsprespects&nbsp</span><span class=\"barcode\"; style=\"color: black; background-color: #ffffcb\">&nbspme&nbsp</span><span class=\"barcode\"; style=\"color: black; background-color: #ffffcc\">&nbspand&nbsp</span><span class=\"barcode\"; style=\"color: black; background-color: #ffffcb\">&nbsploves&nbsp</span><span class=\"barcode\"; style=\"color: black; background-color: #ffffcb\">&nbspit&nbsp</span><span class=\"barcode\"; style=\"color: black; background-color: #ffffcb\">&nbspall&nbsp</span><span class=\"barcode\"; style=\"color: black; background-color: #fffeca\">&nbsplike&nbsp</span><span class=\"barcode\"; style=\"color: black; background-color: #ffffcc\">&nbspMMM.&nbsp</span><br><br><span class=\"barcode\"; style=\"color: black; background-color: #fffbc3\">&nbspthe&nbsp</span><span class=\"barcode\"; style=\"color: black; background-color: #fff5b4\">&nbspprofessor&nbsp</span><span class=\"barcode\"; style=\"color: black; background-color: #fff7b9\">&nbspi’m&nbsp</span><span class=\"barcode\"; style=\"color: black; background-color: #fff8bb\">&nbspin&nbsp</span><span class=\"barcode\"; style=\"color: black; background-color: #fff6b6\">&nbsplove&nbsp</span><span class=\"barcode\"; style=\"color: black; background-color: #fff3ad\">&nbspw&nbsp</span><span class=\"barcode\"; style=\"color: black; background-color: #fff6b5\">&nbspcanceled&nbsp</span><span class=\"barcode\"; style=\"color: black; background-color: #fff8bb\">&nbspour&nbsp</span><span class=\"barcode\"; style=\"color: black; background-color: #fff1ab\">&nbspexam&nbsp</span><span class=\"barcode\"; style=\"color: black; background-color: #fff5b4\">&nbspnext&nbsp</span><span class=\"barcode\"; style=\"color: black; background-color: #fff2ac\">&nbspthursday&nbsp</span><span class=\"barcode\"; style=\"color: black; background-color: #ffeda1\">&nbsp🥰&nbsp</span><br><span class=\"barcode\"; style=\"color: black; background-color: #fffdc7\">&nbspfuck&nbsp</span><span class=\"barcode\"; style=\"color: black; background-color: #fffdc7\">&nbspdaddy&nbsp</span><span class=\"barcode\"; style=\"color: black; background-color: #fffac0\">&nbspissues&nbsp</span><span class=\"barcode\"; style=\"color: black; background-color: #fffcc4\">&nbspwho&nbsp</span><span class=\"barcode\"; style=\"color: black; background-color: #fff9be\">&nbspgot&nbsp</span><span class=\"barcode\"; style=\"color: black; background-color: #fff9bd\">&nbspmommy&nbsp</span><span class=\"barcode\"; style=\"color: black; background-color: #fffbc2\">&nbspAND&nbsp</span><span class=\"barcode\"; style=\"color: black; background-color: #fffbc3\">&nbspdaddy&nbsp</span><span class=\"barcode\"; style=\"color: black; background-color: #fffbc2\">&nbspissues&nbsp</span><br><span class=\"barcode\"; style=\"color: black; background-color: #ffffcc\">&nbspAll&nbsp</span><span class=\"barcode\"; style=\"color: black; background-color: #ffffcc\">&nbspI&nbsp</span><span class=\"barcode\"; style=\"color: black; background-color: #ffffcc\">&nbspwant&nbsp</span><span class=\"barcode\"; style=\"color: black; background-color: #ffffcc\">&nbspis&nbsp</span><span class=\"barcode\"; style=\"color: black; background-color: #ffffcc\">&nbspa&nbsp</span><span class=\"barcode\"; style=\"color: black; background-color: #ffffcc\">&nbspgirl&nbsp</span><span class=\"barcode\"; style=\"color: black; background-color: #ffffcc\">&nbspwith&nbsp</span><span class=\"barcode\"; style=\"color: black; background-color: #ffffcc\">&nbspa&nbsp</span><span class=\"barcode\"; style=\"color: black; background-color: #ffffcc\">&nbspPhat&nbsp</span><span class=\"barcode\"; style=\"color: black; background-color: #ffffcc\">&nbspAss&nbsp</span><span class=\"barcode\"; style=\"color: black; background-color: #ffffcc\">&nbspwho&nbsp</span><span class=\"barcode\"; style=\"color: black; background-color: #ffffcc\">&nbspcan&nbsp</span><span class=\"barcode\"; style=\"color: black; background-color: #ffffcc\">&nbspride&nbsp</span><span class=\"barcode\"; style=\"color: black; background-color: #ffffcc\">&nbspdick&nbsp</span><span class=\"barcode\"; style=\"color: black; background-color: #ffffcc\">&nbsplike&nbsp</span><span class=\"barcode\"; style=\"color: black; background-color: #ffffcc\">&nbsp@user&nbsp</span><span class=\"barcode\"; style=\"color: black; background-color: #ffffcc\">&nbsphttp&nbsp</span><br><span class=\"barcode\"; style=\"color: black; background-color: #fffec9\">&nbspi&nbsp</span><span class=\"barcode\"; style=\"color: black; background-color: #fffec9\">&nbspjus&nbsp</span><span class=\"barcode\"; style=\"color: black; background-color: #fffbc3\">&nbspwish&nbsp</span><span class=\"barcode\"; style=\"color: black; background-color: #fffdc8\">&nbspmy&nbsp</span><span class=\"barcode\"; style=\"color: black; background-color: #fffcc4\">&nbspass&nbsp</span><span class=\"barcode\"; style=\"color: black; background-color: #fffac0\">&nbspwas&nbsp</span><span class=\"barcode\"; style=\"color: black; background-color: #fffbc3\">&nbspfat&nbsp</span><span class=\"barcode\"; style=\"color: black; background-color: #fffcc4\">&nbspsnd&nbsp</span><span class=\"barcode\"; style=\"color: black; background-color: #fffdc7\">&nbspmy&nbsp</span><span class=\"barcode\"; style=\"color: black; background-color: #fffbc2\">&nbspstomach&nbsp</span><span class=\"barcode\"; style=\"color: black; background-color: #fffcc4\">&nbspwas&nbsp</span><span class=\"barcode\"; style=\"color: black; background-color: #fff6b6\">&nbspflat&nbsp</span><span class=\"barcode\"; style=\"color: black; background-color: #fffac0\">&nbsp🙄&nbsp</span><br><span class=\"barcode\"; style=\"color: black; background-color: #ffffcc\">&nbsp@user&nbsp</span><span class=\"barcode\"; style=\"color: black; background-color: #ffffcc\">&nbspsis&nbsp</span><span class=\"barcode\"; style=\"color: black; background-color: #ffffcb\">&nbspdidn't&nbsp</span><span class=\"barcode\"; style=\"color: black; background-color: #fffeca\">&nbspyou&nbsp</span><span class=\"barcode\"; style=\"color: black; background-color: #ffffcb\">&nbspget&nbsp</span><span class=\"barcode\"; style=\"color: black; background-color: #fffeca\">&nbspyour&nbsp</span><span class=\"barcode\"; style=\"color: black; background-color: #ffffcb\">&nbspnipples&nbsp</span><span class=\"barcode\"; style=\"color: black; background-color: #ffffcc\">&nbsppierced???&nbsp</span><span class=\"barcode\"; style=\"color: black; background-color: #ffffcb\">&nbspur&nbsp</span><span class=\"barcode\"; style=\"color: black; background-color: #ffffcb\">&nbspthe&nbsp</span><span class=\"barcode\"; style=\"color: black; background-color: #ffffcb\">&nbspbravest&nbsp</span><span class=\"barcode\"; style=\"color: black; background-color: #ffffcb\">&nbspwoman&nbsp</span><span class=\"barcode\"; style=\"color: black; background-color: #ffffcb\">&nbspalive&nbsp</span><span class=\"barcode\"; style=\"color: black; background-color: #ffffcb\">&nbspalready.&nbsp</span><span class=\"barcode\"; style=\"color: black; background-color: #ffffcb\">&nbspwhats&nbsp</span><span class=\"barcode\"; style=\"color: black; background-color: #ffffcb\">&nbspa&nbsp</span><span class=\"barcode\"; style=\"color: black; background-color: #ffffcc\">&nbsplil&nbsp</span><span class=\"barcode\"; style=\"color: black; background-color: #ffffcb\">&nbspear&nbsp</span><span class=\"barcode\"; style=\"color: black; background-color: #ffffcb\">&nbspneedle&nbsp</span><span class=\"barcode\"; style=\"color: black; background-color: #ffffcb\">&nbsp🤷‍♀️&nbsp</span><br><span class=\"barcode\"; style=\"color: black; background-color: #ffffcc\">&nbsp@user&nbsp</span><span class=\"barcode\"; style=\"color: black; background-color: #fffbc2\">&nbsp🤣🤣🤣🤣thank&nbsp</span><span class=\"barcode\"; style=\"color: black; background-color: #fffec9\">&nbspyou&nbsp</span><span class=\"barcode\"; style=\"color: black; background-color: #fffeca\">&nbspTakaTina&nbsp</span><span class=\"barcode\"; style=\"color: black; background-color: #fffdc8\">&nbspmy&nbsp</span><span class=\"barcode\"; style=\"color: black; background-color: #ffffcb\">&nbspbaby&nbsp</span><span class=\"barcode\"; style=\"color: black; background-color: #ffffcb\">&nbspkicked...kķkkķk&nbsp</span><span class=\"barcode\"; style=\"color: black; background-color: #ffffcb\">&nbspwas&nbsp</span><span class=\"barcode\"; style=\"color: black; background-color: #ffffcb\">&nbspkinda&nbsp</span><span class=\"barcode\"; style=\"color: black; background-color: #ffffcb\">&nbspworried&nbsp</span><span class=\"barcode\"; style=\"color: black; background-color: #ffffcc\">&nbspthe&nbsp</span><span class=\"barcode\"; style=\"color: black; background-color: #ffffcc\">&nbspwhole&nbsp</span><span class=\"barcode\"; style=\"color: black; background-color: #ffffcb\">&nbspmorning&nbsp</span><br><span class=\"barcode\"; style=\"color: black; background-color: #fffdc7\">&nbspNothing&nbsp</span><span class=\"barcode\"; style=\"color: black; background-color: #fffbc3\">&nbspcompares&nbsp</span><span class=\"barcode\"; style=\"color: black; background-color: #fffbc3\">&nbspwith&nbsp</span><span class=\"barcode\"; style=\"color: black; background-color: #fff9bd\">&nbspbeing&nbsp</span><span class=\"barcode\"; style=\"color: black; background-color: #fff9be\">&nbspwith&nbsp</span><span class=\"barcode\"; style=\"color: black; background-color: #fff7b9\">&nbspsomeone&nbsp</span><span class=\"barcode\"; style=\"color: black; background-color: #fff9be\">&nbspwho&nbsp</span><span class=\"barcode\"; style=\"color: black; background-color: #fffbc2\">&nbspactually&nbsp</span><span class=\"barcode\"; style=\"color: black; background-color: #fffdc7\">&nbspcares&nbsp</span><span class=\"barcode\"; style=\"color: black; background-color: #fffcc6\">&nbspfor&nbsp</span><span class=\"barcode\"; style=\"color: black; background-color: #fffcc4\">&nbspyou&nbsp</span><br><span class=\"barcode\"; style=\"color: black; background-color: #ffffcc\">&nbspHow&nbsp</span><span class=\"barcode\"; style=\"color: black; background-color: #ffffcc\">&nbspcan&nbsp</span><span class=\"barcode\"; style=\"color: black; background-color: #ffffcc\">&nbspyou&nbsp</span><span class=\"barcode\"; style=\"color: black; background-color: #ffffcc\">&nbspsimply&nbsp</span><span class=\"barcode\"; style=\"color: black; background-color: #ffffcb\">&nbspbe&nbsp</span><span class=\"barcode\"; style=\"color: black; background-color: #ffffcc\">&nbspfriends&nbsp</span><span class=\"barcode\"; style=\"color: black; background-color: #ffffcb\">&nbspwith&nbsp</span><span class=\"barcode\"; style=\"color: black; background-color: #ffffcb\">&nbspsomeone&nbsp</span><span class=\"barcode\"; style=\"color: black; background-color: #fffeca\">&nbspwhen&nbsp</span><span class=\"barcode\"; style=\"color: black; background-color: #fffeca\">&nbspevery&nbsp</span><span class=\"barcode\"; style=\"color: black; background-color: #ffffcb\">&nbsptime&nbsp</span><span class=\"barcode\"; style=\"color: black; background-color: #ffffcb\">&nbspyou&nbsp</span><span class=\"barcode\"; style=\"color: black; background-color: #ffffcb\">&nbsplook&nbsp</span><span class=\"barcode\"; style=\"color: black; background-color: #ffffcc\">&nbspat&nbsp</span><span class=\"barcode\"; style=\"color: black; background-color: #fffeca\">&nbspthem&nbsp</span><span class=\"barcode\"; style=\"color: black; background-color: #fffec9\">&nbspall&nbsp</span><span class=\"barcode\"; style=\"color: black; background-color: #ffffcb\">&nbspyou&nbsp</span><span class=\"barcode\"; style=\"color: black; background-color: #fffeca\">&nbspthink&nbsp</span><span class=\"barcode\"; style=\"color: black; background-color: #fffeca\">&nbspabout&nbsp</span><span class=\"barcode\"; style=\"color: black; background-color: #fffdc8\">&nbspis&nbsp</span><span class=\"barcode\"; style=\"color: black; background-color: #fffec9\">&nbsphow&nbsp</span><span class=\"barcode\"; style=\"color: black; background-color: #fffeca\">&nbspmuch&nbsp</span><span class=\"barcode\"; style=\"color: black; background-color: #ffffcb\">&nbspmore&nbsp</span><span class=\"barcode\"; style=\"color: black; background-color: #ffffcb\">&nbspyou&nbsp</span><span class=\"barcode\"; style=\"color: black; background-color: #ffffcb\">&nbspreally&nbsp</span><br><span class=\"barcode\"; style=\"color: black; background-color: #ffffcb\">&nbspwant&nbsp</span><span class=\"barcode\"; style=\"color: black; background-color: #fffeca\">&nbspthem?&nbsp</span><br><span class=\"barcode\"; style=\"color: black; background-color: #fff7b9\">&nbsp@user&nbsp</span><span class=\"barcode\"; style=\"color: black; background-color: #fff3ad\">&nbspHello&nbsp</span><span class=\"barcode\"; style=\"color: black; background-color: #fff2ac\">&nbspbaby❤️,&nbsp</span><span class=\"barcode\"; style=\"color: black; background-color: #fff3af\">&nbspI&nbsp</span><span class=\"barcode\"; style=\"color: black; background-color: #fff3ad\">&nbspwould&nbsp</span><span class=\"barcode\"; style=\"color: black; background-color: #fff1ab\">&nbsplove&nbsp</span><span class=\"barcode\"; style=\"color: black; background-color: #fff4b1\">&nbspto&nbsp</span><span class=\"barcode\"; style=\"color: black; background-color: #fff5b4\">&nbspbuy&nbsp</span><span class=\"barcode\"; style=\"color: black; background-color: #fff1aa\">&nbspyour&nbsp</span><span class=\"barcode\"; style=\"color: black; background-color: #fff1a9\">&nbspfeet&nbsp</span><span class=\"barcode\"; style=\"color: black; background-color: #fff3af\">&nbsppictures&nbsp</span><span class=\"barcode\"; style=\"color: black; background-color: #ffeda1\">&nbspand&nbsp</span><span class=\"barcode\"; style=\"color: black; background-color: #fff4b1\">&nbspvideos,&nbsp</span><span class=\"barcode\"; style=\"color: black; background-color: #fff0a8\">&nbspDM&nbsp</span><span class=\"barcode\"; style=\"color: black; background-color: #fff3af\">&nbspif&nbsp</span><span class=\"barcode\"; style=\"color: black; background-color: #fff7b9\">&nbspinterested.&nbsp</span><br><span class=\"barcode\"; style=\"color: black; background-color: #fff3ad\">&nbspBitches&nbsp</span><span class=\"barcode\"; style=\"color: black; background-color: #fff5b4\">&nbspwill&nbsp</span><span class=\"barcode\"; style=\"color: black; background-color: #fff6b6\">&nbspget&nbsp</span><span class=\"barcode\"; style=\"color: black; background-color: #fff3ad\">&nbspso&nbsp</span><span class=\"barcode\"; style=\"color: black; background-color: #ffe998\">&nbsplonely&nbsp</span><span class=\"barcode\"; style=\"color: black; background-color: #ffeea2\">&nbspthey’ll&nbsp</span><span class=\"barcode\"; style=\"color: black; background-color: #ffe48d\">&nbspturn&nbsp</span><span class=\"barcode\"; style=\"color: black; background-color: #ffe895\">&nbspgay&nbsp</span><span class=\"barcode\"; style=\"color: black; background-color: #ffe895\">&nbsp🤦🏽‍♂️&nbsp</span><br><span class=\"barcode\"; style=\"color: black; background-color: #ffffcc\">&nbspYou&nbsp</span><span class=\"barcode\"; style=\"color: black; background-color: #ffffcc\">&nbspcan’t&nbsp</span><span class=\"barcode\"; style=\"color: black; background-color: #ffffcc\">&nbspeven&nbsp</span><span class=\"barcode\"; style=\"color: black; background-color: #ffffcc\">&nbspbe&nbsp</span><span class=\"barcode\"; style=\"color: black; background-color: #ffffcc\">&nbspnice&nbsp</span><span class=\"barcode\"; style=\"color: black; background-color: #ffffcc\">&nbspto&nbsp</span><span class=\"barcode\"; style=\"color: black; background-color: #ffffcc\">&nbspa&nbsp</span><span class=\"barcode\"; style=\"color: black; background-color: #ffffcc\">&nbspnigga&nbsp</span><span class=\"barcode\"; style=\"color: black; background-color: #ffffcc\">&nbspwithout&nbsp</span><span class=\"barcode\"; style=\"color: black; background-color: #ffffcc\">&nbsphis&nbsp</span><span class=\"barcode\"; style=\"color: black; background-color: #ffffcc\">&nbspdick&nbsp</span><span class=\"barcode\"; style=\"color: black; background-color: #ffffcc\">&nbspgetting&nbsp</span><span class=\"barcode\"; style=\"color: black; background-color: #ffffcc\">&nbsphard&nbsp</span><span class=\"barcode\"; style=\"color: black; background-color: #ffffcc\">&nbspugh&nbsp</span><span class=\"barcode\"; style=\"color: black; background-color: #ffffcc\">&nbsp..&nbsp</span><span class=\"barcode\"; style=\"color: black; background-color: #ffffcc\">&nbspI&nbsp</span><span class=\"barcode\"; style=\"color: black; background-color: #ffffcc\">&nbspreally&nbsp</span><span class=\"barcode\"; style=\"color: black; background-color: #ffffcc\">&nbsphate&nbsp</span><span class=\"barcode\"; style=\"color: black; background-color: #ffffcc\">&nbspy’all&nbsp</span><br><span class=\"barcode\"; style=\"color: black; background-color: #fffbc3\">&nbspIf&nbsp</span><span class=\"barcode\"; style=\"color: black; background-color: #fff9bd\">&nbspyou&nbsp</span><span class=\"barcode\"; style=\"color: black; background-color: #fff3af\">&nbspwould&nbsp</span><span class=\"barcode\"; style=\"color: black; background-color: #fff1aa\">&nbsplet&nbsp</span><span class=\"barcode\"; style=\"color: black; background-color: #fff3ad\">&nbspme&nbsp</span><span class=\"barcode\"; style=\"color: black; background-color: #fff5b4\">&nbspgive&nbsp</span><span class=\"barcode\"; style=\"color: black; background-color: #fff2ac\">&nbspyou&nbsp</span><span class=\"barcode\"; style=\"color: black; background-color: #fffabf\">&nbsppinky&nbsp</span><span class=\"barcode\"; style=\"color: black; background-color: #fffac0\">&nbsppromise&nbsp</span><span class=\"barcode\"; style=\"color: black; background-color: #fff8bb\">&nbspkisses&nbsp</span><br><span class=\"barcode\"; style=\"color: black; background-color: #ffffcc\">&nbspIf&nbsp</span><span class=\"barcode\"; style=\"color: black; background-color: #ffffcc\">&nbspI&nbsp</span><span class=\"barcode\"; style=\"color: black; background-color: #ffffcc\">&nbspcould&nbsp</span><span class=\"barcode\"; style=\"color: black; background-color: #ffffcc\">&nbspI&nbsp</span><span class=\"barcode\"; style=\"color: black; background-color: #ffffcc\">&nbspwould&nbsp</span><span class=\"barcode\"; style=\"color: black; background-color: #ffffcc\">&nbspunfuck&nbsp</span><span class=\"barcode\"; style=\"color: black; background-color: #ffffcc\">&nbsp98%&nbsp</span><span class=\"barcode\"; style=\"color: black; background-color: #ffffcc\">&nbspof&nbsp</span><span class=\"barcode\"; style=\"color: black; background-color: #ffffcc\">&nbspyu&nbsp</span><span class=\"barcode\"; style=\"color: black; background-color: #ffffcc\">&nbspwhores🎯&nbsp</span><br><span class=\"barcode\"; style=\"color: black; background-color: #ffffcc\">&nbsp@user&nbsp</span><span class=\"barcode\"; style=\"color: black; background-color: #ffffcc\">&nbspI&nbsp</span><span class=\"barcode\"; style=\"color: black; background-color: #ffffcc\">&nbspsee&nbsp</span><span class=\"barcode\"; style=\"color: black; background-color: #ffffcc\">&nbspyou&nbsp</span><span class=\"barcode\"; style=\"color: black; background-color: #ffffcc\">&nbsphave&nbsp</span><span class=\"barcode\"; style=\"color: black; background-color: #ffffcc\">&nbspbeen&nbsp</span><span class=\"barcode\"; style=\"color: black; background-color: #ffffcc\">&nbsptearing&nbsp</span><span class=\"barcode\"; style=\"color: black; background-color: #ffffcc\">&nbspit&nbsp</span><span class=\"barcode\"; style=\"color: black; background-color: #ffffcc\">&nbspup!&nbsp</span><span class=\"barcode\"; style=\"color: black; background-color: #ffffcc\">&nbspVery&nbsp</span><span class=\"barcode\"; style=\"color: black; background-color: #ffffcc\">&nbspproud&nbsp</span><span class=\"barcode\"; style=\"color: black; background-color: #ffffcc\">&nbspof&nbsp</span><span class=\"barcode\"; style=\"color: black; background-color: #ffffcc\">&nbspyou!&nbsp</span><span class=\"barcode\"; style=\"color: black; background-color: #ffffcc\">&nbsp(Your&nbsp</span><span class=\"barcode\"; style=\"color: black; background-color: #ffffcc\">&nbspmiddle&nbsp</span><span class=\"barcode\"; style=\"color: black; background-color: #ffffcc\">&nbspschool&nbsp</span><span class=\"barcode\"; style=\"color: black; background-color: #ffffcc\">&nbspcoach)&nbsp</span><br><span class=\"barcode\"; style=\"color: black; background-color: #fffdc8\">&nbsp4&nbsp</span><span class=\"barcode\"; style=\"color: black; background-color: #ffffcb\">&nbspMonths&nbsp</span><span class=\"barcode\"; style=\"color: black; background-color: #ffffcb\">&nbspinto&nbsp</span><span class=\"barcode\"; style=\"color: black; background-color: #fffec9\">&nbspa&nbsp</span><span class=\"barcode\"; style=\"color: black; background-color: #ffffcb\">&nbspceasefire&nbsp</span><span class=\"barcode\"; style=\"color: black; background-color: #ffffcb\">&nbspwith&nbsp</span><span class=\"barcode\"; style=\"color: black; background-color: #ffffcb\">&nbsp@user&nbsp</span><span class=\"barcode\"; style=\"color: black; background-color: #ffffcc\">&nbspbe&nbsp</span><span class=\"barcode\"; style=\"color: black; background-color: #ffffcc\">&nbsplike…&nbsp</span><span class=\"barcode\"; style=\"color: black; background-color: #ffffcc\">&nbsp#IAMKONG&nbsp</span><span class=\"barcode\"; style=\"color: black; background-color: #ffffcc\">&nbsp#SOON&nbsp</span><span class=\"barcode\"; style=\"color: black; background-color: #ffffcb\">&nbsp👀&nbsp</span><span class=\"barcode\"; style=\"color: black; background-color: #ffffcc\">&nbsp🏀&nbsp</span><span class=\"barcode\"; style=\"color: black; background-color: #ffffcb\">&nbsp🚀&nbsp</span><span class=\"barcode\"; style=\"color: black; background-color: #ffffcc\">&nbsphttp&nbsp</span><br><span class=\"barcode\"; style=\"color: black; background-color: #fffdc8\">&nbsp@user&nbsp</span><span class=\"barcode\"; style=\"color: black; background-color: #fffdc7\">&nbspCan&nbsp</span><span class=\"barcode\"; style=\"color: black; background-color: #fffcc4\">&nbspI&nbsp</span><span class=\"barcode\"; style=\"color: black; background-color: #fffcc6\">&nbsphave&nbsp</span><span class=\"barcode\"; style=\"color: black; background-color: #fffbc3\">&nbspyou&nbsp</span><span class=\"barcode\"; style=\"color: black; background-color: #fffcc4\">&nbsplol&nbsp</span><br><span class=\"barcode\"; style=\"color: black; background-color: #ffffcc\">&nbspnobody&nbsp</span><span class=\"barcode\"; style=\"color: black; background-color: #ffffcc\">&nbspgoes&nbsp</span><span class=\"barcode\"; style=\"color: black; background-color: #ffffcc\">&nbspthrough&nbsp</span><span class=\"barcode\"; style=\"color: black; background-color: #ffffcc\">&nbspmore&nbsp</span><span class=\"barcode\"; style=\"color: black; background-color: #ffffcc\">&nbspshit&nbsp</span><span class=\"barcode\"; style=\"color: black; background-color: #ffffcc\">&nbspin&nbsp</span><span class=\"barcode\"; style=\"color: black; background-color: #ffffcc\">&nbsplife&nbsp</span><span class=\"barcode\"; style=\"color: black; background-color: #ffffcc\">&nbspthan&nbsp</span><span class=\"barcode\"; style=\"color: black; background-color: #ffffcc\">&nbspa&nbsp</span><span class=\"barcode\"; style=\"color: black; background-color: #ffffcc\">&nbspperson&nbsp</span><span class=\"barcode\"; style=\"color: black; background-color: #ffffcc\">&nbspwith&nbsp</span><span class=\"barcode\"; style=\"color: black; background-color: #ffffcc\">&nbspa&nbsp</span><span class=\"barcode\"; style=\"color: black; background-color: #ffffcc\">&nbspgood&nbsp</span><span class=\"barcode\"; style=\"color: black; background-color: #ffffcc\">&nbspheart&nbsp</span><br><span class=\"barcode\"; style=\"color: black; background-color: #fffeca\">&nbspDo&nbsp</span><span class=\"barcode\"; style=\"color: black; background-color: #fffeca\">&nbspwe&nbsp</span><span class=\"barcode\"; style=\"color: black; background-color: #fffeca\">&nbspreally&nbsp</span><span class=\"barcode\"; style=\"color: black; background-color: #fffdc8\">&nbspneed&nbsp</span><span class=\"barcode\"; style=\"color: black; background-color: #fffec9\">&nbspto&nbsp</span><span class=\"barcode\"; style=\"color: black; background-color: #fffeca\">&nbspbe&nbsp</span><span class=\"barcode\"; style=\"color: black; background-color: #fffec9\">&nbspin&nbsp</span><span class=\"barcode\"; style=\"color: black; background-color: #fffdc8\">&nbspa&nbsp</span><span class=\"barcode\"; style=\"color: black; background-color: #fffec9\">&nbsprelationship😊&nbsp</span><br><span class=\"barcode\"; style=\"color: black; background-color: #fff0a7\">&nbspLust&nbsp</span><span class=\"barcode\"; style=\"color: black; background-color: #ffe590\">&nbspfor&nbsp</span><span class=\"barcode\"; style=\"color: black; background-color: #ffec9e\">&nbspporn&nbsp</span><span class=\"barcode\"; style=\"color: black; background-color: #feda78\">&nbsphttp&nbsp</span><br><span class=\"barcode\"; style=\"color: black; background-color: #ffffcc\">&nbsp@user&nbsp</span><span class=\"barcode\"; style=\"color: black; background-color: #fffec9\">&nbspFuck&nbsp</span><span class=\"barcode\"; style=\"color: black; background-color: #fffec9\">&nbspyour&nbsp</span><span class=\"barcode\"; style=\"color: black; background-color: #ffffcc\">&nbspfeet&nbsp</span><span class=\"barcode\"; style=\"color: black; background-color: #ffffcc\">&nbspare&nbsp</span><span class=\"barcode\"; style=\"color: black; background-color: #ffffcb\">&nbspSO&nbsp</span><span class=\"barcode\"; style=\"color: black; background-color: #ffffcb\">&nbspSEXY&nbsp</span><span class=\"barcode\"; style=\"color: black; background-color: #ffffcc\">&nbspomg&nbsp</span><br><span class=\"barcode\"; style=\"color: black; background-color: #fffdc8\">&nbspYour&nbsp</span><span class=\"barcode\"; style=\"color: black; background-color: #fffdc7\">&nbspneed&nbsp</span><span class=\"barcode\"; style=\"color: black; background-color: #fffcc4\">&nbspto&nbsp</span><span class=\"barcode\"; style=\"color: black; background-color: #fffbc2\">&nbspbe&nbsp</span><span class=\"barcode\"; style=\"color: black; background-color: #fff9be\">&nbspused&nbsp</span><span class=\"barcode\"; style=\"color: black; background-color: #fffbc3\">&nbspas&nbsp</span><span class=\"barcode\"; style=\"color: black; background-color: #fffcc4\">&nbspa&nbsp</span><span class=\"barcode\"; style=\"color: black; background-color: #fffcc4\">&nbspFuckdoll&nbsp</span><span class=\"barcode\"; style=\"color: black; background-color: #fffac0\">&nbspis&nbsp</span><span class=\"barcode\"; style=\"color: black; background-color: #fffabf\">&nbspabsolute&nbsp</span><span class=\"barcode\"; style=\"color: black; background-color: #fffabf\">&nbsp@user&nbsp</span><span class=\"barcode\"; style=\"color: black; background-color: #fffbc2\">&nbsphttp&nbsp</span><br><span class=\"barcode\"; style=\"color: black; background-color: #ffffcb\">&nbspI&nbsp</span><span class=\"barcode\"; style=\"color: black; background-color: #ffffcb\">&nbspjust&nbsp</span><span class=\"barcode\"; style=\"color: black; background-color: #fffeca\">&nbspcan’t&nbsp</span><span class=\"barcode\"; style=\"color: black; background-color: #ffffcc\">&nbsphave&nbsp</span><span class=\"barcode\"; style=\"color: black; background-color: #fffeca\">&nbspsex&nbsp</span><span class=\"barcode\"; style=\"color: black; background-color: #ffffcb\">&nbspwith&nbsp</span><span class=\"barcode\"; style=\"color: black; background-color: #ffffcb\">&nbspjust&nbsp</span><span class=\"barcode\"; style=\"color: black; background-color: #ffffcb\">&nbspanyone&nbsp</span><span class=\"barcode\"; style=\"color: black; background-color: #fffeca\">&nbsplol&nbsp</span><span class=\"barcode\"; style=\"color: black; background-color: #ffffcb\">&nbspppl&nbsp</span><span class=\"barcode\"; style=\"color: black; background-color: #fffeca\">&nbspare&nbsp</span><span class=\"barcode\"; style=\"color: black; background-color: #fffeca\">&nbspwild&nbsp</span><br><span class=\"barcode\"; style=\"color: black; background-color: #fff1a9\">&nbspgood&nbsp</span><span class=\"barcode\"; style=\"color: black; background-color: #fff0a8\">&nbspsucking&nbsp</span><span class=\"barcode\"; style=\"color: black; background-color: #ffe997\">&nbsphuge&nbsp</span><span class=\"barcode\"; style=\"color: black; background-color: #ffeda1\">&nbspcock&nbsp</span><span class=\"barcode\"; style=\"color: black; background-color: #ffeb9b\">&nbsphttp&nbsp</span><br><span class=\"barcode\"; style=\"color: black; background-color: #ffffcc\">&nbsp@user&nbsp</span><span class=\"barcode\"; style=\"color: black; background-color: #ffffcb\">&nbspThis&nbsp</span><span class=\"barcode\"; style=\"color: black; background-color: #ffffcc\">&nbspwas&nbsp</span><span class=\"barcode\"; style=\"color: black; background-color: #ffffcc\">&nbspsuch&nbsp</span><span class=\"barcode\"; style=\"color: black; background-color: #ffffcc\">&nbspa&nbsp</span><span class=\"barcode\"; style=\"color: black; background-color: #ffffcc\">&nbspnice&nbsp</span><span class=\"barcode\"; style=\"color: black; background-color: #ffffcc\">&nbspcompliment&nbsp</span><span class=\"barcode\"; style=\"color: black; background-color: #ffffcc\">&nbspI&nbsp</span><span class=\"barcode\"; style=\"color: black; background-color: #ffffcc\">&nbspreally&nbsp</span><span class=\"barcode\"; style=\"color: black; background-color: #ffffcc\">&nbspappreciate&nbsp</span><span class=\"barcode\"; style=\"color: black; background-color: #ffffcc\">&nbspthis!&nbsp</span><span class=\"barcode\"; style=\"color: black; background-color: #ffffcc\">&nbspThank&nbsp</span><span class=\"barcode\"; style=\"color: black; background-color: #ffffcc\">&nbspyou!!&nbsp</span><br><span class=\"barcode\"; style=\"color: black; background-color: #fff0a8\">&nbspneed&nbsp</span><span class=\"barcode\"; style=\"color: black; background-color: #fff8bb\">&nbspa&nbsp</span><span class=\"barcode\"; style=\"color: black; background-color: #fff9bd\">&nbspkiss&nbsp</span><span class=\"barcode\"; style=\"color: black; background-color: #fff6b5\">&nbsp😔&nbsp</span><br><span class=\"barcode\"; style=\"color: black; background-color: #fffcc6\">&nbsp@user&nbsp</span><span class=\"barcode\"; style=\"color: black; background-color: #fffbc3\">&nbspGet&nbsp</span><span class=\"barcode\"; style=\"color: black; background-color: #fffabf\">&nbspsucking&nbsp</span><span class=\"barcode\"; style=\"color: black; background-color: #fffac0\">&nbspcunt&nbsp</span><span class=\"barcode\"; style=\"color: black; background-color: #fff9be\">&nbspmy&nbsp</span><span class=\"barcode\"; style=\"color: black; background-color: #fffbc2\">&nbspmistress&nbsp</span><span class=\"barcode\"; style=\"color: black; background-color: #fffcc4\">&nbspwants&nbsp</span><span class=\"barcode\"; style=\"color: black; background-color: #fffec9\">&nbspher&nbsp</span><span class=\"barcode\"; style=\"color: black; background-color: #fffdc8\">&nbspmoney&nbsp</span><br><span class=\"barcode\"; style=\"color: black; background-color: #fff0a8\">&nbsp@user&nbsp</span><span class=\"barcode\"; style=\"color: black; background-color: #ffefa5\">&nbsp@user&nbsp</span><span class=\"barcode\"; style=\"color: black; background-color: #ffe793\">&nbspYour&nbsp</span><span class=\"barcode\"; style=\"color: black; background-color: #ffe793\">&nbspbeauty&nbsp</span><span class=\"barcode\"; style=\"color: black; background-color: #ffe793\">&nbsplikes&nbsp</span><span class=\"barcode\"; style=\"color: black; background-color: #feda79\">&nbspthe&nbsp</span><span class=\"barcode\"; style=\"color: black; background-color: #feb24d\">&nbspancient&nbsp</span><span class=\"barcode\"; style=\"color: black; background-color: #fd9740\">&nbspEgyptian&nbsp</span><span class=\"barcode\"; style=\"color: black; background-color: #fed672\">&nbsppharaohs&nbsp</span><br><span class=\"barcode\"; style=\"color: black; background-color: #ffffcc\">&nbspi&nbsp</span><span class=\"barcode\"; style=\"color: black; background-color: #ffffcc\">&nbspfell&nbsp</span><span class=\"barcode\"; style=\"color: black; background-color: #ffffcc\">&nbspin&nbsp</span><span class=\"barcode\"; style=\"color: black; background-color: #ffffcc\">&nbsplove&nbsp</span><span class=\"barcode\"; style=\"color: black; background-color: #ffffcc\">&nbspway&nbsp</span><span class=\"barcode\"; style=\"color: black; background-color: #ffffcc\">&nbsptoo&nbsp</span><span class=\"barcode\"; style=\"color: black; background-color: #ffffcc\">&nbspsoon&nbsp</span><span class=\"barcode\"; style=\"color: black; background-color: #ffffcc\">&nbspthis&nbsp</span><span class=\"barcode\"; style=\"color: black; background-color: #ffffcc\">&nbspyear&nbsp</span><span class=\"barcode\"; style=\"color: black; background-color: #ffffcc\">&nbspand&nbsp</span><span class=\"barcode\"; style=\"color: black; background-color: #ffffcc\">&nbspi&nbsp</span><span class=\"barcode\"; style=\"color: black; background-color: #fffeca\">&nbspdon’t&nbsp</span><span class=\"barcode\"; style=\"color: black; background-color: #fffeca\">&nbspthink&nbsp</span><span class=\"barcode\"; style=\"color: black; background-color: #ffffcb\">&nbspi&nbsp</span><span class=\"barcode\"; style=\"color: black; background-color: #ffffcc\">&nbspwant&nbsp</span><span class=\"barcode\"; style=\"color: black; background-color: #ffffcc\">&nbspto&nbsp</span><span class=\"barcode\"; style=\"color: black; background-color: #ffffcb\">&nbspfall&nbsp</span><span class=\"barcode\"; style=\"color: black; background-color: #fffeca\">&nbspin&nbsp</span><span class=\"barcode\"; style=\"color: black; background-color: #fffeca\">&nbsplove&nbsp</span><span class=\"barcode\"; style=\"color: black; background-color: #ffffcc\">&nbspanymore&nbsp</span><br><span class=\"barcode\"; style=\"color: black; background-color: #ffe896\">&nbspmore&nbsp</span><span class=\"barcode\"; style=\"color: black; background-color: #ffeea2\">&nbspinteraction&nbsp</span><span class=\"barcode\"; style=\"color: black; background-color: #fff1ab\">&nbspwith&nbsp</span><span class=\"barcode\"; style=\"color: black; background-color: #ffeda1\">&nbspy’all,&nbsp</span><span class=\"barcode\"; style=\"color: black; background-color: #ffe691\">&nbspily.&nbsp</span><span class=\"barcode\"; style=\"color: black; background-color: #ffec9f\">&nbsp🫶🏻&nbsp</span><span class=\"barcode\"; style=\"color: black; background-color: #fee188\">&nbsphttp&nbsp</span><br><span class=\"barcode\"; style=\"color: black; background-color: #ffffcc\">&nbspHey&nbsp</span><span class=\"barcode\"; style=\"color: black; background-color: #ffffcc\">&nbspbois&nbsp</span><span class=\"barcode\"; style=\"color: black; background-color: #ffffcc\">&nbsphave&nbsp</span><span class=\"barcode\"; style=\"color: black; background-color: #ffffcc\">&nbspany&nbsp</span><span class=\"barcode\"; style=\"color: black; background-color: #ffffcc\">&nbspof&nbsp</span><span class=\"barcode\"; style=\"color: black; background-color: #ffffcc\">&nbspu&nbsp</span><span class=\"barcode\"; style=\"color: black; background-color: #ffffcc\">&nbspdipped&nbsp</span><span class=\"barcode\"; style=\"color: black; background-color: #ffffcc\">&nbspyour&nbsp</span><span class=\"barcode\"; style=\"color: black; background-color: #ffffcc\">&nbspballs&nbsp</span><span class=\"barcode\"; style=\"color: black; background-color: #ffffcc\">&nbspin&nbsp</span><span class=\"barcode\"; style=\"color: black; background-color: #ffffcc\">&nbsporange&nbsp</span><span class=\"barcode\"; style=\"color: black; background-color: #ffffcc\">&nbspjuice&nbsp</span><span class=\"barcode\"; style=\"color: black; background-color: #ffffcc\">&nbspyet??&nbsp</span><span class=\"barcode\"; style=\"color: black; background-color: #ffffcc\">&nbspCan&nbsp</span><span class=\"barcode\"; style=\"color: black; background-color: #ffffcc\">&nbspyou&nbsp</span><span class=\"barcode\"; style=\"color: black; background-color: #ffffcc\">&nbsptaste&nbsp</span><span class=\"barcode\"; style=\"color: black; background-color: #ffffcc\">&nbspthe&nbsp</span><span class=\"barcode\"; style=\"color: black; background-color: #ffffcc\">&nbsporange&nbsp</span><span class=\"barcode\"; style=\"color: black; background-color: #ffffcc\">&nbspjuice?&nbsp</span><span class=\"barcode\"; style=\"color: black; background-color: #ffffcc\">&nbspI&nbsp</span><span class=\"barcode\"; style=\"color: black; background-color: #ffffcc\">&nbspneed&nbsp</span><span class=\"barcode\"; style=\"color: black; background-color: #ffffcc\">&nbspanswers&nbsp</span><span class=\"barcode\"; style=\"color: black; background-color: #ffffcc\">&nbspand&nbsp</span><span class=\"barcode\"; style=\"color: black; background-color: #ffffcc\">&nbspI'm&nbsp</span><span class=\"barcode\"; style=\"color: black; background-color: #ffffcc\">&nbspout&nbsp</span><br><span class=\"barcode\"; style=\"color: black; background-color: #ffffcc\">&nbspof&nbsp</span><span class=\"barcode\"; style=\"color: black; background-color: #ffffcc\">&nbsporange&nbsp</span><span class=\"barcode\"; style=\"color: black; background-color: #ffffcc\">&nbspjuice&nbsp</span><br><span class=\"barcode\"; style=\"color: black; background-color: #ffffcc\">&nbspIf&nbsp</span><span class=\"barcode\"; style=\"color: black; background-color: #ffffcc\">&nbspsomeone&nbsp</span><span class=\"barcode\"; style=\"color: black; background-color: #ffffcb\">&nbspis&nbsp</span><span class=\"barcode\"; style=\"color: black; background-color: #ffffcb\">&nbspunhappy&nbsp</span><span class=\"barcode\"; style=\"color: black; background-color: #fffeca\">&nbspin&nbsp</span><span class=\"barcode\"; style=\"color: black; background-color: #ffffcb\">&nbspa&nbsp</span><span class=\"barcode\"; style=\"color: black; background-color: #fffeca\">&nbsprelationship&nbsp</span><span class=\"barcode\"; style=\"color: black; background-color: #fffeca\">&nbspbut&nbsp</span><span class=\"barcode\"; style=\"color: black; background-color: #fffeca\">&nbspwon’t&nbsp</span><span class=\"barcode\"; style=\"color: black; background-color: #fffec9\">&nbspleave&nbsp</span><span class=\"barcode\"; style=\"color: black; background-color: #fffeca\">&nbspwhat&nbsp</span><span class=\"barcode\"; style=\"color: black; background-color: #ffffcb\">&nbspdoes&nbsp</span><span class=\"barcode\"; style=\"color: black; background-color: #fffdc8\">&nbspthat&nbsp</span><span class=\"barcode\"; style=\"color: black; background-color: #fffec9\">&nbspmean&nbsp</span><br><span class=\"barcode\"; style=\"color: black; background-color: #fff4b2\">&nbspmy&nbsp</span><span class=\"barcode\"; style=\"color: black; background-color: #fff6b5\">&nbspchoppa&nbsp</span><span class=\"barcode\"; style=\"color: black; background-color: #fff2ac\">&nbsphold&nbsp</span><span class=\"barcode\"; style=\"color: black; background-color: #ffec9e\">&nbspdouble&nbsp</span><span class=\"barcode\"; style=\"color: black; background-color: #fff3af\">&nbspd’s&nbsp</span><br><span class=\"barcode\"; style=\"color: black; background-color: #fffdc7\">&nbsp@user&nbsp</span><span class=\"barcode\"; style=\"color: black; background-color: #fffdc8\">&nbspWhat’s&nbsp</span><span class=\"barcode\"; style=\"color: black; background-color: #ffffcb\">&nbspwrong&nbsp</span><span class=\"barcode\"; style=\"color: black; background-color: #ffffcc\">&nbspfriend&nbsp</span><br><span class=\"barcode\"; style=\"color: black; background-color: #fffabf\">&nbspJOHNNY&nbsp</span><span class=\"barcode\"; style=\"color: black; background-color: #fffabf\">&nbspLOOKING&nbsp</span><span class=\"barcode\"; style=\"color: black; background-color: #fff7b8\">&nbspSO&nbsp</span><span class=\"barcode\"; style=\"color: black; background-color: #fff5b3\">&nbspGOOD&nbsp</span><span class=\"barcode\"; style=\"color: black; background-color: #fff2ac\">&nbspOMG&nbsp</span><span class=\"barcode\"; style=\"color: black; background-color: #fff7b8\">&nbspI&nbsp</span><span class=\"barcode\"; style=\"color: black; background-color: #fff4b1\">&nbspCKSKSKSK&nbsp</span><br><span class=\"barcode\"; style=\"color: black; background-color: #ffffcb\">&nbsp@user&nbsp</span><span class=\"barcode\"; style=\"color: black; background-color: #ffffcb\">&nbspI&nbsp</span><span class=\"barcode\"; style=\"color: black; background-color: #ffffcb\">&nbspthought&nbsp</span><span class=\"barcode\"; style=\"color: black; background-color: #ffffcc\">&nbspit&nbsp</span><span class=\"barcode\"; style=\"color: black; background-color: #ffffcc\">&nbspwas&nbsp</span><span class=\"barcode\"; style=\"color: black; background-color: #ffffcc\">&nbspan&nbsp</span><span class=\"barcode\"; style=\"color: black; background-color: #ffffcc\">&nbspAC&nbsp</span><span class=\"barcode\"; style=\"color: black; background-color: #ffffcc\">&nbspDC&nbsp</span><span class=\"barcode\"; style=\"color: black; background-color: #ffffcc\">&nbspday&nbsp</span><span class=\"barcode\"; style=\"color: black; background-color: #ffffcc\">&nbspfor&nbsp</span><span class=\"barcode\"; style=\"color: black; background-color: #ffffcc\">&nbspyou?😜😜😜&nbsp</span><br><span class=\"barcode\"; style=\"color: black; background-color: #fffeca\">&nbsp@user&nbsp</span><span class=\"barcode\"; style=\"color: black; background-color: #fffdc7\">&nbspyou&nbsp</span><span class=\"barcode\"; style=\"color: black; background-color: #ffffcb\">&nbsplove&nbsp</span><span class=\"barcode\"; style=\"color: black; background-color: #fffdc7\">&nbspto&nbsp</span><span class=\"barcode\"; style=\"color: black; background-color: #fffec9\">&nbspsee&nbsp</span><span class=\"barcode\"; style=\"color: black; background-color: #fffdc8\">&nbspit&nbsp</span><span class=\"barcode\"; style=\"color: black; background-color: #fffeca\">&nbsp❤&nbsp</span><br><span class=\"barcode\"; style=\"color: black; background-color: #ffffcc\">&nbspsorry&nbsp</span><span class=\"barcode\"; style=\"color: black; background-color: #ffffcc\">&nbspbut&nbsp</span><span class=\"barcode\"; style=\"color: black; background-color: #ffffcc\">&nbspI’m&nbsp</span><span class=\"barcode\"; style=\"color: black; background-color: #ffffcc\">&nbspin&nbsp</span><span class=\"barcode\"; style=\"color: black; background-color: #ffffcc\">&nbsplove&nbsp</span><span class=\"barcode\"; style=\"color: black; background-color: #ffffcc\">&nbsp💞&nbsp</span><span class=\"barcode\"; style=\"color: black; background-color: #ffffcc\">&nbsphttp&nbsp</span><br><span class=\"barcode\"; style=\"color: black; background-color: #fffbc2\">&nbsp@user&nbsp</span><span class=\"barcode\"; style=\"color: black; background-color: #fff9be\">&nbsp5yr&nbsp</span><span class=\"barcode\"; style=\"color: black; background-color: #fffabf\">&nbsprelationship&nbsp</span><span class=\"barcode\"; style=\"color: black; background-color: #fff7b9\">&nbspme&nbsp</span><span class=\"barcode\"; style=\"color: black; background-color: #fff6b5\">&nbspn&nbsp</span><span class=\"barcode\"; style=\"color: black; background-color: #fff6b6\">&nbspu&nbsp</span><br><span class=\"barcode\"; style=\"color: black; background-color: #ffffcc\">&nbsp@user&nbsp</span><span class=\"barcode\"; style=\"color: black; background-color: #fffeca\">&nbspStrength&nbsp</span><span class=\"barcode\"; style=\"color: black; background-color: #ffffcb\">&nbspand&nbsp</span><span class=\"barcode\"; style=\"color: black; background-color: #ffffcc\">&nbsplove&nbsp</span><span class=\"barcode\"; style=\"color: black; background-color: #ffffcb\">&nbspon&nbsp</span><span class=\"barcode\"; style=\"color: black; background-color: #ffffcb\">&nbspyour&nbsp</span><span class=\"barcode\"; style=\"color: black; background-color: #ffffcb\">&nbsproad&nbsp</span><span class=\"barcode\"; style=\"color: black; background-color: #ffffcb\">&nbspto&nbsp</span><span class=\"barcode\"; style=\"color: black; background-color: #ffffcc\">&nbsphealth.&nbsp</span><span class=\"barcode\"; style=\"color: black; background-color: #ffffcc\">&nbspThanks&nbsp</span><span class=\"barcode\"; style=\"color: black; background-color: #ffffcc\">&nbspfor&nbsp</span><span class=\"barcode\"; style=\"color: black; background-color: #ffffcc\">&nbspthe&nbsp</span><span class=\"barcode\"; style=\"color: black; background-color: #ffffcb\">&nbspinspiration&nbsp</span><span class=\"barcode\"; style=\"color: black; background-color: #ffffcb\">&nbspand&nbsp</span><span class=\"barcode\"; style=\"color: black; background-color: #ffffcc\">&nbspthe&nbsp</span><span class=\"barcode\"; style=\"color: black; background-color: #ffffcc\">&nbspinsight.&nbsp</span><br><span class=\"barcode\"; style=\"color: black; background-color: #ffffcc\">&nbspWhen&nbsp</span><span class=\"barcode\"; style=\"color: black; background-color: #ffffcc\">&nbspyou've&nbsp</span><span class=\"barcode\"; style=\"color: black; background-color: #ffffcc\">&nbspfound&nbsp</span><span class=\"barcode\"; style=\"color: black; background-color: #ffffcc\">&nbspthe&nbsp</span><span class=\"barcode\"; style=\"color: black; background-color: #ffffcc\">&nbspdivine&nbsp</span><span class=\"barcode\"; style=\"color: black; background-color: #ffffcc\">&nbsplove&nbsp</span><span class=\"barcode\"; style=\"color: black; background-color: #ffffcc\">&nbspof&nbsp</span><span class=\"barcode\"; style=\"color: black; background-color: #ffffcc\">&nbspyour&nbsp</span><span class=\"barcode\"; style=\"color: black; background-color: #ffffcc\">&nbsplife&nbsp</span><span class=\"barcode\"; style=\"color: black; background-color: #ffffcc\">&nbspbut&nbsp</span><span class=\"barcode\"; style=\"color: black; background-color: #ffffcc\">&nbsphave&nbsp</span><span class=\"barcode\"; style=\"color: black; background-color: #ffffcc\">&nbspto&nbsp</span><span class=\"barcode\"; style=\"color: black; background-color: #ffffcc\">&nbsppractice&nbsp</span><span class=\"barcode\"; style=\"color: black; background-color: #ffffcc\">&nbspinfinite&nbsp</span><span class=\"barcode\"; style=\"color: black; background-color: #ffffcc\">&nbsppatience.&nbsp</span><span class=\"barcode\"; style=\"color: black; background-color: #ffffcc\">&nbsp...&nbsp</span><span class=\"barcode\"; style=\"color: black; background-color: #ffffcc\">&nbsp😂😩😎👍🙏🤗&nbsp</span><br><span class=\"barcode\"; style=\"color: black; background-color: #fee188\">&nbsp@user&nbsp</span><span class=\"barcode\"; style=\"color: black; background-color: #fed773\">&nbspHappy&nbsp</span><span class=\"barcode\"; style=\"color: black; background-color: #fed36f\">&nbspbirthday,&nbsp</span><span class=\"barcode\"; style=\"color: black; background-color: #fecf6b\">&nbspLucy!&nbsp</span><br><span class=\"barcode\"; style=\"color: black; background-color: #fffac0\">&nbspOkay&nbsp</span><span class=\"barcode\"; style=\"color: black; background-color: #fff9be\">&nbspeveryone&nbsp</span><span class=\"barcode\"; style=\"color: black; background-color: #fff5b4\">&nbspare&nbsp</span><span class=\"barcode\"; style=\"color: black; background-color: #fff3af\">&nbspflirting&nbsp</span><span class=\"barcode\"; style=\"color: black; background-color: #fff2ac\">&nbspwith&nbsp</span><span class=\"barcode\"; style=\"color: black; background-color: #ffec9f\">&nbspme&nbsp</span><span class=\"barcode\"; style=\"color: black; background-color: #ffe896\">&nbspnow,,&nbsp</span><br><span class=\"barcode\"; style=\"color: black; background-color: #ffffcc\">&nbsp@user&nbsp</span><span class=\"barcode\"; style=\"color: black; background-color: #fffcc4\">&nbsp@user&nbsp</span><span class=\"barcode\"; style=\"color: black; background-color: #fffbc3\">&nbsphe&nbsp</span><span class=\"barcode\"; style=\"color: black; background-color: #fffeca\">&nbsplearned&nbsp</span><span class=\"barcode\"; style=\"color: black; background-color: #fffac0\">&nbspthat&nbsp</span><span class=\"barcode\"; style=\"color: black; background-color: #fff6b6\">&nbspsex&nbsp</span><span class=\"barcode\"; style=\"color: black; background-color: #fffbc2\">&nbspswing&nbsp</span><span class=\"barcode\"; style=\"color: black; background-color: #fff8bb\">&nbsptechnique&nbsp</span><span class=\"barcode\"; style=\"color: black; background-color: #fffdc7\">&nbspfrom&nbsp</span><span class=\"barcode\"; style=\"color: black; background-color: #fffabf\">&nbsphis&nbsp</span><span class=\"barcode\"; style=\"color: black; background-color: #fff5b4\">&nbspmama&nbsp</span><br><span class=\"barcode\"; style=\"color: black; background-color: #ffffcc\">&nbsp@ChelseaFC&nbsp</span><span class=\"barcode\"; style=\"color: black; background-color: #ffffcc\">&nbsp@cesc4official&nbsp</span><span class=\"barcode\"; style=\"color: black; background-color: #ffffcc\">&nbspMy&nbsp</span><span class=\"barcode\"; style=\"color: black; background-color: #ffffcb\">&nbspheart&nbsp</span><span class=\"barcode\"; style=\"color: black; background-color: #ffffcc\">&nbspis&nbsp</span><span class=\"barcode\"; style=\"color: black; background-color: #ffffcc\">&nbspbroken,&nbsp</span><span class=\"barcode\"; style=\"color: black; background-color: #ffffcc\">&nbspI'm&nbsp</span><span class=\"barcode\"; style=\"color: black; background-color: #ffffcc\">&nbspgonna&nbsp</span><span class=\"barcode\"; style=\"color: black; background-color: #ffffcc\">&nbspmiss&nbsp</span><span class=\"barcode\"; style=\"color: black; background-color: #ffffcc\">&nbspyou&nbsp</span><span class=\"barcode\"; style=\"color: black; background-color: #fffeca\">&nbspcesc&nbsp</span><span class=\"barcode\"; style=\"color: black; background-color: #ffffcb\">&nbsp😭&nbsp</span><br><span class=\"barcode\"; style=\"color: black; background-color: #fffdc8\">&nbspI’ve&nbsp</span><span class=\"barcode\"; style=\"color: black; background-color: #fffeca\">&nbspnever&nbsp</span><span class=\"barcode\"; style=\"color: black; background-color: #fffbc3\">&nbspbeen&nbsp</span><span class=\"barcode\"; style=\"color: black; background-color: #fffbc2\">&nbspso&nbsp</span><span class=\"barcode\"; style=\"color: black; background-color: #fffcc4\">&nbspangry&nbsp</span><span class=\"barcode\"; style=\"color: black; background-color: #fffdc7\">&nbspwith&nbsp</span><span class=\"barcode\"; style=\"color: black; background-color: #fffeca\">&nbspmyself&nbsp</span><span class=\"barcode\"; style=\"color: black; background-color: #fffdc7\">&nbspthis&nbsp</span><span class=\"barcode\"; style=\"color: black; background-color: #fffdc7\">&nbspbad&nbsp</span><br><span class=\"barcode\"; style=\"color: black; background-color: #fffac0\">&nbspYou&nbsp</span><span class=\"barcode\"; style=\"color: black; background-color: #fffbc3\">&nbspand&nbsp</span><span class=\"barcode\"; style=\"color: black; background-color: #fff8bb\">&nbspme,&nbsp</span><span class=\"barcode\"; style=\"color: black; background-color: #fffbc2\">&nbspalways&nbsp</span><span class=\"barcode\"; style=\"color: black; background-color: #fffbc2\">&nbspforever&nbsp</span><span class=\"barcode\"; style=\"color: black; background-color: #fffac0\">&nbspWe&nbsp</span><span class=\"barcode\"; style=\"color: black; background-color: #fffdc8\">&nbspcould&nbsp</span><span class=\"barcode\"; style=\"color: black; background-color: #fffdc8\">&nbspstay&nbsp</span><span class=\"barcode\"; style=\"color: black; background-color: #fffcc6\">&nbspalone&nbsp</span><span class=\"barcode\"; style=\"color: black; background-color: #fffbc3\">&nbsptogether&nbsp</span><br><span class=\"barcode\"; style=\"color: black; background-color: #ffffcc\">&nbspwhat’s&nbsp</span><span class=\"barcode\"; style=\"color: black; background-color: #ffffcc\">&nbspthe&nbsp</span><span class=\"barcode\"; style=\"color: black; background-color: #ffffcc\">&nbsppoint&nbsp</span><span class=\"barcode\"; style=\"color: black; background-color: #ffffcc\">&nbspof&nbsp</span><span class=\"barcode\"; style=\"color: black; background-color: #ffffcc\">&nbspeven&nbsp</span><span class=\"barcode\"; style=\"color: black; background-color: #ffffcc\">&nbspbeing&nbsp</span><span class=\"barcode\"; style=\"color: black; background-color: #ffffcc\">&nbspfriends&nbsp</span><span class=\"barcode\"; style=\"color: black; background-color: #ffffcc\">&nbspif&nbsp</span><span class=\"barcode\"; style=\"color: black; background-color: #ffffcc\">&nbspur&nbsp</span><span class=\"barcode\"; style=\"color: black; background-color: #ffffcc\">&nbspgonna&nbsp</span><span class=\"barcode\"; style=\"color: black; background-color: #ffffcc\">&nbspbe&nbsp</span><span class=\"barcode\"; style=\"color: black; background-color: #ffffcc\">&nbsplike&nbsp</span><span class=\"barcode\"; style=\"color: black; background-color: #ffffcc\">&nbspthat&nbsp</span><span class=\"barcode\"; style=\"color: black; background-color: #ffffcc\">&nbsplol&nbsp</span><br><span class=\"barcode\"; style=\"color: black; background-color: #fffdc8\">&nbspgoing&nbsp</span><span class=\"barcode\"; style=\"color: black; background-color: #fffdc8\">&nbspfor&nbsp</span><span class=\"barcode\"; style=\"color: black; background-color: #fffec9\">&nbspclosure&nbsp</span><span class=\"barcode\"; style=\"color: black; background-color: #fffcc6\">&nbspalways&nbsp</span><span class=\"barcode\"; style=\"color: black; background-color: #fffcc4\">&nbspend&nbsp</span><span class=\"barcode\"; style=\"color: black; background-color: #fffcc6\">&nbspup&nbsp</span><span class=\"barcode\"; style=\"color: black; background-color: #fffec9\">&nbspwith&nbsp</span><span class=\"barcode\"; style=\"color: black; background-color: #fffeca\">&nbspyou&nbsp</span><span class=\"barcode\"; style=\"color: black; background-color: #fffec9\">&nbspbent&nbsp</span><span class=\"barcode\"; style=\"color: black; background-color: #fffdc8\">&nbspover&nbsp</span><span class=\"barcode\"; style=\"color: black; background-color: #ffffcc\">&nbsp🤦🏾‍♀️&nbsp</span><br><span class=\"barcode\"; style=\"color: black; background-color: #fffbc3\">&nbspthey&nbsp</span><span class=\"barcode\"; style=\"color: black; background-color: #fffcc4\">&nbspgone&nbsp</span><span class=\"barcode\"; style=\"color: black; background-color: #fff8bc\">&nbspfck&nbsp</span><span class=\"barcode\"; style=\"color: black; background-color: #fff7b8\">&nbspu&nbsp</span><span class=\"barcode\"; style=\"color: black; background-color: #fffac0\">&nbspover&nbsp</span><span class=\"barcode\"; style=\"color: black; background-color: #fff3ad\">&nbsptil&nbsp</span><span class=\"barcode\"; style=\"color: black; background-color: #fff4b2\">&nbspall&nbsp</span><span class=\"barcode\"; style=\"color: black; background-color: #fff6b5\">&nbspyo&nbsp</span><span class=\"barcode\"; style=\"color: black; background-color: #fff0a8\">&nbsplove&nbsp</span><span class=\"barcode\"; style=\"color: black; background-color: #fff2ac\">&nbspgone,&nbsp</span><span class=\"barcode\"; style=\"color: black; background-color: #fff9bd\">&nbspthen&nbsp</span><span class=\"barcode\"; style=\"color: black; background-color: #ffeb9d\">&nbsplook&nbsp</span><span class=\"barcode\"; style=\"color: black; background-color: #fff3ad\">&nbspat&nbsp</span><span class=\"barcode\"; style=\"color: black; background-color: #fff6b6\">&nbspu&nbsp</span><span class=\"barcode\"; style=\"color: black; background-color: #ffffcb\">&nbsplike&nbsp</span><span class=\"barcode\"; style=\"color: black; background-color: #fffabf\">&nbspu&nbsp</span><span class=\"barcode\"; style=\"color: black; background-color: #fff6b6\">&nbspchanged&nbsp</span><span class=\"barcode\"; style=\"color: black; background-color: #fff7b8\">&nbspon&nbsp</span><span class=\"barcode\"; style=\"color: black; background-color: #fff9bd\">&nbspem&nbsp</span><br><span class=\"barcode\"; style=\"color: black; background-color: #ffffcb\">&nbspYou&nbsp</span><span class=\"barcode\"; style=\"color: black; background-color: #fffeca\">&nbspwill&nbsp</span><span class=\"barcode\"; style=\"color: black; background-color: #fffeca\">&nbspbe&nbsp</span><span class=\"barcode\"; style=\"color: black; background-color: #fffec9\">&nbspalright&nbsp</span><span class=\"barcode\"; style=\"color: black; background-color: #fffdc8\">&nbsp,&nbsp</span><span class=\"barcode\"; style=\"color: black; background-color: #fffec9\">&nbspno&nbsp</span><span class=\"barcode\"; style=\"color: black; background-color: #fffcc6\">&nbspone&nbsp</span><span class=\"barcode\"; style=\"color: black; background-color: #fffdc8\">&nbspcan&nbsp</span><span class=\"barcode\"; style=\"color: black; background-color: #fffec9\">&nbsphurt&nbsp</span><span class=\"barcode\"; style=\"color: black; background-color: #fffeca\">&nbspyou&nbsp</span><span class=\"barcode\"; style=\"color: black; background-color: #fffec9\">&nbspnow.&nbsp</span><br><span class=\"barcode\"; style=\"color: black; background-color: #fff3ad\">&nbspDm&nbsp</span><span class=\"barcode\"; style=\"color: black; background-color: #fff1a9\">&nbspto&nbsp</span><span class=\"barcode\"; style=\"color: black; background-color: #fffac0\">&nbspbuy&nbsp</span><span class=\"barcode\"; style=\"color: black; background-color: #fff3ad\">&nbspfull&nbsp</span><span class=\"barcode\"; style=\"color: black; background-color: #fff1ab\">&nbspvids&nbsp</span><span class=\"barcode\"; style=\"color: black; background-color: #fff0a7\">&nbspof&nbsp</span><span class=\"barcode\"; style=\"color: black; background-color: #ffeda1\">&nbsplocal&nbsp</span><span class=\"barcode\"; style=\"color: black; background-color: #fff0a8\">&nbspcoloured&nbsp</span><span class=\"barcode\"; style=\"color: black; background-color: #fff1aa\">&nbspmense&nbsp</span><span class=\"barcode\"; style=\"color: black; background-color: #fff0a8\">&nbspfucking😍&nbsp</span><span class=\"barcode\"; style=\"color: black; background-color: #ffefa5\">&nbsphttp&nbsp</span><br><span class=\"barcode\"; style=\"color: black; background-color: #fff6b6\">&nbspPussy&nbsp</span><span class=\"barcode\"; style=\"color: black; background-color: #fff3af\">&nbspnever&nbsp</span><span class=\"barcode\"; style=\"color: black; background-color: #fff3af\">&nbspfelt&nbsp</span><span class=\"barcode\"; style=\"color: black; background-color: #fff1ab\">&nbspso&nbsp</span><span class=\"barcode\"; style=\"color: black; background-color: #ffeb9b\">&nbspfucking&nbsp</span><span class=\"barcode\"; style=\"color: black; background-color: #ffe793\">&nbspgood&nbsp</span><span class=\"barcode\"; style=\"color: black; background-color: #ffe998\">&nbsphttp&nbsp</span><br><span class=\"barcode\"; style=\"color: black; background-color: #fffbc2\">&nbsphes&nbsp</span><span class=\"barcode\"; style=\"color: black; background-color: #fffbc2\">&nbspeating&nbsp</span><span class=\"barcode\"; style=\"color: black; background-color: #fffdc8\">&nbspcake&nbsp</span><span class=\"barcode\"; style=\"color: black; background-color: #fffeca\">&nbspand&nbsp</span><span class=\"barcode\"; style=\"color: black; background-color: #fffec9\">&nbspim&nbsp</span><span class=\"barcode\"; style=\"color: black; background-color: #fff9bd\">&nbspplanning&nbsp</span><span class=\"barcode\"; style=\"color: black; background-color: #fffcc6\">&nbspto&nbsp</span><span class=\"barcode\"; style=\"color: black; background-color: #ffffcb\">&nbspeat&nbsp</span><span class=\"barcode\"; style=\"color: black; background-color: #fffeca\">&nbsphim&nbsp</span><br><span class=\"barcode\"; style=\"color: black; background-color: #ffffcb\">&nbspI&nbsp</span><span class=\"barcode\"; style=\"color: black; background-color: #ffffcb\">&nbsprespect&nbsp</span><span class=\"barcode\"; style=\"color: black; background-color: #ffffcb\">&nbspa&nbsp</span><span class=\"barcode\"; style=\"color: black; background-color: #fffdc8\">&nbspnigga&nbsp</span><span class=\"barcode\"; style=\"color: black; background-color: #fffeca\">&nbspthat&nbsp</span><span class=\"barcode\"; style=\"color: black; background-color: #fffec9\">&nbsptells&nbsp</span><span class=\"barcode\"; style=\"color: black; background-color: #fffcc4\">&nbspyou,&nbsp</span><span class=\"barcode\"; style=\"color: black; background-color: #fffeca\">&nbspright&nbsp</span><span class=\"barcode\"; style=\"color: black; background-color: #fffec9\">&nbspoff&nbsp</span><span class=\"barcode\"; style=\"color: black; background-color: #fffec9\">&nbspbat,&nbsp</span><span class=\"barcode\"; style=\"color: black; background-color: #ffffcb\">&nbsphe’s&nbsp</span><span class=\"barcode\"; style=\"color: black; background-color: #fffdc8\">&nbspjust&nbsp</span><span class=\"barcode\"; style=\"color: black; background-color: #fffdc8\">&nbsptryna&nbsp</span><span class=\"barcode\"; style=\"color: black; background-color: #fffeca\">&nbspfuck&nbsp</span><span class=\"barcode\"; style=\"color: black; background-color: #fffcc4\">&nbspway&nbsp</span><span class=\"barcode\"; style=\"color: black; background-color: #ffffcb\">&nbspmore&nbsp</span><span class=\"barcode\"; style=\"color: black; background-color: #fffeca\">&nbspthan&nbsp</span><span class=\"barcode\"; style=\"color: black; background-color: #fffdc7\">&nbspa&nbsp</span><span class=\"barcode\"; style=\"color: black; background-color: #ffffcb\">&nbspnigga&nbsp</span><span class=\"barcode\"; style=\"color: black; background-color: #ffffcb\">&nbspthat&nbsp</span><span class=\"barcode\"; style=\"color: black; background-color: #fffec9\">&nbspleads&nbsp</span><span class=\"barcode\"; style=\"color: black; background-color: #fffdc8\">&nbspyou&nbsp</span><span class=\"barcode\"; style=\"color: black; background-color: #fffcc6\">&nbspon&nbsp</span><span class=\"barcode\"; style=\"color: black; background-color: #fffdc8\">&nbsp🤷🏽‍♀️&nbsp</span><br><span class=\"barcode\"; style=\"color: black; background-color: #fffdc8\">&nbspi&nbsp</span><span class=\"barcode\"; style=\"color: black; background-color: #fffdc7\">&nbspjust&nbsp</span><span class=\"barcode\"; style=\"color: black; background-color: #fffeca\">&nbspgot&nbsp</span><span class=\"barcode\"; style=\"color: black; background-color: #fffdc7\">&nbspthe&nbsp</span><span class=\"barcode\"; style=\"color: black; background-color: #fffec9\">&nbspbiggest&nbsp</span><span class=\"barcode\"; style=\"color: black; background-color: #fffdc7\">&nbspheartache,&nbsp</span><span class=\"barcode\"; style=\"color: black; background-color: #fffdc7\">&nbspfinally,&nbsp</span><span class=\"barcode\"; style=\"color: black; background-color: #fffbc3\">&nbspmy&nbsp</span><span class=\"barcode\"; style=\"color: black; background-color: #fffec9\">&nbspending&nbsp</span><span class=\"barcode\"; style=\"color: black; background-color: #fffcc4\">&nbsphas&nbsp</span><span class=\"barcode\"; style=\"color: black; background-color: #fffdc7\">&nbspcome&nbsp</span><br><span class=\"barcode\"; style=\"color: black; background-color: #ffffcc\">&nbsp@user&nbsp</span><span class=\"barcode\"; style=\"color: black; background-color: #ffffcc\">&nbsp@Oloni&nbsp</span><span class=\"barcode\"; style=\"color: black; background-color: #ffffcc\">&nbspLAJSAKSASH&nbsp</span><span class=\"barcode\"; style=\"color: black; background-color: #ffffcc\">&nbsppick&nbsp</span><span class=\"barcode\"; style=\"color: black; background-color: #ffffcc\">&nbspme&nbsp</span><span class=\"barcode\"; style=\"color: black; background-color: #ffffcc\">&nbspgays&nbsp</span><span class=\"barcode\"; style=\"color: black; background-color: #ffffcc\">&nbspare&nbsp</span><span class=\"barcode\"; style=\"color: black; background-color: #ffffcc\">&nbspthe&nbsp</span><span class=\"barcode\"; style=\"color: black; background-color: #ffffcc\">&nbspworse!&nbsp</span><span class=\"barcode\"; style=\"color: black; background-color: #ffffcc\">&nbspStop,&nbsp</span><span class=\"barcode\"; style=\"color: black; background-color: #ffffcc\">&nbspyou&nbsp</span><span class=\"barcode\"; style=\"color: black; background-color: #ffffcc\">&nbspwanted&nbsp</span><span class=\"barcode\"; style=\"color: black; background-color: #ffffcc\">&nbspto&nbsp</span><span class=\"barcode\"; style=\"color: black; background-color: #ffffcc\">&nbspsuck&nbsp</span><span class=\"barcode\"; style=\"color: black; background-color: #ffffcc\">&nbspyour&nbsp</span><span class=\"barcode\"; style=\"color: black; background-color: #ffffcc\">&nbspfriend's&nbsp</span><span class=\"barcode\"; style=\"color: black; background-color: #ffffcc\">&nbspdick&nbsp</span><span class=\"barcode\"; style=\"color: black; background-color: #ffffcc\">&nbspso&nbsp</span><span class=\"barcode\"; style=\"color: black; background-color: #ffffcc\">&nbspbad,&nbsp</span><span class=\"barcode\"; style=\"color: black; background-color: #ffffcc\">&nbspbut&nbsp</span><span class=\"barcode\"; style=\"color: black; background-color: #ffffcc\">&nbsphe&nbsp</span><span class=\"barcode\"; style=\"color: black; background-color: #ffffcc\">&nbspwasn't&nbsp</span><span class=\"barcode\"; style=\"color: black; background-color: #ffffcc\">&nbspinto&nbsp</span><span class=\"barcode\"; style=\"color: black; background-color: #ffffcc\">&nbspyou.&nbsp</span><br><span class=\"barcode\"; style=\"color: black; background-color: #ffffcc\">&nbspImagine&nbsp</span><span class=\"barcode\"; style=\"color: black; background-color: #ffffcc\">&nbspsomeone&nbsp</span><span class=\"barcode\"; style=\"color: black; background-color: #ffffcc\">&nbspwatching&nbsp</span><span class=\"barcode\"; style=\"color: black; background-color: #ffffcc\">&nbspyah&nbsp</span><span class=\"barcode\"; style=\"color: black; background-color: #ffffcc\">&nbsptweets&nbsp</span><span class=\"barcode\"; style=\"color: black; background-color: #ffffcc\">&nbspstressing&nbsp</span><span class=\"barcode\"; style=\"color: black; background-color: #ffffcc\">&nbspabout&nbsp</span><span class=\"barcode\"; style=\"color: black; background-color: #ffffcc\">&nbspyou&nbsp</span><span class=\"barcode\"; style=\"color: black; background-color: #ffffcc\">&nbspand&nbsp</span><span class=\"barcode\"; style=\"color: black; background-color: #ffffcc\">&nbspthe&nbsp</span><span class=\"barcode\"; style=\"color: black; background-color: #ffffcc\">&nbspwhole&nbsp</span><span class=\"barcode\"; style=\"color: black; background-color: #ffffcc\">&nbsptime&nbsp</span><span class=\"barcode\"; style=\"color: black; background-color: #ffffcc\">&nbspyou&nbsp</span><span class=\"barcode\"; style=\"color: black; background-color: #ffffcc\">&nbspdon't&nbsp</span><span class=\"barcode\"; style=\"color: black; background-color: #ffffcc\">&nbspgive&nbsp</span><span class=\"barcode\"; style=\"color: black; background-color: #ffffcc\">&nbspaf&nbsp</span><span class=\"barcode\"; style=\"color: black; background-color: #ffffcc\">&nbspabout&nbsp</span><span class=\"barcode\"; style=\"color: black; background-color: #ffffcc\">&nbspem&nbsp</span><span class=\"barcode\"; style=\"color: black; background-color: #ffffcc\">&nbsp🥴&nbsp</span><span class=\"barcode\"; style=\"color: black; background-color: #ffffcc\">&nbsphttp&nbsp</span><br><span class=\"barcode\"; style=\"color: black; background-color: #fffeca\">&nbsp@user&nbsp</span><span class=\"barcode\"; style=\"color: black; background-color: #fffbc2\">&nbspGo&nbsp</span><span class=\"barcode\"; style=\"color: black; background-color: #fff8bb\">&nbspkill&nbsp</span><span class=\"barcode\"; style=\"color: black; background-color: #fff9bd\">&nbspur&nbsp</span><span class=\"barcode\"; style=\"color: black; background-color: #fffac0\">&nbspself&nbsp</span><span class=\"barcode\"; style=\"color: black; background-color: #fffbc2\">&nbspfat&nbsp</span><span class=\"barcode\"; style=\"color: black; background-color: #fffabf\">&nbspfuck&nbsp</span><span class=\"barcode\"; style=\"color: black; background-color: #fff9be\">&nbspimagine&nbsp</span><span class=\"barcode\"; style=\"color: black; background-color: #fffabf\">&nbsptaking&nbsp</span><span class=\"barcode\"; style=\"color: black; background-color: #fff9bd\">&nbspsomone&nbsp</span><span class=\"barcode\"; style=\"color: black; background-color: #fffabf\">&nbspacc&nbsp</span><span class=\"barcode\"; style=\"color: black; background-color: #fff7b8\">&nbspu&nbsp</span><span class=\"barcode\"; style=\"color: black; background-color: #fff9be\">&nbspvirgin&nbsp</span><br><span class=\"barcode\"; style=\"color: black; background-color: #fff4b2\">&nbspIm&nbsp</span><span class=\"barcode\"; style=\"color: black; background-color: #ffeb9b\">&nbspgonna&nbsp</span><span class=\"barcode\"; style=\"color: black; background-color: #ffeda0\">&nbspfucking&nbsp</span><span class=\"barcode\"; style=\"color: black; background-color: #ffec9e\">&nbspsquirt&nbsp</span><br><span class=\"barcode\"; style=\"color: black; background-color: #ffffcb\">&nbspI’m&nbsp</span><span class=\"barcode\"; style=\"color: black; background-color: #ffffcc\">&nbspnice&nbsp</span><span class=\"barcode\"; style=\"color: black; background-color: #fffeca\">&nbspbut&nbsp</span><span class=\"barcode\"; style=\"color: black; background-color: #fffdc8\">&nbspI&nbsp</span><span class=\"barcode\"; style=\"color: black; background-color: #fffec9\">&nbspalso&nbsp</span><span class=\"barcode\"; style=\"color: black; background-color: #fffec9\">&nbspdon’t&nbsp</span><span class=\"barcode\"; style=\"color: black; background-color: #fffeca\">&nbsptake&nbsp</span><span class=\"barcode\"; style=\"color: black; background-color: #fffec9\">&nbspanyone’s&nbsp</span><span class=\"barcode\"; style=\"color: black; background-color: #ffffcb\">&nbspbullshit.&nbsp</span><br><span class=\"barcode\"; style=\"color: black; background-color: #ffffcb\">&nbsp@user&nbsp</span><span class=\"barcode\"; style=\"color: black; background-color: #fffec9\">&nbsplike&nbsp</span><span class=\"barcode\"; style=\"color: black; background-color: #ffffcb\">&nbspI’ve&nbsp</span><span class=\"barcode\"; style=\"color: black; background-color: #ffffcc\">&nbspbeen&nbsp</span><span class=\"barcode\"; style=\"color: black; background-color: #ffffcb\">&nbspattracted&nbsp</span><span class=\"barcode\"; style=\"color: black; background-color: #ffffcc\">&nbspto&nbsp</span><span class=\"barcode\"; style=\"color: black; background-color: #ffffcc\">&nbsppeople&nbsp</span><span class=\"barcode\"; style=\"color: black; background-color: #ffffcc\">&nbspbut&nbsp</span><span class=\"barcode\"; style=\"color: black; background-color: #ffffcc\">&nbspnot&nbsp</span><span class=\"barcode\"; style=\"color: black; background-color: #ffffcc\">&nbspto&nbsp</span><span class=\"barcode\"; style=\"color: black; background-color: #ffffcc\">&nbspthe&nbsp</span><span class=\"barcode\"; style=\"color: black; background-color: #ffffcc\">&nbsppoint&nbsp</span><span class=\"barcode\"; style=\"color: black; background-color: #ffffcc\">&nbspof&nbsp</span><span class=\"barcode\"; style=\"color: black; background-color: #ffffcb\">&nbspfull&nbsp</span><span class=\"barcode\"; style=\"color: black; background-color: #ffffcc\">&nbspon&nbsp</span><span class=\"barcode\"; style=\"color: black; background-color: #ffffcc\">&nbspcrush&nbsp</span><span class=\"barcode\"; style=\"color: black; background-color: #ffffcc\">&nbspwhich&nbsp</span><span class=\"barcode\"; style=\"color: black; background-color: #ffffcc\">&nbspkinda&nbsp</span><span class=\"barcode\"; style=\"color: black; background-color: #ffffcc\">&nbspmakes&nbsp</span><span class=\"barcode\"; style=\"color: black; background-color: #ffffcc\">&nbspme&nbsp</span><span class=\"barcode\"; style=\"color: black; background-color: #ffffcc\">&nbspsad&nbsp</span><br><span class=\"barcode\"; style=\"color: black; background-color: #ffe895\">&nbsp@user&nbsp</span><span class=\"barcode\"; style=\"color: black; background-color: #fff3ad\">&nbspmy&nbsp</span><span class=\"barcode\"; style=\"color: black; background-color: #ffe998\">&nbspbisexuality&nbsp</span><span class=\"barcode\"; style=\"color: black; background-color: #fedc7c\">&nbspalways&nbsp</span><span class=\"barcode\"; style=\"color: black; background-color: #fec05b\">&nbspshakes&nbsp</span><span class=\"barcode\"; style=\"color: black; background-color: #fedc7c\">&nbspwhen&nbsp</span><span class=\"barcode\"; style=\"color: black; background-color: #ffe896\">&nbspI&nbsp</span><span class=\"barcode\"; style=\"color: black; background-color: #ffe48e\">&nbspsee&nbsp</span><span class=\"barcode\"; style=\"color: black; background-color: #fedf83\">&nbspthem&nbsp</span><span class=\"barcode\"; style=\"color: black; background-color: #ffe997\">&nbsptogether&nbsp</span><span class=\"barcode\"; style=\"color: black; background-color: #fee186\">&nbsp💔&nbsp</span><br><span class=\"barcode\"; style=\"color: black; background-color: #fffdc7\">&nbspFinding&nbsp</span><span class=\"barcode\"; style=\"color: black; background-color: #fffcc4\">&nbspout&nbsp</span><span class=\"barcode\"; style=\"color: black; background-color: #fffeca\">&nbspthat&nbsp</span><span class=\"barcode\"; style=\"color: black; background-color: #fffec9\">&nbspRiley&nbsp</span><span class=\"barcode\"; style=\"color: black; background-color: #fffbc3\">&nbspneeds&nbsp</span><span class=\"barcode\"; style=\"color: black; background-color: #fffdc8\">&nbspto&nbsp</span><span class=\"barcode\"; style=\"color: black; background-color: #fffcc6\">&nbsphave&nbsp</span><span class=\"barcode\"; style=\"color: black; background-color: #fffcc6\">&nbspsurgery&nbsp</span><span class=\"barcode\"; style=\"color: black; background-color: #fffec9\">&nbsphad&nbsp</span><span class=\"barcode\"; style=\"color: black; background-color: #ffffcb\">&nbspme&nbsp</span><span class=\"barcode\"; style=\"color: black; background-color: #fffcc6\">&nbspsobbing&nbsp</span><span class=\"barcode\"; style=\"color: black; background-color: #fffcc6\">&nbspin&nbsp</span><span class=\"barcode\"; style=\"color: black; background-color: #fffcc6\">&nbspmy&nbsp</span><span class=\"barcode\"; style=\"color: black; background-color: #fffec9\">&nbspcar&nbsp</span><span class=\"barcode\"; style=\"color: black; background-color: #fffdc7\">&nbspwhile&nbsp</span><span class=\"barcode\"; style=\"color: black; background-color: #fffdc7\">&nbspreceiving&nbsp</span><span class=\"barcode\"; style=\"color: black; background-color: #fffcc6\">&nbspawkward&nbsp</span><span class=\"barcode\"; style=\"color: black; background-color: #fffac0\">&nbsplooks&nbsp</span><span class=\"barcode\"; style=\"color: black; background-color: #fffabf\">&nbspfrom&nbsp</span><span class=\"barcode\"; style=\"color: black; background-color: #fffbc3\">&nbsppeople&nbsp</span><span class=\"barcode\"; style=\"color: black; background-color: #fffbc2\">&nbsparound&nbsp</span><span class=\"barcode\"; style=\"color: black; background-color: #fffabf\">&nbspme&nbsp</span><br><span class=\"barcode\"; style=\"color: black; background-color: #feac49\">&nbspIs&nbsp</span><span class=\"barcode\"; style=\"color: black; background-color: #fd8a3b\">&nbspyour&nbsp</span><span class=\"barcode\"; style=\"color: black; background-color: #fd9740\">&nbsppassword&nbsp</span><span class=\"barcode\"; style=\"color: black; background-color: #fd7034\">&nbspsGXlI63X%7?&nbsp</span><br><span class=\"barcode\"; style=\"color: black; background-color: #fffdc8\">&nbspJoin&nbsp</span><span class=\"barcode\"; style=\"color: black; background-color: #fffdc8\">&nbspme&nbsp</span><span class=\"barcode\"; style=\"color: black; background-color: #fffabf\">&nbspIf&nbsp</span><span class=\"barcode\"; style=\"color: black; background-color: #fff3af\">&nbspyou&nbsp</span><span class=\"barcode\"; style=\"color: black; background-color: #fff4b1\">&nbspwant&nbsp</span><span class=\"barcode\"; style=\"color: black; background-color: #fffac0\">&nbspto&nbsp</span><span class=\"barcode\"; style=\"color: black; background-color: #fffcc6\">&nbspenjoy&nbsp</span><span class=\"barcode\"; style=\"color: black; background-color: #fffbc3\">&nbspyour&nbsp</span><span class=\"barcode\"; style=\"color: black; background-color: #fffcc4\">&nbspbath&nbsp</span><span class=\"barcode\"; style=\"color: black; background-color: #fffcc6\">&nbsptime💦&nbsp</span><span class=\"barcode\"; style=\"color: black; background-color: #fffcc6\">&nbsphttp&nbsp</span><br><span class=\"barcode\"; style=\"color: black; background-color: #fffeca\">&nbspAna&nbsp</span><span class=\"barcode\"; style=\"color: black; background-color: #fffeca\">&nbspwould&nbsp</span><span class=\"barcode\"; style=\"color: black; background-color: #fffec9\">&nbsplike&nbsp</span><span class=\"barcode\"; style=\"color: black; background-color: #fffeca\">&nbspyou&nbsp</span><span class=\"barcode\"; style=\"color: black; background-color: #fffeca\">&nbspto&nbsp</span><span class=\"barcode\"; style=\"color: black; background-color: #ffffcb\">&nbspsee&nbsp</span><span class=\"barcode\"; style=\"color: black; background-color: #fffeca\">&nbspher&nbsp</span><span class=\"barcode\"; style=\"color: black; background-color: #ffffcb\">&nbsphot&nbsp</span><span class=\"barcode\"; style=\"color: black; background-color: #ffffcb\">&nbspass&nbsp</span><span class=\"barcode\"; style=\"color: black; background-color: #ffffcb\">&nbsphttp&nbsp</span><span class=\"barcode\"; style=\"color: black; background-color: #ffffcb\">&nbsphttp&nbsp</span><br><span class=\"barcode\"; style=\"color: black; background-color: #fff6b5\">&nbspHe&nbsp</span><span class=\"barcode\"; style=\"color: black; background-color: #fff7b8\">&nbspwant&nbsp</span><span class=\"barcode\"; style=\"color: black; background-color: #fffbc2\">&nbspmy&nbsp</span><span class=\"barcode\"; style=\"color: black; background-color: #fff8bc\">&nbspnumber&nbsp</span><span class=\"barcode\"; style=\"color: black; background-color: #fff6b5\">&nbsphad&nbsp</span><span class=\"barcode\"; style=\"color: black; background-color: #fff6b5\">&nbspto&nbsp</span><span class=\"barcode\"; style=\"color: black; background-color: #fff7b8\">&nbsphit&nbsp</span><span class=\"barcode\"; style=\"color: black; background-color: #fff5b4\">&nbsphim&nbsp</span><span class=\"barcode\"; style=\"color: black; background-color: #fff7b9\">&nbspwit&nbsp</span><span class=\"barcode\"; style=\"color: black; background-color: #fff3af\">&nbspthat&nbsp</span><span class=\"barcode\"; style=\"color: black; background-color: #fff7b8\">&nbsp“mmm&nbsp</span><span class=\"barcode\"; style=\"color: black; background-color: #fff4b1\">&nbspmmm”&nbsp</span><span class=\"barcode\"; style=\"color: black; background-color: #fff3af\">&nbsphttp&nbsp</span><br><span class=\"barcode\"; style=\"color: black; background-color: #fffeca\">&nbsp@bonglez&nbsp</span><span class=\"barcode\"; style=\"color: black; background-color: #fffec9\">&nbspDivorced&nbsp</span><span class=\"barcode\"; style=\"color: black; background-color: #fffec9\">&nbspbut&nbsp</span><span class=\"barcode\"; style=\"color: black; background-color: #fffdc8\">&nbspdon't&nbsp</span><span class=\"barcode\"; style=\"color: black; background-color: #fffcc6\">&nbspregret.&nbsp</span><span class=\"barcode\"; style=\"color: black; background-color: #fffec9\">&nbsphave&nbsp</span><span class=\"barcode\"; style=\"color: black; background-color: #fffeca\">&nbsp3&nbsp</span><span class=\"barcode\"; style=\"color: black; background-color: #fffeca\">&nbsplovely&nbsp</span><span class=\"barcode\"; style=\"color: black; background-color: #fffec9\">&nbspkids&nbsp</span><span class=\"barcode\"; style=\"color: black; background-color: #fffcc4\">&nbspif&nbsp</span><span class=\"barcode\"; style=\"color: black; background-color: #fffdc8\">&nbspi&nbsp</span><span class=\"barcode\"; style=\"color: black; background-color: #fffdc8\">&nbspregret&nbsp</span><span class=\"barcode\"; style=\"color: black; background-color: #fffeca\">&nbspgetting&nbsp</span><span class=\"barcode\"; style=\"color: black; background-color: #fffeca\">&nbspmarried&nbsp</span><span class=\"barcode\"; style=\"color: black; background-color: #ffffcb\">&nbspi&nbsp</span><span class=\"barcode\"; style=\"color: black; background-color: #ffffcb\">&nbspregret&nbsp</span><span class=\"barcode\"; style=\"color: black; background-color: #ffffcc\">&nbsptheir&nbsp</span><span class=\"barcode\"; style=\"color: black; background-color: #ffffcb\">&nbspexistence&nbsp</span><span class=\"barcode\"; style=\"color: black; background-color: #fffec9\">&nbspwhich&nbsp</span><span class=\"barcode\"; style=\"color: black; background-color: #fffdc8\">&nbspI&nbsp</span><span class=\"barcode\"; style=\"color: black; background-color: #fffec9\">&nbspWILL&nbsp</span><span class=\"barcode\"; style=\"color: black; background-color: #ffffcb\">&nbspNEVER&nbsp</span><span class=\"barcode\"; style=\"color: black; background-color: #ffffcb\">&nbspDO.&nbsp</span><br><span class=\"barcode\"; style=\"color: black; background-color: #fee289\">&nbspI&nbsp</span><span class=\"barcode\"; style=\"color: black; background-color: #fedb7a\">&nbspwant&nbsp</span><span class=\"barcode\"; style=\"color: black; background-color: #fee186\">&nbspreal&nbsp</span><span class=\"barcode\"; style=\"color: black; background-color: #fede80\">&nbsplove..&nbsp</span><span class=\"barcode\"; style=\"color: black; background-color: #fedb7b\">&nbspnothing&nbsp</span><span class=\"barcode\"; style=\"color: black; background-color: #fecf6b\">&nbspmade&nbsp</span><span class=\"barcode\"; style=\"color: black; background-color: #fd9b42\">&nbspup😌💍❤️💯.&nbsp</span><br><span class=\"barcode\"; style=\"color: black; background-color: #fffcc6\">&nbsp@user&nbsp</span><span class=\"barcode\"; style=\"color: black; background-color: #fffabf\">&nbspAdd&nbsp</span><span class=\"barcode\"; style=\"color: black; background-color: #fff8bc\">&nbspme&nbsp</span><span class=\"barcode\"; style=\"color: black; background-color: #fff6b6\">&nbspto&nbsp</span><span class=\"barcode\"; style=\"color: black; background-color: #fff8bc\">&nbspyour&nbsp</span><span class=\"barcode\"; style=\"color: black; background-color: #fff8bc\">&nbsptimeline‼️&nbsp</span><br><span class=\"barcode\"; style=\"color: black; background-color: #fffbc3\">&nbsp@user&nbsp</span><span class=\"barcode\"; style=\"color: black; background-color: #fffbc3\">&nbspPussy&nbsp</span><span class=\"barcode\"; style=\"color: black; background-color: #fffbc3\">&nbspofcourse&nbsp</span><span class=\"barcode\"; style=\"color: black; background-color: #fffbc3\">&nbsp💦💦&nbsp</span><span class=\"barcode\"; style=\"color: black; background-color: #fff9bd\">&nbsphttp&nbsp</span><br><span class=\"barcode\"; style=\"color: black; background-color: #fece6a\">&nbspI&nbsp</span><span class=\"barcode\"; style=\"color: black; background-color: #feac49\">&nbsplove&nbsp</span><span class=\"barcode\"; style=\"color: black; background-color: #feb14b\">&nbspyou&nbsp</span><span class=\"barcode\"; style=\"color: black; background-color: #fec661\">&nbspjanella&nbsp</span><span class=\"barcode\"; style=\"color: black; background-color: #fd7736\">&nbsp#JANELLAiWantASAP&nbsp</span><span class=\"barcode\"; style=\"color: black; background-color: #fc6430\">&nbsphttp&nbsp</span><br><span class=\"barcode\"; style=\"color: black; background-color: #fffec9\">&nbspI’m&nbsp</span><span class=\"barcode\"; style=\"color: black; background-color: #fffdc8\">&nbspdead&nbsp</span><span class=\"barcode\"; style=\"color: black; background-color: #fffcc4\">&nbspabout&nbsp</span><span class=\"barcode\"; style=\"color: black; background-color: #fffcc4\">&nbspto&nbsp</span><span class=\"barcode\"; style=\"color: black; background-color: #fffbc3\">&nbspfucc&nbsp</span><span class=\"barcode\"; style=\"color: black; background-color: #fffcc4\">&nbspsomebody&nbsp</span><span class=\"barcode\"; style=\"color: black; background-color: #fffdc7\">&nbspbad&nbsp</span><span class=\"barcode\"; style=\"color: black; background-color: #fffec9\">&nbspass&nbsp</span><span class=\"barcode\"; style=\"color: black; background-color: #fffdc7\">&nbspDominican&nbsp</span><span class=\"barcode\"; style=\"color: black; background-color: #fffbc3\">&nbspmother&nbsp</span><span class=\"barcode\"; style=\"color: black; background-color: #fffac0\">&nbsp😂😂&nbsp</span><span class=\"barcode\"; style=\"color: black; background-color: #fffbc3\">&nbspshe&nbsp</span><span class=\"barcode\"; style=\"color: black; background-color: #fffcc4\">&nbspsaid&nbsp</span><span class=\"barcode\"; style=\"color: black; background-color: #fffcc4\">&nbspher&nbsp</span><span class=\"barcode\"; style=\"color: black; background-color: #fffdc8\">&nbspson&nbsp</span><span class=\"barcode\"; style=\"color: black; background-color: #fffeca\">&nbspis&nbsp</span><span class=\"barcode\"; style=\"color: black; background-color: #fffec9\">&nbspmy&nbsp</span><span class=\"barcode\"; style=\"color: black; background-color: #fffdc7\">&nbspage&nbsp</span><span class=\"barcode\"; style=\"color: black; background-color: #fffdc8\">&nbsp😂😂😂😂😂😂😂😂😂😂😂😂&nbsp</span><span class=\"barcode\"; style=\"color: black; background-color: #fffbc3\">&nbspno&nbsp</span><span class=\"barcode\"; style=\"color: black; background-color: #fffbc2\">&nbspcap&nbsp</span><span class=\"barcode\"; style=\"color: black; background-color: #fffbc3\">&nbspI’m&nbsp</span><span class=\"barcode\"; style=\"color: black; background-color: #fffcc4\">&nbspdumb&nbsp</span><span class=\"barcode\"; style=\"color: black; background-color: #fffcc6\">&nbsphype&nbsp</span><br><span class=\"barcode\"; style=\"color: black; background-color: #fffdc8\">&nbsp@user&nbsp</span><span class=\"barcode\"; style=\"color: black; background-color: #fffdc7\">&nbspHow&nbsp</span><span class=\"barcode\"; style=\"color: black; background-color: #fffcc6\">&nbspthe&nbsp</span><span class=\"barcode\"; style=\"color: black; background-color: #ffffcb\">&nbspwedding&nbsp</span><span class=\"barcode\"; style=\"color: black; background-color: #ffffcb\">&nbsppreparations?&nbsp</span><br><span class=\"barcode\"; style=\"color: black; background-color: #fffec9\">&nbsp@user&nbsp</span><span class=\"barcode\"; style=\"color: black; background-color: #fffeca\">&nbspYou&nbsp</span><span class=\"barcode\"; style=\"color: black; background-color: #fffeca\">&nbspare&nbsp</span><span class=\"barcode\"; style=\"color: black; background-color: #ffffcb\">&nbspLooking&nbsp</span><span class=\"barcode\"; style=\"color: black; background-color: #ffffcc\">&nbspGorgeous&nbsp</span><span class=\"barcode\"; style=\"color: black; background-color: #ffffcc\">&nbsp🥰😍&nbsp</span><br><span class=\"barcode\"; style=\"color: black; background-color: #ffffcc\">&nbspLook&nbsp</span><span class=\"barcode\"; style=\"color: black; background-color: #ffffcc\">&nbspat&nbsp</span><span class=\"barcode\"; style=\"color: black; background-color: #ffffcc\">&nbspmy&nbsp</span><span class=\"barcode\"; style=\"color: black; background-color: #ffffcc\">&nbspboo&nbsp</span><span class=\"barcode\"; style=\"color: black; background-color: #ffffcb\">&nbspwith&nbsp</span><span class=\"barcode\"; style=\"color: black; background-color: #ffffcc\">&nbspboth&nbsp</span><span class=\"barcode\"; style=\"color: black; background-color: #ffffcb\">&nbspof&nbsp</span><span class=\"barcode\"; style=\"color: black; background-color: #ffffcc\">&nbspour&nbsp</span><span class=\"barcode\"; style=\"color: black; background-color: #ffffcc\">&nbsprides&nbsp</span><span class=\"barcode\"; style=\"color: black; background-color: #ffffcc\">&nbsp🤣🥰💞&nbsp</span><span class=\"barcode\"; style=\"color: black; background-color: #ffffcc\">&nbsphttp&nbsp</span><br><span class=\"barcode\"; style=\"color: black; background-color: #fffeca\">&nbspme&nbsp</span><span class=\"barcode\"; style=\"color: black; background-color: #ffffcb\">&nbspand&nbsp</span><span class=\"barcode\"; style=\"color: black; background-color: #fffeca\">&nbspmy&nbsp</span><span class=\"barcode\"; style=\"color: black; background-color: #fffeca\">&nbspbf&nbsp</span><span class=\"barcode\"; style=\"color: black; background-color: #fffec9\">&nbspbe&nbsp</span><span class=\"barcode\"; style=\"color: black; background-color: #fffec9\">&nbsplike&nbsp</span><span class=\"barcode\"; style=\"color: black; background-color: #fffec9\">&nbsphttp&nbsp</span><br><span class=\"barcode\"; style=\"color: black; background-color: #ffe794\">&nbsphave&nbsp</span><span class=\"barcode\"; style=\"color: black; background-color: #ffe590\">&nbspa&nbsp</span><span class=\"barcode\"; style=\"color: black; background-color: #fedd7e\">&nbspgood&nbsp</span><span class=\"barcode\"; style=\"color: black; background-color: #fec560\">&nbspnight&nbsp</span><br><span class=\"barcode\"; style=\"color: black; background-color: #fffdc8\">&nbspI&nbsp</span><span class=\"barcode\"; style=\"color: black; background-color: #fffeca\">&nbsphate&nbsp</span><span class=\"barcode\"; style=\"color: black; background-color: #fffdc8\">&nbspsaggy&nbsp</span><span class=\"barcode\"; style=\"color: black; background-color: #fff9bd\">&nbsptitties&nbsp</span><span class=\"barcode\"; style=\"color: black; background-color: #fff7b9\">&nbsplol&nbsp</span><span class=\"barcode\"; style=\"color: black; background-color: #fff9be\">&nbspno&nbsp</span><span class=\"barcode\"; style=\"color: black; background-color: #fff8bc\">&nbspoffense&nbsp</span><br><span class=\"barcode\"; style=\"color: black; background-color: #ffffcc\">&nbspBut&nbsp</span><span class=\"barcode\"; style=\"color: black; background-color: #ffffcc\">&nbsplike&nbsp</span><span class=\"barcode\"; style=\"color: black; background-color: #ffffcc\">&nbspI&nbsp</span><span class=\"barcode\"; style=\"color: black; background-color: #ffffcc\">&nbspdon’t&nbsp</span><span class=\"barcode\"; style=\"color: black; background-color: #ffffcc\">&nbspwant&nbsp</span><span class=\"barcode\"; style=\"color: black; background-color: #ffffcc\">&nbspto&nbsp</span><span class=\"barcode\"; style=\"color: black; background-color: #ffffcc\">&nbspand&nbsp</span><span class=\"barcode\"; style=\"color: black; background-color: #ffffcc\">&nbspcan’t&nbsp</span><span class=\"barcode\"; style=\"color: black; background-color: #ffffcc\">&nbspleave&nbsp</span><span class=\"barcode\"; style=\"color: black; background-color: #ffffcc\">&nbsphim.&nbsp</span><span class=\"barcode\"; style=\"color: black; background-color: #ffffcc\">&nbspI&nbsp</span><span class=\"barcode\"; style=\"color: black; background-color: #ffffcc\">&nbspfucking&nbsp</span><span class=\"barcode\"; style=\"color: black; background-color: #ffffcc\">&nbsplove&nbsp</span><span class=\"barcode\"; style=\"color: black; background-color: #ffffcc\">&nbsphim&nbsp</span><span class=\"barcode\"; style=\"color: black; background-color: #ffffcc\">&nbsptoo&nbsp</span><span class=\"barcode\"; style=\"color: black; background-color: #ffffcc\">&nbspmuch.&nbsp</span><span class=\"barcode\"; style=\"color: black; background-color: #ffffcc\">&nbspAnd&nbsp</span><span class=\"barcode\"; style=\"color: black; background-color: #ffffcc\">&nbspI&nbsp</span><span class=\"barcode\"; style=\"color: black; background-color: #ffffcc\">&nbspknow&nbsp</span><span class=\"barcode\"; style=\"color: black; background-color: #ffffcc\">&nbsphe&nbsp</span><span class=\"barcode\"; style=\"color: black; background-color: #ffffcc\">&nbsploves&nbsp</span><span class=\"barcode\"; style=\"color: black; background-color: #ffffcc\">&nbspme&nbsp</span><span class=\"barcode\"; style=\"color: black; background-color: #ffffcc\">&nbspwe&nbsp</span><span class=\"barcode\"; style=\"color: black; background-color: #ffffcc\">&nbspjust&nbsp</span><span class=\"barcode\"; style=\"color: black; background-color: #ffffcc\">&nbsphave&nbsp</span><br><span class=\"barcode\"; style=\"color: black; background-color: #ffffcc\">&nbspthings&nbsp</span><span class=\"barcode\"; style=\"color: black; background-color: #ffffcc\">&nbspto&nbsp</span><span class=\"barcode\"; style=\"color: black; background-color: #ffffcc\">&nbspwork&nbsp</span><span class=\"barcode\"; style=\"color: black; background-color: #ffffcb\">&nbspon.&nbsp</span><br><span class=\"barcode\"; style=\"color: black; background-color: #ffffcb\">&nbsp@user&nbsp</span><span class=\"barcode\"; style=\"color: black; background-color: #ffffcb\">&nbspYou&nbsp</span><span class=\"barcode\"; style=\"color: black; background-color: #ffffcc\">&nbspare&nbsp</span><span class=\"barcode\"; style=\"color: black; background-color: #ffffcc\">&nbspan&nbsp</span><span class=\"barcode\"; style=\"color: black; background-color: #ffffcc\">&nbspoptimist&nbsp</span><span class=\"barcode\"; style=\"color: black; background-color: #ffffcc\">&nbspand&nbsp</span><span class=\"barcode\"; style=\"color: black; background-color: #ffffcc\">&nbspI&nbsp</span><span class=\"barcode\"; style=\"color: black; background-color: #ffffcc\">&nbspsure&nbsp</span><span class=\"barcode\"; style=\"color: black; background-color: #ffffcc\">&nbsphope&nbsp</span><span class=\"barcode\"; style=\"color: black; background-color: #ffffcc\">&nbspyou&nbsp</span><span class=\"barcode\"; style=\"color: black; background-color: #ffffcc\">&nbspare&nbsp</span><span class=\"barcode\"; style=\"color: black; background-color: #ffffcc\">&nbspright!&nbsp</span><br><span class=\"barcode\"; style=\"color: black; background-color: #ffffcc\">&nbsp@user&nbsp</span><span class=\"barcode\"; style=\"color: black; background-color: #ffffcc\">&nbspYou&nbsp</span><span class=\"barcode\"; style=\"color: black; background-color: #ffffcc\">&nbspadmit&nbsp</span><span class=\"barcode\"; style=\"color: black; background-color: #ffffcc\">&nbspthat&nbsp</span><span class=\"barcode\"; style=\"color: black; background-color: #ffffcc\">&nbspme&nbsp</span><span class=\"barcode\"; style=\"color: black; background-color: #ffffcc\">&nbspbeing&nbsp</span><span class=\"barcode\"; style=\"color: black; background-color: #ffffcc\">&nbspspoiled&nbsp</span><span class=\"barcode\"; style=\"color: black; background-color: #ffffcc\">&nbspis&nbsp</span><span class=\"barcode\"; style=\"color: black; background-color: #ffffcc\">&nbspyour&nbsp</span><span class=\"barcode\"; style=\"color: black; background-color: #ffffcc\">&nbspfault??&nbsp</span><span class=\"barcode\"; style=\"color: black; background-color: #ffffcc\">&nbspI'm&nbsp</span><span class=\"barcode\"; style=\"color: black; background-color: #ffffcc\">&nbspkeeping&nbsp</span><span class=\"barcode\"; style=\"color: black; background-color: #ffffcc\">&nbspthis&nbsp</span><span class=\"barcode\"; style=\"color: black; background-color: #ffffcc\">&nbspforever&nbsp</span><span class=\"barcode\"; style=\"color: black; background-color: #ffffcc\">&nbspand&nbsp</span><span class=\"barcode\"; style=\"color: black; background-color: #ffffcc\">&nbspany&nbsp</span><span class=\"barcode\"; style=\"color: black; background-color: #ffffcc\">&nbsptime&nbsp</span><span class=\"barcode\"; style=\"color: black; background-color: #ffffcc\">&nbspyou&nbsp</span><span class=\"barcode\"; style=\"color: black; background-color: #ffffcc\">&nbspcall&nbsp</span><span class=\"barcode\"; style=\"color: black; background-color: #ffffcc\">&nbspme&nbsp</span><span class=\"barcode\"; style=\"color: black; background-color: #ffffcc\">&nbspa&nbsp</span><span class=\"barcode\"; style=\"color: black; background-color: #ffffcc\">&nbspbrat&nbsp</span><span class=\"barcode\"; style=\"color: black; background-color: #ffffcc\">&nbspI'm&nbsp</span><span class=\"barcode\"; style=\"color: black; background-color: #ffffcc\">&nbspgoing&nbsp</span><span class=\"barcode\"; style=\"color: black; background-color: #ffffcc\">&nbspto&nbsp</span><br><span class=\"barcode\"; style=\"color: black; background-color: #ffffcc\">&nbspshare&nbsp</span><span class=\"barcode\"; style=\"color: black; background-color: #ffffcc\">&nbspit.&nbsp</span><br><span class=\"barcode\"; style=\"color: black; background-color: #fffcc4\">&nbspMy&nbsp</span><span class=\"barcode\"; style=\"color: black; background-color: #fffbc2\">&nbspsister&nbsp</span><span class=\"barcode\"; style=\"color: black; background-color: #fffac0\">&nbspalmost&nbsp</span><span class=\"barcode\"; style=\"color: black; background-color: #fff7b9\">&nbspwent&nbsp</span><span class=\"barcode\"; style=\"color: black; background-color: #fff6b6\">&nbspto&nbsp</span><span class=\"barcode\"; style=\"color: black; background-color: #fff9be\">&nbspschool&nbsp</span><span class=\"barcode\"; style=\"color: black; background-color: #fff1ab\">&nbspbut&nbsp</span><span class=\"barcode\"; style=\"color: black; background-color: #fff1ab\">&nbspdecided&nbsp</span><span class=\"barcode\"; style=\"color: black; background-color: #fff0a7\">&nbspto&nbsp</span><span class=\"barcode\"; style=\"color: black; background-color: #fff1a9\">&nbspsuck&nbsp</span><span class=\"barcode\"; style=\"color: black; background-color: #fff1a9\">&nbspmy&nbsp</span><span class=\"barcode\"; style=\"color: black; background-color: #fff1aa\">&nbspbrother&nbsp</span><span class=\"barcode\"; style=\"color: black; background-color: #fff2ac\">&nbsp18&nbsp</span><span class=\"barcode\"; style=\"color: black; background-color: #ffeb9b\">&nbspyears&nbsp</span><span class=\"barcode\"; style=\"color: black; background-color: #ffea9a\">&nbspold&nbsp</span><span class=\"barcode\"; style=\"color: black; background-color: #ffeda0\">&nbsp(stepsister)&nbsp</span><span class=\"barcode\"; style=\"color: black; background-color: #fff0a7\">&nbsp@user&nbsp</span><span class=\"barcode\"; style=\"color: black; background-color: #fff9be\">&nbspPort&nbsp</span><span class=\"barcode\"; style=\"color: black; background-color: #fff6b6\">&nbsp1💋&nbsp</span><span class=\"barcode\"; style=\"color: black; background-color: #fff8bb\">&nbsphttp&nbsp</span><br><span class=\"barcode\"; style=\"color: black; background-color: #fffec9\">&nbspI&nbsp</span><span class=\"barcode\"; style=\"color: black; background-color: #fffeca\">&nbspam&nbsp</span><span class=\"barcode\"; style=\"color: black; background-color: #fffeca\">&nbspSO&nbsp</span><span class=\"barcode\"; style=\"color: black; background-color: #fffdc7\">&nbspecstatic&nbsp</span><span class=\"barcode\"; style=\"color: black; background-color: #fffcc4\">&nbspI’m&nbsp</span><span class=\"barcode\"; style=\"color: black; background-color: #fffeca\">&nbspnot&nbsp</span><span class=\"barcode\"; style=\"color: black; background-color: #fffbc3\">&nbspmarried&nbsp</span><span class=\"barcode\"; style=\"color: black; background-color: #fffabf\">&nbspto&nbsp</span><span class=\"barcode\"; style=\"color: black; background-color: #fffbc2\">&nbspa&nbsp</span><span class=\"barcode\"; style=\"color: black; background-color: #fffbc3\">&nbspman&nbsp</span><span class=\"barcode\"; style=\"color: black; background-color: #fff9be\">&nbspwho&nbsp</span><span class=\"barcode\"; style=\"color: black; background-color: #fff9bd\">&nbsphas&nbsp</span><span class=\"barcode\"; style=\"color: black; background-color: #fff6b6\">&nbspcheated&nbsp</span><span class=\"barcode\"; style=\"color: black; background-color: #fffbc3\">&nbspon&nbsp</span><span class=\"barcode\"; style=\"color: black; background-color: #fffabf\">&nbspme.&nbsp</span><br><span class=\"barcode\"; style=\"color: black; background-color: #ffffcb\">&nbsp@user&nbsp</span><span class=\"barcode\"; style=\"color: black; background-color: #ffffcb\">&nbspi&nbsp</span><span class=\"barcode\"; style=\"color: black; background-color: #ffffcb\">&nbspdon’t&nbsp</span><span class=\"barcode\"; style=\"color: black; background-color: #fffeca\">&nbsphave&nbsp</span><span class=\"barcode\"; style=\"color: black; background-color: #fffeca\">&nbspa&nbsp</span><span class=\"barcode\"; style=\"color: black; background-color: #ffffcb\">&nbspneck&nbsp</span><span class=\"barcode\"; style=\"color: black; background-color: #ffffcb\">&nbsptattoo&nbsp</span><span class=\"barcode\"; style=\"color: black; background-color: #ffffcc\">&nbspbut&nbsp</span><span class=\"barcode\"; style=\"color: black; background-color: #ffffcc\">&nbspu&nbsp</span><span class=\"barcode\"; style=\"color: black; background-color: #ffffcc\">&nbspcan&nbsp</span><span class=\"barcode\"; style=\"color: black; background-color: #ffffcc\">&nbspgive&nbsp</span><span class=\"barcode\"; style=\"color: black; background-color: #ffffcc\">&nbspme&nbsp</span><span class=\"barcode\"; style=\"color: black; background-color: #ffffcc\">&nbspneck&nbsp</span><br><span class=\"barcode\"; style=\"color: black; background-color: #ffffcb\">&nbsp@user&nbsp</span><span class=\"barcode\"; style=\"color: black; background-color: #fffec9\">&nbspI&nbsp</span><span class=\"barcode\"; style=\"color: black; background-color: #ffffcb\">&nbspthink&nbsp</span><span class=\"barcode\"; style=\"color: black; background-color: #ffffcc\">&nbspI&nbsp</span><span class=\"barcode\"; style=\"color: black; background-color: #ffffcc\">&nbspfell&nbsp</span><span class=\"barcode\"; style=\"color: black; background-color: #ffffcc\">&nbspin&nbsp</span><span class=\"barcode\"; style=\"color: black; background-color: #ffffcc\">&nbsplove&nbsp</span><span class=\"barcode\"; style=\"color: black; background-color: #ffffcc\">&nbspwith&nbsp</span><span class=\"barcode\"; style=\"color: black; background-color: #ffffcc\">&nbspyou&nbsp</span><br><span class=\"barcode\"; style=\"color: black; background-color: #fffeca\">&nbspI&nbsp</span><span class=\"barcode\"; style=\"color: black; background-color: #fffec9\">&nbspcan&nbsp</span><span class=\"barcode\"; style=\"color: black; background-color: #fffeca\">&nbspdo&nbsp</span><span class=\"barcode\"; style=\"color: black; background-color: #fffbc2\">&nbspso&nbsp</span><span class=\"barcode\"; style=\"color: black; background-color: #fffac0\">&nbspmuch&nbsp</span><span class=\"barcode\"; style=\"color: black; background-color: #fffabf\">&nbspfor&nbsp</span><span class=\"barcode\"; style=\"color: black; background-color: #fff9be\">&nbspyou&nbsp</span><br><span class=\"barcode\"; style=\"color: black; background-color: #fffeca\">&nbspAsk&nbsp</span><span class=\"barcode\"; style=\"color: black; background-color: #fffeca\">&nbspfor&nbsp</span><span class=\"barcode\"; style=\"color: black; background-color: #ffffcb\">&nbspsex&nbsp</span><span class=\"barcode\"; style=\"color: black; background-color: #fffeca\">&nbspwithout&nbsp</span><span class=\"barcode\"; style=\"color: black; background-color: #fffeca\">&nbspsaying&nbsp</span><span class=\"barcode\"; style=\"color: black; background-color: #ffffcb\">&nbspsex?&nbsp</span><span class=\"barcode\"; style=\"color: black; background-color: #ffffcb\">&nbspI&nbsp</span><span class=\"barcode\"; style=\"color: black; background-color: #fffeca\">&nbspthink&nbsp</span><span class=\"barcode\"; style=\"color: black; background-color: #ffffcb\">&nbspmy&nbsp</span><span class=\"barcode\"; style=\"color: black; background-color: #fffec9\">&nbspdick&nbsp</span><span class=\"barcode\"; style=\"color: black; background-color: #fffdc7\">&nbspis&nbsp</span><span class=\"barcode\"; style=\"color: black; background-color: #fffdc8\">&nbspdead?&nbsp</span><span class=\"barcode\"; style=\"color: black; background-color: #fffdc8\">&nbspCan&nbsp</span><span class=\"barcode\"; style=\"color: black; background-color: #fffeca\">&nbspI&nbsp</span><span class=\"barcode\"; style=\"color: black; background-color: #fffec9\">&nbspburried&nbsp</span><span class=\"barcode\"; style=\"color: black; background-color: #fffec9\">&nbspit&nbsp</span><span class=\"barcode\"; style=\"color: black; background-color: #fffec9\">&nbspinto&nbsp</span><span class=\"barcode\"; style=\"color: black; background-color: #fffeca\">&nbspyour&nbsp</span><span class=\"barcode\"; style=\"color: black; background-color: #fffec9\">&nbspass?&nbsp</span><br><span class=\"barcode\"; style=\"color: black; background-color: #fffeca\">&nbspi&nbsp</span><span class=\"barcode\"; style=\"color: black; background-color: #fffeca\">&nbspdon’t&nbsp</span><span class=\"barcode\"; style=\"color: black; background-color: #fffec9\">&nbspthink&nbsp</span><span class=\"barcode\"; style=\"color: black; background-color: #fffec9\">&nbspthis&nbsp</span><span class=\"barcode\"; style=\"color: black; background-color: #fffdc7\">&nbspguy&nbsp</span><span class=\"barcode\"; style=\"color: black; background-color: #fffdc8\">&nbspwill&nbsp</span><span class=\"barcode\"; style=\"color: black; background-color: #fffdc7\">&nbspever&nbsp</span><span class=\"barcode\"; style=\"color: black; background-color: #fffec9\">&nbspget&nbsp</span><span class=\"barcode\"; style=\"color: black; background-color: #fffdc8\">&nbspthe&nbsp</span><span class=\"barcode\"; style=\"color: black; background-color: #fffec9\">&nbsphint&nbsp</span><span class=\"barcode\"; style=\"color: black; background-color: #fffdc7\">&nbspthat&nbsp</span><span class=\"barcode\"; style=\"color: black; background-color: #fffcc4\">&nbspthe&nbsp</span><span class=\"barcode\"; style=\"color: black; background-color: #fffdc7\">&nbspsex&nbsp</span><span class=\"barcode\"; style=\"color: black; background-color: #fffcc6\">&nbspwas&nbsp</span><span class=\"barcode\"; style=\"color: black; background-color: #fffcc6\">&nbspterrible&nbsp</span><span class=\"barcode\"; style=\"color: black; background-color: #fffdc8\">&nbspand&nbsp</span><span class=\"barcode\"; style=\"color: black; background-color: #fffdc7\">&nbspit’s&nbsp</span><span class=\"barcode\"; style=\"color: black; background-color: #fffdc8\">&nbspnever&nbsp</span><span class=\"barcode\"; style=\"color: black; background-color: #fffcc4\">&nbsphappening&nbsp</span><span class=\"barcode\"; style=\"color: black; background-color: #fffac0\">&nbspagain&nbsp</span><span class=\"barcode\"; style=\"color: black; background-color: #fffac0\">&nbsp🥴&nbsp</span><br><span class=\"barcode\"; style=\"color: black; background-color: #ffffcc\">&nbsphow&nbsp</span><span class=\"barcode\"; style=\"color: black; background-color: #ffffcc\">&nbspto&nbsp</span><span class=\"barcode\"; style=\"color: black; background-color: #ffffcc\">&nbsptreat&nbsp</span><span class=\"barcode\"; style=\"color: black; background-color: #ffffcc\">&nbspya&nbsp</span><span class=\"barcode\"; style=\"color: black; background-color: #ffffcc\">&nbspgirl&nbsp</span><span class=\"barcode\"; style=\"color: black; background-color: #ffffcc\">&nbspright&nbsp</span><span class=\"barcode\"; style=\"color: black; background-color: #ffffcb\">&nbsp1.&nbsp</span><span class=\"barcode\"; style=\"color: black; background-color: #ffffcc\">&nbsponly&nbsp</span><span class=\"barcode\"; style=\"color: black; background-color: #ffffcb\">&nbspflirt&nbsp</span><span class=\"barcode\"; style=\"color: black; background-color: #ffffcc\">&nbspw&nbsp</span><span class=\"barcode\"; style=\"color: black; background-color: #ffffcc\">&nbspher&nbsp</span><span class=\"barcode\"; style=\"color: black; background-color: #ffffcc\">&nbsp2.&nbsp</span><span class=\"barcode\"; style=\"color: black; background-color: #ffffcc\">&nbsplet&nbsp</span><span class=\"barcode\"; style=\"color: black; background-color: #ffffcc\">&nbspher&nbsp</span><span class=\"barcode\"; style=\"color: black; background-color: #ffffcc\">&nbsproast&nbsp</span><span class=\"barcode\"; style=\"color: black; background-color: #ffffcc\">&nbspyou&nbsp</span><span class=\"barcode\"; style=\"color: black; background-color: #ffffcc\">&nbsp3.&nbsp</span><span class=\"barcode\"; style=\"color: black; background-color: #ffffcc\">&nbspdick&nbsp</span><span class=\"barcode\"; style=\"color: black; background-color: #ffffcc\">&nbspher&nbsp</span><span class=\"barcode\"; style=\"color: black; background-color: #ffffcc\">&nbspdown&nbsp</span><span class=\"barcode\"; style=\"color: black; background-color: #ffffcc\">&nbsp4.&nbsp</span><span class=\"barcode\"; style=\"color: black; background-color: #ffffcc\">&nbspbe&nbsp</span><span class=\"barcode\"; style=\"color: black; background-color: #ffffcc\">&nbspcompetitive&nbsp</span><span class=\"barcode\"; style=\"color: black; background-color: #ffffcc\">&nbsp5.&nbsp</span><span class=\"barcode\"; style=\"color: black; background-color: #ffffcc\">&nbspsend&nbsp</span><br><span class=\"barcode\"; style=\"color: black; background-color: #ffffcc\">&nbspher&nbsp</span><span class=\"barcode\"; style=\"color: black; background-color: #ffffcc\">&nbspmemes&nbsp</span><br><span class=\"barcode\"; style=\"color: black; background-color: #ffe48d\">&nbspGood&nbsp</span><span class=\"barcode\"; style=\"color: black; background-color: #ffe48e\">&nbspnight&nbsp</span><span class=\"barcode\"; style=\"color: black; background-color: #fee38b\">&nbspsweet&nbsp</span><span class=\"barcode\"; style=\"color: black; background-color: #fecc68\">&nbspdreams&nbsp</span><span class=\"barcode\"; style=\"color: black; background-color: #fead4a\">&nbspMy&nbsp</span><span class=\"barcode\"; style=\"color: black; background-color: #febc57\">&nbsplovely&nbsp</span><span class=\"barcode\"; style=\"color: black; background-color: #feb14b\">&nbspTwitter&nbsp</span><span class=\"barcode\"; style=\"color: black; background-color: #feba55\">&nbspFriends&nbsp</span><span class=\"barcode\"; style=\"color: black; background-color: #ffe58f\">&nbsp❤&nbsp</span><span class=\"barcode\"; style=\"color: black; background-color: #fecd69\">&nbspstay&nbsp</span><span class=\"barcode\"; style=\"color: black; background-color: #fec05b\">&nbspsafe&nbsp</span><span class=\"barcode\"; style=\"color: black; background-color: #feba55\">&nbspand&nbsp</span><span class=\"barcode\"; style=\"color: black; background-color: #fec05b\">&nbsptake&nbsp</span><span class=\"barcode\"; style=\"color: black; background-color: #fedb7a\">&nbspcare&nbsp</span><span class=\"barcode\"; style=\"color: black; background-color: #feda79\">&nbspof&nbsp</span><span class=\"barcode\"; style=\"color: black; background-color: #fecf6b\">&nbspyourselves&nbsp</span><span class=\"barcode\"; style=\"color: black; background-color: #fede80\">&nbsp😘😘&nbsp</span><br><span class=\"barcode\"; style=\"color: black; background-color: #ffffcc\">&nbsp@user&nbsp</span><span class=\"barcode\"; style=\"color: black; background-color: #fffeca\">&nbspIf&nbsp</span><span class=\"barcode\"; style=\"color: black; background-color: #ffffcc\">&nbspyou&nbsp</span><span class=\"barcode\"; style=\"color: black; background-color: #ffffcc\">&nbspever&nbsp</span><span class=\"barcode\"; style=\"color: black; background-color: #ffffcc\">&nbspfeel&nbsp</span><span class=\"barcode\"; style=\"color: black; background-color: #ffffcc\">&nbspbad&nbsp</span><span class=\"barcode\"; style=\"color: black; background-color: #ffffcc\">&nbspyou&nbsp</span><span class=\"barcode\"; style=\"color: black; background-color: #ffffcc\">&nbspcan&nbsp</span><span class=\"barcode\"; style=\"color: black; background-color: #ffffcc\">&nbspask&nbsp</span><span class=\"barcode\"; style=\"color: black; background-color: #ffffcc\">&nbspme&nbsp</span><span class=\"barcode\"; style=\"color: black; background-color: #ffffcc\">&nbspand&nbsp</span><span class=\"barcode\"; style=\"color: black; background-color: #ffffcc\">&nbspI&nbsp</span><span class=\"barcode\"; style=\"color: black; background-color: #ffffcc\">&nbspcan&nbsp</span><span class=\"barcode\"; style=\"color: black; background-color: #ffffcc\">&nbspconfirm&nbsp</span><span class=\"barcode\"; style=\"color: black; background-color: #ffffcc\">&nbspthat&nbsp</span><span class=\"barcode\"; style=\"color: black; background-color: #ffffcc\">&nbspyou&nbsp</span><span class=\"barcode\"; style=\"color: black; background-color: #ffffcc\">&nbspare&nbsp</span><span class=\"barcode\"; style=\"color: black; background-color: #ffffcc\">&nbspan&nbsp</span><span class=\"barcode\"; style=\"color: black; background-color: #ffffcc\">&nbspamazing&nbsp</span><span class=\"barcode\"; style=\"color: black; background-color: #ffffcc\">&nbspperson&nbsp</span><span class=\"barcode\"; style=\"color: black; background-color: #ffffcc\">&nbsp💜&nbsp</span><br><span class=\"barcode\"; style=\"color: black; background-color: #fff8bc\">&nbspEat&nbsp</span><span class=\"barcode\"; style=\"color: black; background-color: #fff7b8\">&nbspher&nbsp</span><span class=\"barcode\"; style=\"color: black; background-color: #ffeda1\">&nbspout&nbsp</span><span class=\"barcode\"; style=\"color: black; background-color: #ffeea3\">&nbspdick&nbsp</span><span class=\"barcode\"; style=\"color: black; background-color: #ffeda0\">&nbspher&nbsp</span><span class=\"barcode\"; style=\"color: black; background-color: #ffeea3\">&nbspdown&nbsp</span><span class=\"barcode\"; style=\"color: black; background-color: #fff5b3\">&nbspcuddle&nbsp</span><span class=\"barcode\"; style=\"color: black; background-color: #fff8bb\">&nbspup&nbsp</span><br><span class=\"barcode\"; style=\"color: black; background-color: #ffffcc\">&nbsptelling&nbsp</span><span class=\"barcode\"; style=\"color: black; background-color: #ffffcc\">&nbspgirls&nbsp</span><span class=\"barcode\"; style=\"color: black; background-color: #ffffcc\">&nbspto&nbsp</span><span class=\"barcode\"; style=\"color: black; background-color: #ffffcc\">&nbspbe&nbsp</span><span class=\"barcode\"; style=\"color: black; background-color: #ffffcc\">&nbspcareful&nbsp</span><span class=\"barcode\"; style=\"color: black; background-color: #ffffcb\">&nbsparound&nbsp</span><span class=\"barcode\"; style=\"color: black; background-color: #ffffcc\">&nbspguys&nbsp</span><span class=\"barcode\"; style=\"color: black; background-color: #ffffcc\">&nbspwhen&nbsp</span><span class=\"barcode\"; style=\"color: black; background-color: #ffffcc\">&nbspyou&nbsp</span><span class=\"barcode\"; style=\"color: black; background-color: #fffeca\">&nbspshould&nbsp</span><span class=\"barcode\"; style=\"color: black; background-color: #fffeca\">&nbspbe&nbsp</span><span class=\"barcode\"; style=\"color: black; background-color: #ffffcc\">&nbsptelling&nbsp</span><span class=\"barcode\"; style=\"color: black; background-color: #ffffcc\">&nbspguys&nbsp</span><span class=\"barcode\"; style=\"color: black; background-color: #ffffcc\">&nbspnot&nbsp</span><span class=\"barcode\"; style=\"color: black; background-color: #ffffcc\">&nbspto&nbsp</span><span class=\"barcode\"; style=\"color: black; background-color: #ffffcc\">&nbsptake&nbsp</span><span class=\"barcode\"; style=\"color: black; background-color: #ffffcc\">&nbspadvantage&nbsp</span><span class=\"barcode\"; style=\"color: black; background-color: #ffffcc\">&nbspof&nbsp</span><span class=\"barcode\"; style=\"color: black; background-color: #ffffcc\">&nbspgirls&gt;&gt;&gt;&gt;&gt;&gt;&gt;&gt;&nbsp</span><br><span class=\"barcode\"; style=\"color: black; background-color: #ffffcc\">&nbsp@user&nbsp</span><span class=\"barcode\"; style=\"color: black; background-color: #ffffcc\">&nbspI’m&nbsp</span><span class=\"barcode\"; style=\"color: black; background-color: #ffffcc\">&nbspscared&nbsp</span><span class=\"barcode\"; style=\"color: black; background-color: #ffffcc\">&nbspof&nbsp</span><span class=\"barcode\"; style=\"color: black; background-color: #ffffcc\">&nbspit&nbsp</span><span class=\"barcode\"; style=\"color: black; background-color: #ffffcc\">&nbspless&nbsp</span><span class=\"barcode\"; style=\"color: black; background-color: #ffffcc\">&nbspso&nbsp</span><span class=\"barcode\"; style=\"color: black; background-color: #ffffcc\">&nbspfor&nbsp</span><span class=\"barcode\"; style=\"color: black; background-color: #ffffcc\">&nbspmyself,&nbsp</span><span class=\"barcode\"; style=\"color: black; background-color: #ffffcc\">&nbspbut&nbsp</span><span class=\"barcode\"; style=\"color: black; background-color: #ffffcc\">&nbspfor&nbsp</span><span class=\"barcode\"; style=\"color: black; background-color: #ffffcc\">&nbspmy&nbsp</span><span class=\"barcode\"; style=\"color: black; background-color: #ffffcc\">&nbspmom&nbsp</span><span class=\"barcode\"; style=\"color: black; background-color: #ffffcc\">&nbspthough,&nbsp</span><span class=\"barcode\"; style=\"color: black; background-color: #ffffcc\">&nbspI&nbsp</span><span class=\"barcode\"; style=\"color: black; background-color: #ffffcc\">&nbspdon’t&nbsp</span><span class=\"barcode\"; style=\"color: black; background-color: #ffffcc\">&nbspthink&nbsp</span><span class=\"barcode\"; style=\"color: black; background-color: #ffffcc\">&nbspI&nbsp</span><span class=\"barcode\"; style=\"color: black; background-color: #ffffcc\">&nbspcould&nbsp</span><span class=\"barcode\"; style=\"color: black; background-color: #ffffcc\">&nbsphandle&nbsp</span><span class=\"barcode\"; style=\"color: black; background-color: #ffffcc\">&nbspseeing&nbsp</span><span class=\"barcode\"; style=\"color: black; background-color: #ffffcc\">&nbspher&nbsp</span><span class=\"barcode\"; style=\"color: black; background-color: #ffffcc\">&nbspgo&nbsp</span><span class=\"barcode\"; style=\"color: black; background-color: #ffffcc\">&nbspthrough&nbsp</span><span class=\"barcode\"; style=\"color: black; background-color: #ffffcc\">&nbspthis&nbsp</span><br><span class=\"barcode\"; style=\"color: black; background-color: #ffffcc\">&nbsp:(&nbsp</span><br><span class=\"barcode\"; style=\"color: black; background-color: #ffffcb\">&nbsp#sellingnudes&nbsp</span><span class=\"barcode\"; style=\"color: black; background-color: #ffffcb\">&nbsp#peefetish&nbsp</span><span class=\"barcode\"; style=\"color: black; background-color: #ffffcc\">&nbsp#sexworker&nbsp</span><span class=\"barcode\"; style=\"color: black; background-color: #ffffcb\">&nbspWanna&nbsp</span><span class=\"barcode\"; style=\"color: black; background-color: #ffffcb\">&nbspsee&nbsp</span><span class=\"barcode\"; style=\"color: black; background-color: #fffeca\">&nbspme&nbsp</span><span class=\"barcode\"; style=\"color: black; background-color: #fffeca\">&nbsppiss&nbsp</span><span class=\"barcode\"; style=\"color: black; background-color: #ffffcb\">&nbspon&nbsp</span><span class=\"barcode\"; style=\"color: black; background-color: #ffffcb\">&nbspsomething?&nbsp</span><span class=\"barcode\"; style=\"color: black; background-color: #fffeca\">&nbspIn&nbsp</span><span class=\"barcode\"; style=\"color: black; background-color: #fffeca\">&nbspa&nbsp</span><span class=\"barcode\"; style=\"color: black; background-color: #fffdc8\">&nbspcup&nbsp</span><span class=\"barcode\"; style=\"color: black; background-color: #fffec9\">&nbspfor&nbsp</span><span class=\"barcode\"; style=\"color: black; background-color: #fffeca\">&nbspu?&nbsp</span><br><span class=\"barcode\"; style=\"color: black; background-color: #ffffcc\">&nbsp@user&nbsp</span><span class=\"barcode\"; style=\"color: black; background-color: #ffffcc\">&nbspSorry&nbsp</span><span class=\"barcode\"; style=\"color: black; background-color: #ffffcc\">&nbspI&nbsp</span><span class=\"barcode\"; style=\"color: black; background-color: #ffffcc\">&nbspknow&nbsp</span><span class=\"barcode\"; style=\"color: black; background-color: #ffffcc\">&nbspyou've&nbsp</span><span class=\"barcode\"; style=\"color: black; background-color: #ffffcc\">&nbsptouched&nbsp</span><span class=\"barcode\"; style=\"color: black; background-color: #ffffcc\">&nbspyour&nbsp</span><span class=\"barcode\"; style=\"color: black; background-color: #ffffcc\">&nbsppussy.&nbsp</span><br><span class=\"barcode\"; style=\"color: black; background-color: #fffcc4\">&nbspI&nbsp</span><span class=\"barcode\"; style=\"color: black; background-color: #fffdc7\">&nbspthink&nbsp</span><span class=\"barcode\"; style=\"color: black; background-color: #fffbc3\">&nbspI’m&nbsp</span><span class=\"barcode\"; style=\"color: black; background-color: #fffeca\">&nbspcatching&nbsp</span><span class=\"barcode\"; style=\"color: black; background-color: #fffdc8\">&nbspfeelings💆🏽‍♂️&nbsp</span><br><span class=\"barcode\"; style=\"color: black; background-color: #fffdc8\">&nbspshoutout&nbsp</span><span class=\"barcode\"; style=\"color: black; background-color: #fffdc8\">&nbspto&nbsp</span><span class=\"barcode\"; style=\"color: black; background-color: #fffec9\">&nbspmy&nbsp</span><span class=\"barcode\"; style=\"color: black; background-color: #fffdc8\">&nbspex’s&nbsp</span><span class=\"barcode\"; style=\"color: black; background-color: #fffdc7\">&nbspnew&nbsp</span><span class=\"barcode\"; style=\"color: black; background-color: #fffeca\">&nbspgirl.&nbsp</span><span class=\"barcode\"; style=\"color: black; background-color: #fffdc8\">&nbspshe&nbsp</span><span class=\"barcode\"; style=\"color: black; background-color: #fffec9\">&nbspcan&nbsp</span><span class=\"barcode\"; style=\"color: black; background-color: #fffec9\">&nbsphave&nbsp</span><span class=\"barcode\"; style=\"color: black; background-color: #fffec9\">&nbspALL&nbsp</span><span class=\"barcode\"; style=\"color: black; background-color: #fffeca\">&nbspthe&nbsp</span><span class=\"barcode\"; style=\"color: black; background-color: #fffec9\">&nbspproblems&nbsp</span><span class=\"barcode\"; style=\"color: black; background-color: #fffeca\">&nbspthat&nbsp</span><span class=\"barcode\"; style=\"color: black; background-color: #fffeca\">&nbspcome&nbsp</span><span class=\"barcode\"; style=\"color: black; background-color: #fffdc7\">&nbspwith&nbsp</span><span class=\"barcode\"; style=\"color: black; background-color: #fffec9\">&nbspthat.&nbsp</span><span class=\"barcode\"; style=\"color: black; background-color: #fffdc8\">&nbspjust&nbsp</span><span class=\"barcode\"; style=\"color: black; background-color: #fffdc8\">&nbspdo&nbsp</span><span class=\"barcode\"; style=\"color: black; background-color: #fffcc6\">&nbspme&nbsp</span><span class=\"barcode\"; style=\"color: black; background-color: #fffec9\">&nbspa&nbsp</span><span class=\"barcode\"; style=\"color: black; background-color: #fffec9\">&nbspfavor&nbsp</span><span class=\"barcode\"; style=\"color: black; background-color: #ffffcc\">&nbspand&nbsp</span><span class=\"barcode\"; style=\"color: black; background-color: #fffeca\">&nbspget&nbsp</span><span class=\"barcode\"; style=\"color: black; background-color: #fffec9\">&nbsphim&nbsp</span><span class=\"barcode\"; style=\"color: black; background-color: #fffeca\">&nbsptoo&nbsp</span><br><span class=\"barcode\"; style=\"color: black; background-color: #fffdc7\">&nbspleave&nbsp</span><span class=\"barcode\"; style=\"color: black; background-color: #fffabf\">&nbspme&nbsp</span><span class=\"barcode\"; style=\"color: black; background-color: #fffdc8\">&nbspalone&nbsp</span><br><span class=\"barcode\"; style=\"color: black; background-color: #fffeca\">&nbspLooking&nbsp</span><span class=\"barcode\"; style=\"color: black; background-color: #fffeca\">&nbspfor&nbsp</span><span class=\"barcode\"; style=\"color: black; background-color: #ffffcb\">&nbsppictures&nbsp</span><span class=\"barcode\"; style=\"color: black; background-color: #ffffcb\">&nbspI&nbsp</span><span class=\"barcode\"; style=\"color: black; background-color: #ffffcb\">&nbsprealized&nbsp</span><span class=\"barcode\"; style=\"color: black; background-color: #fffeca\">&nbspI&nbsp</span><span class=\"barcode\"; style=\"color: black; background-color: #fffeca\">&nbspneed&nbsp</span><span class=\"barcode\"; style=\"color: black; background-color: #ffffcb\">&nbspmarks&nbsp</span><span class=\"barcode\"; style=\"color: black; background-color: #fffeca\">&nbspon&nbsp</span><span class=\"barcode\"; style=\"color: black; background-color: #fffeca\">&nbspme,&nbsp</span><span class=\"barcode\"; style=\"color: black; background-color: #ffffcb\">&nbspthey&nbsp</span><span class=\"barcode\"; style=\"color: black; background-color: #fffeca\">&nbsplook&nbsp</span><span class=\"barcode\"; style=\"color: black; background-color: #fffeca\">&nbspso&nbsp</span><span class=\"barcode\"; style=\"color: black; background-color: #ffffcb\">&nbsppretty&nbsp</span><br><span class=\"barcode\"; style=\"color: black; background-color: #fffeca\">&nbsp@user&nbsp</span><span class=\"barcode\"; style=\"color: black; background-color: #fffdc8\">&nbspgod&nbsp</span><span class=\"barcode\"; style=\"color: black; background-color: #fffec9\">&nbspyoure&nbsp</span><span class=\"barcode\"; style=\"color: black; background-color: #fffeca\">&nbspso&nbsp</span><span class=\"barcode\"; style=\"color: black; background-color: #fffdc8\">&nbspobsessed&nbsp</span><span class=\"barcode\"; style=\"color: black; background-color: #fffdc8\">&nbspwith&nbsp</span><span class=\"barcode\"; style=\"color: black; background-color: #fffdc8\">&nbspme&nbsp</span><br><span class=\"barcode\"; style=\"color: black; background-color: #fff5b4\">&nbspMy&nbsp</span><span class=\"barcode\"; style=\"color: black; background-color: #fff7b8\">&nbspbed&nbsp</span><span class=\"barcode\"; style=\"color: black; background-color: #fff1ab\">&nbspis&nbsp</span><span class=\"barcode\"; style=\"color: black; background-color: #ffe691\">&nbspcovered&nbsp</span><span class=\"barcode\"; style=\"color: black; background-color: #fff2ac\">&nbspin&nbsp</span><span class=\"barcode\"; style=\"color: black; background-color: #ffeda1\">&nbspsexualized&nbsp</span><span class=\"barcode\"; style=\"color: black; background-color: #ffe895\">&nbspparaffin&nbsp</span><br><span class=\"barcode\"; style=\"color: black; background-color: #ffffcc\">&nbsp@user&nbsp</span><span class=\"barcode\"; style=\"color: black; background-color: #ffffcc\">&nbsp@user&nbsp</span><span class=\"barcode\"; style=\"color: black; background-color: #ffffcc\">&nbspLMFAO.&nbsp</span><span class=\"barcode\"; style=\"color: black; background-color: #ffffcc\">&nbspWe&nbsp</span><span class=\"barcode\"; style=\"color: black; background-color: #ffffcc\">&nbspstood&nbsp</span><span class=\"barcode\"; style=\"color: black; background-color: #ffffcc\">&nbspa&nbsp</span><span class=\"barcode\"; style=\"color: black; background-color: #ffffcc\">&nbspbetter&nbsp</span><span class=\"barcode\"; style=\"color: black; background-color: #ffffcc\">&nbspchance&nbsp</span><span class=\"barcode\"; style=\"color: black; background-color: #ffffcc\">&nbspwith&nbsp</span><span class=\"barcode\"; style=\"color: black; background-color: #ffffcc\">&nbspthe&nbsp</span><span class=\"barcode\"; style=\"color: black; background-color: #ffffcc\">&nbspwomen.&nbsp</span><span class=\"barcode\"; style=\"color: black; background-color: #ffffcc\">&nbspThat&nbsp</span><span class=\"barcode\"; style=\"color: black; background-color: #ffffcc\">&nbspone&nbsp</span><span class=\"barcode\"; style=\"color: black; background-color: #ffffcc\">&nbspgo&nbsp</span><span class=\"barcode\"; style=\"color: black; background-color: #ffffcc\">&nbspcut&nbsp</span><span class=\"barcode\"; style=\"color: black; background-color: #ffffcc\">&nbspoff&nbsp</span><span class=\"barcode\"; style=\"color: black; background-color: #ffffcc\">&nbspyour&nbsp</span><span class=\"barcode\"; style=\"color: black; background-color: #ffffcc\">&nbsp“twins”.&nbsp</span><br><span class=\"barcode\"; style=\"color: black; background-color: #fffcc6\">&nbsp@user&nbsp</span><span class=\"barcode\"; style=\"color: black; background-color: #fff9be\">&nbspI&nbsp</span><span class=\"barcode\"; style=\"color: black; background-color: #fff8bc\">&nbspwould&nbsp</span><span class=\"barcode\"; style=\"color: black; background-color: #fff8bc\">&nbspmake&nbsp</span><span class=\"barcode\"; style=\"color: black; background-color: #fff8bc\">&nbspyou&nbsp</span><span class=\"barcode\"; style=\"color: black; background-color: #fff7b8\">&nbspa&nbsp</span><span class=\"barcode\"; style=\"color: black; background-color: #fff6b5\">&nbsplucky&nbsp</span><span class=\"barcode\"; style=\"color: black; background-color: #fff8bc\">&nbspguy&nbsp</span><span class=\"barcode\"; style=\"color: black; background-color: #fffac0\">&nbspif&nbsp</span><span class=\"barcode\"; style=\"color: black; background-color: #fff9bd\">&nbspyou&nbsp</span><span class=\"barcode\"; style=\"color: black; background-color: #fff7b9\">&nbspwanted&nbsp</span><span class=\"barcode\"; style=\"color: black; background-color: #fff6b5\">&nbsp😉&nbsp</span><span class=\"barcode\"; style=\"color: black; background-color: #fff1ab\">&nbspI&nbsp</span><span class=\"barcode\"; style=\"color: black; background-color: #fff3af\">&nbsphope&nbsp</span><span class=\"barcode\"; style=\"color: black; background-color: #fff5b4\">&nbspyour&nbsp</span><span class=\"barcode\"; style=\"color: black; background-color: #fff9bd\">&nbspwell?&nbsp</span><br><span class=\"barcode\"; style=\"color: black; background-color: #fffcc4\">&nbspAlways&nbsp</span><span class=\"barcode\"; style=\"color: black; background-color: #fffcc6\">&nbsptalk&nbsp</span><span class=\"barcode\"; style=\"color: black; background-color: #fffbc3\">&nbspto&nbsp</span><span class=\"barcode\"; style=\"color: black; background-color: #fff4b1\">&nbspme&nbsp</span><span class=\"barcode\"; style=\"color: black; background-color: #fff8bb\">&nbspbecause&nbsp</span><span class=\"barcode\"; style=\"color: black; background-color: #fff4b1\">&nbspyou&nbsp</span><span class=\"barcode\"; style=\"color: black; background-color: #fff7b9\">&nbspmake&nbsp</span><span class=\"barcode\"; style=\"color: black; background-color: #fff5b4\">&nbspme&nbsp</span><span class=\"barcode\"; style=\"color: black; background-color: #fff6b5\">&nbsphappy❤️❤️❤️&nbsp</span><br><span class=\"barcode\"; style=\"color: black; background-color: #fffdc8\">&nbspI&nbsp</span><span class=\"barcode\"; style=\"color: black; background-color: #fffcc4\">&nbspcrave&nbsp</span><span class=\"barcode\"; style=\"color: black; background-color: #fff7b9\">&nbspyour&nbsp</span><span class=\"barcode\"; style=\"color: black; background-color: #fff5b3\">&nbsppresence&nbsp</span><span class=\"barcode\"; style=\"color: black; background-color: #ffec9f\">&nbsphere&nbsp</span><span class=\"barcode\"; style=\"color: black; background-color: #ffeea2\">&nbspwith&nbsp</span><span class=\"barcode\"; style=\"color: black; background-color: #ffe895\">&nbspme.&nbsp</span><br><span class=\"barcode\"; style=\"color: black; background-color: #ffffcc\">&nbspI&nbsp</span><span class=\"barcode\"; style=\"color: black; background-color: #ffffcb\">&nbspknow&nbsp</span><span class=\"barcode\"; style=\"color: black; background-color: #ffffcb\">&nbspwhat&nbsp</span><span class=\"barcode\"; style=\"color: black; background-color: #fffeca\">&nbspI&nbsp</span><span class=\"barcode\"; style=\"color: black; background-color: #fffec9\">&nbspdeserve&nbsp</span><span class=\"barcode\"; style=\"color: black; background-color: #fffeca\">&nbspand&nbsp</span><span class=\"barcode\"; style=\"color: black; background-color: #fffeca\">&nbspno&nbsp</span><span class=\"barcode\"; style=\"color: black; background-color: #fffdc8\">&nbspone&nbsp</span><span class=\"barcode\"; style=\"color: black; background-color: #ffffcb\">&nbspis&nbsp</span><span class=\"barcode\"; style=\"color: black; background-color: #ffffcc\">&nbspgonna&nbsp</span><span class=\"barcode\"; style=\"color: black; background-color: #fffec9\">&nbsptake&nbsp</span><span class=\"barcode\"; style=\"color: black; background-color: #fffcc6\">&nbspthat&nbsp</span><span class=\"barcode\"; style=\"color: black; background-color: #fffec9\">&nbspfrom&nbsp</span><span class=\"barcode\"; style=\"color: black; background-color: #fffec9\">&nbspme&nbsp</span><span class=\"barcode\"; style=\"color: black; background-color: #ffffcc\">&nbsp:)&nbsp</span><br><span class=\"barcode\"; style=\"color: black; background-color: #fffcc6\">&nbspi&nbsp</span><span class=\"barcode\"; style=\"color: black; background-color: #fffdc7\">&nbspain’t&nbsp</span><span class=\"barcode\"; style=\"color: black; background-color: #fffcc4\">&nbspobligated&nbsp</span><span class=\"barcode\"; style=\"color: black; background-color: #fffdc8\">&nbspto&nbsp</span><span class=\"barcode\"; style=\"color: black; background-color: #fffdc8\">&nbspno&nbsp</span><span class=\"barcode\"; style=\"color: black; background-color: #fffabf\">&nbspone&nbsp</span><span class=\"barcode\"; style=\"color: black; background-color: #fffec9\">&nbspso&nbsp</span><span class=\"barcode\"; style=\"color: black; background-color: #fffdc8\">&nbspif&nbsp</span><span class=\"barcode\"; style=\"color: black; background-color: #fffdc8\">&nbspi&nbsp</span><span class=\"barcode\"; style=\"color: black; background-color: #fffcc6\">&nbspfw&nbsp</span><span class=\"barcode\"; style=\"color: black; background-color: #fff7b9\">&nbspyou&nbsp</span><span class=\"barcode\"; style=\"color: black; background-color: #fffdc7\">&nbspit’s&nbsp</span><span class=\"barcode\"; style=\"color: black; background-color: #fff9bd\">&nbspcause&nbsp</span><span class=\"barcode\"; style=\"color: black; background-color: #fffbc2\">&nbspi&nbsp</span><span class=\"barcode\"; style=\"color: black; background-color: #fffcc6\">&nbspwant&nbsp</span><span class=\"barcode\"; style=\"color: black; background-color: #fffcc4\">&nbspto&nbsp</span><br><span class=\"barcode\"; style=\"color: black; background-color: #fffec9\">&nbspi’ll&nbsp</span><span class=\"barcode\"; style=\"color: black; background-color: #fffec9\">&nbspbe&nbsp</span><span class=\"barcode\"; style=\"color: black; background-color: #ffffcb\">&nbspyours&nbsp</span><span class=\"barcode\"; style=\"color: black; background-color: #fffdc8\">&nbspthrough&nbsp</span><span class=\"barcode\"; style=\"color: black; background-color: #fffdc7\">&nbspall&nbsp</span><span class=\"barcode\"; style=\"color: black; background-color: #fffdc8\">&nbspthe&nbsp</span><span class=\"barcode\"; style=\"color: black; background-color: #fffdc8\">&nbspyears,&nbsp</span><span class=\"barcode\"; style=\"color: black; background-color: #fffdc7\">&nbsptill&nbsp</span><span class=\"barcode\"; style=\"color: black; background-color: #fffdc8\">&nbspthe&nbsp</span><span class=\"barcode\"; style=\"color: black; background-color: #fffdc8\">&nbspend&nbsp</span><span class=\"barcode\"; style=\"color: black; background-color: #fffcc6\">&nbspof&nbsp</span><span class=\"barcode\"; style=\"color: black; background-color: #fffdc7\">&nbsptime.&nbsp</span><span class=\"barcode\"; style=\"color: black; background-color: #fffbc2\">&nbsp#MewSuppasit&nbsp</span><span class=\"barcode\"; style=\"color: black; background-color: #fffcc4\">&nbsp@MSuppasit&nbsp</span><span class=\"barcode\"; style=\"color: black; background-color: #fffdc8\">&nbsp#MyCandyHeroxMew&nbsp</span><br><span class=\"barcode\"; style=\"color: black; background-color: #fffabf\">&nbspdid&nbsp</span><span class=\"barcode\"; style=\"color: black; background-color: #fff8bb\">&nbspyou&nbsp</span><span class=\"barcode\"; style=\"color: black; background-color: #fffabf\">&nbspfinger&nbsp</span><span class=\"barcode\"; style=\"color: black; background-color: #fff5b3\">&nbspher&nbsp</span><span class=\"barcode\"; style=\"color: black; background-color: #fff3af\">&nbspback&nbsp</span><span class=\"barcode\"; style=\"color: black; background-color: #fff4b1\">&nbspor&nbsp</span><span class=\"barcode\"; style=\"color: black; background-color: #fff7b8\">&nbspeat&nbsp</span><span class=\"barcode\"; style=\"color: black; background-color: #fff8bc\">&nbspher&nbsp</span><span class=\"barcode\"; style=\"color: black; background-color: #fff6b6\">&nbspout&nbsp</span><span class=\"barcode\"; style=\"color: black; background-color: #fff5b3\">&nbspor&nbsp</span><span class=\"barcode\"; style=\"color: black; background-color: #fff1ab\">&nbspanything?&nbsp</span><span class=\"barcode\"; style=\"color: black; background-color: #fff1aa\">&nbsp—&nbsp</span><span class=\"barcode\"; style=\"color: black; background-color: #fff1a9\">&nbspOfc&nbsp</span><span class=\"barcode\"; style=\"color: black; background-color: #fff1aa\">&nbspduh&nbsp</span><span class=\"barcode\"; style=\"color: black; background-color: #fff0a8\">&nbspit&nbsp</span><span class=\"barcode\"; style=\"color: black; background-color: #fff1a9\">&nbspled&nbsp</span><span class=\"barcode\"; style=\"color: black; background-color: #fff1aa\">&nbspto&nbsp</span><span class=\"barcode\"; style=\"color: black; background-color: #fff0a7\">&nbspsex&nbsp</span><span class=\"barcode\"; style=\"color: black; background-color: #ffeda1\">&nbsphttp&nbsp</span><br><span class=\"barcode\"; style=\"color: black; background-color: #fffeca\">&nbsp@user&nbsp</span><span class=\"barcode\"; style=\"color: black; background-color: #fffac0\">&nbspdm's&nbsp</span><span class=\"barcode\"; style=\"color: black; background-color: #fffec9\">&nbspare&nbsp</span><span class=\"barcode\"; style=\"color: black; background-color: #fffec9\">&nbspALWAYS&nbsp</span><span class=\"barcode\"; style=\"color: black; background-color: #fffbc3\">&nbspopen&nbsp</span><span class=\"barcode\"; style=\"color: black; background-color: #fffdc7\">&nbspfor&nbsp</span><span class=\"barcode\"; style=\"color: black; background-color: #fffec9\">&nbspthoughts&nbsp</span><span class=\"barcode\"; style=\"color: black; background-color: #fffec9\">&nbspor&nbsp</span><span class=\"barcode\"; style=\"color: black; background-color: #fffec9\">&nbspfeelins&nbsp</span><span class=\"barcode\"; style=\"color: black; background-color: #fffec9\">&nbspor&nbsp</span><span class=\"barcode\"; style=\"color: black; background-color: #fffdc8\">&nbsppics&nbsp</span><span class=\"barcode\"; style=\"color: black; background-color: #fffdc8\">&nbspor&nbsp</span><span class=\"barcode\"; style=\"color: black; background-color: #fffcc6\">&nbsprecs&nbsp</span><span class=\"barcode\"; style=\"color: black; background-color: #fffcc4\">&nbspor&nbsp</span><span class=\"barcode\"; style=\"color: black; background-color: #fffeca\">&nbspstream&nbsp</span><span class=\"barcode\"; style=\"color: black; background-color: #fffeca\">&nbspof&nbsp</span><span class=\"barcode\"; style=\"color: black; background-color: #fffec9\">&nbspconsciousness&nbsp</span><br><span class=\"barcode\"; style=\"color: black; background-color: #fffeca\">&nbspNgl....getting&nbsp</span><span class=\"barcode\"; style=\"color: black; background-color: #fffeca\">&nbspdommed&nbsp</span><span class=\"barcode\"; style=\"color: black; background-color: #ffffcb\">&nbspby&nbsp</span><span class=\"barcode\"; style=\"color: black; background-color: #fffdc7\">&nbspanother&nbsp</span><span class=\"barcode\"; style=\"color: black; background-color: #fffdc7\">&nbspfemboy&nbsp</span><span class=\"barcode\"; style=\"color: black; background-color: #fffdc8\">&nbspwould&nbsp</span><span class=\"barcode\"; style=\"color: black; background-color: #fffec9\">&nbspbe&nbsp</span><span class=\"barcode\"; style=\"color: black; background-color: #fffeca\">&nbsppretty&nbsp</span><span class=\"barcode\"; style=\"color: black; background-color: #fffec9\">&nbspepic&nbsp</span><span class=\"barcode\"; style=\"color: black; background-color: #fffeca\">&nbspright&nbsp</span><span class=\"barcode\"; style=\"color: black; background-color: #fffdc8\">&nbspnow😳😳&nbsp</span><br><span class=\"barcode\"; style=\"color: black; background-color: #fff1a9\">&nbspI&nbsp</span><span class=\"barcode\"; style=\"color: black; background-color: #ffeea2\">&nbsploved&nbsp</span><span class=\"barcode\"; style=\"color: black; background-color: #ffe998\">&nbspu&nbsp</span><br><span class=\"barcode\"; style=\"color: black; background-color: #fffdc8\">&nbspCould've&nbsp</span><span class=\"barcode\"; style=\"color: black; background-color: #fffdc7\">&nbspfuck&nbsp</span><span class=\"barcode\"; style=\"color: black; background-color: #fffbc3\">&nbspyo&nbsp</span><span class=\"barcode\"; style=\"color: black; background-color: #fffec9\">&nbspnigga&nbsp</span><span class=\"barcode\"; style=\"color: black; background-color: #fffec9\">&nbspbitch&nbsp</span><span class=\"barcode\"; style=\"color: black; background-color: #fffdc8\">&nbspbut&nbsp</span><span class=\"barcode\"; style=\"color: black; background-color: #fffec9\">&nbsphe&nbsp</span><span class=\"barcode\"; style=\"color: black; background-color: #fffec9\">&nbspmade&nbsp</span><span class=\"barcode\"; style=\"color: black; background-color: #fffec9\">&nbspmy&nbsp</span><span class=\"barcode\"; style=\"color: black; background-color: #fffdc8\">&nbsppussy&nbsp</span><span class=\"barcode\"; style=\"color: black; background-color: #fffdc8\">&nbspsoft&nbsp</span><span class=\"barcode\"; style=\"color: black; background-color: #fffdc7\">&nbsp😉&nbsp</span><span class=\"barcode\"; style=\"color: black; background-color: #fffdc8\">&nbspor&nbsp</span><span class=\"barcode\"; style=\"color: black; background-color: #fffdc7\">&nbspwhatever&nbsp</span><span class=\"barcode\"; style=\"color: black; background-color: #fffec9\">&nbsptf&nbsp</span><span class=\"barcode\"; style=\"color: black; background-color: #fffdc8\">&nbspDaBaby&nbsp</span><span class=\"barcode\"; style=\"color: black; background-color: #fffec9\">&nbspsaid&nbsp</span><span class=\"barcode\"; style=\"color: black; background-color: #ffffcc\">&nbsp😂&nbsp</span><br><span class=\"barcode\"; style=\"color: black; background-color: #fffdc7\">&nbspIt’s&nbsp</span><span class=\"barcode\"; style=\"color: black; background-color: #fffec9\">&nbspbeen&nbsp</span><span class=\"barcode\"; style=\"color: black; background-color: #fffcc6\">&nbsp4&nbsp</span><span class=\"barcode\"; style=\"color: black; background-color: #fffbc2\">&nbsphours&nbsp</span><span class=\"barcode\"; style=\"color: black; background-color: #fffbc3\">&nbspsince&nbsp</span><span class=\"barcode\"; style=\"color: black; background-color: #fffcc4\">&nbspthe&nbsp</span><span class=\"barcode\"; style=\"color: black; background-color: #fffcc4\">&nbspsong&nbsp</span><span class=\"barcode\"; style=\"color: black; background-color: #fffbc2\">&nbspcame&nbsp</span><span class=\"barcode\"; style=\"color: black; background-color: #fffbc3\">&nbspout&nbsp</span><span class=\"barcode\"; style=\"color: black; background-color: #fffac0\">&nbspand&nbsp</span><span class=\"barcode\"; style=\"color: black; background-color: #fffbc2\">&nbspI’m&nbsp</span><span class=\"barcode\"; style=\"color: black; background-color: #fffeca\">&nbspstill&nbsp</span><span class=\"barcode\"; style=\"color: black; background-color: #fff6b6\">&nbspcrying&nbsp</span><span class=\"barcode\"; style=\"color: black; background-color: #fffcc4\">&nbsp#harrystyles&nbsp</span><br><span class=\"barcode\"; style=\"color: black; background-color: #fff9be\">&nbsp@user&nbsp</span><span class=\"barcode\"; style=\"color: black; background-color: #fff9bd\">&nbsp@user&nbsp</span><span class=\"barcode\"; style=\"color: black; background-color: #fff9be\">&nbspits&nbsp</span><span class=\"barcode\"; style=\"color: black; background-color: #fff6b6\">&nbspglorious&nbsp</span><span class=\"barcode\"; style=\"color: black; background-color: #fff6b5\">&nbsp🔥🔥&nbsp</span><br><span class=\"barcode\"; style=\"color: black; background-color: #ffec9f\">&nbspim&nbsp</span><span class=\"barcode\"; style=\"color: black; background-color: #ffe691\">&nbsphappier&nbsp</span><span class=\"barcode\"; style=\"color: black; background-color: #ffe48d\">&nbspnow&nbsp</span><span class=\"barcode\"; style=\"color: black; background-color: #fedd7e\">&nbspat&nbsp</span><span class=\"barcode\"; style=\"color: black; background-color: #fed976\">&nbspleast&nbsp</span><br><span class=\"barcode\"; style=\"color: black; background-color: #fffec9\">&nbspIf&nbsp</span><span class=\"barcode\"; style=\"color: black; background-color: #fffeca\">&nbspI&nbsp</span><span class=\"barcode\"; style=\"color: black; background-color: #fffdc7\">&nbsptouch&nbsp</span><span class=\"barcode\"; style=\"color: black; background-color: #fffac0\">&nbspyou,you’ll&nbsp</span><span class=\"barcode\"; style=\"color: black; background-color: #fffcc6\">&nbspembrace&nbsp</span><span class=\"barcode\"; style=\"color: black; background-color: #fff6b5\">&nbspme&nbsp</span><span class=\"barcode\"; style=\"color: black; background-color: #fffbc3\">&nbspgently&nbsp</span><span class=\"barcode\"; style=\"color: black; background-color: #fff8bb\">&nbspthat&nbsp</span><span class=\"barcode\"; style=\"color: black; background-color: #fff9bd\">&nbspis&nbsp</span><span class=\"barcode\"; style=\"color: black; background-color: #fffac0\">&nbspenough&nbsp</span><span class=\"barcode\"; style=\"color: black; background-color: #fff8bc\">&nbspfor&nbsp</span><span class=\"barcode\"; style=\"color: black; background-color: #fff9be\">&nbspme&nbsp</span><span class=\"barcode\"; style=\"color: black; background-color: #fff7b9\">&nbspthat&nbsp</span><span class=\"barcode\"; style=\"color: black; background-color: #fff6b5\">&nbspis&nbsp</span><span class=\"barcode\"; style=\"color: black; background-color: #fff9be\">&nbspenough.&nbsp</span><br><span class=\"barcode\"; style=\"color: black; background-color: #ffeea3\">&nbspHorny&nbsp</span><span class=\"barcode\"; style=\"color: black; background-color: #ffe793\">&nbspwanna&nbsp</span><span class=\"barcode\"; style=\"color: black; background-color: #feba55\">&nbspfucking&nbsp</span><span class=\"barcode\"; style=\"color: black; background-color: #feb751\">&nbsp🍆🍆🍆&nbsp</span><span class=\"barcode\"; style=\"color: black; background-color: #fea547\">&nbsphttp&nbsp</span><br>"
            ]
          },
          "metadata": {},
          "output_type": "display_data"
        }
      ],
      "source": [
        "from IPython.core.display import display, HTML\n",
        "\n",
        "print(\"explaining ...\")\n",
        "def visualize_attention(input_text, layer=-1):\n",
        "\n",
        "    inputs = tokenizer(input_text, return_tensors='pt')\n",
        "    # print(inputs)\n",
        "    output = model(inputs['input_ids'].to(device), output_attentions=True)\n",
        "    attention = output.attentions[layer]\n",
        "    # print(attention.shape)\n",
        "    weights = attention[0, 0, :len(input_text.split()), 0].cpu().detach().numpy()\n",
        "    assert len(input_text.split()) == len(weights)\n",
        "\n",
        "    return weights\n",
        "train_text,  train_labels = get_data(args.train_path)\n",
        "color_arrays = []\n",
        "texts = []\n",
        "for txt, label in zip(train_text, train_labels):\n",
        "    if label > 0:\n",
        "      weights = visualize_attention(txt)\n",
        "      texts.append(txt)\n",
        "      color_arrays.append(weights)\n",
        "# print(texts)\n",
        "colorize(texts, color_arrays)\n",
        "\n",
        "html = open('explained.html', \"r\")\n",
        "html_text = \"\".join(html)\n",
        "print(html_text)\n",
        "\n",
        "# display()\n",
        "display({'text/html': html_text}, raw=True)"
      ]
    },
    {
      "cell_type": "code",
      "execution_count": 15,
      "metadata": {
        "id": "HZmQdv4L5N5S"
      },
      "outputs": [],
      "source": []
    }
  ],
  "metadata": {
    "accelerator": "GPU",
    "colab": {
      "provenance": []
    },
    "gpuClass": "standard",
    "kernelspec": {
      "display_name": "Python 3.8.9 ('deep-learning')",
      "language": "python",
      "name": "python3"
    },
    "language_info": {
      "name": "python",
      "version": "3.8.9"
    },
    "vscode": {
      "interpreter": {
        "hash": "936ded3875fbb94501ea7f17d80e07fb9f36aa5d72f04d10400b9853bf7d99e1"
      }
    },
    "widgets": {
      "application/vnd.jupyter.widget-state+json": {
        "0e535856f57446318d62e76345f8610c": {
          "model_module": "@jupyter-widgets/controls",
          "model_module_version": "1.5.0",
          "model_name": "ProgressStyleModel",
          "state": {
            "_model_module": "@jupyter-widgets/controls",
            "_model_module_version": "1.5.0",
            "_model_name": "ProgressStyleModel",
            "_view_count": null,
            "_view_module": "@jupyter-widgets/base",
            "_view_module_version": "1.2.0",
            "_view_name": "StyleView",
            "bar_color": null,
            "description_width": ""
          }
        },
        "102147f8a8654a7a9b6941ad528480ff": {
          "model_module": "@jupyter-widgets/controls",
          "model_module_version": "1.5.0",
          "model_name": "HBoxModel",
          "state": {
            "_dom_classes": [],
            "_model_module": "@jupyter-widgets/controls",
            "_model_module_version": "1.5.0",
            "_model_name": "HBoxModel",
            "_view_count": null,
            "_view_module": "@jupyter-widgets/controls",
            "_view_module_version": "1.5.0",
            "_view_name": "HBoxView",
            "box_style": "",
            "children": [
              "IPY_MODEL_67acca5c21ef416e9bb1dd16959eb2ca",
              "IPY_MODEL_8e9710d27f484ceca15fe22da345d45c",
              "IPY_MODEL_fc6dcb803072402892ec8001ba81f706"
            ],
            "layout": "IPY_MODEL_942ef50078ab4c518f335a56d65a3175"
          }
        },
        "1660ddb109034da5903b324ffbac3599": {
          "model_module": "@jupyter-widgets/controls",
          "model_module_version": "1.5.0",
          "model_name": "DescriptionStyleModel",
          "state": {
            "_model_module": "@jupyter-widgets/controls",
            "_model_module_version": "1.5.0",
            "_model_name": "DescriptionStyleModel",
            "_view_count": null,
            "_view_module": "@jupyter-widgets/base",
            "_view_module_version": "1.2.0",
            "_view_name": "StyleView",
            "description_width": ""
          }
        },
        "254ee2a413054b6889cc23e6b5ae6a07": {
          "model_module": "@jupyter-widgets/base",
          "model_module_version": "1.2.0",
          "model_name": "LayoutModel",
          "state": {
            "_model_module": "@jupyter-widgets/base",
            "_model_module_version": "1.2.0",
            "_model_name": "LayoutModel",
            "_view_count": null,
            "_view_module": "@jupyter-widgets/base",
            "_view_module_version": "1.2.0",
            "_view_name": "LayoutView",
            "align_content": null,
            "align_items": null,
            "align_self": null,
            "border": null,
            "bottom": null,
            "display": null,
            "flex": null,
            "flex_flow": null,
            "grid_area": null,
            "grid_auto_columns": null,
            "grid_auto_flow": null,
            "grid_auto_rows": null,
            "grid_column": null,
            "grid_gap": null,
            "grid_row": null,
            "grid_template_areas": null,
            "grid_template_columns": null,
            "grid_template_rows": null,
            "height": null,
            "justify_content": null,
            "justify_items": null,
            "left": null,
            "margin": null,
            "max_height": null,
            "max_width": null,
            "min_height": null,
            "min_width": null,
            "object_fit": null,
            "object_position": null,
            "order": null,
            "overflow": null,
            "overflow_x": null,
            "overflow_y": null,
            "padding": null,
            "right": null,
            "top": null,
            "visibility": null,
            "width": null
          }
        },
        "33e5e528cae04c97b8d6850083962c1f": {
          "model_module": "@jupyter-widgets/base",
          "model_module_version": "1.2.0",
          "model_name": "LayoutModel",
          "state": {
            "_model_module": "@jupyter-widgets/base",
            "_model_module_version": "1.2.0",
            "_model_name": "LayoutModel",
            "_view_count": null,
            "_view_module": "@jupyter-widgets/base",
            "_view_module_version": "1.2.0",
            "_view_name": "LayoutView",
            "align_content": null,
            "align_items": null,
            "align_self": null,
            "border": null,
            "bottom": null,
            "display": null,
            "flex": null,
            "flex_flow": null,
            "grid_area": null,
            "grid_auto_columns": null,
            "grid_auto_flow": null,
            "grid_auto_rows": null,
            "grid_column": null,
            "grid_gap": null,
            "grid_row": null,
            "grid_template_areas": null,
            "grid_template_columns": null,
            "grid_template_rows": null,
            "height": null,
            "justify_content": null,
            "justify_items": null,
            "left": null,
            "margin": null,
            "max_height": null,
            "max_width": null,
            "min_height": null,
            "min_width": null,
            "object_fit": null,
            "object_position": null,
            "order": null,
            "overflow": null,
            "overflow_x": null,
            "overflow_y": null,
            "padding": null,
            "right": null,
            "top": null,
            "visibility": null,
            "width": null
          }
        },
        "381ec755b61d4d068249e85c500f3169": {
          "model_module": "@jupyter-widgets/base",
          "model_module_version": "1.2.0",
          "model_name": "LayoutModel",
          "state": {
            "_model_module": "@jupyter-widgets/base",
            "_model_module_version": "1.2.0",
            "_model_name": "LayoutModel",
            "_view_count": null,
            "_view_module": "@jupyter-widgets/base",
            "_view_module_version": "1.2.0",
            "_view_name": "LayoutView",
            "align_content": null,
            "align_items": null,
            "align_self": null,
            "border": null,
            "bottom": null,
            "display": null,
            "flex": null,
            "flex_flow": null,
            "grid_area": null,
            "grid_auto_columns": null,
            "grid_auto_flow": null,
            "grid_auto_rows": null,
            "grid_column": null,
            "grid_gap": null,
            "grid_row": null,
            "grid_template_areas": null,
            "grid_template_columns": null,
            "grid_template_rows": null,
            "height": null,
            "justify_content": null,
            "justify_items": null,
            "left": null,
            "margin": null,
            "max_height": null,
            "max_width": null,
            "min_height": null,
            "min_width": null,
            "object_fit": null,
            "object_position": null,
            "order": null,
            "overflow": null,
            "overflow_x": null,
            "overflow_y": null,
            "padding": null,
            "right": null,
            "top": null,
            "visibility": null,
            "width": null
          }
        },
        "3a23f21776d64cb1b408611386e12313": {
          "model_module": "@jupyter-widgets/controls",
          "model_module_version": "1.5.0",
          "model_name": "FloatProgressModel",
          "state": {
            "_dom_classes": [],
            "_model_module": "@jupyter-widgets/controls",
            "_model_module_version": "1.5.0",
            "_model_name": "FloatProgressModel",
            "_view_count": null,
            "_view_module": "@jupyter-widgets/controls",
            "_view_module_version": "1.5.0",
            "_view_name": "ProgressView",
            "bar_style": "success",
            "description": "",
            "description_tooltip": null,
            "layout": "IPY_MODEL_e1fdc3bde82f4f469ab6359776d7f0be",
            "max": 760,
            "min": 0,
            "orientation": "horizontal",
            "style": "IPY_MODEL_578ee07f089b40429b07d85a995438e2",
            "value": 760
          }
        },
        "49201553795447c3b7866eab3628748f": {
          "model_module": "@jupyter-widgets/base",
          "model_module_version": "1.2.0",
          "model_name": "LayoutModel",
          "state": {
            "_model_module": "@jupyter-widgets/base",
            "_model_module_version": "1.2.0",
            "_model_name": "LayoutModel",
            "_view_count": null,
            "_view_module": "@jupyter-widgets/base",
            "_view_module_version": "1.2.0",
            "_view_name": "LayoutView",
            "align_content": null,
            "align_items": null,
            "align_self": null,
            "border": null,
            "bottom": null,
            "display": null,
            "flex": null,
            "flex_flow": null,
            "grid_area": null,
            "grid_auto_columns": null,
            "grid_auto_flow": null,
            "grid_auto_rows": null,
            "grid_column": null,
            "grid_gap": null,
            "grid_row": null,
            "grid_template_areas": null,
            "grid_template_columns": null,
            "grid_template_rows": null,
            "height": null,
            "justify_content": null,
            "justify_items": null,
            "left": null,
            "margin": null,
            "max_height": null,
            "max_width": null,
            "min_height": null,
            "min_width": null,
            "object_fit": null,
            "object_position": null,
            "order": null,
            "overflow": null,
            "overflow_x": null,
            "overflow_y": null,
            "padding": null,
            "right": null,
            "top": null,
            "visibility": null,
            "width": null
          }
        },
        "54363ab02e83441fa662e564daf45777": {
          "model_module": "@jupyter-widgets/base",
          "model_module_version": "1.2.0",
          "model_name": "LayoutModel",
          "state": {
            "_model_module": "@jupyter-widgets/base",
            "_model_module_version": "1.2.0",
            "_model_name": "LayoutModel",
            "_view_count": null,
            "_view_module": "@jupyter-widgets/base",
            "_view_module_version": "1.2.0",
            "_view_name": "LayoutView",
            "align_content": null,
            "align_items": null,
            "align_self": null,
            "border": null,
            "bottom": null,
            "display": null,
            "flex": null,
            "flex_flow": null,
            "grid_area": null,
            "grid_auto_columns": null,
            "grid_auto_flow": null,
            "grid_auto_rows": null,
            "grid_column": null,
            "grid_gap": null,
            "grid_row": null,
            "grid_template_areas": null,
            "grid_template_columns": null,
            "grid_template_rows": null,
            "height": null,
            "justify_content": null,
            "justify_items": null,
            "left": null,
            "margin": null,
            "max_height": null,
            "max_width": null,
            "min_height": null,
            "min_width": null,
            "object_fit": null,
            "object_position": null,
            "order": null,
            "overflow": null,
            "overflow_x": null,
            "overflow_y": null,
            "padding": null,
            "right": null,
            "top": null,
            "visibility": null,
            "width": null
          }
        },
        "578ee07f089b40429b07d85a995438e2": {
          "model_module": "@jupyter-widgets/controls",
          "model_module_version": "1.5.0",
          "model_name": "ProgressStyleModel",
          "state": {
            "_model_module": "@jupyter-widgets/controls",
            "_model_module_version": "1.5.0",
            "_model_name": "ProgressStyleModel",
            "_view_count": null,
            "_view_module": "@jupyter-widgets/base",
            "_view_module_version": "1.2.0",
            "_view_name": "StyleView",
            "bar_color": null,
            "description_width": ""
          }
        },
        "59d9015477b44d7db99b41a8cdad3650": {
          "model_module": "@jupyter-widgets/controls",
          "model_module_version": "1.5.0",
          "model_name": "DescriptionStyleModel",
          "state": {
            "_model_module": "@jupyter-widgets/controls",
            "_model_module_version": "1.5.0",
            "_model_name": "DescriptionStyleModel",
            "_view_count": null,
            "_view_module": "@jupyter-widgets/base",
            "_view_module_version": "1.2.0",
            "_view_name": "StyleView",
            "description_width": ""
          }
        },
        "5d6f8923a71540d0a71381afb3119fcb": {
          "model_module": "@jupyter-widgets/base",
          "model_module_version": "1.2.0",
          "model_name": "LayoutModel",
          "state": {
            "_model_module": "@jupyter-widgets/base",
            "_model_module_version": "1.2.0",
            "_model_name": "LayoutModel",
            "_view_count": null,
            "_view_module": "@jupyter-widgets/base",
            "_view_module_version": "1.2.0",
            "_view_name": "LayoutView",
            "align_content": null,
            "align_items": null,
            "align_self": null,
            "border": null,
            "bottom": null,
            "display": null,
            "flex": null,
            "flex_flow": null,
            "grid_area": null,
            "grid_auto_columns": null,
            "grid_auto_flow": null,
            "grid_auto_rows": null,
            "grid_column": null,
            "grid_gap": null,
            "grid_row": null,
            "grid_template_areas": null,
            "grid_template_columns": null,
            "grid_template_rows": null,
            "height": null,
            "justify_content": null,
            "justify_items": null,
            "left": null,
            "margin": null,
            "max_height": null,
            "max_width": null,
            "min_height": null,
            "min_width": null,
            "object_fit": null,
            "object_position": null,
            "order": null,
            "overflow": null,
            "overflow_x": null,
            "overflow_y": null,
            "padding": null,
            "right": null,
            "top": null,
            "visibility": null,
            "width": null
          }
        },
        "5e1d12647b02453ba8df350e4bda5561": {
          "model_module": "@jupyter-widgets/base",
          "model_module_version": "1.2.0",
          "model_name": "LayoutModel",
          "state": {
            "_model_module": "@jupyter-widgets/base",
            "_model_module_version": "1.2.0",
            "_model_name": "LayoutModel",
            "_view_count": null,
            "_view_module": "@jupyter-widgets/base",
            "_view_module_version": "1.2.0",
            "_view_name": "LayoutView",
            "align_content": null,
            "align_items": null,
            "align_self": null,
            "border": null,
            "bottom": null,
            "display": null,
            "flex": null,
            "flex_flow": null,
            "grid_area": null,
            "grid_auto_columns": null,
            "grid_auto_flow": null,
            "grid_auto_rows": null,
            "grid_column": null,
            "grid_gap": null,
            "grid_row": null,
            "grid_template_areas": null,
            "grid_template_columns": null,
            "grid_template_rows": null,
            "height": null,
            "justify_content": null,
            "justify_items": null,
            "left": null,
            "margin": null,
            "max_height": null,
            "max_width": null,
            "min_height": null,
            "min_width": null,
            "object_fit": null,
            "object_position": null,
            "order": null,
            "overflow": null,
            "overflow_x": null,
            "overflow_y": null,
            "padding": null,
            "right": null,
            "top": null,
            "visibility": null,
            "width": null
          }
        },
        "605f94d2b857484d90720039822729df": {
          "model_module": "@jupyter-widgets/controls",
          "model_module_version": "1.5.0",
          "model_name": "HTMLModel",
          "state": {
            "_dom_classes": [],
            "_model_module": "@jupyter-widgets/controls",
            "_model_module_version": "1.5.0",
            "_model_name": "HTMLModel",
            "_view_count": null,
            "_view_module": "@jupyter-widgets/controls",
            "_view_module_version": "1.5.0",
            "_view_name": "HTMLView",
            "description": "",
            "description_tooltip": null,
            "layout": "IPY_MODEL_49201553795447c3b7866eab3628748f",
            "placeholder": "​",
            "style": "IPY_MODEL_996fde05d8394182b081fd29e61f9ebc",
            "value": "Downloading: 100%"
          }
        },
        "67acca5c21ef416e9bb1dd16959eb2ca": {
          "model_module": "@jupyter-widgets/controls",
          "model_module_version": "1.5.0",
          "model_name": "HTMLModel",
          "state": {
            "_dom_classes": [],
            "_model_module": "@jupyter-widgets/controls",
            "_model_module_version": "1.5.0",
            "_model_name": "HTMLModel",
            "_view_count": null,
            "_view_module": "@jupyter-widgets/controls",
            "_view_module_version": "1.5.0",
            "_view_name": "HTMLView",
            "description": "",
            "description_tooltip": null,
            "layout": "IPY_MODEL_696ec522d5e54cf6abb834a28f792bdf",
            "placeholder": "​",
            "style": "IPY_MODEL_eb0b1e71075c4004b26e01846f1e2243",
            "value": "Downloading: 100%"
          }
        },
        "696ec522d5e54cf6abb834a28f792bdf": {
          "model_module": "@jupyter-widgets/base",
          "model_module_version": "1.2.0",
          "model_name": "LayoutModel",
          "state": {
            "_model_module": "@jupyter-widgets/base",
            "_model_module_version": "1.2.0",
            "_model_name": "LayoutModel",
            "_view_count": null,
            "_view_module": "@jupyter-widgets/base",
            "_view_module_version": "1.2.0",
            "_view_name": "LayoutView",
            "align_content": null,
            "align_items": null,
            "align_self": null,
            "border": null,
            "bottom": null,
            "display": null,
            "flex": null,
            "flex_flow": null,
            "grid_area": null,
            "grid_auto_columns": null,
            "grid_auto_flow": null,
            "grid_auto_rows": null,
            "grid_column": null,
            "grid_gap": null,
            "grid_row": null,
            "grid_template_areas": null,
            "grid_template_columns": null,
            "grid_template_rows": null,
            "height": null,
            "justify_content": null,
            "justify_items": null,
            "left": null,
            "margin": null,
            "max_height": null,
            "max_width": null,
            "min_height": null,
            "min_width": null,
            "object_fit": null,
            "object_position": null,
            "order": null,
            "overflow": null,
            "overflow_x": null,
            "overflow_y": null,
            "padding": null,
            "right": null,
            "top": null,
            "visibility": null,
            "width": null
          }
        },
        "746a70084bb548e6be386ff3b53a91f8": {
          "model_module": "@jupyter-widgets/controls",
          "model_module_version": "1.5.0",
          "model_name": "DescriptionStyleModel",
          "state": {
            "_model_module": "@jupyter-widgets/controls",
            "_model_module_version": "1.5.0",
            "_model_name": "DescriptionStyleModel",
            "_view_count": null,
            "_view_module": "@jupyter-widgets/base",
            "_view_module_version": "1.2.0",
            "_view_name": "StyleView",
            "description_width": ""
          }
        },
        "873f4b8621404b3b8155154895905ad9": {
          "model_module": "@jupyter-widgets/controls",
          "model_module_version": "1.5.0",
          "model_name": "ProgressStyleModel",
          "state": {
            "_model_module": "@jupyter-widgets/controls",
            "_model_module_version": "1.5.0",
            "_model_name": "ProgressStyleModel",
            "_view_count": null,
            "_view_module": "@jupyter-widgets/base",
            "_view_module_version": "1.2.0",
            "_view_name": "StyleView",
            "bar_color": null,
            "description_width": ""
          }
        },
        "8e9710d27f484ceca15fe22da345d45c": {
          "model_module": "@jupyter-widgets/controls",
          "model_module_version": "1.5.0",
          "model_name": "FloatProgressModel",
          "state": {
            "_dom_classes": [],
            "_model_module": "@jupyter-widgets/controls",
            "_model_module_version": "1.5.0",
            "_model_name": "FloatProgressModel",
            "_view_count": null,
            "_view_module": "@jupyter-widgets/controls",
            "_view_module_version": "1.5.0",
            "_view_name": "ProgressView",
            "bar_style": "success",
            "description": "",
            "description_tooltip": null,
            "layout": "IPY_MODEL_54363ab02e83441fa662e564daf45777",
            "max": 467042463,
            "min": 0,
            "orientation": "horizontal",
            "style": "IPY_MODEL_0e535856f57446318d62e76345f8610c",
            "value": 467042463
          }
        },
        "90ae7cca69414818935283cecc254c4b": {
          "model_module": "@jupyter-widgets/base",
          "model_module_version": "1.2.0",
          "model_name": "LayoutModel",
          "state": {
            "_model_module": "@jupyter-widgets/base",
            "_model_module_version": "1.2.0",
            "_model_name": "LayoutModel",
            "_view_count": null,
            "_view_module": "@jupyter-widgets/base",
            "_view_module_version": "1.2.0",
            "_view_name": "LayoutView",
            "align_content": null,
            "align_items": null,
            "align_self": null,
            "border": null,
            "bottom": null,
            "display": null,
            "flex": null,
            "flex_flow": null,
            "grid_area": null,
            "grid_auto_columns": null,
            "grid_auto_flow": null,
            "grid_auto_rows": null,
            "grid_column": null,
            "grid_gap": null,
            "grid_row": null,
            "grid_template_areas": null,
            "grid_template_columns": null,
            "grid_template_rows": null,
            "height": null,
            "justify_content": null,
            "justify_items": null,
            "left": null,
            "margin": null,
            "max_height": null,
            "max_width": null,
            "min_height": null,
            "min_width": null,
            "object_fit": null,
            "object_position": null,
            "order": null,
            "overflow": null,
            "overflow_x": null,
            "overflow_y": null,
            "padding": null,
            "right": null,
            "top": null,
            "visibility": null,
            "width": null
          }
        },
        "91480c047b644f818fc4e7aaaecb79e5": {
          "model_module": "@jupyter-widgets/controls",
          "model_module_version": "1.5.0",
          "model_name": "HTMLModel",
          "state": {
            "_dom_classes": [],
            "_model_module": "@jupyter-widgets/controls",
            "_model_module_version": "1.5.0",
            "_model_name": "HTMLModel",
            "_view_count": null,
            "_view_module": "@jupyter-widgets/controls",
            "_view_module_version": "1.5.0",
            "_view_name": "HTMLView",
            "description": "",
            "description_tooltip": null,
            "layout": "IPY_MODEL_381ec755b61d4d068249e85c500f3169",
            "placeholder": "​",
            "style": "IPY_MODEL_efd3db355a5d4f149d094fc80a4125b7",
            "value": "Downloading: 100%"
          }
        },
        "942ef50078ab4c518f335a56d65a3175": {
          "model_module": "@jupyter-widgets/base",
          "model_module_version": "1.2.0",
          "model_name": "LayoutModel",
          "state": {
            "_model_module": "@jupyter-widgets/base",
            "_model_module_version": "1.2.0",
            "_model_name": "LayoutModel",
            "_view_count": null,
            "_view_module": "@jupyter-widgets/base",
            "_view_module_version": "1.2.0",
            "_view_name": "LayoutView",
            "align_content": null,
            "align_items": null,
            "align_self": null,
            "border": null,
            "bottom": null,
            "display": null,
            "flex": null,
            "flex_flow": null,
            "grid_area": null,
            "grid_auto_columns": null,
            "grid_auto_flow": null,
            "grid_auto_rows": null,
            "grid_column": null,
            "grid_gap": null,
            "grid_row": null,
            "grid_template_areas": null,
            "grid_template_columns": null,
            "grid_template_rows": null,
            "height": null,
            "justify_content": null,
            "justify_items": null,
            "left": null,
            "margin": null,
            "max_height": null,
            "max_width": null,
            "min_height": null,
            "min_width": null,
            "object_fit": null,
            "object_position": null,
            "order": null,
            "overflow": null,
            "overflow_x": null,
            "overflow_y": null,
            "padding": null,
            "right": null,
            "top": null,
            "visibility": null,
            "width": null
          }
        },
        "996fde05d8394182b081fd29e61f9ebc": {
          "model_module": "@jupyter-widgets/controls",
          "model_module_version": "1.5.0",
          "model_name": "DescriptionStyleModel",
          "state": {
            "_model_module": "@jupyter-widgets/controls",
            "_model_module_version": "1.5.0",
            "_model_name": "DescriptionStyleModel",
            "_view_count": null,
            "_view_module": "@jupyter-widgets/base",
            "_view_module_version": "1.2.0",
            "_view_name": "StyleView",
            "description_width": ""
          }
        },
        "9cdd65ed5dec40af9a4f59f47ecaef11": {
          "model_module": "@jupyter-widgets/controls",
          "model_module_version": "1.5.0",
          "model_name": "HBoxModel",
          "state": {
            "_dom_classes": [],
            "_model_module": "@jupyter-widgets/controls",
            "_model_module_version": "1.5.0",
            "_model_name": "HBoxModel",
            "_view_count": null,
            "_view_module": "@jupyter-widgets/controls",
            "_view_module_version": "1.5.0",
            "_view_name": "HBoxView",
            "box_style": "",
            "children": [
              "IPY_MODEL_605f94d2b857484d90720039822729df",
              "IPY_MODEL_d971cce4cf1c44dc8087493fe7e5c639",
              "IPY_MODEL_e63b6b56cbfc46608390272e2d1d4847"
            ],
            "layout": "IPY_MODEL_33e5e528cae04c97b8d6850083962c1f"
          }
        },
        "b0e80a1c571b49f8b6a49eeaf2e69c90": {
          "model_module": "@jupyter-widgets/controls",
          "model_module_version": "1.5.0",
          "model_name": "HBoxModel",
          "state": {
            "_dom_classes": [],
            "_model_module": "@jupyter-widgets/controls",
            "_model_module_version": "1.5.0",
            "_model_name": "HBoxModel",
            "_view_count": null,
            "_view_module": "@jupyter-widgets/controls",
            "_view_module_version": "1.5.0",
            "_view_name": "HBoxView",
            "box_style": "",
            "children": [
              "IPY_MODEL_91480c047b644f818fc4e7aaaecb79e5",
              "IPY_MODEL_3a23f21776d64cb1b408611386e12313",
              "IPY_MODEL_bac828a59527457f954e01a92e7bca49"
            ],
            "layout": "IPY_MODEL_bf26db69a171448ea836c825614a452c"
          }
        },
        "bac828a59527457f954e01a92e7bca49": {
          "model_module": "@jupyter-widgets/controls",
          "model_module_version": "1.5.0",
          "model_name": "HTMLModel",
          "state": {
            "_dom_classes": [],
            "_model_module": "@jupyter-widgets/controls",
            "_model_module_version": "1.5.0",
            "_model_name": "HTMLModel",
            "_view_count": null,
            "_view_module": "@jupyter-widgets/controls",
            "_view_module_version": "1.5.0",
            "_view_name": "HTMLView",
            "description": "",
            "description_tooltip": null,
            "layout": "IPY_MODEL_254ee2a413054b6889cc23e6b5ae6a07",
            "placeholder": "​",
            "style": "IPY_MODEL_59d9015477b44d7db99b41a8cdad3650",
            "value": " 760/760 [00:00&lt;00:00, 7.31kB/s]"
          }
        },
        "bf26db69a171448ea836c825614a452c": {
          "model_module": "@jupyter-widgets/base",
          "model_module_version": "1.2.0",
          "model_name": "LayoutModel",
          "state": {
            "_model_module": "@jupyter-widgets/base",
            "_model_module_version": "1.2.0",
            "_model_name": "LayoutModel",
            "_view_count": null,
            "_view_module": "@jupyter-widgets/base",
            "_view_module_version": "1.2.0",
            "_view_name": "LayoutView",
            "align_content": null,
            "align_items": null,
            "align_self": null,
            "border": null,
            "bottom": null,
            "display": null,
            "flex": null,
            "flex_flow": null,
            "grid_area": null,
            "grid_auto_columns": null,
            "grid_auto_flow": null,
            "grid_auto_rows": null,
            "grid_column": null,
            "grid_gap": null,
            "grid_row": null,
            "grid_template_areas": null,
            "grid_template_columns": null,
            "grid_template_rows": null,
            "height": null,
            "justify_content": null,
            "justify_items": null,
            "left": null,
            "margin": null,
            "max_height": null,
            "max_width": null,
            "min_height": null,
            "min_width": null,
            "object_fit": null,
            "object_position": null,
            "order": null,
            "overflow": null,
            "overflow_x": null,
            "overflow_y": null,
            "padding": null,
            "right": null,
            "top": null,
            "visibility": null,
            "width": null
          }
        },
        "d971cce4cf1c44dc8087493fe7e5c639": {
          "model_module": "@jupyter-widgets/controls",
          "model_module_version": "1.5.0",
          "model_name": "FloatProgressModel",
          "state": {
            "_dom_classes": [],
            "_model_module": "@jupyter-widgets/controls",
            "_model_module_version": "1.5.0",
            "_model_name": "FloatProgressModel",
            "_view_count": null,
            "_view_module": "@jupyter-widgets/controls",
            "_view_module_version": "1.5.0",
            "_view_name": "ProgressView",
            "bar_style": "success",
            "description": "",
            "description_tooltip": null,
            "layout": "IPY_MODEL_90ae7cca69414818935283cecc254c4b",
            "max": 798011,
            "min": 0,
            "orientation": "horizontal",
            "style": "IPY_MODEL_873f4b8621404b3b8155154895905ad9",
            "value": 798011
          }
        },
        "e1fdc3bde82f4f469ab6359776d7f0be": {
          "model_module": "@jupyter-widgets/base",
          "model_module_version": "1.2.0",
          "model_name": "LayoutModel",
          "state": {
            "_model_module": "@jupyter-widgets/base",
            "_model_module_version": "1.2.0",
            "_model_name": "LayoutModel",
            "_view_count": null,
            "_view_module": "@jupyter-widgets/base",
            "_view_module_version": "1.2.0",
            "_view_name": "LayoutView",
            "align_content": null,
            "align_items": null,
            "align_self": null,
            "border": null,
            "bottom": null,
            "display": null,
            "flex": null,
            "flex_flow": null,
            "grid_area": null,
            "grid_auto_columns": null,
            "grid_auto_flow": null,
            "grid_auto_rows": null,
            "grid_column": null,
            "grid_gap": null,
            "grid_row": null,
            "grid_template_areas": null,
            "grid_template_columns": null,
            "grid_template_rows": null,
            "height": null,
            "justify_content": null,
            "justify_items": null,
            "left": null,
            "margin": null,
            "max_height": null,
            "max_width": null,
            "min_height": null,
            "min_width": null,
            "object_fit": null,
            "object_position": null,
            "order": null,
            "overflow": null,
            "overflow_x": null,
            "overflow_y": null,
            "padding": null,
            "right": null,
            "top": null,
            "visibility": null,
            "width": null
          }
        },
        "e63b6b56cbfc46608390272e2d1d4847": {
          "model_module": "@jupyter-widgets/controls",
          "model_module_version": "1.5.0",
          "model_name": "HTMLModel",
          "state": {
            "_dom_classes": [],
            "_model_module": "@jupyter-widgets/controls",
            "_model_module_version": "1.5.0",
            "_model_name": "HTMLModel",
            "_view_count": null,
            "_view_module": "@jupyter-widgets/controls",
            "_view_module_version": "1.5.0",
            "_view_name": "HTMLView",
            "description": "",
            "description_tooltip": null,
            "layout": "IPY_MODEL_5d6f8923a71540d0a71381afb3119fcb",
            "placeholder": "​",
            "style": "IPY_MODEL_1660ddb109034da5903b324ffbac3599",
            "value": " 798k/798k [00:00&lt;00:00, 3.53MB/s]"
          }
        },
        "eb0b1e71075c4004b26e01846f1e2243": {
          "model_module": "@jupyter-widgets/controls",
          "model_module_version": "1.5.0",
          "model_name": "DescriptionStyleModel",
          "state": {
            "_model_module": "@jupyter-widgets/controls",
            "_model_module_version": "1.5.0",
            "_model_name": "DescriptionStyleModel",
            "_view_count": null,
            "_view_module": "@jupyter-widgets/base",
            "_view_module_version": "1.2.0",
            "_view_name": "StyleView",
            "description_width": ""
          }
        },
        "efd3db355a5d4f149d094fc80a4125b7": {
          "model_module": "@jupyter-widgets/controls",
          "model_module_version": "1.5.0",
          "model_name": "DescriptionStyleModel",
          "state": {
            "_model_module": "@jupyter-widgets/controls",
            "_model_module_version": "1.5.0",
            "_model_name": "DescriptionStyleModel",
            "_view_count": null,
            "_view_module": "@jupyter-widgets/base",
            "_view_module_version": "1.2.0",
            "_view_name": "StyleView",
            "description_width": ""
          }
        },
        "fc6dcb803072402892ec8001ba81f706": {
          "model_module": "@jupyter-widgets/controls",
          "model_module_version": "1.5.0",
          "model_name": "HTMLModel",
          "state": {
            "_dom_classes": [],
            "_model_module": "@jupyter-widgets/controls",
            "_model_module_version": "1.5.0",
            "_model_name": "HTMLModel",
            "_view_count": null,
            "_view_module": "@jupyter-widgets/controls",
            "_view_module_version": "1.5.0",
            "_view_name": "HTMLView",
            "description": "",
            "description_tooltip": null,
            "layout": "IPY_MODEL_5e1d12647b02453ba8df350e4bda5561",
            "placeholder": "​",
            "style": "IPY_MODEL_746a70084bb548e6be386ff3b53a91f8",
            "value": " 467M/467M [00:16&lt;00:00, 54.2MB/s]"
          }
        }
      }
    }
  },
  "nbformat": 4,
  "nbformat_minor": 0
}
